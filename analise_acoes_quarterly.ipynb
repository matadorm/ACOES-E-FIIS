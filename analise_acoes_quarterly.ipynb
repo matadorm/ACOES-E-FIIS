{
 "cells": [
  {
   "cell_type": "code",
   "execution_count": 1,
   "metadata": {},
   "outputs": [],
   "source": [
    "import pandas as pd\n",
    "import yfinance as yf\n",
    "import matplotlib.pyplot as plt"
   ]
  },
  {
   "cell_type": "markdown",
   "metadata": {},
   "source": [
    "# Análise P/L ao longo do tempo"
   ]
  },
  {
   "cell_type": "code",
   "execution_count": null,
   "metadata": {},
   "outputs": [
    {
     "data": {
      "text/plain": [
       "yfinance.Ticker object <PETR3.SA>"
      ]
     },
     "execution_count": 1,
     "metadata": {},
     "output_type": "execute_result"
    }
   ],
   "source": [
    "#ticker escolhido\n",
    "tick = 'PETR3.SA'\n",
    "ticker = yf.Ticker(tick)\n",
    "ticker"
   ]
  },
  {
   "cell_type": "code",
   "execution_count": 2,
   "metadata": {},
   "outputs": [
    {
     "data": {
      "text/plain": [
       "'2022-12-31'"
      ]
     },
     "execution_count": 2,
     "metadata": {},
     "output_type": "execute_result"
    }
   ],
   "source": [
    "_1t24 = '2024-03-31'\n",
    "_4t23 = '2023-12-31'\n",
    "_3t23 = '2023-09-30'\n",
    "_2t23 = '2023-06-30'\n",
    "_1t23 = '2023-03-31'\n",
    "_4t23 = '2022-12-31'\n",
    "\n",
    "data_1_1 = '2023-12-28'\n",
    "data_2_2 = '2022-12-28'\n",
    "data_3_3 = '2021-12-28'\n",
    "data_4_4 = '2020-12-28'\n",
    "\n",
    "_4t23"
   ]
  },
  {
   "cell_type": "code",
   "execution_count": 25,
   "metadata": {},
   "outputs": [
    {
     "data": {
      "text/plain": [
       "4782000000.0"
      ]
     },
     "execution_count": 25,
     "metadata": {},
     "output_type": "execute_result"
    }
   ],
   "source": [
    "lucro_liq_31_03_2024 = lucro_liq[_1t24]\n",
    "lucro_liq_31_03_2024\n"
   ]
  },
  {
   "cell_type": "code",
   "execution_count": 20,
   "metadata": {},
   "outputs": [
    {
     "data": {
      "text/html": [
       "<div>\n",
       "<style scoped>\n",
       "    .dataframe tbody tr th:only-of-type {\n",
       "        vertical-align: middle;\n",
       "    }\n",
       "\n",
       "    .dataframe tbody tr th {\n",
       "        vertical-align: top;\n",
       "    }\n",
       "\n",
       "    .dataframe thead th {\n",
       "        text-align: right;\n",
       "    }\n",
       "</style>\n",
       "<table border=\"1\" class=\"dataframe\">\n",
       "  <thead>\n",
       "    <tr style=\"text-align: right;\">\n",
       "      <th></th>\n",
       "      <th>2024-03-31</th>\n",
       "      <th>2023-12-31</th>\n",
       "      <th>2023-09-30</th>\n",
       "      <th>2023-06-30</th>\n",
       "      <th>2023-03-31</th>\n",
       "      <th>2022-12-31</th>\n",
       "    </tr>\n",
       "  </thead>\n",
       "  <tbody>\n",
       "    <tr>\n",
       "      <th>Tax Effect Of Unusual Items</th>\n",
       "      <td>-331067894.131185</td>\n",
       "      <td>-245750000.0</td>\n",
       "      <td>-358714857.364141</td>\n",
       "      <td>249490000.0</td>\n",
       "      <td>167568484.406347</td>\n",
       "      <td>NaN</td>\n",
       "    </tr>\n",
       "    <tr>\n",
       "      <th>Tax Rate For Calcs</th>\n",
       "      <td>0.308832</td>\n",
       "      <td>0.238361</td>\n",
       "      <td>0.292113</td>\n",
       "      <td>0.305</td>\n",
       "      <td>0.327923</td>\n",
       "      <td>NaN</td>\n",
       "    </tr>\n",
       "    <tr>\n",
       "      <th>Normalized EBITDA</th>\n",
       "      <td>12383000000.0</td>\n",
       "      <td>13841000000.0</td>\n",
       "      <td>13487000000.0</td>\n",
       "      <td>11679000000.0</td>\n",
       "      <td>14219000000.0</td>\n",
       "      <td>NaN</td>\n",
       "    </tr>\n",
       "    <tr>\n",
       "      <th>Total Unusual Items</th>\n",
       "      <td>-1072000000.0</td>\n",
       "      <td>-1031000000.0</td>\n",
       "      <td>-1228000000.0</td>\n",
       "      <td>818000000.0</td>\n",
       "      <td>511000000.0</td>\n",
       "      <td>NaN</td>\n",
       "    </tr>\n",
       "    <tr>\n",
       "      <th>Total Unusual Items Excluding Goodwill</th>\n",
       "      <td>-1072000000.0</td>\n",
       "      <td>-1031000000.0</td>\n",
       "      <td>-1228000000.0</td>\n",
       "      <td>818000000.0</td>\n",
       "      <td>511000000.0</td>\n",
       "      <td>NaN</td>\n",
       "    </tr>\n",
       "    <tr>\n",
       "      <th>...</th>\n",
       "      <td>...</td>\n",
       "      <td>...</td>\n",
       "      <td>...</td>\n",
       "      <td>...</td>\n",
       "      <td>...</td>\n",
       "      <td>...</td>\n",
       "    </tr>\n",
       "    <tr>\n",
       "      <th>Salaries And Wages</th>\n",
       "      <td>710000000.0</td>\n",
       "      <td>1844000000.0</td>\n",
       "      <td>601000000.0</td>\n",
       "      <td>568000000.0</td>\n",
       "      <td>674000000.0</td>\n",
       "      <td>NaN</td>\n",
       "    </tr>\n",
       "    <tr>\n",
       "      <th>Gross Profit</th>\n",
       "      <td>12257000000.0</td>\n",
       "      <td>14654000000.0</td>\n",
       "      <td>13570000000.0</td>\n",
       "      <td>11637000000.0</td>\n",
       "      <td>14113000000.0</td>\n",
       "      <td>NaN</td>\n",
       "    </tr>\n",
       "    <tr>\n",
       "      <th>Cost Of Revenue</th>\n",
       "      <td>11511000000.0</td>\n",
       "      <td>12453000000.0</td>\n",
       "      <td>11982000000.0</td>\n",
       "      <td>11342000000.0</td>\n",
       "      <td>12658000000.0</td>\n",
       "      <td>NaN</td>\n",
       "    </tr>\n",
       "    <tr>\n",
       "      <th>Total Revenue</th>\n",
       "      <td>23768000000.0</td>\n",
       "      <td>27107000000.0</td>\n",
       "      <td>25552000000.0</td>\n",
       "      <td>22979000000.0</td>\n",
       "      <td>26771000000.0</td>\n",
       "      <td>NaN</td>\n",
       "    </tr>\n",
       "    <tr>\n",
       "      <th>Operating Revenue</th>\n",
       "      <td>23768000000.0</td>\n",
       "      <td>27107000000.0</td>\n",
       "      <td>25552000000.0</td>\n",
       "      <td>22979000000.0</td>\n",
       "      <td>26771000000.0</td>\n",
       "      <td>NaN</td>\n",
       "    </tr>\n",
       "  </tbody>\n",
       "</table>\n",
       "<p>60 rows × 6 columns</p>\n",
       "</div>"
      ],
      "text/plain": [
       "                                              2024-03-31     2023-12-31  \\\n",
       "Tax Effect Of Unusual Items            -331067894.131185   -245750000.0   \n",
       "Tax Rate For Calcs                              0.308832       0.238361   \n",
       "Normalized EBITDA                          12383000000.0  13841000000.0   \n",
       "Total Unusual Items                        -1072000000.0  -1031000000.0   \n",
       "Total Unusual Items Excluding Goodwill     -1072000000.0  -1031000000.0   \n",
       "...                                                  ...            ...   \n",
       "Salaries And Wages                           710000000.0   1844000000.0   \n",
       "Gross Profit                               12257000000.0  14654000000.0   \n",
       "Cost Of Revenue                            11511000000.0  12453000000.0   \n",
       "Total Revenue                              23768000000.0  27107000000.0   \n",
       "Operating Revenue                          23768000000.0  27107000000.0   \n",
       "\n",
       "                                              2023-09-30     2023-06-30  \\\n",
       "Tax Effect Of Unusual Items            -358714857.364141    249490000.0   \n",
       "Tax Rate For Calcs                              0.292113          0.305   \n",
       "Normalized EBITDA                          13487000000.0  11679000000.0   \n",
       "Total Unusual Items                        -1228000000.0    818000000.0   \n",
       "Total Unusual Items Excluding Goodwill     -1228000000.0    818000000.0   \n",
       "...                                                  ...            ...   \n",
       "Salaries And Wages                           601000000.0    568000000.0   \n",
       "Gross Profit                               13570000000.0  11637000000.0   \n",
       "Cost Of Revenue                            11982000000.0  11342000000.0   \n",
       "Total Revenue                              25552000000.0  22979000000.0   \n",
       "Operating Revenue                          25552000000.0  22979000000.0   \n",
       "\n",
       "                                              2023-03-31 2022-12-31  \n",
       "Tax Effect Of Unusual Items             167568484.406347        NaN  \n",
       "Tax Rate For Calcs                              0.327923        NaN  \n",
       "Normalized EBITDA                          14219000000.0        NaN  \n",
       "Total Unusual Items                          511000000.0        NaN  \n",
       "Total Unusual Items Excluding Goodwill       511000000.0        NaN  \n",
       "...                                                  ...        ...  \n",
       "Salaries And Wages                           674000000.0        NaN  \n",
       "Gross Profit                               14113000000.0        NaN  \n",
       "Cost Of Revenue                            12658000000.0        NaN  \n",
       "Total Revenue                              26771000000.0        NaN  \n",
       "Operating Revenue                          26771000000.0        NaN  \n",
       "\n",
       "[60 rows x 6 columns]"
      ]
     },
     "execution_count": 20,
     "metadata": {},
     "output_type": "execute_result"
    }
   ],
   "source": [
    "df_income = ticker.quarterly_income_stmt\n",
    "df_income"
   ]
  },
  {
   "cell_type": "code",
   "execution_count": 19,
   "metadata": {},
   "outputs": [
    {
     "ename": "KeyError",
     "evalue": "'2021-12-31'",
     "output_type": "error",
     "traceback": [
      "\u001b[1;31m---------------------------------------------------------------------------\u001b[0m",
      "\u001b[1;31mKeyError\u001b[0m                                  Traceback (most recent call last)",
      "File \u001b[1;32mindex.pyx:609\u001b[0m, in \u001b[0;36mpandas._libs.index.DatetimeEngine.get_loc\u001b[1;34m()\u001b[0m\n",
      "File \u001b[1;32mpandas\\\\_libs\\\\hashtable_class_helper.pxi:2606\u001b[0m, in \u001b[0;36mpandas._libs.hashtable.Int64HashTable.get_item\u001b[1;34m()\u001b[0m\n",
      "File \u001b[1;32mpandas\\\\_libs\\\\hashtable_class_helper.pxi:2630\u001b[0m, in \u001b[0;36mpandas._libs.hashtable.Int64HashTable.get_item\u001b[1;34m()\u001b[0m\n",
      "\u001b[1;31mKeyError\u001b[0m: 1640908800000000000",
      "\nDuring handling of the above exception, another exception occurred:\n",
      "\u001b[1;31mKeyError\u001b[0m                                  Traceback (most recent call last)",
      "File \u001b[1;32mc:\\Users\\Matheus Poletto\\AppData\\Local\\Programs\\Python\\Python312\\Lib\\site-packages\\pandas\\core\\indexes\\base.py:3805\u001b[0m, in \u001b[0;36mIndex.get_loc\u001b[1;34m(self, key)\u001b[0m\n\u001b[0;32m   3804\u001b[0m \u001b[38;5;28;01mtry\u001b[39;00m:\n\u001b[1;32m-> 3805\u001b[0m     \u001b[38;5;28;01mreturn\u001b[39;00m \u001b[38;5;28;43mself\u001b[39;49m\u001b[38;5;241;43m.\u001b[39;49m\u001b[43m_engine\u001b[49m\u001b[38;5;241;43m.\u001b[39;49m\u001b[43mget_loc\u001b[49m\u001b[43m(\u001b[49m\u001b[43mcasted_key\u001b[49m\u001b[43m)\u001b[49m\n\u001b[0;32m   3806\u001b[0m \u001b[38;5;28;01mexcept\u001b[39;00m \u001b[38;5;167;01mKeyError\u001b[39;00m \u001b[38;5;28;01mas\u001b[39;00m err:\n",
      "File \u001b[1;32mindex.pyx:577\u001b[0m, in \u001b[0;36mpandas._libs.index.DatetimeEngine.get_loc\u001b[1;34m()\u001b[0m\n",
      "File \u001b[1;32mindex.pyx:611\u001b[0m, in \u001b[0;36mpandas._libs.index.DatetimeEngine.get_loc\u001b[1;34m()\u001b[0m\n",
      "\u001b[1;31mKeyError\u001b[0m: Timestamp('2021-12-31 00:00:00')",
      "\nThe above exception was the direct cause of the following exception:\n",
      "\u001b[1;31mKeyError\u001b[0m                                  Traceback (most recent call last)",
      "File \u001b[1;32mc:\\Users\\Matheus Poletto\\AppData\\Local\\Programs\\Python\\Python312\\Lib\\site-packages\\pandas\\core\\indexes\\datetimes.py:630\u001b[0m, in \u001b[0;36mDatetimeIndex.get_loc\u001b[1;34m(self, key)\u001b[0m\n\u001b[0;32m    629\u001b[0m \u001b[38;5;28;01mtry\u001b[39;00m:\n\u001b[1;32m--> 630\u001b[0m     \u001b[38;5;28;01mreturn\u001b[39;00m \u001b[43mIndex\u001b[49m\u001b[38;5;241;43m.\u001b[39;49m\u001b[43mget_loc\u001b[49m\u001b[43m(\u001b[49m\u001b[38;5;28;43mself\u001b[39;49m\u001b[43m,\u001b[49m\u001b[43m \u001b[49m\u001b[43mkey\u001b[49m\u001b[43m)\u001b[49m\n\u001b[0;32m    631\u001b[0m \u001b[38;5;28;01mexcept\u001b[39;00m \u001b[38;5;167;01mKeyError\u001b[39;00m \u001b[38;5;28;01mas\u001b[39;00m err:\n",
      "File \u001b[1;32mc:\\Users\\Matheus Poletto\\AppData\\Local\\Programs\\Python\\Python312\\Lib\\site-packages\\pandas\\core\\indexes\\base.py:3812\u001b[0m, in \u001b[0;36mIndex.get_loc\u001b[1;34m(self, key)\u001b[0m\n\u001b[0;32m   3811\u001b[0m         \u001b[38;5;28;01mraise\u001b[39;00m InvalidIndexError(key)\n\u001b[1;32m-> 3812\u001b[0m     \u001b[38;5;28;01mraise\u001b[39;00m \u001b[38;5;167;01mKeyError\u001b[39;00m(key) \u001b[38;5;28;01mfrom\u001b[39;00m \u001b[38;5;21;01merr\u001b[39;00m\n\u001b[0;32m   3813\u001b[0m \u001b[38;5;28;01mexcept\u001b[39;00m \u001b[38;5;167;01mTypeError\u001b[39;00m:\n\u001b[0;32m   3814\u001b[0m     \u001b[38;5;66;03m# If we have a listlike key, _check_indexing_error will raise\u001b[39;00m\n\u001b[0;32m   3815\u001b[0m     \u001b[38;5;66;03m#  InvalidIndexError. Otherwise we fall through and re-raise\u001b[39;00m\n\u001b[0;32m   3816\u001b[0m     \u001b[38;5;66;03m#  the TypeError.\u001b[39;00m\n",
      "\u001b[1;31mKeyError\u001b[0m: Timestamp('2021-12-31 00:00:00')",
      "\nThe above exception was the direct cause of the following exception:\n",
      "\u001b[1;31mKeyError\u001b[0m                                  Traceback (most recent call last)",
      "Cell \u001b[1;32mIn[19], line 5\u001b[0m\n\u001b[0;32m      3\u001b[0m lucro_liq_31_12_2023 \u001b[38;5;241m=\u001b[39m lucro_liq[data_1]\n\u001b[0;32m      4\u001b[0m lucro_liq_31_12_2022 \u001b[38;5;241m=\u001b[39m lucro_liq[data_2]\n\u001b[1;32m----> 5\u001b[0m lucro_liq_31_12_2021 \u001b[38;5;241m=\u001b[39m \u001b[43mlucro_liq\u001b[49m\u001b[43m[\u001b[49m\u001b[43mdata_3\u001b[49m\u001b[43m]\u001b[49m\n\u001b[0;32m      6\u001b[0m lucro_liq_31_12_2020 \u001b[38;5;241m=\u001b[39m lucro_liq[data_4]\n\u001b[0;32m      8\u001b[0m \u001b[38;5;28mprint\u001b[39m(lucro_liq_31_12_2023,lucro_liq_31_12_2022,lucro_liq_31_12_2021,lucro_liq_31_12_2020)\n",
      "File \u001b[1;32mc:\\Users\\Matheus Poletto\\AppData\\Local\\Programs\\Python\\Python312\\Lib\\site-packages\\pandas\\core\\series.py:1121\u001b[0m, in \u001b[0;36mSeries.__getitem__\u001b[1;34m(self, key)\u001b[0m\n\u001b[0;32m   1118\u001b[0m     \u001b[38;5;28;01mreturn\u001b[39;00m \u001b[38;5;28mself\u001b[39m\u001b[38;5;241m.\u001b[39m_values[key]\n\u001b[0;32m   1120\u001b[0m \u001b[38;5;28;01melif\u001b[39;00m key_is_scalar:\n\u001b[1;32m-> 1121\u001b[0m     \u001b[38;5;28;01mreturn\u001b[39;00m \u001b[38;5;28;43mself\u001b[39;49m\u001b[38;5;241;43m.\u001b[39;49m\u001b[43m_get_value\u001b[49m\u001b[43m(\u001b[49m\u001b[43mkey\u001b[49m\u001b[43m)\u001b[49m\n\u001b[0;32m   1123\u001b[0m \u001b[38;5;66;03m# Convert generator to list before going through hashable part\u001b[39;00m\n\u001b[0;32m   1124\u001b[0m \u001b[38;5;66;03m# (We will iterate through the generator there to check for slices)\u001b[39;00m\n\u001b[0;32m   1125\u001b[0m \u001b[38;5;28;01mif\u001b[39;00m is_iterator(key):\n",
      "File \u001b[1;32mc:\\Users\\Matheus Poletto\\AppData\\Local\\Programs\\Python\\Python312\\Lib\\site-packages\\pandas\\core\\series.py:1237\u001b[0m, in \u001b[0;36mSeries._get_value\u001b[1;34m(self, label, takeable)\u001b[0m\n\u001b[0;32m   1234\u001b[0m     \u001b[38;5;28;01mreturn\u001b[39;00m \u001b[38;5;28mself\u001b[39m\u001b[38;5;241m.\u001b[39m_values[label]\n\u001b[0;32m   1236\u001b[0m \u001b[38;5;66;03m# Similar to Index.get_value, but we do not fall back to positional\u001b[39;00m\n\u001b[1;32m-> 1237\u001b[0m loc \u001b[38;5;241m=\u001b[39m \u001b[38;5;28;43mself\u001b[39;49m\u001b[38;5;241;43m.\u001b[39;49m\u001b[43mindex\u001b[49m\u001b[38;5;241;43m.\u001b[39;49m\u001b[43mget_loc\u001b[49m\u001b[43m(\u001b[49m\u001b[43mlabel\u001b[49m\u001b[43m)\u001b[49m\n\u001b[0;32m   1239\u001b[0m \u001b[38;5;28;01mif\u001b[39;00m is_integer(loc):\n\u001b[0;32m   1240\u001b[0m     \u001b[38;5;28;01mreturn\u001b[39;00m \u001b[38;5;28mself\u001b[39m\u001b[38;5;241m.\u001b[39m_values[loc]\n",
      "File \u001b[1;32mc:\\Users\\Matheus Poletto\\AppData\\Local\\Programs\\Python\\Python312\\Lib\\site-packages\\pandas\\core\\indexes\\datetimes.py:632\u001b[0m, in \u001b[0;36mDatetimeIndex.get_loc\u001b[1;34m(self, key)\u001b[0m\n\u001b[0;32m    630\u001b[0m     \u001b[38;5;28;01mreturn\u001b[39;00m Index\u001b[38;5;241m.\u001b[39mget_loc(\u001b[38;5;28mself\u001b[39m, key)\n\u001b[0;32m    631\u001b[0m \u001b[38;5;28;01mexcept\u001b[39;00m \u001b[38;5;167;01mKeyError\u001b[39;00m \u001b[38;5;28;01mas\u001b[39;00m err:\n\u001b[1;32m--> 632\u001b[0m     \u001b[38;5;28;01mraise\u001b[39;00m \u001b[38;5;167;01mKeyError\u001b[39;00m(orig_key) \u001b[38;5;28;01mfrom\u001b[39;00m \u001b[38;5;21;01merr\u001b[39;00m\n",
      "\u001b[1;31mKeyError\u001b[0m: '2021-12-31'"
     ]
    }
   ],
   "source": [
    "\n",
    "lucro_liq = df_income.loc['Net Income From Continuing And Discontinued Operation']\n",
    "\n",
    "lucro_liq_31_03_2024 = lucro_liq[data_01]\n",
    "lucro_liq_31_12_2023 = lucro_liq[data_1]\n",
    "lucro_liq_31_12_2022 = lucro_liq[data_2]\n",
    "lucro_liq_31_12_2021 = lucro_liq[data_3]\n",
    "lucro_liq_31_12_2020 = lucro_liq[data_4]\n",
    "\n",
    "print(lucro_liq_31_12_2023,lucro_liq_31_12_2022,lucro_liq_31_12_2021,lucro_liq_31_12_2020)"
   ]
  },
  {
   "cell_type": "code",
   "execution_count": 14,
   "metadata": {},
   "outputs": [
    {
     "name": "stdout",
     "output_type": "stream",
     "text": [
      "38.98 28.5 31.06 28.65\n"
     ]
    }
   ],
   "source": [
    "df_close = pd.read_csv('data_yfinance/stocks.csv')\n",
    "#close = df_close[['Date','ticker', 'Close']]\n",
    "\n",
    "close_31_12_2023 = df_close.loc[(df_close['ticker'] == tick) & (df_close['Date'] == data_1_1)]['Close'].values[0].round(2)\n",
    "close_31_12_2022 = df_close.loc[(df_close['ticker'] == tick) & (df_close['Date'] == data_2_2)]['Close'].values[0].round(2)\n",
    "close_31_12_2021 = df_close.loc[(df_close['ticker'] == tick) & (df_close['Date'] == data_3_3)]['Close'].values[0].round(2)\n",
    "close_31_12_2020 = df_close.loc[(df_close['ticker'] == tick) & (df_close['Date'] == data_4_4)]['Close'].values[0].round(2)\n",
    "\n",
    "print(close_31_12_2023,close_31_12_2022,close_31_12_2021,close_31_12_2020)"
   ]
  },
  {
   "cell_type": "code",
   "execution_count": 15,
   "metadata": {},
   "outputs": [
    {
     "data": {
      "text/plain": [
       "12414400512"
      ]
     },
     "execution_count": 15,
     "metadata": {},
     "output_type": "execute_result"
    }
   ],
   "source": [
    "shares = ticker.get_shares_full().iloc[0]\n",
    "shares"
   ]
  },
  {
   "cell_type": "code",
   "execution_count": 16,
   "metadata": {},
   "outputs": [
    {
     "name": "stdout",
     "output_type": "stream",
     "text": [
      "19.45 9.66 19.4 311.72\n"
     ]
    }
   ],
   "source": [
    "p_l_2023 = (close_31_12_2023*shares/lucro_liq_31_12_2023).round(2)\n",
    "p_l_2022 = (close_31_12_2022*shares/lucro_liq_31_12_2022).round(2)\n",
    "p_l_2021 = (close_31_12_2021*shares/lucro_liq_31_12_2021).round(2)\n",
    "p_l_2020 = (close_31_12_2020*shares/lucro_liq_31_12_2020).round(2)\n",
    "\n",
    "print(p_l_2023,p_l_2022,p_l_2021,p_l_2020)"
   ]
  },
  {
   "cell_type": "code",
   "execution_count": 17,
   "metadata": {},
   "outputs": [
    {
     "ename": "NameError",
     "evalue": "name 'plt' is not defined",
     "output_type": "error",
     "traceback": [
      "\u001b[1;31m---------------------------------------------------------------------------\u001b[0m",
      "\u001b[1;31mNameError\u001b[0m                                 Traceback (most recent call last)",
      "Cell \u001b[1;32mIn[17], line 4\u001b[0m\n\u001b[0;32m      1\u001b[0m x \u001b[38;5;241m=\u001b[39m [data_4, data_3, data_2, data_1]  \u001b[38;5;66;03m# datas\u001b[39;00m\n\u001b[0;32m      2\u001b[0m y \u001b[38;5;241m=\u001b[39m [p_l_2020, p_l_2021, p_l_2022, p_l_2023]  \u001b[38;5;66;03m# valores de P/L\u001b[39;00m\n\u001b[1;32m----> 4\u001b[0m \u001b[43mplt\u001b[49m\u001b[38;5;241m.\u001b[39mscatter(x, y)\n\u001b[0;32m      6\u001b[0m plt\u001b[38;5;241m.\u001b[39mtitle(\u001b[38;5;124mf\u001b[39m\u001b[38;5;124m'\u001b[39m\u001b[38;5;124mEvolução do P/L ao longo do tempo em \u001b[39m\u001b[38;5;132;01m{\u001b[39;00mtick\u001b[38;5;132;01m}\u001b[39;00m\u001b[38;5;124m'\u001b[39m)\n\u001b[0;32m      7\u001b[0m plt\u001b[38;5;241m.\u001b[39mxlabel(\u001b[38;5;124m'\u001b[39m\u001b[38;5;124mData\u001b[39m\u001b[38;5;124m'\u001b[39m)\n",
      "\u001b[1;31mNameError\u001b[0m: name 'plt' is not defined"
     ]
    }
   ],
   "source": [
    "x = [data_4, data_3, data_2, data_1]  # datas\n",
    "y = [p_l_2020, p_l_2021, p_l_2022, p_l_2023]  # valores de P/L\n",
    "\n",
    "plt.scatter(x, y)\n",
    "\n",
    "plt.title(f'Evolução do P/L ao longo do tempo em {tick}')\n",
    "plt.xlabel('Data')\n",
    "plt.ylabel('P/L')\n",
    "\n",
    "plt.show()\n"
   ]
  }
 ],
 "metadata": {
  "kernelspec": {
   "display_name": "Python 3",
   "language": "python",
   "name": "python3"
  },
  "language_info": {
   "codemirror_mode": {
    "name": "ipython",
    "version": 3
   },
   "file_extension": ".py",
   "mimetype": "text/x-python",
   "name": "python",
   "nbconvert_exporter": "python",
   "pygments_lexer": "ipython3",
   "version": "3.12.3"
  }
 },
 "nbformat": 4,
 "nbformat_minor": 2
}
