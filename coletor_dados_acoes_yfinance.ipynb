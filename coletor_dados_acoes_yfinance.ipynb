{
 "cells": [
  {
   "cell_type": "code",
   "execution_count": 81,
   "metadata": {},
   "outputs": [],
   "source": [
    "import yfinance as yf\n",
    "import pandas as pd\n",
    "from datetime import datetime, timedelta\n",
    "import os"
   ]
  },
  {
   "cell_type": "code",
   "execution_count": 86,
   "metadata": {},
   "outputs": [
    {
     "data": {
      "text/plain": [
       "0       GPAR3.SA\n",
       "1       GNDI3.SA\n",
       "2       PLDN4.SA\n",
       "3       LCSA4.SA\n",
       "4       LVTC3.SA\n",
       "         ...    \n",
       "876     DMFN3.SA\n",
       "877     CSNA3.SA\n",
       "878    UBBR11.SA\n",
       "879     UBBR3.SA\n",
       "880     GUAR4.SA\n",
       "Name: Papel, Length: 881, dtype: object"
      ]
     },
     "execution_count": 86,
     "metadata": {},
     "output_type": "execute_result"
    }
   ],
   "source": [
    "tickers = pd.read_csv('data_fund\\\\stocks_tickers.csv')\n",
    "#tickers = tickers.head(10)\n",
    "#tickers = [f\"{papel}.SA\" for papel in tickers['Papel']]\n",
    "tickers['SA'] = '.SA'\n",
    "\n",
    "tickers['Papel'] = tickers['Papel'] + tickers['SA']\n",
    "tickers = tickers['Papel']\n",
    "tickers"
   ]
  },
  {
   "cell_type": "code",
   "execution_count": 68,
   "metadata": {},
   "outputs": [],
   "source": [
    "# Lista de tickers de interesse\n",
    "tickers = [\"PETR4.SA\",\n",
    "\"PETR3.SA\",\n",
    "\"PRIO3.SA\",\n",
    "\"AHEB3.SA\",\n",
    "\"AHEB5.SA\",\n",
    "\"RSUL4.SA\",\n",
    "\"LEVE3.SA\",\n",
    "\"VALE3.SA\",\n",
    "\"ENMT4.SA\",\n",
    "\"ENMT3.SA\",\n",
    "\"PSSA3.SA\",\n",
    "\"EGIE3.SA\",\n",
    "\"CEDO3.SA\",\n",
    "\"CSRN3.SA\",\n",
    "\"UNIP3.SA\",\n",
    "\"CEDO4.SA\",\n",
    "\"EKTR4.SA\",\n",
    "\"CSRN5.SA\",\n",
    "\"UNIP6.SA\",\n",
    "\"UNIP5.SA\",\n",
    "\"CSRN6.SA\",\n",
    "\"CEEB5.SA\",\n",
    "\"CEEB3.SA\",\n",
    "\"EKTR3.SA\",\n",
    "\"EQMA3B.SA\",\n",
    "\"SOND6.SA\",\n",
    "\"CPFE3.SA\",\n",
    "\"SOND5.SA\",\n",
    "\"SCAR3.SA\",\n",
    "\"PLPL3.SA\",\n",
    "\"MRSA5B.SA\",\n",
    "\"MRSA5B.SA\",\n",
    "\"CURY3.SA\",\n",
    "\"EQPA7.SA\",\n",
    "\"EQPA5.SA\",\n",
    "\"CAMB3.SA\",\n",
    "\"MRSA6B.SA\",\n",
    "\"MRSA3B.SA\",\n",
    "\"MRSA6B.SA\",\n",
    "\"EQPA3.SA\",\n",
    "\"MRSA3B.SA\",\n",
    "\"SAPR11.SA\",\n",
    "\"CGAS3.SA\",\n",
    "\"EQPA6.SA\",\n",
    "\"CGAS5.SA\",\n",
    "\"SUZB3.SA\",\n",
    "\"CEGR3.SA\",\n",
    "\"TAEE11.SA\",\n",
    "\"CMIN3.SA\",\n",
    "\"RANI3.SA\",\n",
    "\"ODPV3.SA\",\n",
    "\"CMIG4.SA\",\n",
    "\"WEGE3.SA\",\n",
    "\"CMIG3.SA\",\n",
    "\"KEPL3.SA\",\n",
    "\"TRPL4.SA\",\n",
    "\"CSUD3.SA\",\n",
    "\"MGEL4.SA\",\n",
    "\"TRPL3.SA\",\n",
    "\"SOJA3.SA\",\n",
    "\"VULC3.SA\",\n",
    "\"ALOS3.SA\",\n",
    "\"REDE3.SA\",\n",
    "\"MTSA4.SA\",\n",
    "\"VLID3.SA\",\n",
    "\"TGMA3.SA\",\n",
    "\"CSMG3.SA\",\n",
    "\"MNDL3.SA\",\n",
    "\"TOTS3.SA\",\n",
    "\"TAEE3.SA\",\n",
    "\"TAEE4.SA\",\n",
    "\"MILS3.SA\",\n",
    "\"HOOT4.SA\",\n",
    "\"KLBN11.SA\",\n",
    "\"MULT3.SA\",\n",
    "\"DEXP3.SA\",\n",
    "\"DEXP4.SA\",\n",
    "\"SAPR3.SA\",\n",
    "\"SAPR4.SA\",\n",
    "\"CEBR5.SA\",\n",
    "\"CEBR3.SA\",\n",
    "\"FRAS3.SA\",\n",
    "\"B3SA3.SA\",\n",
    "\"CEBR6.SA\",\n",
    "\"SLCE3.SA\",\n",
    "\"TFCO4.SA\",\n",
    "\"ENGI11.SA\",\n",
    "\"TASA3.SA\",\n",
    "\"TASA4.SA\",\n",
    "\"ECOR3.SA\",\n",
    "\"HYPE3.SA\",\n",
    "\"VBBR3.SA\",\n",
    "\"GGBR3.SA\",\n",
    "\"GGBR4.SA\",\n",
    "\"RECV3.SA\",\n",
    "\"VIVA3.SA\",\n",
    "\"AURA33.SA\",\n",
    "\"NEOE3.SA\",\n",
    "\"LAND3.SA\",\n",
    "\"BLAU3.SA\",\n",
    "\"ABEV3.SA\",\n",
    "\"INTB3.SA\",\n",
    "\"CIEL3.SA\",\n",
    "\"HETA4.SA\",\n",
    "\"GOAU4.SA\",\n",
    "\"GOAU3.SA\",\n",
    "\"SHUL4.SA\",\n",
    "\"ALUP11.SA\",\n",
    "\"CLSC3.SA\",\n",
    "\"POMO3.SA\",\n",
    "\"SMFT3.SA\",\n",
    "\"STBP3.SA\",\n",
    "\"CLSC4.SA\",\n",
    "\"UGPA3.SA\",\n",
    "\"EUCA3.SA\",\n",
    "\"EUCA4.SA\",\n",
    "\"LAVV3.SA\",\n",
    "\"POMO4.SA\",\n",
    "\"CCRO3.SA\",\n",
    "\"HBRE3.SA\",\n",
    "\"PORT3.SA\",\n",
    "\"SBSP3.SA\",\n",
    "\"KLBN3.SA\",\n",
    "\"BEEF3.SA\",\n",
    "\"KLBN4.SA\",\n",
    "\"SMTO3.SA\",\n",
    "\"COCE5.SA\",\n",
    "\"LREN3.SA\",\n",
    "\"JSLG3.SA\",\n",
    "\"COCE3.SA\",\n",
    "\"ARZZ3.SA\",\n",
    "\"AGRO3.SA\",\n",
    "\"ARML3.SA\",\n",
    "\"ENGI4.SA\",\n",
    "\"EPAR3.SA\",\n",
    "\"VAMO3.SA\",\n",
    "\"TKNO4.SA\",\n",
    "\"TUPY3.SA\",\n",
    "\"MDIA3.SA\",\n",
    "\"RAPT3.SA\",\n",
    "\"ENGI3.SA\",\n",
    "\"GGPS3.SA\",\n",
    "\"RAPT4.SA\",\n",
    "\"DIRR3.SA\",\n",
    "\"TECN3.SA\",\n",
    "\"LUXM4.SA\",\n",
    "\"CGRA3.SA\",\n",
    "\"POSI3.SA\",\n",
    "\"CGRA4.SA\",\n",
    "\"CALI3.SA\",\n",
    "\"EQTL3.SA\",\n",
    "\"IGTI11.SA\",\n",
    "\"ALUP4.SA\",\n",
    "\"FESA4.SA\",\n",
    "\"AFLT3.SA\",\n",
    "\"BAZA3.SA\",\n",
    "\"MOAR3.SA\",\n",
    "\"ALUP3.SA\",\n",
    "\"BBSE3.SA\",\n",
    "\"TIMS3.SA\",\n",
    "\"MDNE3.SA\",\n",
    "\"FESA3.SA\",\n",
    "\"BBAS3.SA\",\n",
    "\"JPSA3.SA\",\n",
    "\"GRND3.SA\",\n",
    "\"EALT3.SA\",\n",
    "\"DESK3.SA\",\n",
    "\"EALT4.SA\",\n",
    "\"BNBR3.SA\",\n",
    "\"LOGG3.SA\",\n",
    "\"ETER3.SA\",\n",
    "\"RRRP3.SA\",\n",
    "\"FIQE3.SA\",\n",
    "\"CYRE3.SA\",\n",
    "\"BMEB3.SA\",\n",
    "\"BMEB4.SA\",\n",
    "\"TTEN3.SA\",\n",
    "\"VITT3.SA\",\n",
    "\"RENT3.SA\",\n",
    "\"BRAP3.SA\",\n",
    "\"BRAP4.SA\",\n",
    "\"MNPR3.SA\",\n",
    "\"SHOW3.SA\",\n",
    "\"ASAI3.SA\",\n",
    "\"RNEW11.SA\",\n",
    "\"ROMI3.SA\",\n",
    "\"EMAE4.SA\",\n",
    "\"BRIT3.SA\",\n",
    "\"CTKA3.SA\",\n",
    "\"CTKA4.SA\",\n",
    "\"ELET3.SA\",\n",
    "\"VIVT3.SA\",\n",
    "\"ELET6.SA\",\n",
    "\"ITSA4.SA\",\n",
    "\"RADL3.SA\",\n",
    "\"ELET5.SA\",\n",
    "\"ITSA3.SA\",\n",
    "\"NTCO3.SA\",\n",
    "\"GEPA3.SA\",\n",
    "\"GEPA4.SA\",\n",
    "\"IGTI3.SA\",\n",
    "\"DXCO3.SA\",\n",
    "\"ADHM3.SA\",\n",
    "\"WHRL3.SA\",\n",
    "\"ITUB3.SA\",\n",
    "\"HBTS5.SA\",\n",
    "\"RAIL3.SA\",\n",
    "\"BMOB3.SA\",\n",
    "\"ITUB4.SA\",\n",
    "\"CPLE3.SA\",\n",
    "\"CPLE6.SA\",\n",
    "\"JHSF3.SA\",\n",
    "\"RSID3.SA\",\n",
    "\"RAIZ4.SA\",\n",
    "\"GMAT3.SA\",\n",
    "\"RNEW3.SA\",\n",
    "\"ONCO3.SA\",\n",
    "\"RNEW4.SA\",\n",
    "\"CPLE5.SA\",\n",
    "\"BPAC11.SA\",\n",
    "\"LPSB3.SA\",\n",
    "\"FLRY3.SA\",\n",
    "\"ABCB4.SA\",\n",
    "\"QUAL3.SA\",\n",
    "\"ELMD3.SA\",\n",
    "\"MOVI3.SA\",\n",
    "\"OPCT3.SA\",\n",
    "\"BOBR4.SA\",\n",
    "\"LVTC3.SA\",\n",
    "\"PTNT4.SA\",\n",
    "\"ALPK3.SA\",\n",
    "\"AZUL4.SA\",\n",
    "\"APER3.SA\",\n",
    "\"PTNT3.SA\",\n",
    "\"MATD3.SA\",\n",
    "\"RDOR3.SA\",\n",
    "\"SYNE3.SA\",\n",
    "\"AVLL3.SA\",\n",
    "\"FRIO3.SA\",\n",
    "\"CEED3.SA\",\n",
    "\"CEED4.SA\",\n",
    "\"PEAB3.SA\",\n",
    "\"GOLL4.SA\",\n",
    "\"AESB3.SA\",\n",
    "\"CXSE3.SA\",\n",
    "\"BALM3.SA\",\n",
    "\"PEAB4.SA\",\n",
    "\"PRNR3.SA\",\n",
    "\"BALM4.SA\",\n",
    "\"HBSA3.SA\",\n",
    "\"PINE4.SA\",\n",
    "\"CSNA3.SA\",\n",
    "\"LOGN3.SA\",\n",
    "\"CSED3.SA\",\n",
    "\"AMBP3.SA\",\n",
    "\"PINE3.SA\",\n",
    "\"TRIS3.SA\",\n",
    "\"BEES3.SA\",\n",
    "\"NEXP3.SA\",\n",
    "\"BEES4.SA\",\n",
    "\"BPAC5.SA\",\n",
    "\"SIMH3.SA\",\n",
    "\"EVEN3.SA\",\n",
    "\"MTRE3.SA\",\n",
    "\"ENEV3.SA\",\n",
    "\"SANB11.SA\",\n",
    "\"EMBR3.SA\",\n",
    "\"CAML3.SA\",\n",
    "\"SBFG3.SA\",\n",
    "\"BPAC3.SA\",\n",
    "\"BRSR3.SA\",\n",
    "\"ALLD3.SA\",\n",
    "\"BRSR6.SA\",\n",
    "\"SRNA3.SA\",\n",
    "\"PDTC3.SA\",\n",
    "\"BGIP4.SA\",\n",
    "\"COGN3.SA\",\n",
    "\"BRSR5.SA\",\n",
    "\"NUTR3.SA\",\n",
    "\"EZTC3.SA\",\n",
    "\"BMKS3.SA\",\n",
    "\"BGIP3.SA\",\n",
    "\"PFRM3.SA\",\n",
    "\"VVEO3.SA\",\n",
    "\"USIM3.SA\",\n",
    "\"PNVL3.SA\",\n",
    "\"USIM5.SA\",\n",
    "\"GSHP3.SA\",\n",
    "\"LUPA3.SA\",\n",
    "\"BBDC3.SA\",\n",
    "\"BBDC4.SA\",\n",
    "\"ANIM3.SA\",\n",
    "\"USIM6.SA\",\n",
    "\"SANB3.SA\",\n",
    "\"SANB4.SA\",\n",
    "\"AERI3.SA\",\n",
    "\"MSPA4.SA\",\n",
    "\"CSAN3.SA\",\n",
    "\"LIPR3.SA\",\n",
    "\"OFSA3.SA\",\n",
    "\"SOMA3.SA\",\n",
    "\"MSPA3.SA\",\n",
    "\"DMFN3.SA\",\n",
    "\"SNSY5.SA\",\n",
    "\"BMIN4.SA\",\n",
    "\"ESPA3.SA\",\n",
    "\"HBOR3.SA\",\n",
    "\"BSLI4.SA\",\n",
    "\"GPAR3.SA\",\n",
    "\"BSLI3.SA\",\n",
    "\"BMIN3.SA\",\n",
    "\"AURE3.SA\",\n",
    "\"KRSA3.SA\",\n",
    "\"JOPA3.SA\",\n",
    "\"JOPA4.SA\",\n",
    "\"CEAB3.SA\",\n",
    "\"MELK3.SA\",\n",
    "\"PATI3.SA\",\n",
    "\"PATI4.SA\",\n",
    "\"UCAS3.SA\",\n",
    "\"BAUH4.SA\",\n",
    "\"MWET3.SA\",\n",
    "\"CBEE3.SA\",\n",
    "\"MWET4.SA\",\n",
    "\"MYPK3.SA\",\n",
    "\"ENAT3.SA\",\n",
    "\"DMVF3.SA\",\n",
    "\"LWSA3.SA\",\n",
    "\"AGXY3.SA\",\n",
    "\"SEER3.SA\",\n",
    "\"BRBI11.SA\",\n",
    "\"GUAR3.SA\",\n",
    "\"VSTE3.SA\",\n",
    "\"BPAN4.SA\",\n",
    "\"BDLL4.SA\",\n",
    "\"BDLL3.SA\",\n",
    "\"ORVR3.SA\",\n",
    "\"MRVE3.SA\",\n",
    "\"PETZ3.SA\",\n",
    "\"MEAL3.SA\",\n",
    "\"CRFB3.SA\",\n",
    "\"PTBL3.SA\",\n",
    "\"GPIV33.SA\",\n",
    "\"CRPG5.SA\",\n",
    "\"TEND3.SA\",\n",
    "\"MGLU3.SA\",\n",
    "\"CRPG6.SA\",\n",
    "\"DASA3.SA\",\n",
    "\"CRPG3.SA\",\n",
    "\"RDNI3.SA\",\n",
    "\"JALL3.SA\",\n",
    "\"TXRX3.SA\",\n",
    "\"TXRX4.SA\",\n",
    "\"LJQQ3.SA\",\n",
    "\"PGMN3.SA\",\n",
    "\"DOTZ3.SA\",\n",
    "\"OIBR4.SA\",\n",
    "\"ATMP3.SA\",\n",
    "\"OIBR3.SA\",\n",
    "\"PCAR3.SA\",\n",
    "\"AMER3.SA\",\n",
    "\"HAPV3.SA\",\n",
    "\"BMGB4.SA\",\n",
    "\"IGBR3.SA\",\n",
    "\"NGRD3.SA\",\n",
    "\"PMAM3.SA\",\n",
    "\"PDGR3.SA\",\n",
    "\"ESTR3.SA\",\n",
    "\"INEP4.SA\",\n",
    "\"ESTR4.SA\",\n",
    "\"INEP3.SA\",\n",
    "\"BHIA3.SA\",\n",
    "\"BRFS3.SA\",\n",
    "\"CRIV4.SA\",\n",
    "\"RPMG3.SA\",\n",
    "\"AALR3.SA\",\n",
    "\"CRIV3.SA\",\n",
    "\"FIEI3.SA\",\n",
    "\"MRFG3.SA\",\n",
    "\"TEKA3.SA\",\n",
    "\"TEKA4.SA\",\n",
    "\"RPAD5.SA\",\n",
    "\"BRIV4.SA\",\n",
    "\"PLAS3.SA\",\n",
    "\"RPAD6.SA\",\n",
    "\"ALPA3.SA\",\n",
    "\"RPAD3.SA\",\n",
    "\"ALPA4.SA\",\n",
    "\"MERC4.SA\",\n",
    "\"BRIV3.SA\",\n",
    "\"IRBR3.SA\",\n",
    "\"MAPT3.SA\",\n",
    "\"DOHL3.SA\",\n",
    "\"TCSA3.SA\",\n",
    "\"MAPT4.SA\",\n",
    "\"DOHL4.SA\",\n",
    "\"HAGA4.SA\",\n",
    "\"HAGA3.SA\",\n",
    "\"NORD3.SA\",\n",
    "\"AMAR3.SA\",\n",
    "\"BLUT3.SA\",\n",
    "\"JBSS3.SA\",\n",
    "\"BLUT4.SA\",\n",
    "\"FRTA3.SA\",\n",
    "\"OSXB3.SA\",\n",
    "\"JFEN3.SA\",\n",
    "\"ATOM3.SA\",\n",
    "\"IFCM3.SA\",\n",
    "\"CVCB3.SA\",\n",
    "\"CLSA3.SA\",\n",
    "\"CASH3.SA\",\n",
    "\"TPIS3.SA\",\n",
    "\"BRGE8.SA\",\n",
    "\"RCSL3.SA\",\n",
    "\"BRGE7.SA\",\n",
    "\"BRGE5.SA\",\n",
    "\"RCSL4.SA\",\n",
    "\"BRGE3.SA\",\n",
    "\"BRGE6.SA\",\n",
    "\"BRGE12.SA\",\n",
    "\"CBAV3.SA\",\n",
    "\"BRGE11.SA\",\n",
    "\"GFSA3.SA\",\n",
    "\"MBLY3.SA\",\n",
    "\"TELB3.SA\",\n",
    "\"BAHI3.SA\",\n",
    "\"AZEV3.SA\",\n",
    "\"TELB4.SA\",\n",
    "\"AZEV4.SA\",\n",
    "\"BRKM5.SA\",\n",
    "\"MLAS3.SA\",\n",
    "\"BRKM6.SA\",\n",
    "\"BRKM3.SA\",\n",
    "\"NINJ3.SA\",\n",
    "\"ENJU3.SA\",\n",
    "\"CTSA3.SA\",\n",
    "\"CTSA4.SA\",\n",
    "\"WEST3.SA\",\n",
    "\"TRAD3.SA\",\n",
    "\"BIOM3.SA\",\n",
    "\"LIGT3.SA\",\n",
    "\"DTCY3.SA\",\n",
    "\"VIVR3.SA\",\n",
    "\"SEQL3.SA\",\n",
    "\"FHER3.SA\",\n",
    "\"CTNM3.SA\",\n",
    "\"CTNM4.SA\",\n",
    "\"SGPS3.SA\",\n",
    "\"WIZC3.SA\",\n",
    "\"WLMM3.SA\",\n",
    "\"WLMM4.SA\",\n",
    "\"WHRL4.SA\",\n",
    "\"YDUQ3.SA\",\n",
    "\"ZAMP3.SA\"\n",
    "]"
   ]
  },
  {
   "cell_type": "code",
   "execution_count": 87,
   "metadata": {},
   "outputs": [],
   "source": [
    "# Intervalo de datas desejado (de '2017-02-24' até a data de ontem)\n",
    "end_date = (datetime.now() - timedelta(days=0)).strftime('%Y-%m-%d')\n",
    "start_date = '2017-02-24'"
   ]
  },
  {
   "cell_type": "code",
   "execution_count": 88,
   "metadata": {},
   "outputs": [
    {
     "name": "stderr",
     "output_type": "stream",
     "text": [
      "[*********************100%%**********************]  1 of 1 completed\n",
      "[*********************100%%**********************]  1 of 1 completed\n",
      "\n",
      "1 Failed download:\n",
      "['GNDI3.SA']: YFTzMissingError('$%ticker%: possibly delisted; No timezone found')\n",
      "[*********************100%%**********************]  1 of 1 completed\n",
      "\n",
      "1 Failed download:\n",
      "['PLDN4.SA']: YFPricesMissingError('$%ticker%: possibly delisted; No price data found  (1d 2017-02-24 -> 2024-07-10)')\n"
     ]
    },
    {
     "name": "stdout",
     "output_type": "stream",
     "text": [
      "$PLDN4.SA: possibly delisted; No price data found  (1d 2017-02-24 -> 2024-07-10)\n"
     ]
    },
    {
     "name": "stderr",
     "output_type": "stream",
     "text": [
      "[*********************100%%**********************]  1 of 1 completed\n",
      "\n",
      "1 Failed download:\n",
      "['LCSA4.SA']: YFPricesMissingError('$%ticker%: possibly delisted; No price data found  (1d 2017-02-24 -> 2024-07-10)')\n"
     ]
    },
    {
     "name": "stdout",
     "output_type": "stream",
     "text": [
      "$LCSA4.SA: possibly delisted; No price data found  (1d 2017-02-24 -> 2024-07-10)\n"
     ]
    },
    {
     "name": "stderr",
     "output_type": "stream",
     "text": [
      "[*********************100%%**********************]  1 of 1 completed\n",
      "[*********************100%%**********************]  1 of 1 completed\n",
      "[*********************100%%**********************]  1 of 1 completed\n",
      "\n",
      "1 Failed download:\n",
      "['BAHI4.SA']: YFPricesMissingError('$%ticker%: possibly delisted; No price data found  (1d 2017-02-24 -> 2024-07-10)')\n"
     ]
    },
    {
     "name": "stdout",
     "output_type": "stream",
     "text": [
      "$BAHI4.SA: possibly delisted; No price data found  (1d 2017-02-24 -> 2024-07-10)\n"
     ]
    },
    {
     "name": "stderr",
     "output_type": "stream",
     "text": [
      "[*********************100%%**********************]  1 of 1 completed\n",
      "\n",
      "1 Failed download:\n",
      "['BHGR3.SA']: YFPricesMissingError('$%ticker%: possibly delisted; No price data found  (1d 2017-02-24 -> 2024-07-10)')\n"
     ]
    },
    {
     "name": "stdout",
     "output_type": "stream",
     "text": [
      "$BHGR3.SA: possibly delisted; No price data found  (1d 2017-02-24 -> 2024-07-10)\n"
     ]
    },
    {
     "name": "stderr",
     "output_type": "stream",
     "text": [
      "[*********************100%%**********************]  1 of 1 completed\n",
      "\n",
      "1 Failed download:\n",
      "['DMMO3.SA']: YFTzMissingError('$%ticker%: possibly delisted; No timezone found')\n",
      "[*********************100%%**********************]  1 of 1 completed\n",
      "\n",
      "1 Failed download:\n",
      "['PRGA4.SA']: YFPricesMissingError('$%ticker%: possibly delisted; No price data found  (1d 2017-02-24 -> 2024-07-10)')\n"
     ]
    },
    {
     "name": "stdout",
     "output_type": "stream",
     "text": [
      "$PRGA4.SA: possibly delisted; No price data found  (1d 2017-02-24 -> 2024-07-10)\n"
     ]
    },
    {
     "name": "stderr",
     "output_type": "stream",
     "text": [
      "[*********************100%%**********************]  1 of 1 completed\n",
      "[*********************100%%**********************]  1 of 1 completed\n",
      "\n",
      "1 Failed download:\n",
      "['BAHI5.SA']: YFPricesMissingError('$%ticker%: possibly delisted; No price data found  (1d 2017-02-24 -> 2024-07-10)')\n"
     ]
    },
    {
     "name": "stdout",
     "output_type": "stream",
     "text": [
      "$BAHI5.SA: possibly delisted; No price data found  (1d 2017-02-24 -> 2024-07-10)\n"
     ]
    },
    {
     "name": "stderr",
     "output_type": "stream",
     "text": [
      "[*********************100%%**********************]  1 of 1 completed\n",
      "\n",
      "1 Failed download:\n",
      "['ABYA3.SA']: YFTzMissingError('$%ticker%: possibly delisted; No timezone found')\n",
      "[*********************100%%**********************]  1 of 1 completed\n",
      "\n",
      "1 Failed download:\n",
      "['PITI4.SA']: YFPricesMissingError('$%ticker%: possibly delisted; No price data found  (1d 2017-02-24 -> 2024-07-10)')\n"
     ]
    },
    {
     "name": "stdout",
     "output_type": "stream",
     "text": [
      "$PITI4.SA: possibly delisted; No price data found  (1d 2017-02-24 -> 2024-07-10)\n"
     ]
    },
    {
     "name": "stderr",
     "output_type": "stream",
     "text": [
      "[*********************100%%**********************]  1 of 1 completed\n",
      "\n",
      "1 Failed download:\n",
      "['CALI4.SA']: YFTzMissingError('$%ticker%: possibly delisted; No timezone found')\n",
      "[*********************100%%**********************]  1 of 1 completed\n",
      "\n",
      "1 Failed download:\n",
      "['LCSA3.SA']: YFPricesMissingError('$%ticker%: possibly delisted; No price data found  (1d 2017-02-24 -> 2024-07-10)')\n"
     ]
    },
    {
     "name": "stdout",
     "output_type": "stream",
     "text": [
      "$LCSA3.SA: possibly delisted; No price data found  (1d 2017-02-24 -> 2024-07-10)\n"
     ]
    },
    {
     "name": "stderr",
     "output_type": "stream",
     "text": [
      "[*********************100%%**********************]  1 of 1 completed\n",
      "\n",
      "1 Failed download:\n",
      "['MAGG3.SA']: YFTzMissingError('$%ticker%: possibly delisted; No timezone found')\n",
      "[*********************100%%**********************]  1 of 1 completed\n",
      "\n",
      "1 Failed download:\n",
      "['SQIA3.SA']: YFTzMissingError('$%ticker%: possibly delisted; No timezone found')\n",
      "[*********************100%%**********************]  1 of 1 completed\n",
      "\n",
      "1 Failed download:\n",
      "['LINX3.SA']: YFTzMissingError('$%ticker%: possibly delisted; No timezone found')\n",
      "[*********************100%%**********************]  1 of 1 completed\n",
      "\n",
      "1 Failed download:\n",
      "['BNCA3.SA']: YFTzMissingError('$%ticker%: possibly delisted; No timezone found')\n",
      "[*********************100%%**********************]  1 of 1 completed\n",
      "[*********************100%%**********************]  1 of 1 completed\n",
      "[*********************100%%**********************]  1 of 1 completed\n",
      "[*********************100%%**********************]  1 of 1 completed\n",
      "[*********************100%%**********************]  1 of 1 completed\n",
      "\n",
      "1 Failed download:\n",
      "['AMIL3.SA']: YFPricesMissingError('$%ticker%: possibly delisted; No price data found  (1d 2017-02-24 -> 2024-07-10)')\n"
     ]
    },
    {
     "name": "stdout",
     "output_type": "stream",
     "text": [
      "$AMIL3.SA: possibly delisted; No price data found  (1d 2017-02-24 -> 2024-07-10)\n"
     ]
    },
    {
     "name": "stderr",
     "output_type": "stream",
     "text": [
      "[*********************100%%**********************]  1 of 1 completed\n",
      "\n",
      "1 Failed download:\n",
      "['BRTP3.SA']: YFPricesMissingError('$%ticker%: possibly delisted; No price data found  (1d 2017-02-24 -> 2024-07-10)')\n"
     ]
    },
    {
     "name": "stdout",
     "output_type": "stream",
     "text": [
      "$BRTP3.SA: possibly delisted; No price data found  (1d 2017-02-24 -> 2024-07-10)\n"
     ]
    },
    {
     "name": "stderr",
     "output_type": "stream",
     "text": [
      "[*********************100%%**********************]  1 of 1 completed\n",
      "\n",
      "1 Failed download:\n",
      "['IDVL11.SA']: YFTzMissingError('$%ticker%: possibly delisted; No timezone found')\n",
      "[*********************100%%**********************]  1 of 1 completed\n",
      "[*********************100%%**********************]  1 of 1 completed\n",
      "[*********************100%%**********************]  1 of 1 completed\n",
      "\n",
      "1 Failed download:\n",
      "['PEFX5.SA']: YFPricesMissingError('$%ticker%: possibly delisted; No price data found  (1d 2017-02-24 -> 2024-07-10)')\n"
     ]
    },
    {
     "name": "stdout",
     "output_type": "stream",
     "text": [
      "$PEFX5.SA: possibly delisted; No price data found  (1d 2017-02-24 -> 2024-07-10)\n"
     ]
    },
    {
     "name": "stderr",
     "output_type": "stream",
     "text": [
      "[*********************100%%**********************]  1 of 1 completed\n",
      "\n",
      "1 Failed download:\n",
      "['PEFX3.SA']: YFPricesMissingError('$%ticker%: possibly delisted; No price data found  (1d 2017-02-24 -> 2024-07-10)')\n"
     ]
    },
    {
     "name": "stdout",
     "output_type": "stream",
     "text": [
      "$PEFX3.SA: possibly delisted; No price data found  (1d 2017-02-24 -> 2024-07-10)\n"
     ]
    },
    {
     "name": "stderr",
     "output_type": "stream",
     "text": [
      "[*********************100%%**********************]  1 of 1 completed\n",
      "[*********************100%%**********************]  1 of 1 completed\n",
      "\n",
      "1 Failed download:\n",
      "['MTIG4.SA']: YFTzMissingError('$%ticker%: possibly delisted; No timezone found')\n",
      "[*********************100%%**********************]  1 of 1 completed\n",
      "\n",
      "1 Failed download:\n",
      "['TOYB4.SA']: YFTzMissingError('$%ticker%: possibly delisted; No timezone found')\n",
      "[*********************100%%**********************]  1 of 1 completed\n",
      "[*********************100%%**********************]  1 of 1 completed\n",
      "[*********************100%%**********************]  1 of 1 completed\n",
      "\n",
      "1 Failed download:\n",
      "['CLAN4.SA']: YFTzMissingError('$%ticker%: possibly delisted; No timezone found')\n",
      "[*********************100%%**********************]  1 of 1 completed\n",
      "\n",
      "1 Failed download:\n",
      "['TOYB3.SA']: YFTzMissingError('$%ticker%: possibly delisted; No timezone found')\n",
      "[*********************100%%**********************]  1 of 1 completed\n",
      "\n",
      "1 Failed download:\n",
      "['EBTP3.SA']: YFPricesMissingError('$%ticker%: possibly delisted; No price data found  (1d 2017-02-24 -> 2024-07-10)')\n"
     ]
    },
    {
     "name": "stdout",
     "output_type": "stream",
     "text": [
      "$EBTP3.SA: possibly delisted; No price data found  (1d 2017-02-24 -> 2024-07-10)\n"
     ]
    },
    {
     "name": "stderr",
     "output_type": "stream",
     "text": [
      "[*********************100%%**********************]  1 of 1 completed\n",
      "\n",
      "1 Failed download:\n",
      "['EBTP4.SA']: YFPricesMissingError('$%ticker%: possibly delisted; No price data found  (1d 2017-02-24 -> 2024-07-10)')\n"
     ]
    },
    {
     "name": "stdout",
     "output_type": "stream",
     "text": [
      "$EBTP4.SA: possibly delisted; No price data found  (1d 2017-02-24 -> 2024-07-10)\n"
     ]
    },
    {
     "name": "stderr",
     "output_type": "stream",
     "text": [
      "[*********************100%%**********************]  1 of 1 completed\n",
      "[*********************100%%**********************]  1 of 1 completed\n",
      "[*********************100%%**********************]  1 of 1 completed\n",
      "[*********************100%%**********************]  1 of 1 completed\n",
      "\n",
      "1 Failed download:\n",
      "['FBRA4.SA']: YFPricesMissingError('$%ticker%: possibly delisted; No price data found  (1d 2017-02-24 -> 2024-07-10)')\n"
     ]
    },
    {
     "name": "stdout",
     "output_type": "stream",
     "text": [
      "$FBRA4.SA: possibly delisted; No price data found  (1d 2017-02-24 -> 2024-07-10)\n"
     ]
    },
    {
     "name": "stderr",
     "output_type": "stream",
     "text": [
      "[*********************100%%**********************]  1 of 1 completed\n",
      "\n",
      "1 Failed download:\n",
      "['BRTP4.SA']: YFPricesMissingError('$%ticker%: possibly delisted; No price data found  (1d 2017-02-24 -> 2024-07-10)')\n"
     ]
    },
    {
     "name": "stdout",
     "output_type": "stream",
     "text": [
      "$BRTP4.SA: possibly delisted; No price data found  (1d 2017-02-24 -> 2024-07-10)\n"
     ]
    },
    {
     "name": "stderr",
     "output_type": "stream",
     "text": [
      "[*********************100%%**********************]  1 of 1 completed\n",
      "[*********************100%%**********************]  1 of 1 completed\n",
      "\n",
      "1 Failed download:\n",
      "['ITEC3.SA']: YFTzMissingError('$%ticker%: possibly delisted; No timezone found')\n",
      "[*********************100%%**********************]  1 of 1 completed\n",
      "[*********************100%%**********************]  1 of 1 completed\n",
      "[*********************100%%**********************]  1 of 1 completed\n",
      "[*********************100%%**********************]  1 of 1 completed\n",
      "\n",
      "1 Failed download:\n",
      "['PRTX3.SA']: YFPricesMissingError('$%ticker%: possibly delisted; No price data found  (1d 2017-02-24 -> 2024-07-10)')\n"
     ]
    },
    {
     "name": "stdout",
     "output_type": "stream",
     "text": [
      "$PRTX3.SA: possibly delisted; No price data found  (1d 2017-02-24 -> 2024-07-10)\n"
     ]
    },
    {
     "name": "stderr",
     "output_type": "stream",
     "text": [
      "[*********************100%%**********************]  1 of 1 completed\n",
      "\n",
      "1 Failed download:\n",
      "['OMGE3.SA']: YFTzMissingError('$%ticker%: possibly delisted; No timezone found')\n",
      "[*********************100%%**********************]  1 of 1 completed\n",
      "\n",
      "1 Failed download:\n",
      "['DFVA3.SA']: YFPricesMissingError('$%ticker%: possibly delisted; No price data found  (1d 2017-02-24 -> 2024-07-10)')\n"
     ]
    },
    {
     "name": "stdout",
     "output_type": "stream",
     "text": [
      "$DFVA3.SA: possibly delisted; No price data found  (1d 2017-02-24 -> 2024-07-10)\n"
     ]
    },
    {
     "name": "stderr",
     "output_type": "stream",
     "text": [
      "[*********************100%%**********************]  1 of 1 completed\n",
      "\n",
      "1 Failed download:\n",
      "['ASTA4.SA']: YFPricesMissingError('$%ticker%: possibly delisted; No price data found  (1d 2017-02-24 -> 2024-07-10)')\n"
     ]
    },
    {
     "name": "stdout",
     "output_type": "stream",
     "text": [
      "$ASTA4.SA: possibly delisted; No price data found  (1d 2017-02-24 -> 2024-07-10)\n"
     ]
    },
    {
     "name": "stderr",
     "output_type": "stream",
     "text": [
      "[*********************100%%**********************]  1 of 1 completed\n",
      "[*********************100%%**********************]  1 of 1 completed\n",
      "[*********************100%%**********************]  1 of 1 completed\n",
      "\n",
      "1 Failed download:\n",
      "['VGOR4.SA']: YFPricesMissingError('$%ticker%: possibly delisted; No price data found  (1d 2017-02-24 -> 2024-07-10)')\n"
     ]
    },
    {
     "name": "stdout",
     "output_type": "stream",
     "text": [
      "$VGOR4.SA: possibly delisted; No price data found  (1d 2017-02-24 -> 2024-07-10)\n"
     ]
    },
    {
     "name": "stderr",
     "output_type": "stream",
     "text": [
      "[*********************100%%**********************]  1 of 1 completed\n",
      "\n",
      "1 Failed download:\n",
      "['CRBM3.SA']: YFPricesMissingError('$%ticker%: possibly delisted; No price data found  (1d 2017-02-24 -> 2024-07-10)')\n"
     ]
    },
    {
     "name": "stdout",
     "output_type": "stream",
     "text": [
      "$CRBM3.SA: possibly delisted; No price data found  (1d 2017-02-24 -> 2024-07-10)\n"
     ]
    },
    {
     "name": "stderr",
     "output_type": "stream",
     "text": [
      "[*********************100%%**********************]  1 of 1 completed\n",
      "\n",
      "1 Failed download:\n",
      "['ARTR3.SA']: YFPricesMissingError('$%ticker%: possibly delisted; No price data found  (1d 2017-02-24 -> 2024-07-10)')\n"
     ]
    },
    {
     "name": "stdout",
     "output_type": "stream",
     "text": [
      "$ARTR3.SA: possibly delisted; No price data found  (1d 2017-02-24 -> 2024-07-10)\n"
     ]
    },
    {
     "name": "stderr",
     "output_type": "stream",
     "text": [
      "[*********************100%%**********************]  1 of 1 completed\n",
      "[*********************100%%**********************]  1 of 1 completed\n",
      "\n",
      "1 Failed download:\n",
      "['DFVA4.SA']: YFPricesMissingError('$%ticker%: possibly delisted; No price data found  (1d 2017-02-24 -> 2024-07-10)')\n"
     ]
    },
    {
     "name": "stdout",
     "output_type": "stream",
     "text": [
      "$DFVA4.SA: possibly delisted; No price data found  (1d 2017-02-24 -> 2024-07-10)\n"
     ]
    },
    {
     "name": "stderr",
     "output_type": "stream",
     "text": [
      "[*********************100%%**********************]  1 of 1 completed\n",
      "[*********************100%%**********************]  1 of 1 completed\n",
      "[*********************100%%**********************]  1 of 1 completed\n",
      "\n",
      "1 Failed download:\n",
      "['MODL3.SA']: YFTzMissingError('$%ticker%: possibly delisted; No timezone found')\n",
      "[*********************100%%**********************]  1 of 1 completed\n",
      "\n",
      "1 Failed download:\n",
      "['TAMM4.SA']: YFPricesMissingError('$%ticker%: possibly delisted; No price data found  (1d 2017-02-24 -> 2024-07-10)')\n"
     ]
    },
    {
     "name": "stdout",
     "output_type": "stream",
     "text": [
      "$TAMM4.SA: possibly delisted; No price data found  (1d 2017-02-24 -> 2024-07-10)\n"
     ]
    },
    {
     "name": "stderr",
     "output_type": "stream",
     "text": [
      "[*********************100%%**********************]  1 of 1 completed\n",
      "\n",
      "1 Failed download:\n",
      "['TAMM3.SA']: YFPricesMissingError('$%ticker%: possibly delisted; No price data found  (1d 2017-02-24 -> 2024-07-10)')\n"
     ]
    },
    {
     "name": "stdout",
     "output_type": "stream",
     "text": [
      "$TAMM3.SA: possibly delisted; No price data found  (1d 2017-02-24 -> 2024-07-10)\n"
     ]
    },
    {
     "name": "stderr",
     "output_type": "stream",
     "text": [
      "[*********************100%%**********************]  1 of 1 completed\n",
      "[*********************100%%**********************]  1 of 1 completed\n",
      "\n",
      "1 Failed download:\n",
      "['MODL11.SA']: YFTzMissingError('$%ticker%: possibly delisted; No timezone found')\n",
      "[*********************100%%**********************]  1 of 1 completed\n",
      "\n",
      "1 Failed download:\n",
      "['MODL4.SA']: YFTzMissingError('$%ticker%: possibly delisted; No timezone found')\n",
      "[*********************100%%**********************]  1 of 1 completed\n",
      "\n",
      "1 Failed download:\n",
      "['CRBM7.SA']: YFPricesMissingError('$%ticker%: possibly delisted; No price data found  (1d 2017-02-24 -> 2024-07-10)')\n"
     ]
    },
    {
     "name": "stdout",
     "output_type": "stream",
     "text": [
      "$CRBM7.SA: possibly delisted; No price data found  (1d 2017-02-24 -> 2024-07-10)\n"
     ]
    },
    {
     "name": "stderr",
     "output_type": "stream",
     "text": [
      "[*********************100%%**********************]  1 of 1 completed\n",
      "\n",
      "1 Failed download:\n",
      "['WMBY3.SA']: YFPricesMissingError('$%ticker%: possibly delisted; No price data found  (1d 2017-02-24 -> 2024-07-10)')\n"
     ]
    },
    {
     "name": "stdout",
     "output_type": "stream",
     "text": [
      "$WMBY3.SA: possibly delisted; No price data found  (1d 2017-02-24 -> 2024-07-10)\n"
     ]
    },
    {
     "name": "stderr",
     "output_type": "stream",
     "text": [
      "[*********************100%%**********************]  1 of 1 completed\n",
      "\n",
      "1 Failed download:\n",
      "['KROT11.SA']: YFPricesMissingError('$%ticker%: possibly delisted; No price data found  (1d 2017-02-24 -> 2024-07-10)')\n"
     ]
    },
    {
     "name": "stdout",
     "output_type": "stream",
     "text": [
      "$KROT11.SA: possibly delisted; No price data found  (1d 2017-02-24 -> 2024-07-10)\n"
     ]
    },
    {
     "name": "stderr",
     "output_type": "stream",
     "text": [
      "[*********************100%%**********************]  1 of 1 completed\n",
      "\n",
      "1 Failed download:\n",
      "['TDBH4.SA']: YFPricesMissingError('$%ticker%: possibly delisted; No price data found  (1d 2017-02-24 -> 2024-07-10)')\n"
     ]
    },
    {
     "name": "stdout",
     "output_type": "stream",
     "text": [
      "$TDBH4.SA: possibly delisted; No price data found  (1d 2017-02-24 -> 2024-07-10)\n"
     ]
    },
    {
     "name": "stderr",
     "output_type": "stream",
     "text": [
      "[*********************100%%**********************]  1 of 1 completed\n",
      "\n",
      "1 Failed download:\n",
      "['TANC4.SA']: YFPricesMissingError('$%ticker%: possibly delisted; No price data found  (1d 2017-02-24 -> 2024-07-10)')\n"
     ]
    },
    {
     "name": "stdout",
     "output_type": "stream",
     "text": [
      "$TANC4.SA: possibly delisted; No price data found  (1d 2017-02-24 -> 2024-07-10)\n"
     ]
    },
    {
     "name": "stderr",
     "output_type": "stream",
     "text": [
      "[*********************100%%**********************]  1 of 1 completed\n",
      "[*********************100%%**********************]  1 of 1 completed\n",
      "[*********************100%%**********************]  1 of 1 completed\n",
      "\n",
      "1 Failed download:\n",
      "['KROT4.SA']: YFTzMissingError('$%ticker%: possibly delisted; No timezone found')\n",
      "[*********************100%%**********************]  1 of 1 completed\n",
      "[*********************100%%**********************]  1 of 1 completed\n",
      "[*********************100%%**********************]  1 of 1 completed\n",
      "[*********************100%%**********************]  1 of 1 completed\n",
      "\n",
      "1 Failed download:\n",
      "['CCIM3.SA']: YFTzMissingError('$%ticker%: possibly delisted; No timezone found')\n",
      "[*********************100%%**********************]  1 of 1 completed\n",
      "[*********************100%%**********************]  1 of 1 completed\n",
      "[*********************100%%**********************]  1 of 1 completed\n",
      "\n",
      "1 Failed download:\n",
      "['TDBH3.SA']: YFPricesMissingError('$%ticker%: possibly delisted; No price data found  (1d 2017-02-24 -> 2024-07-10)')\n"
     ]
    },
    {
     "name": "stdout",
     "output_type": "stream",
     "text": [
      "$TDBH3.SA: possibly delisted; No price data found  (1d 2017-02-24 -> 2024-07-10)\n"
     ]
    },
    {
     "name": "stderr",
     "output_type": "stream",
     "text": [
      "[*********************100%%**********************]  1 of 1 completed\n",
      "[*********************100%%**********************]  1 of 1 completed\n",
      "\n",
      "1 Failed download:\n",
      "['GBIO33.SA']: YFTzMissingError('$%ticker%: possibly delisted; No timezone found')\n",
      "[*********************100%%**********************]  1 of 1 completed\n",
      "\n",
      "1 Failed download:\n",
      "['BIOM4.SA']: YFPricesMissingError('$%ticker%: possibly delisted; No price data found  (1d 2017-02-24 -> 2024-07-10)')\n"
     ]
    },
    {
     "name": "stdout",
     "output_type": "stream",
     "text": [
      "$BIOM4.SA: possibly delisted; No price data found  (1d 2017-02-24 -> 2024-07-10)\n"
     ]
    },
    {
     "name": "stderr",
     "output_type": "stream",
     "text": [
      "[*********************100%%**********************]  1 of 1 completed\n",
      "[*********************100%%**********************]  1 of 1 completed\n",
      "[*********************100%%**********************]  1 of 1 completed\n",
      "\n",
      "1 Failed download:\n",
      "['LECO4.SA']: YFPricesMissingError('$%ticker%: possibly delisted; No price data found  (1d 2017-02-24 -> 2024-07-10)')\n"
     ]
    },
    {
     "name": "stdout",
     "output_type": "stream",
     "text": [
      "$LECO4.SA: possibly delisted; No price data found  (1d 2017-02-24 -> 2024-07-10)\n"
     ]
    },
    {
     "name": "stderr",
     "output_type": "stream",
     "text": [
      "[*********************100%%**********************]  1 of 1 completed\n",
      "\n",
      "1 Failed download:\n",
      "['SEDU3.SA']: YFTzMissingError('$%ticker%: possibly delisted; No timezone found')\n",
      "[*********************100%%**********************]  1 of 1 completed\n",
      "\n",
      "1 Failed download:\n",
      "['TESA3.SA']: YFTzMissingError('$%ticker%: possibly delisted; No timezone found')\n",
      "[*********************100%%**********************]  1 of 1 completed\n",
      "\n",
      "1 Failed download:\n",
      "['PCAR4.SA']: YFTzMissingError('$%ticker%: possibly delisted; No timezone found')\n",
      "[*********************100%%**********************]  1 of 1 completed\n",
      "[*********************100%%**********************]  1 of 1 completed\n",
      "\n",
      "1 Failed download:\n",
      "['IGUA3.SA']: YFPricesMissingError('$%ticker%: possibly delisted; No price data found  (1d 2017-02-24 -> 2024-07-10)')\n"
     ]
    },
    {
     "name": "stdout",
     "output_type": "stream",
     "text": [
      "$IGUA3.SA: possibly delisted; No price data found  (1d 2017-02-24 -> 2024-07-10)\n"
     ]
    },
    {
     "name": "stderr",
     "output_type": "stream",
     "text": [
      "[*********************100%%**********************]  1 of 1 completed\n",
      "\n",
      "1 Failed download:\n",
      "['FGUI3.SA']: YFPricesMissingError('$%ticker%: possibly delisted; No price data found  (1d 2017-02-24 -> 2024-07-10)')\n"
     ]
    },
    {
     "name": "stdout",
     "output_type": "stream",
     "text": [
      "$FGUI3.SA: possibly delisted; No price data found  (1d 2017-02-24 -> 2024-07-10)\n"
     ]
    },
    {
     "name": "stderr",
     "output_type": "stream",
     "text": [
      "[*********************100%%**********************]  1 of 1 completed\n",
      "\n",
      "1 Failed download:\n",
      "['IGUA6.SA']: YFPricesMissingError('$%ticker%: possibly delisted; No price data found  (1d 2017-02-24 -> 2024-07-10)')\n"
     ]
    },
    {
     "name": "stdout",
     "output_type": "stream",
     "text": [
      "$IGUA6.SA: possibly delisted; No price data found  (1d 2017-02-24 -> 2024-07-10)\n"
     ]
    },
    {
     "name": "stderr",
     "output_type": "stream",
     "text": [
      "[*********************100%%**********************]  1 of 1 completed\n",
      "\n",
      "1 Failed download:\n",
      "['PCAR5.SA']: YFTzMissingError('$%ticker%: possibly delisted; No timezone found')\n",
      "[*********************100%%**********************]  1 of 1 completed\n",
      "\n",
      "1 Failed download:\n",
      "['IGUA5.SA']: YFPricesMissingError('$%ticker%: possibly delisted; No price data found  (1d 2017-02-24 -> 2024-07-10)')\n"
     ]
    },
    {
     "name": "stdout",
     "output_type": "stream",
     "text": [
      "$IGUA5.SA: possibly delisted; No price data found  (1d 2017-02-24 -> 2024-07-10)\n"
     ]
    },
    {
     "name": "stderr",
     "output_type": "stream",
     "text": [
      "[*********************100%%**********************]  1 of 1 completed\n",
      "[*********************100%%**********************]  1 of 1 completed\n",
      "[*********************100%%**********************]  1 of 1 completed\n",
      "[*********************100%%**********************]  1 of 1 completed\n",
      "\n",
      "1 Failed download:\n",
      "['CPNY3.SA']: YFTzMissingError('$%ticker%: possibly delisted; No timezone found')\n",
      "[*********************100%%**********************]  1 of 1 completed\n",
      "\n",
      "1 Failed download:\n",
      "['LIGH3.SA']: YFPricesMissingError('$%ticker%: possibly delisted; No price data found  (1d 2017-02-24 -> 2024-07-10)')\n"
     ]
    },
    {
     "name": "stdout",
     "output_type": "stream",
     "text": [
      "$LIGH3.SA: possibly delisted; No price data found  (1d 2017-02-24 -> 2024-07-10)\n"
     ]
    },
    {
     "name": "stderr",
     "output_type": "stream",
     "text": [
      "[*********************100%%**********************]  1 of 1 completed\n",
      "[*********************100%%**********************]  1 of 1 completed\n",
      "[*********************100%%**********************]  1 of 1 completed\n",
      "[*********************100%%**********************]  1 of 1 completed\n",
      "\n",
      "1 Failed download:\n",
      "['PTBL4.SA']: YFPricesMissingError('$%ticker%: possibly delisted; No price data found  (1d 2017-02-24 -> 2024-07-10)')\n"
     ]
    },
    {
     "name": "stdout",
     "output_type": "stream",
     "text": [
      "$PTBL4.SA: possibly delisted; No price data found  (1d 2017-02-24 -> 2024-07-10)\n"
     ]
    },
    {
     "name": "stderr",
     "output_type": "stream",
     "text": [
      "[*********************100%%**********************]  1 of 1 completed\n",
      "[*********************100%%**********************]  1 of 1 completed\n",
      "[*********************100%%**********************]  1 of 1 completed\n",
      "[*********************100%%**********************]  1 of 1 completed\n",
      "[*********************100%%**********************]  1 of 1 completed\n",
      "[*********************100%%**********************]  1 of 1 completed\n",
      "[*********************100%%**********************]  1 of 1 completed\n",
      "[*********************100%%**********************]  1 of 1 completed\n",
      "\n",
      "1 Failed download:\n",
      "['SEMP3.SA']: YFPricesMissingError('$%ticker%: possibly delisted; No price data found  (1d 2017-02-24 -> 2024-07-10)')\n"
     ]
    },
    {
     "name": "stdout",
     "output_type": "stream",
     "text": [
      "$SEMP3.SA: possibly delisted; No price data found  (1d 2017-02-24 -> 2024-07-10)\n"
     ]
    },
    {
     "name": "stderr",
     "output_type": "stream",
     "text": [
      "[*********************100%%**********************]  1 of 1 completed\n",
      "\n",
      "1 Failed download:\n",
      "['SZPQ4.SA']: YFPricesMissingError('$%ticker%: possibly delisted; No price data found  (1d 2017-02-24 -> 2024-07-10)')\n"
     ]
    },
    {
     "name": "stdout",
     "output_type": "stream",
     "text": [
      "$SZPQ4.SA: possibly delisted; No price data found  (1d 2017-02-24 -> 2024-07-10)\n"
     ]
    },
    {
     "name": "stderr",
     "output_type": "stream",
     "text": [
      "[*********************100%%**********************]  1 of 1 completed\n",
      "\n",
      "1 Failed download:\n",
      "['MEDI3.SA']: YFTzMissingError('$%ticker%: possibly delisted; No timezone found')\n",
      "[*********************100%%**********************]  1 of 1 completed\n",
      "[*********************100%%**********************]  1 of 1 completed\n",
      "\n",
      "1 Failed download:\n",
      "['TCNO3.SA']: YFTzMissingError('$%ticker%: possibly delisted; No timezone found')\n",
      "[*********************100%%**********************]  1 of 1 completed\n",
      "\n",
      "1 Failed download:\n",
      "['BAHI11.SA']: YFPricesMissingError('$%ticker%: possibly delisted; No price data found  (1d 2017-02-24 -> 2024-07-10)')\n"
     ]
    },
    {
     "name": "stdout",
     "output_type": "stream",
     "text": [
      "$BAHI11.SA: possibly delisted; No price data found  (1d 2017-02-24 -> 2024-07-10)\n"
     ]
    },
    {
     "name": "stderr",
     "output_type": "stream",
     "text": [
      "[*********************100%%**********************]  1 of 1 completed\n",
      "[*********************100%%**********************]  1 of 1 completed\n",
      "[*********************100%%**********************]  1 of 1 completed\n",
      "[*********************100%%**********************]  1 of 1 completed\n",
      "[*********************100%%**********************]  1 of 1 completed\n",
      "[*********************100%%**********************]  1 of 1 completed\n",
      "\n",
      "1 Failed download:\n",
      "['BLUT3.SA']: YFTzMissingError('$%ticker%: possibly delisted; No timezone found')\n",
      "[*********************100%%**********************]  1 of 1 completed\n",
      "[*********************100%%**********************]  1 of 1 completed\n",
      "[*********************100%%**********************]  1 of 1 completed\n",
      "\n",
      "1 Failed download:\n",
      "['TLCP3.SA']: YFPricesMissingError('$%ticker%: possibly delisted; No price data found  (1d 2017-02-24 -> 2024-07-10)')\n"
     ]
    },
    {
     "name": "stdout",
     "output_type": "stream",
     "text": [
      "$TLCP3.SA: possibly delisted; No price data found  (1d 2017-02-24 -> 2024-07-10)\n"
     ]
    },
    {
     "name": "stderr",
     "output_type": "stream",
     "text": [
      "[*********************100%%**********************]  1 of 1 completed\n",
      "[*********************100%%**********************]  1 of 1 completed\n",
      "[*********************100%%**********************]  1 of 1 completed\n",
      "\n",
      "1 Failed download:\n",
      "['CGOS3.SA']: YFPricesMissingError('$%ticker%: possibly delisted; No price data found  (1d 2017-02-24 -> 2024-07-10)')\n"
     ]
    },
    {
     "name": "stdout",
     "output_type": "stream",
     "text": [
      "$CGOS3.SA: possibly delisted; No price data found  (1d 2017-02-24 -> 2024-07-10)\n"
     ]
    },
    {
     "name": "stderr",
     "output_type": "stream",
     "text": [
      "[*********************100%%**********************]  1 of 1 completed\n",
      "\n",
      "1 Failed download:\n",
      "['TCNO4.SA']: YFTzMissingError('$%ticker%: possibly delisted; No timezone found')\n",
      "[*********************100%%**********************]  1 of 1 completed\n",
      "[*********************100%%**********************]  1 of 1 completed\n",
      "[*********************100%%**********************]  1 of 1 completed\n",
      "[*********************100%%**********************]  1 of 1 completed\n",
      "[*********************100%%**********************]  1 of 1 completed\n",
      "[*********************100%%**********************]  1 of 1 completed\n",
      "[*********************100%%**********************]  1 of 1 completed\n",
      "\n",
      "1 Failed download:\n",
      "['BUET4.SA']: YFPricesMissingError('$%ticker%: possibly delisted; No price data found  (1d 2017-02-24 -> 2024-07-10)')\n"
     ]
    },
    {
     "name": "stdout",
     "output_type": "stream",
     "text": [
      "$BUET4.SA: possibly delisted; No price data found  (1d 2017-02-24 -> 2024-07-10)\n"
     ]
    },
    {
     "name": "stderr",
     "output_type": "stream",
     "text": [
      "[*********************100%%**********************]  1 of 1 completed\n",
      "[*********************100%%**********************]  1 of 1 completed\n",
      "\n",
      "1 Failed download:\n",
      "['PMET5.SA']: YFTzMissingError('$%ticker%: possibly delisted; No timezone found')\n",
      "[*********************100%%**********************]  1 of 1 completed\n",
      "[*********************100%%**********************]  1 of 1 completed\n",
      "[*********************100%%**********************]  1 of 1 completed\n",
      "[*********************100%%**********************]  1 of 1 completed\n",
      "[*********************100%%**********************]  1 of 1 completed\n",
      "[*********************100%%**********************]  1 of 1 completed\n",
      "\n",
      "1 Failed download:\n",
      "['TLCP4.SA']: YFPricesMissingError('$%ticker%: possibly delisted; No price data found  (1d 2017-02-24 -> 2024-07-10)')\n"
     ]
    },
    {
     "name": "stdout",
     "output_type": "stream",
     "text": [
      "$TLCP4.SA: possibly delisted; No price data found  (1d 2017-02-24 -> 2024-07-10)\n"
     ]
    },
    {
     "name": "stderr",
     "output_type": "stream",
     "text": [
      "[*********************100%%**********************]  1 of 1 completed\n",
      "[*********************100%%**********************]  1 of 1 completed\n",
      "\n",
      "1 Failed download:\n",
      "['BECE3.SA']: YFPricesMissingError('$%ticker%: possibly delisted; No price data found  (1d 2017-02-24 -> 2024-07-10)')\n"
     ]
    },
    {
     "name": "stdout",
     "output_type": "stream",
     "text": [
      "$BECE3.SA: possibly delisted; No price data found  (1d 2017-02-24 -> 2024-07-10)\n"
     ]
    },
    {
     "name": "stderr",
     "output_type": "stream",
     "text": [
      "[*********************100%%**********************]  1 of 1 completed\n",
      "[*********************100%%**********************]  1 of 1 completed\n",
      "\n",
      "1 Failed download:\n",
      "['BECE4.SA']: YFPricesMissingError('$%ticker%: possibly delisted; No price data found  (1d 2017-02-24 -> 2024-07-10)')\n"
     ]
    },
    {
     "name": "stdout",
     "output_type": "stream",
     "text": [
      "$BECE4.SA: possibly delisted; No price data found  (1d 2017-02-24 -> 2024-07-10)\n"
     ]
    },
    {
     "name": "stderr",
     "output_type": "stream",
     "text": [
      "[*********************100%%**********************]  1 of 1 completed\n",
      "[*********************100%%**********************]  1 of 1 completed\n",
      "[*********************100%%**********************]  1 of 1 completed\n",
      "[*********************100%%**********************]  1 of 1 completed\n",
      "[*********************100%%**********************]  1 of 1 completed\n",
      "[*********************100%%**********************]  1 of 1 completed\n",
      "[*********************100%%**********************]  1 of 1 completed\n",
      "[*********************100%%**********************]  1 of 1 completed\n",
      "\n",
      "1 Failed download:\n",
      "['PNOR5.SA']: YFPricesMissingError('$%ticker%: possibly delisted; No price data found  (1d 2017-02-24 -> 2024-07-10)')\n"
     ]
    },
    {
     "name": "stdout",
     "output_type": "stream",
     "text": [
      "$PNOR5.SA: possibly delisted; No price data found  (1d 2017-02-24 -> 2024-07-10)\n"
     ]
    },
    {
     "name": "stderr",
     "output_type": "stream",
     "text": [
      "[*********************100%%**********************]  1 of 1 completed\n",
      "\n",
      "1 Failed download:\n",
      "['PNOR6.SA']: YFPricesMissingError('$%ticker%: possibly delisted; No price data found  (1d 2017-02-24 -> 2024-07-10)')\n"
     ]
    },
    {
     "name": "stdout",
     "output_type": "stream",
     "text": [
      "$PNOR6.SA: possibly delisted; No price data found  (1d 2017-02-24 -> 2024-07-10)\n"
     ]
    },
    {
     "name": "stderr",
     "output_type": "stream",
     "text": [
      "[*********************100%%**********************]  1 of 1 completed\n",
      "\n",
      "1 Failed download:\n",
      "['STRP4.SA']: YFPricesMissingError('$%ticker%: possibly delisted; No price data found  (1d 2017-02-24 -> 2024-07-10)')\n"
     ]
    },
    {
     "name": "stdout",
     "output_type": "stream",
     "text": [
      "$STRP4.SA: possibly delisted; No price data found  (1d 2017-02-24 -> 2024-07-10)\n"
     ]
    },
    {
     "name": "stderr",
     "output_type": "stream",
     "text": [
      "[*********************100%%**********************]  1 of 1 completed\n",
      "\n",
      "1 Failed download:\n",
      "['LIXC3.SA']: YFPricesMissingError('$%ticker%: possibly delisted; No price data found  (1d 2017-02-24 -> 2024-07-10)')\n"
     ]
    },
    {
     "name": "stdout",
     "output_type": "stream",
     "text": [
      "$LIXC3.SA: possibly delisted; No price data found  (1d 2017-02-24 -> 2024-07-10)\n"
     ]
    },
    {
     "name": "stderr",
     "output_type": "stream",
     "text": [
      "[*********************100%%**********************]  1 of 1 completed\n",
      "\n",
      "1 Failed download:\n",
      "['BICB4.SA']: YFPricesMissingError('$%ticker%: possibly delisted; No price data found  (1d 2017-02-24 -> 2024-07-10)')\n"
     ]
    },
    {
     "name": "stdout",
     "output_type": "stream",
     "text": [
      "$BICB4.SA: possibly delisted; No price data found  (1d 2017-02-24 -> 2024-07-10)\n"
     ]
    },
    {
     "name": "stderr",
     "output_type": "stream",
     "text": [
      "[*********************100%%**********************]  1 of 1 completed\n",
      "[*********************100%%**********************]  1 of 1 completed\n",
      "[*********************100%%**********************]  1 of 1 completed\n",
      "\n",
      "1 Failed download:\n",
      "['BICB3.SA']: YFPricesMissingError('$%ticker%: possibly delisted; No price data found  (1d 2017-02-24 -> 2024-07-10)')\n"
     ]
    },
    {
     "name": "stdout",
     "output_type": "stream",
     "text": [
      "$BICB3.SA: possibly delisted; No price data found  (1d 2017-02-24 -> 2024-07-10)\n"
     ]
    },
    {
     "name": "stderr",
     "output_type": "stream",
     "text": [
      "[*********************100%%**********************]  1 of 1 completed\n",
      "[*********************100%%**********************]  1 of 1 completed\n",
      "[*********************100%%**********************]  1 of 1 completed\n",
      "\n",
      "1 Failed download:\n",
      "['EPAR4.SA']: YFTzMissingError('$%ticker%: possibly delisted; No timezone found')\n",
      "[*********************100%%**********************]  1 of 1 completed\n",
      "\n",
      "1 Failed download:\n",
      "['ARLA4.SA']: YFPricesMissingError('$%ticker%: possibly delisted; No price data found  (1d 2017-02-24 -> 2024-07-10)')\n"
     ]
    },
    {
     "name": "stdout",
     "output_type": "stream",
     "text": [
      "$ARLA4.SA: possibly delisted; No price data found  (1d 2017-02-24 -> 2024-07-10)\n"
     ]
    },
    {
     "name": "stderr",
     "output_type": "stream",
     "text": [
      "[*********************100%%**********************]  1 of 1 completed\n",
      "[*********************100%%**********************]  1 of 1 completed\n",
      "\n",
      "1 Failed download:\n",
      "['LIXC4.SA']: YFPricesMissingError('$%ticker%: possibly delisted; No price data found  (1d 2017-02-24 -> 2024-07-10)')\n"
     ]
    },
    {
     "name": "stdout",
     "output_type": "stream",
     "text": [
      "$LIXC4.SA: possibly delisted; No price data found  (1d 2017-02-24 -> 2024-07-10)\n"
     ]
    },
    {
     "name": "stderr",
     "output_type": "stream",
     "text": [
      "[*********************100%%**********************]  1 of 1 completed\n",
      "\n",
      "1 Failed download:\n",
      "['MMXM3.SA']: YFTzMissingError('$%ticker%: possibly delisted; No timezone found')\n",
      "[*********************100%%**********************]  1 of 1 completed\n",
      "[*********************100%%**********************]  1 of 1 completed\n",
      "[*********************100%%**********************]  1 of 1 completed\n",
      "\n",
      "1 Failed download:\n",
      "['VTLM3.SA']: YFPricesMissingError('$%ticker%: possibly delisted; No price data found  (1d 2017-02-24 -> 2024-07-10)')\n"
     ]
    },
    {
     "name": "stdout",
     "output_type": "stream",
     "text": [
      "$VTLM3.SA: possibly delisted; No price data found  (1d 2017-02-24 -> 2024-07-10)\n"
     ]
    },
    {
     "name": "stderr",
     "output_type": "stream",
     "text": [
      "[*********************100%%**********************]  1 of 1 completed\n",
      "[*********************100%%**********************]  1 of 1 completed\n",
      "\n",
      "1 Failed download:\n",
      "['ARCZ3.SA']: YFPricesMissingError('$%ticker%: possibly delisted; No price data found  (1d 2017-02-24 -> 2024-07-10)')\n"
     ]
    },
    {
     "name": "stdout",
     "output_type": "stream",
     "text": [
      "$ARCZ3.SA: possibly delisted; No price data found  (1d 2017-02-24 -> 2024-07-10)\n"
     ]
    },
    {
     "name": "stderr",
     "output_type": "stream",
     "text": [
      "[*********************100%%**********************]  1 of 1 completed\n",
      "[*********************100%%**********************]  1 of 1 completed\n",
      "\n",
      "1 Failed download:\n",
      "['ARCZ6.SA']: YFPricesMissingError('$%ticker%: possibly delisted; No price data found  (1d 2017-02-24 -> 2024-07-10)')\n"
     ]
    },
    {
     "name": "stdout",
     "output_type": "stream",
     "text": [
      "$ARCZ6.SA: possibly delisted; No price data found  (1d 2017-02-24 -> 2024-07-10)\n"
     ]
    },
    {
     "name": "stderr",
     "output_type": "stream",
     "text": [
      "[*********************100%%**********************]  1 of 1 completed\n",
      "[*********************100%%**********************]  1 of 1 completed\n",
      "\n",
      "1 Failed download:\n",
      "['BISA3.SA']: YFPricesMissingError('$%ticker%: possibly delisted; No price data found  (1d 2017-02-24 -> 2024-07-10)')\n"
     ]
    },
    {
     "name": "stdout",
     "output_type": "stream",
     "text": [
      "$BISA3.SA: possibly delisted; No price data found  (1d 2017-02-24 -> 2024-07-10)\n"
     ]
    },
    {
     "name": "stderr",
     "output_type": "stream",
     "text": [
      "[*********************100%%**********************]  1 of 1 completed\n",
      "\n",
      "1 Failed download:\n",
      "['BCAL6.SA']: YFPricesMissingError('$%ticker%: possibly delisted; No price data found  (1d 2017-02-24 -> 2024-07-10)')\n"
     ]
    },
    {
     "name": "stdout",
     "output_type": "stream",
     "text": [
      "$BCAL6.SA: possibly delisted; No price data found  (1d 2017-02-24 -> 2024-07-10)\n"
     ]
    },
    {
     "name": "stderr",
     "output_type": "stream",
     "text": [
      "[*********************100%%**********************]  1 of 1 completed\n",
      "\n",
      "1 Failed download:\n",
      "['DJON4.SA']: YFPricesMissingError('$%ticker%: possibly delisted; No price data found  (1d 2017-02-24 -> 2024-07-10)')\n"
     ]
    },
    {
     "name": "stdout",
     "output_type": "stream",
     "text": [
      "$DJON4.SA: possibly delisted; No price data found  (1d 2017-02-24 -> 2024-07-10)\n"
     ]
    },
    {
     "name": "stderr",
     "output_type": "stream",
     "text": [
      "[*********************100%%**********************]  1 of 1 completed\n",
      "\n",
      "1 Failed download:\n",
      "['SPRI6.SA']: YFTzMissingError('$%ticker%: possibly delisted; No timezone found')\n",
      "[*********************100%%**********************]  1 of 1 completed\n",
      "\n",
      "1 Failed download:\n",
      "['BLUT4.SA']: YFTzMissingError('$%ticker%: possibly delisted; No timezone found')\n",
      "[*********************100%%**********************]  1 of 1 completed\n",
      "\n",
      "1 Failed download:\n",
      "['ARLA3.SA']: YFPricesMissingError('$%ticker%: possibly delisted; No price data found  (1d 2017-02-24 -> 2024-07-10)')\n"
     ]
    },
    {
     "name": "stdout",
     "output_type": "stream",
     "text": [
      "$ARLA3.SA: possibly delisted; No price data found  (1d 2017-02-24 -> 2024-07-10)\n"
     ]
    },
    {
     "name": "stderr",
     "output_type": "stream",
     "text": [
      "[*********************100%%**********************]  1 of 1 completed\n",
      "\n",
      "1 Failed download:\n",
      "['SPRI3.SA']: YFTzMissingError('$%ticker%: possibly delisted; No timezone found')\n",
      "[*********************100%%**********************]  1 of 1 completed\n",
      "\n",
      "1 Failed download:\n",
      "['SDIA4.SA']: YFPricesMissingError('$%ticker%: possibly delisted; No price data found  (1d 2017-02-24 -> 2024-07-10)')\n"
     ]
    },
    {
     "name": "stdout",
     "output_type": "stream",
     "text": [
      "$SDIA4.SA: possibly delisted; No price data found  (1d 2017-02-24 -> 2024-07-10)\n"
     ]
    },
    {
     "name": "stderr",
     "output_type": "stream",
     "text": [
      "[*********************100%%**********************]  1 of 1 completed\n",
      "\n",
      "1 Failed download:\n",
      "['SDIA3.SA']: YFPricesMissingError('$%ticker%: possibly delisted; No price data found  (1d 2017-02-24 -> 2024-07-10)')\n"
     ]
    },
    {
     "name": "stdout",
     "output_type": "stream",
     "text": [
      "$SDIA3.SA: possibly delisted; No price data found  (1d 2017-02-24 -> 2024-07-10)\n"
     ]
    },
    {
     "name": "stderr",
     "output_type": "stream",
     "text": [
      "[*********************100%%**********************]  1 of 1 completed\n",
      "\n",
      "1 Failed download:\n",
      "['DUQE3.SA']: YFPricesMissingError('$%ticker%: possibly delisted; No price data found  (1d 2017-02-24 -> 2024-07-10)')\n"
     ]
    },
    {
     "name": "stdout",
     "output_type": "stream",
     "text": [
      "$DUQE3.SA: possibly delisted; No price data found  (1d 2017-02-24 -> 2024-07-10)\n"
     ]
    },
    {
     "name": "stderr",
     "output_type": "stream",
     "text": [
      "[*********************100%%**********************]  1 of 1 completed\n",
      "[*********************100%%**********************]  1 of 1 completed\n",
      "[*********************100%%**********************]  1 of 1 completed\n",
      "\n",
      "1 Failed download:\n",
      "['SPRI5.SA']: YFTzMissingError('$%ticker%: possibly delisted; No timezone found')\n",
      "[*********************100%%**********************]  1 of 1 completed\n",
      "[*********************100%%**********************]  1 of 1 completed\n",
      "\n",
      "1 Failed download:\n",
      "['IDVL4.SA']: YFTzMissingError('$%ticker%: possibly delisted; No timezone found')\n",
      "[*********************100%%**********************]  1 of 1 completed\n",
      "\n",
      "1 Failed download:\n",
      "['PMET6.SA']: YFTzMissingError('$%ticker%: possibly delisted; No timezone found')\n",
      "[*********************100%%**********************]  1 of 1 completed\n",
      "[*********************100%%**********************]  1 of 1 completed\n",
      "\n",
      "1 Failed download:\n",
      "['GLOB4.SA']: YFPricesMissingError('$%ticker%: possibly delisted; No price data found  (1d 2017-02-24 -> 2024-07-10)')\n"
     ]
    },
    {
     "name": "stdout",
     "output_type": "stream",
     "text": [
      "$GLOB4.SA: possibly delisted; No price data found  (1d 2017-02-24 -> 2024-07-10)\n"
     ]
    },
    {
     "name": "stderr",
     "output_type": "stream",
     "text": [
      "[*********************100%%**********************]  1 of 1 completed\n",
      "\n",
      "1 Failed download:\n",
      "['LGLO4.SA']: YFPricesMissingError('$%ticker%: possibly delisted; No price data found  (1d 2017-02-24 -> 2024-07-10)')\n"
     ]
    },
    {
     "name": "stdout",
     "output_type": "stream",
     "text": [
      "$LGLO4.SA: possibly delisted; No price data found  (1d 2017-02-24 -> 2024-07-10)\n"
     ]
    },
    {
     "name": "stderr",
     "output_type": "stream",
     "text": [
      "[*********************100%%**********************]  1 of 1 completed\n",
      "\n",
      "1 Failed download:\n",
      "['IDVL3.SA']: YFTzMissingError('$%ticker%: possibly delisted; No timezone found')\n",
      "[*********************100%%**********************]  1 of 1 completed\n",
      "[*********************100%%**********************]  1 of 1 completed\n",
      "[*********************100%%**********************]  1 of 1 completed\n",
      "[*********************100%%**********************]  1 of 1 completed\n",
      "\n",
      "1 Failed download:\n",
      "['LETO5.SA']: YFPricesMissingError('$%ticker%: possibly delisted; No price data found  (1d 2017-02-24 -> 2024-07-10)')\n"
     ]
    },
    {
     "name": "stdout",
     "output_type": "stream",
     "text": [
      "$LETO5.SA: possibly delisted; No price data found  (1d 2017-02-24 -> 2024-07-10)\n"
     ]
    },
    {
     "name": "stderr",
     "output_type": "stream",
     "text": [
      "[*********************100%%**********************]  1 of 1 completed\n",
      "\n",
      "1 Failed download:\n",
      "['IENG3.SA']: YFPricesMissingError('$%ticker%: possibly delisted; No price data found  (1d 2017-02-24 -> 2024-07-10)')\n"
     ]
    },
    {
     "name": "stdout",
     "output_type": "stream",
     "text": [
      "$IENG3.SA: possibly delisted; No price data found  (1d 2017-02-24 -> 2024-07-10)\n"
     ]
    },
    {
     "name": "stderr",
     "output_type": "stream",
     "text": [
      "[*********************100%%**********************]  1 of 1 completed\n",
      "[*********************100%%**********************]  1 of 1 completed\n",
      "[*********************100%%**********************]  1 of 1 completed\n",
      "[*********************100%%**********************]  1 of 1 completed\n",
      "[*********************100%%**********************]  1 of 1 completed\n",
      "[*********************100%%**********************]  1 of 1 completed\n",
      "[*********************100%%**********************]  1 of 1 completed\n",
      "\n",
      "1 Failed download:\n",
      "['LATM11.SA']: YFPricesMissingError('$%ticker%: possibly delisted; No price data found  (1d 2017-02-24 -> 2024-07-10)')\n"
     ]
    },
    {
     "name": "stdout",
     "output_type": "stream",
     "text": [
      "$LATM11.SA: possibly delisted; No price data found  (1d 2017-02-24 -> 2024-07-10)\n"
     ]
    },
    {
     "name": "stderr",
     "output_type": "stream",
     "text": [
      "[*********************100%%**********************]  1 of 1 completed\n",
      "\n",
      "1 Failed download:\n",
      "['CELM3.SA']: YFPricesMissingError('$%ticker%: possibly delisted; No price data found  (1d 2017-02-24 -> 2024-07-10)')\n"
     ]
    },
    {
     "name": "stdout",
     "output_type": "stream",
     "text": [
      "$CELM3.SA: possibly delisted; No price data found  (1d 2017-02-24 -> 2024-07-10)\n"
     ]
    },
    {
     "name": "stderr",
     "output_type": "stream",
     "text": [
      "[*********************100%%**********************]  1 of 1 completed\n",
      "\n",
      "1 Failed download:\n",
      "['IENG5.SA']: YFPricesMissingError('$%ticker%: possibly delisted; No price data found  (1d 2017-02-24 -> 2024-07-10)')\n"
     ]
    },
    {
     "name": "stdout",
     "output_type": "stream",
     "text": [
      "$IENG5.SA: possibly delisted; No price data found  (1d 2017-02-24 -> 2024-07-10)\n"
     ]
    },
    {
     "name": "stderr",
     "output_type": "stream",
     "text": [
      "[*********************100%%**********************]  1 of 1 completed\n",
      "[*********************100%%**********************]  1 of 1 completed\n",
      "[*********************100%%**********************]  1 of 1 completed\n",
      "[*********************100%%**********************]  1 of 1 completed\n",
      "\n",
      "1 Failed download:\n",
      "['CTSA8.SA']: YFPricesMissingError('$%ticker%: possibly delisted; No price data found  (1d 2017-02-24 -> 2024-07-10)')\n"
     ]
    },
    {
     "name": "stdout",
     "output_type": "stream",
     "text": [
      "$CTSA8.SA: possibly delisted; No price data found  (1d 2017-02-24 -> 2024-07-10)\n"
     ]
    },
    {
     "name": "stderr",
     "output_type": "stream",
     "text": [
      "[*********************100%%**********************]  1 of 1 completed\n",
      "[*********************100%%**********************]  1 of 1 completed\n",
      "[*********************100%%**********************]  1 of 1 completed\n",
      "\n",
      "1 Failed download:\n",
      "['FRTA3.SA']: YFTzMissingError('$%ticker%: possibly delisted; No timezone found')\n",
      "[*********************100%%**********************]  1 of 1 completed\n",
      "\n",
      "1 Failed download:\n",
      "['MNDL4.SA']: YFPricesMissingError('$%ticker%: possibly delisted; No price data found  (1d 2017-02-24 -> 2024-07-10)')\n"
     ]
    },
    {
     "name": "stdout",
     "output_type": "stream",
     "text": [
      "$MNDL4.SA: possibly delisted; No price data found  (1d 2017-02-24 -> 2024-07-10)\n"
     ]
    },
    {
     "name": "stderr",
     "output_type": "stream",
     "text": [
      "[*********************100%%**********************]  1 of 1 completed\n",
      "\n",
      "1 Failed download:\n",
      "['REEM4.SA']: YFPricesMissingError('$%ticker%: possibly delisted; No price data found  (1d 2017-02-24 -> 2024-07-10)')\n"
     ]
    },
    {
     "name": "stdout",
     "output_type": "stream",
     "text": [
      "$REEM4.SA: possibly delisted; No price data found  (1d 2017-02-24 -> 2024-07-10)\n"
     ]
    },
    {
     "name": "stderr",
     "output_type": "stream",
     "text": [
      "[*********************100%%**********************]  1 of 1 completed\n",
      "\n",
      "1 Failed download:\n",
      "['CCXC3.SA']: YFTzMissingError('$%ticker%: possibly delisted; No timezone found')\n",
      "[*********************100%%**********************]  1 of 1 completed\n",
      "[*********************100%%**********************]  1 of 1 completed\n",
      "\n",
      "1 Failed download:\n",
      "['DOCA3.SA']: YFPricesMissingError('$%ticker%: possibly delisted; No price data found  (1d 2017-02-24 -> 2024-07-10)')\n"
     ]
    },
    {
     "name": "stdout",
     "output_type": "stream",
     "text": [
      "$DOCA3.SA: possibly delisted; No price data found  (1d 2017-02-24 -> 2024-07-10)\n"
     ]
    },
    {
     "name": "stderr",
     "output_type": "stream",
     "text": [
      "[*********************100%%**********************]  1 of 1 completed\n",
      "\n",
      "1 Failed download:\n",
      "['FGUI4.SA']: YFPricesMissingError('$%ticker%: possibly delisted; No price data found  (1d 2017-02-24 -> 2024-07-10)')\n"
     ]
    },
    {
     "name": "stdout",
     "output_type": "stream",
     "text": [
      "$FGUI4.SA: possibly delisted; No price data found  (1d 2017-02-24 -> 2024-07-10)\n"
     ]
    },
    {
     "name": "stderr",
     "output_type": "stream",
     "text": [
      "[*********************100%%**********************]  1 of 1 completed\n",
      "\n",
      "1 Failed download:\n",
      "['WISA4.SA']: YFPricesMissingError('$%ticker%: possibly delisted; No price data found  (1d 2017-02-24 -> 2024-07-10)')\n"
     ]
    },
    {
     "name": "stdout",
     "output_type": "stream",
     "text": [
      "$WISA4.SA: possibly delisted; No price data found  (1d 2017-02-24 -> 2024-07-10)\n"
     ]
    },
    {
     "name": "stderr",
     "output_type": "stream",
     "text": [
      "[*********************100%%**********************]  1 of 1 completed\n",
      "[*********************100%%**********************]  1 of 1 completed\n",
      "\n",
      "1 Failed download:\n",
      "['LETO3.SA']: YFPricesMissingError('$%ticker%: possibly delisted; No price data found  (1d 2017-02-24 -> 2024-07-10)')\n"
     ]
    },
    {
     "name": "stdout",
     "output_type": "stream",
     "text": [
      "$LETO3.SA: possibly delisted; No price data found  (1d 2017-02-24 -> 2024-07-10)\n"
     ]
    },
    {
     "name": "stderr",
     "output_type": "stream",
     "text": [
      "[*********************100%%**********************]  1 of 1 completed\n",
      "\n",
      "1 Failed download:\n",
      "['WISA3.SA']: YFPricesMissingError('$%ticker%: possibly delisted; No price data found  (1d 2017-02-24 -> 2024-07-10)')\n"
     ]
    },
    {
     "name": "stdout",
     "output_type": "stream",
     "text": [
      "$WISA3.SA: possibly delisted; No price data found  (1d 2017-02-24 -> 2024-07-10)\n"
     ]
    },
    {
     "name": "stderr",
     "output_type": "stream",
     "text": [
      "[*********************100%%**********************]  1 of 1 completed\n",
      "[*********************100%%**********************]  1 of 1 completed\n",
      "\n",
      "1 Failed download:\n",
      "['PMAM4.SA']: YFPricesMissingError('$%ticker%: possibly delisted; No price data found  (1d 2017-02-24 -> 2024-07-10)')\n"
     ]
    },
    {
     "name": "stdout",
     "output_type": "stream",
     "text": [
      "$PMAM4.SA: possibly delisted; No price data found  (1d 2017-02-24 -> 2024-07-10)\n"
     ]
    },
    {
     "name": "stderr",
     "output_type": "stream",
     "text": [
      "[*********************100%%**********************]  1 of 1 completed\n",
      "[*********************100%%**********************]  1 of 1 completed\n",
      "[*********************100%%**********************]  1 of 1 completed\n",
      "[*********************100%%**********************]  1 of 1 completed\n",
      "\n",
      "1 Failed download:\n",
      "['DOCA4.SA']: YFPricesMissingError('$%ticker%: possibly delisted; No price data found  (1d 2017-02-24 -> 2024-07-10)')\n"
     ]
    },
    {
     "name": "stdout",
     "output_type": "stream",
     "text": [
      "$DOCA4.SA: possibly delisted; No price data found  (1d 2017-02-24 -> 2024-07-10)\n"
     ]
    },
    {
     "name": "stderr",
     "output_type": "stream",
     "text": [
      "[*********************100%%**********************]  1 of 1 completed\n",
      "[*********************100%%**********************]  1 of 1 completed\n",
      "[*********************100%%**********************]  1 of 1 completed\n",
      "\n",
      "1 Failed download:\n",
      "['DUQE4.SA']: YFPricesMissingError('$%ticker%: possibly delisted; No price data found  (1d 2017-02-24 -> 2024-07-10)')\n"
     ]
    },
    {
     "name": "stdout",
     "output_type": "stream",
     "text": [
      "$DUQE4.SA: possibly delisted; No price data found  (1d 2017-02-24 -> 2024-07-10)\n"
     ]
    },
    {
     "name": "stderr",
     "output_type": "stream",
     "text": [
      "[*********************100%%**********************]  1 of 1 completed\n",
      "\n",
      "1 Failed download:\n",
      "['FTRX3.SA']: YFPricesMissingError('$%ticker%: possibly delisted; No price data found  (1d 2017-02-24 -> 2024-07-10)')\n"
     ]
    },
    {
     "name": "stdout",
     "output_type": "stream",
     "text": [
      "$FTRX3.SA: possibly delisted; No price data found  (1d 2017-02-24 -> 2024-07-10)\n"
     ]
    },
    {
     "name": "stderr",
     "output_type": "stream",
     "text": [
      "[*********************100%%**********************]  1 of 1 completed\n",
      "[*********************100%%**********************]  1 of 1 completed\n",
      "[*********************100%%**********************]  1 of 1 completed\n",
      "\n",
      "1 Failed download:\n",
      "['FTRX4.SA']: YFPricesMissingError('$%ticker%: possibly delisted; No price data found  (1d 2017-02-24 -> 2024-07-10)')\n"
     ]
    },
    {
     "name": "stdout",
     "output_type": "stream",
     "text": [
      "$FTRX4.SA: possibly delisted; No price data found  (1d 2017-02-24 -> 2024-07-10)\n"
     ]
    },
    {
     "name": "stderr",
     "output_type": "stream",
     "text": [
      "[*********************100%%**********************]  1 of 1 completed\n",
      "[*********************100%%**********************]  1 of 1 completed\n",
      "[*********************100%%**********************]  1 of 1 completed\n",
      "[*********************100%%**********************]  1 of 1 completed\n",
      "[*********************100%%**********************]  1 of 1 completed\n",
      "\n",
      "1 Failed download:\n",
      "['MEND6.SA']: YFTzMissingError('$%ticker%: possibly delisted; No timezone found')\n",
      "[*********************100%%**********************]  1 of 1 completed\n",
      "\n",
      "1 Failed download:\n",
      "['TENE7.SA']: YFPricesMissingError('$%ticker%: possibly delisted; No price data found  (1d 2017-02-24 -> 2024-07-10)')\n"
     ]
    },
    {
     "name": "stdout",
     "output_type": "stream",
     "text": [
      "$TENE7.SA: possibly delisted; No price data found  (1d 2017-02-24 -> 2024-07-10)\n"
     ]
    },
    {
     "name": "stderr",
     "output_type": "stream",
     "text": [
      "[*********************100%%**********************]  1 of 1 completed\n",
      "\n",
      "1 Failed download:\n",
      "['VPTA4.SA']: YFPricesMissingError('$%ticker%: possibly delisted; No price data found  (1d 2017-02-24 -> 2024-07-10)')\n"
     ]
    },
    {
     "name": "stdout",
     "output_type": "stream",
     "text": [
      "$VPTA4.SA: possibly delisted; No price data found  (1d 2017-02-24 -> 2024-07-10)\n"
     ]
    },
    {
     "name": "stderr",
     "output_type": "stream",
     "text": [
      "[*********************100%%**********************]  1 of 1 completed\n",
      "[*********************100%%**********************]  1 of 1 completed\n",
      "\n",
      "1 Failed download:\n",
      "['VPSC4.SA']: YFPricesMissingError('$%ticker%: possibly delisted; No price data found  (1d 2017-02-24 -> 2024-07-10)')\n"
     ]
    },
    {
     "name": "stdout",
     "output_type": "stream",
     "text": [
      "$VPSC4.SA: possibly delisted; No price data found  (1d 2017-02-24 -> 2024-07-10)\n"
     ]
    },
    {
     "name": "stderr",
     "output_type": "stream",
     "text": [
      "[*********************100%%**********************]  1 of 1 completed\n",
      "\n",
      "1 Failed download:\n",
      "['MEND5.SA']: YFTzMissingError('$%ticker%: possibly delisted; No timezone found')\n",
      "[*********************100%%**********************]  1 of 1 completed\n",
      "\n",
      "1 Failed download:\n",
      "['VAGV3.SA']: YFPricesMissingError('$%ticker%: possibly delisted; No price data found  (1d 2017-02-24 -> 2024-07-10)')\n"
     ]
    },
    {
     "name": "stdout",
     "output_type": "stream",
     "text": [
      "$VAGV3.SA: possibly delisted; No price data found  (1d 2017-02-24 -> 2024-07-10)\n"
     ]
    },
    {
     "name": "stderr",
     "output_type": "stream",
     "text": [
      "[*********************100%%**********************]  1 of 1 completed\n",
      "[*********************100%%**********************]  1 of 1 completed\n",
      "[*********************100%%**********************]  1 of 1 completed\n",
      "\n",
      "1 Failed download:\n",
      "['VAGV4.SA']: YFPricesMissingError('$%ticker%: possibly delisted; No price data found  (1d 2017-02-24 -> 2024-07-10)')\n"
     ]
    },
    {
     "name": "stdout",
     "output_type": "stream",
     "text": [
      "$VAGV4.SA: possibly delisted; No price data found  (1d 2017-02-24 -> 2024-07-10)\n"
     ]
    },
    {
     "name": "stderr",
     "output_type": "stream",
     "text": [
      "[*********************100%%**********************]  1 of 1 completed\n",
      "\n",
      "1 Failed download:\n",
      "['GAFP3.SA']: YFPricesMissingError('$%ticker%: possibly delisted; No price data found  (1d 2017-02-24 -> 2024-07-10)')\n"
     ]
    },
    {
     "name": "stdout",
     "output_type": "stream",
     "text": [
      "$GAFP3.SA: possibly delisted; No price data found  (1d 2017-02-24 -> 2024-07-10)\n"
     ]
    },
    {
     "name": "stderr",
     "output_type": "stream",
     "text": [
      "[*********************100%%**********************]  1 of 1 completed\n",
      "[*********************100%%**********************]  1 of 1 completed\n",
      "\n",
      "1 Failed download:\n",
      "['ARTE3.SA']: YFPricesMissingError('$%ticker%: possibly delisted; No price data found  (1d 2017-02-24 -> 2024-07-10)')\n"
     ]
    },
    {
     "name": "stdout",
     "output_type": "stream",
     "text": [
      "$ARTE3.SA: possibly delisted; No price data found  (1d 2017-02-24 -> 2024-07-10)\n"
     ]
    },
    {
     "name": "stderr",
     "output_type": "stream",
     "text": [
      "[*********************100%%**********************]  1 of 1 completed\n",
      "\n",
      "1 Failed download:\n",
      "['TROR3.SA']: YFPricesMissingError('$%ticker%: possibly delisted; No price data found  (1d 2017-02-24 -> 2024-07-10)')\n"
     ]
    },
    {
     "name": "stdout",
     "output_type": "stream",
     "text": [
      "$TROR3.SA: possibly delisted; No price data found  (1d 2017-02-24 -> 2024-07-10)\n"
     ]
    },
    {
     "name": "stderr",
     "output_type": "stream",
     "text": [
      "[*********************100%%**********************]  1 of 1 completed\n",
      "\n",
      "1 Failed download:\n",
      "['VPSC3.SA']: YFPricesMissingError('$%ticker%: possibly delisted; No price data found  (1d 2017-02-24 -> 2024-07-10)')\n"
     ]
    },
    {
     "name": "stdout",
     "output_type": "stream",
     "text": [
      "$VPSC3.SA: possibly delisted; No price data found  (1d 2017-02-24 -> 2024-07-10)\n"
     ]
    },
    {
     "name": "stderr",
     "output_type": "stream",
     "text": [
      "[*********************100%%**********************]  1 of 1 completed\n",
      "\n",
      "1 Failed download:\n",
      "['VPTA3.SA']: YFPricesMissingError('$%ticker%: possibly delisted; No price data found  (1d 2017-02-24 -> 2024-07-10)')\n"
     ]
    },
    {
     "name": "stdout",
     "output_type": "stream",
     "text": [
      "$VPTA3.SA: possibly delisted; No price data found  (1d 2017-02-24 -> 2024-07-10)\n"
     ]
    },
    {
     "name": "stderr",
     "output_type": "stream",
     "text": [
      "[*********************100%%**********************]  1 of 1 completed\n",
      "\n",
      "1 Failed download:\n",
      "['ARTE4.SA']: YFPricesMissingError('$%ticker%: possibly delisted; No price data found  (1d 2017-02-24 -> 2024-07-10)')\n"
     ]
    },
    {
     "name": "stdout",
     "output_type": "stream",
     "text": [
      "$ARTE4.SA: possibly delisted; No price data found  (1d 2017-02-24 -> 2024-07-10)\n"
     ]
    },
    {
     "name": "stderr",
     "output_type": "stream",
     "text": [
      "[*********************100%%**********************]  1 of 1 completed\n",
      "[*********************100%%**********************]  1 of 1 completed\n",
      "\n",
      "1 Failed download:\n",
      "['RCTB33.SA']: YFPricesMissingError('$%ticker%: possibly delisted; No price data found  (1d 2017-02-24 -> 2024-07-10)')\n"
     ]
    },
    {
     "name": "stdout",
     "output_type": "stream",
     "text": [
      "$RCTB33.SA: possibly delisted; No price data found  (1d 2017-02-24 -> 2024-07-10)\n"
     ]
    },
    {
     "name": "stderr",
     "output_type": "stream",
     "text": [
      "[*********************100%%**********************]  1 of 1 completed\n",
      "\n",
      "1 Failed download:\n",
      "['TROR4.SA']: YFPricesMissingError('$%ticker%: possibly delisted; No price data found  (1d 2017-02-24 -> 2024-07-10)')\n"
     ]
    },
    {
     "name": "stdout",
     "output_type": "stream",
     "text": [
      "$TROR4.SA: possibly delisted; No price data found  (1d 2017-02-24 -> 2024-07-10)\n"
     ]
    },
    {
     "name": "stderr",
     "output_type": "stream",
     "text": [
      "[*********************100%%**********************]  1 of 1 completed\n",
      "\n",
      "1 Failed download:\n",
      "['RPMG4.SA']: YFPricesMissingError('$%ticker%: possibly delisted; No price data found  (1d 2017-02-24 -> 2024-07-10)')\n"
     ]
    },
    {
     "name": "stdout",
     "output_type": "stream",
     "text": [
      "$RPMG4.SA: possibly delisted; No price data found  (1d 2017-02-24 -> 2024-07-10)\n"
     ]
    },
    {
     "name": "stderr",
     "output_type": "stream",
     "text": [
      "[*********************100%%**********************]  1 of 1 completed\n",
      "\n",
      "1 Failed download:\n",
      "['GAFP4.SA']: YFPricesMissingError('$%ticker%: possibly delisted; No price data found  (1d 2017-02-24 -> 2024-07-10)')\n"
     ]
    },
    {
     "name": "stdout",
     "output_type": "stream",
     "text": [
      "$GAFP4.SA: possibly delisted; No price data found  (1d 2017-02-24 -> 2024-07-10)\n"
     ]
    },
    {
     "name": "stderr",
     "output_type": "stream",
     "text": [
      "[*********************100%%**********************]  1 of 1 completed\n",
      "\n",
      "1 Failed download:\n",
      "['RCTB31.SA']: YFPricesMissingError('$%ticker%: possibly delisted; No price data found  (1d 2017-02-24 -> 2024-07-10)')\n"
     ]
    },
    {
     "name": "stdout",
     "output_type": "stream",
     "text": [
      "$RCTB31.SA: possibly delisted; No price data found  (1d 2017-02-24 -> 2024-07-10)\n"
     ]
    },
    {
     "name": "stderr",
     "output_type": "stream",
     "text": [
      "[*********************100%%**********************]  1 of 1 completed\n",
      "\n",
      "1 Failed download:\n",
      "['MILK33.SA']: YFTzMissingError('$%ticker%: possibly delisted; No timezone found')\n",
      "[*********************100%%**********************]  1 of 1 completed\n",
      "\n",
      "1 Failed download:\n",
      "['RCTB41.SA']: YFPricesMissingError('$%ticker%: possibly delisted; No price data found  (1d 2017-02-24 -> 2024-07-10)')\n"
     ]
    },
    {
     "name": "stdout",
     "output_type": "stream",
     "text": [
      "$RCTB41.SA: possibly delisted; No price data found  (1d 2017-02-24 -> 2024-07-10)\n"
     ]
    },
    {
     "name": "stderr",
     "output_type": "stream",
     "text": [
      "[*********************100%%**********************]  1 of 1 completed\n",
      "[*********************100%%**********************]  1 of 1 completed\n",
      "\n",
      "1 Failed download:\n",
      "['RCTB42.SA']: YFPricesMissingError('$%ticker%: possibly delisted; No price data found  (1d 2017-02-24 -> 2024-07-10)')\n"
     ]
    },
    {
     "name": "stdout",
     "output_type": "stream",
     "text": [
      "$RCTB42.SA: possibly delisted; No price data found  (1d 2017-02-24 -> 2024-07-10)\n"
     ]
    },
    {
     "name": "stderr",
     "output_type": "stream",
     "text": [
      "[*********************100%%**********************]  1 of 1 completed\n",
      "\n",
      "1 Failed download:\n",
      "['MLPA12.SA']: YFPricesMissingError('$%ticker%: possibly delisted; No price data found  (1d 2017-02-24 -> 2024-07-10)')\n"
     ]
    },
    {
     "name": "stdout",
     "output_type": "stream",
     "text": [
      "$MLPA12.SA: possibly delisted; No price data found  (1d 2017-02-24 -> 2024-07-10)\n"
     ]
    },
    {
     "name": "stderr",
     "output_type": "stream",
     "text": [
      "[*********************100%%**********************]  1 of 1 completed\n",
      "\n",
      "1 Failed download:\n",
      "['MLPA4.SA']: YFPricesMissingError('$%ticker%: possibly delisted; No price data found  (1d 2017-02-24 -> 2024-07-10)')\n"
     ]
    },
    {
     "name": "stdout",
     "output_type": "stream",
     "text": [
      "$MLPA4.SA: possibly delisted; No price data found  (1d 2017-02-24 -> 2024-07-10)\n"
     ]
    },
    {
     "name": "stderr",
     "output_type": "stream",
     "text": [
      "[*********************100%%**********************]  1 of 1 completed\n",
      "\n",
      "1 Failed download:\n",
      "['OSAO4.SA']: YFPricesMissingError('$%ticker%: possibly delisted; No price data found  (1d 2017-02-24 -> 2024-07-10)')\n"
     ]
    },
    {
     "name": "stdout",
     "output_type": "stream",
     "text": [
      "$OSAO4.SA: possibly delisted; No price data found  (1d 2017-02-24 -> 2024-07-10)\n"
     ]
    },
    {
     "name": "stderr",
     "output_type": "stream",
     "text": [
      "[*********************100%%**********************]  1 of 1 completed\n",
      "[*********************100%%**********************]  1 of 1 completed\n",
      "\n",
      "1 Failed download:\n",
      "['CAFE3.SA']: YFPricesMissingError('$%ticker%: possibly delisted; No price data found  (1d 2017-02-24 -> 2024-07-10)')\n"
     ]
    },
    {
     "name": "stdout",
     "output_type": "stream",
     "text": [
      "$CAFE3.SA: possibly delisted; No price data found  (1d 2017-02-24 -> 2024-07-10)\n"
     ]
    },
    {
     "name": "stderr",
     "output_type": "stream",
     "text": [
      "[*********************100%%**********************]  1 of 1 completed\n",
      "\n",
      "1 Failed download:\n",
      "['BSCT3.SA']: YFPricesMissingError('$%ticker%: possibly delisted; No price data found  (1d 2017-02-24 -> 2024-07-10)')\n"
     ]
    },
    {
     "name": "stdout",
     "output_type": "stream",
     "text": [
      "$BSCT3.SA: possibly delisted; No price data found  (1d 2017-02-24 -> 2024-07-10)\n"
     ]
    },
    {
     "name": "stderr",
     "output_type": "stream",
     "text": [
      "[*********************100%%**********************]  1 of 1 completed\n",
      "[*********************100%%**********************]  1 of 1 completed\n",
      "[*********************100%%**********************]  1 of 1 completed\n",
      "\n",
      "1 Failed download:\n",
      "['IGBR5.SA']: YFPricesMissingError('$%ticker%: possibly delisted; No price data found  (1d 2017-02-24 -> 2024-07-10)')\n"
     ]
    },
    {
     "name": "stdout",
     "output_type": "stream",
     "text": [
      "$IGBR5.SA: possibly delisted; No price data found  (1d 2017-02-24 -> 2024-07-10)\n"
     ]
    },
    {
     "name": "stderr",
     "output_type": "stream",
     "text": [
      "[*********************100%%**********************]  1 of 1 completed\n",
      "\n",
      "1 Failed download:\n",
      "['IGBR6.SA']: YFPricesMissingError('$%ticker%: possibly delisted; No price data found  (1d 2017-02-24 -> 2024-07-10)')\n"
     ]
    },
    {
     "name": "stdout",
     "output_type": "stream",
     "text": [
      "$IGBR6.SA: possibly delisted; No price data found  (1d 2017-02-24 -> 2024-07-10)\n"
     ]
    },
    {
     "name": "stderr",
     "output_type": "stream",
     "text": [
      "[*********************100%%**********************]  1 of 1 completed\n",
      "\n",
      "1 Failed download:\n",
      "['PALF11.SA']: YFPricesMissingError('$%ticker%: possibly delisted; No price data found  (1d 2017-02-24 -> 2024-07-10)')\n"
     ]
    },
    {
     "name": "stdout",
     "output_type": "stream",
     "text": [
      "$PALF11.SA: possibly delisted; No price data found  (1d 2017-02-24 -> 2024-07-10)\n"
     ]
    },
    {
     "name": "stderr",
     "output_type": "stream",
     "text": [
      "[*********************100%%**********************]  1 of 1 completed\n",
      "[*********************100%%**********************]  1 of 1 completed\n",
      "[*********************100%%**********************]  1 of 1 completed\n",
      "\n",
      "1 Failed download:\n",
      "['BRSR4.SA']: YFPricesMissingError('$%ticker%: possibly delisted; No price data found  (1d 2017-02-24 -> 2024-07-10)')\n"
     ]
    },
    {
     "name": "stdout",
     "output_type": "stream",
     "text": [
      "$BRSR4.SA: possibly delisted; No price data found  (1d 2017-02-24 -> 2024-07-10)\n"
     ]
    },
    {
     "name": "stderr",
     "output_type": "stream",
     "text": [
      "[*********************100%%**********************]  1 of 1 completed\n",
      "\n",
      "1 Failed download:\n",
      "['LREN4.SA']: YFPricesMissingError('$%ticker%: possibly delisted; No price data found  (1d 2017-02-24 -> 2024-07-10)')\n"
     ]
    },
    {
     "name": "stdout",
     "output_type": "stream",
     "text": [
      "$LREN4.SA: possibly delisted; No price data found  (1d 2017-02-24 -> 2024-07-10)\n"
     ]
    },
    {
     "name": "stderr",
     "output_type": "stream",
     "text": [
      "[*********************100%%**********************]  1 of 1 completed\n",
      "[*********************100%%**********************]  1 of 1 completed\n",
      "\n",
      "1 Failed download:\n",
      "['CREM4.SA']: YFPricesMissingError('$%ticker%: possibly delisted; No price data found  (1d 2017-02-24 -> 2024-07-10)')\n"
     ]
    },
    {
     "name": "stdout",
     "output_type": "stream",
     "text": [
      "$CREM4.SA: possibly delisted; No price data found  (1d 2017-02-24 -> 2024-07-10)\n"
     ]
    },
    {
     "name": "stderr",
     "output_type": "stream",
     "text": [
      "[*********************100%%**********************]  1 of 1 completed\n",
      "\n",
      "1 Failed download:\n",
      "['TPRC6.SA']: YFPricesMissingError('$%ticker%: possibly delisted; No price data found  (1d 2017-02-24 -> 2024-07-10)')\n"
     ]
    },
    {
     "name": "stdout",
     "output_type": "stream",
     "text": [
      "$TPRC6.SA: possibly delisted; No price data found  (1d 2017-02-24 -> 2024-07-10)\n"
     ]
    },
    {
     "name": "stderr",
     "output_type": "stream",
     "text": [
      "[*********************100%%**********************]  1 of 1 completed\n",
      "\n",
      "1 Failed download:\n",
      "['PALF5.SA']: YFPricesMissingError('$%ticker%: possibly delisted; No price data found  (1d 2017-02-24 -> 2024-07-10)')\n"
     ]
    },
    {
     "name": "stdout",
     "output_type": "stream",
     "text": [
      "$PALF5.SA: possibly delisted; No price data found  (1d 2017-02-24 -> 2024-07-10)\n"
     ]
    },
    {
     "name": "stderr",
     "output_type": "stream",
     "text": [
      "[*********************100%%**********************]  1 of 1 completed\n",
      "[*********************100%%**********************]  1 of 1 completed\n",
      "\n",
      "1 Failed download:\n",
      "['TPRC3.SA']: YFPricesMissingError('$%ticker%: possibly delisted; No price data found  (1d 2017-02-24 -> 2024-07-10)')\n"
     ]
    },
    {
     "name": "stdout",
     "output_type": "stream",
     "text": [
      "$TPRC3.SA: possibly delisted; No price data found  (1d 2017-02-24 -> 2024-07-10)\n"
     ]
    },
    {
     "name": "stderr",
     "output_type": "stream",
     "text": [
      "[*********************100%%**********************]  1 of 1 completed\n",
      "\n",
      "1 Failed download:\n",
      "['PALF3.SA']: YFPricesMissingError('$%ticker%: possibly delisted; No price data found  (1d 2017-02-24 -> 2024-07-10)')\n",
      "[*********************100%%**********************]  1 of 1 completed"
     ]
    },
    {
     "name": "stdout",
     "output_type": "stream",
     "text": [
      "$PALF3.SA: possibly delisted; No price data found  (1d 2017-02-24 -> 2024-07-10)\n"
     ]
    },
    {
     "name": "stderr",
     "output_type": "stream",
     "text": [
      "\n",
      "[*********************100%%**********************]  1 of 1 completed\n",
      "[*********************100%%**********************]  1 of 1 completed\n",
      "[*********************100%%**********************]  1 of 1 completed\n",
      "[*********************100%%**********************]  1 of 1 completed\n",
      "[*********************100%%**********************]  1 of 1 completed\n",
      "[*********************100%%**********************]  1 of 1 completed\n",
      "[*********************100%%**********************]  1 of 1 completed\n",
      "\n",
      "1 Failed download:\n",
      "['ASSM4.SA']: YFPricesMissingError('$%ticker%: possibly delisted; No price data found  (1d 2017-02-24 -> 2024-07-10)')\n"
     ]
    },
    {
     "name": "stdout",
     "output_type": "stream",
     "text": [
      "$ASSM4.SA: possibly delisted; No price data found  (1d 2017-02-24 -> 2024-07-10)\n"
     ]
    },
    {
     "name": "stderr",
     "output_type": "stream",
     "text": [
      "[*********************100%%**********************]  1 of 1 completed\n",
      "\n",
      "1 Failed download:\n",
      "['GAZO4.SA']: YFPricesMissingError('$%ticker%: possibly delisted; No price data found  (1d 2017-02-24 -> 2024-07-10)')\n"
     ]
    },
    {
     "name": "stdout",
     "output_type": "stream",
     "text": [
      "$GAZO4.SA: possibly delisted; No price data found  (1d 2017-02-24 -> 2024-07-10)\n"
     ]
    },
    {
     "name": "stderr",
     "output_type": "stream",
     "text": [
      "[*********************100%%**********************]  1 of 1 completed\n",
      "\n",
      "1 Failed download:\n",
      "['ASSM3.SA']: YFPricesMissingError('$%ticker%: possibly delisted; No price data found  (1d 2017-02-24 -> 2024-07-10)')\n"
     ]
    },
    {
     "name": "stdout",
     "output_type": "stream",
     "text": [
      "$ASSM3.SA: possibly delisted; No price data found  (1d 2017-02-24 -> 2024-07-10)\n"
     ]
    },
    {
     "name": "stderr",
     "output_type": "stream",
     "text": [
      "[*********************100%%**********************]  1 of 1 completed\n",
      "\n",
      "1 Failed download:\n",
      "['BELG4.SA']: YFPricesMissingError('$%ticker%: possibly delisted; No price data found  (1d 2017-02-24 -> 2024-07-10)')\n"
     ]
    },
    {
     "name": "stdout",
     "output_type": "stream",
     "text": [
      "$BELG4.SA: possibly delisted; No price data found  (1d 2017-02-24 -> 2024-07-10)\n"
     ]
    },
    {
     "name": "stderr",
     "output_type": "stream",
     "text": [
      "[*********************100%%**********************]  1 of 1 completed\n",
      "\n",
      "1 Failed download:\n",
      "['BELG3.SA']: YFPricesMissingError('$%ticker%: possibly delisted; No price data found  (1d 2017-02-24 -> 2024-07-10)')\n"
     ]
    },
    {
     "name": "stdout",
     "output_type": "stream",
     "text": [
      "$BELG3.SA: possibly delisted; No price data found  (1d 2017-02-24 -> 2024-07-10)\n"
     ]
    },
    {
     "name": "stderr",
     "output_type": "stream",
     "text": [
      "[*********************100%%**********************]  1 of 1 completed\n",
      "[*********************100%%**********************]  1 of 1 completed\n",
      "\n",
      "1 Failed download:\n",
      "['AGEN33.SA']: YFTzMissingError('$%ticker%: possibly delisted; No timezone found')\n",
      "[*********************100%%**********************]  1 of 1 completed\n",
      "\n",
      "1 Failed download:\n",
      "['TRPN3.SA']: YFTzMissingError('$%ticker%: possibly delisted; No timezone found')\n",
      "[*********************100%%**********************]  1 of 1 completed\n",
      "[*********************100%%**********************]  1 of 1 completed\n",
      "\n",
      "1 Failed download:\n",
      "['GAZO3.SA']: YFTzMissingError('$%ticker%: possibly delisted; No timezone found')\n",
      "[*********************100%%**********************]  1 of 1 completed\n",
      "\n",
      "1 Failed download:\n",
      "['FCAP3.SA']: YFPricesMissingError('$%ticker%: possibly delisted; No price data found  (1d 2017-02-24 -> 2024-07-10)')\n"
     ]
    },
    {
     "name": "stdout",
     "output_type": "stream",
     "text": [
      "$FCAP3.SA: possibly delisted; No price data found  (1d 2017-02-24 -> 2024-07-10)\n"
     ]
    },
    {
     "name": "stderr",
     "output_type": "stream",
     "text": [
      "[*********************100%%**********************]  1 of 1 completed\n",
      "\n",
      "1 Failed download:\n",
      "['IGBR3.SA']: YFPricesMissingError('$%ticker%: possibly delisted; No price data found  (1d 2017-02-24 -> 2024-07-10)')\n"
     ]
    },
    {
     "name": "stdout",
     "output_type": "stream",
     "text": [
      "$IGBR3.SA: possibly delisted; No price data found  (1d 2017-02-24 -> 2024-07-10)\n"
     ]
    },
    {
     "name": "stderr",
     "output_type": "stream",
     "text": [
      "[*********************100%%**********************]  1 of 1 completed\n",
      "\n",
      "1 Failed download:\n",
      "['FCAP4.SA']: YFPricesMissingError('$%ticker%: possibly delisted; No price data found  (1d 2017-02-24 -> 2024-07-10)')\n"
     ]
    },
    {
     "name": "stdout",
     "output_type": "stream",
     "text": [
      "$FCAP4.SA: possibly delisted; No price data found  (1d 2017-02-24 -> 2024-07-10)\n"
     ]
    },
    {
     "name": "stderr",
     "output_type": "stream",
     "text": [
      "[*********************100%%**********************]  1 of 1 completed\n",
      "\n",
      "1 Failed download:\n",
      "['TARP11.SA']: YFTzMissingError('$%ticker%: possibly delisted; No timezone found')\n",
      "[*********************100%%**********************]  1 of 1 completed\n",
      "[*********************100%%**********************]  1 of 1 completed\n",
      "\n",
      "1 Failed download:\n",
      "['BNBR4.SA']: YFPricesMissingError('$%ticker%: possibly delisted; No price data found  (1d 2017-02-24 -> 2024-07-10)')\n"
     ]
    },
    {
     "name": "stdout",
     "output_type": "stream",
     "text": [
      "$BNBR4.SA: possibly delisted; No price data found  (1d 2017-02-24 -> 2024-07-10)\n"
     ]
    },
    {
     "name": "stderr",
     "output_type": "stream",
     "text": [
      "[*********************100%%**********************]  1 of 1 completed\n",
      "\n",
      "1 Failed download:\n",
      "['TSPP4.SA']: YFPricesMissingError('$%ticker%: possibly delisted; No price data found  (1d 2017-02-24 -> 2024-07-10)')\n"
     ]
    },
    {
     "name": "stdout",
     "output_type": "stream",
     "text": [
      "$TSPP4.SA: possibly delisted; No price data found  (1d 2017-02-24 -> 2024-07-10)\n"
     ]
    },
    {
     "name": "stderr",
     "output_type": "stream",
     "text": [
      "[*********************100%%**********************]  1 of 1 completed\n",
      "[*********************100%%**********************]  1 of 1 completed\n",
      "[*********************100%%**********************]  1 of 1 completed\n",
      "\n",
      "1 Failed download:\n",
      "['EBEN4.SA']: YFPricesMissingError('$%ticker%: possibly delisted; No price data found  (1d 2017-02-24 -> 2024-07-10)')\n"
     ]
    },
    {
     "name": "stdout",
     "output_type": "stream",
     "text": [
      "$EBEN4.SA: possibly delisted; No price data found  (1d 2017-02-24 -> 2024-07-10)\n"
     ]
    },
    {
     "name": "stderr",
     "output_type": "stream",
     "text": [
      "[*********************100%%**********************]  1 of 1 completed\n",
      "\n",
      "1 Failed download:\n",
      "['APTI4.SA']: YFTzMissingError('$%ticker%: possibly delisted; No timezone found')\n",
      "[*********************100%%**********************]  1 of 1 completed\n",
      "[*********************100%%**********************]  1 of 1 completed\n",
      "[*********************100%%**********************]  1 of 1 completed\n",
      "\n",
      "1 Failed download:\n",
      "['TSPP3.SA']: YFPricesMissingError('$%ticker%: possibly delisted; No price data found  (1d 2017-02-24 -> 2024-07-10)')\n"
     ]
    },
    {
     "name": "stdout",
     "output_type": "stream",
     "text": [
      "$TSPP3.SA: possibly delisted; No price data found  (1d 2017-02-24 -> 2024-07-10)\n"
     ]
    },
    {
     "name": "stderr",
     "output_type": "stream",
     "text": [
      "[*********************100%%**********************]  1 of 1 completed\n",
      "[*********************100%%**********************]  1 of 1 completed\n",
      "\n",
      "1 Failed download:\n",
      "['PLIM4.SA']: YFPricesMissingError('$%ticker%: possibly delisted; No price data found  (1d 2017-02-24 -> 2024-07-10)')\n"
     ]
    },
    {
     "name": "stdout",
     "output_type": "stream",
     "text": [
      "$PLIM4.SA: possibly delisted; No price data found  (1d 2017-02-24 -> 2024-07-10)\n"
     ]
    },
    {
     "name": "stderr",
     "output_type": "stream",
     "text": [
      "[*********************100%%**********************]  1 of 1 completed\n",
      "\n",
      "1 Failed download:\n",
      "['CPFG4.SA']: YFPricesMissingError('$%ticker%: possibly delisted; No price data found  (1d 2017-02-24 -> 2024-07-10)')\n"
     ]
    },
    {
     "name": "stdout",
     "output_type": "stream",
     "text": [
      "$CPFG4.SA: possibly delisted; No price data found  (1d 2017-02-24 -> 2024-07-10)\n"
     ]
    },
    {
     "name": "stderr",
     "output_type": "stream",
     "text": [
      "[*********************100%%**********************]  1 of 1 completed\n",
      "[*********************100%%**********************]  1 of 1 completed\n",
      "\n",
      "1 Failed download:\n",
      "['CPFG3.SA']: YFPricesMissingError('$%ticker%: possibly delisted; No price data found  (1d 2017-02-24 -> 2024-07-10)')\n"
     ]
    },
    {
     "name": "stdout",
     "output_type": "stream",
     "text": [
      "$CPFG3.SA: possibly delisted; No price data found  (1d 2017-02-24 -> 2024-07-10)\n"
     ]
    },
    {
     "name": "stderr",
     "output_type": "stream",
     "text": [
      "[*********************100%%**********************]  1 of 1 completed\n",
      "\n",
      "1 Failed download:\n",
      "['TBLE6.SA']: YFPricesMissingError('$%ticker%: possibly delisted; No price data found  (1d 2017-02-24 -> 2024-07-10)')\n"
     ]
    },
    {
     "name": "stdout",
     "output_type": "stream",
     "text": [
      "$TBLE6.SA: possibly delisted; No price data found  (1d 2017-02-24 -> 2024-07-10)\n"
     ]
    },
    {
     "name": "stderr",
     "output_type": "stream",
     "text": [
      "[*********************100%%**********************]  1 of 1 completed\n",
      "[*********************100%%**********************]  1 of 1 completed\n",
      "\n",
      "1 Failed download:\n",
      "['TBLE5.SA']: YFPricesMissingError('$%ticker%: possibly delisted; No price data found  (1d 2017-02-24 -> 2024-07-10)')\n"
     ]
    },
    {
     "name": "stdout",
     "output_type": "stream",
     "text": [
      "$TBLE5.SA: possibly delisted; No price data found  (1d 2017-02-24 -> 2024-07-10)\n"
     ]
    },
    {
     "name": "stderr",
     "output_type": "stream",
     "text": [
      "[*********************100%%**********************]  1 of 1 completed\n",
      "\n",
      "1 Failed download:\n",
      "['CTPC4.SA']: YFPricesMissingError('$%ticker%: possibly delisted; No price data found  (1d 2017-02-24 -> 2024-07-10)')\n"
     ]
    },
    {
     "name": "stdout",
     "output_type": "stream",
     "text": [
      "$CTPC4.SA: possibly delisted; No price data found  (1d 2017-02-24 -> 2024-07-10)\n"
     ]
    },
    {
     "name": "stderr",
     "output_type": "stream",
     "text": [
      "[*********************100%%**********************]  1 of 1 completed\n",
      "[*********************100%%**********************]  1 of 1 completed\n",
      "\n",
      "1 Failed download:\n",
      "['SUZB6.SA']: YFPricesMissingError('$%ticker%: possibly delisted; No price data found  (1d 2017-02-24 -> 2024-07-10)')\n"
     ]
    },
    {
     "name": "stdout",
     "output_type": "stream",
     "text": [
      "$SUZB6.SA: possibly delisted; No price data found  (1d 2017-02-24 -> 2024-07-10)\n"
     ]
    },
    {
     "name": "stderr",
     "output_type": "stream",
     "text": [
      "[*********************100%%**********************]  1 of 1 completed\n",
      "\n",
      "1 Failed download:\n",
      "['CLSC5.SA']: YFPricesMissingError('$%ticker%: possibly delisted; No price data found  (1d 2017-02-24 -> 2024-07-10)')\n"
     ]
    },
    {
     "name": "stdout",
     "output_type": "stream",
     "text": [
      "$CLSC5.SA: possibly delisted; No price data found  (1d 2017-02-24 -> 2024-07-10)\n"
     ]
    },
    {
     "name": "stderr",
     "output_type": "stream",
     "text": [
      "[*********************100%%**********************]  1 of 1 completed\n",
      "\n",
      "1 Failed download:\n",
      "['MNPR4.SA']: YFPricesMissingError('$%ticker%: possibly delisted; No price data found  (1d 2017-02-24 -> 2024-07-10)')\n"
     ]
    },
    {
     "name": "stdout",
     "output_type": "stream",
     "text": [
      "$MNPR4.SA: possibly delisted; No price data found  (1d 2017-02-24 -> 2024-07-10)\n"
     ]
    },
    {
     "name": "stderr",
     "output_type": "stream",
     "text": [
      "[*********************100%%**********************]  1 of 1 completed\n",
      "[*********************100%%**********************]  1 of 1 completed\n",
      "[*********************100%%**********************]  1 of 1 completed\n",
      "[*********************100%%**********************]  1 of 1 completed\n",
      "[*********************100%%**********************]  1 of 1 completed\n",
      "[*********************100%%**********************]  1 of 1 completed\n",
      "\n",
      "1 Failed download:\n",
      "['ESCE3.SA']: YFPricesMissingError('$%ticker%: possibly delisted; No price data found  (1d 2017-02-24 -> 2024-07-10)')\n"
     ]
    },
    {
     "name": "stdout",
     "output_type": "stream",
     "text": [
      "$ESCE3.SA: possibly delisted; No price data found  (1d 2017-02-24 -> 2024-07-10)\n"
     ]
    },
    {
     "name": "stderr",
     "output_type": "stream",
     "text": [
      "[*********************100%%**********************]  1 of 1 completed\n",
      "\n",
      "1 Failed download:\n",
      "['SUZB5.SA']: YFPricesMissingError('$%ticker%: possibly delisted; No price data found  (1d 2017-02-24 -> 2024-07-10)')\n"
     ]
    },
    {
     "name": "stdout",
     "output_type": "stream",
     "text": [
      "$SUZB5.SA: possibly delisted; No price data found  (1d 2017-02-24 -> 2024-07-10)\n"
     ]
    },
    {
     "name": "stderr",
     "output_type": "stream",
     "text": [
      "[*********************100%%**********************]  1 of 1 completed\n",
      "\n",
      "1 Failed download:\n",
      "['MARI3.SA']: YFTzMissingError('$%ticker%: possibly delisted; No timezone found')\n",
      "[*********************100%%**********************]  1 of 1 completed\n",
      "[*********************100%%**********************]  1 of 1 completed\n",
      "[*********************100%%**********************]  1 of 1 completed\n",
      "[*********************100%%**********************]  1 of 1 completed\n",
      "\n",
      "1 Failed download:\n",
      "['CYRE4.SA']: YFPricesMissingError('$%ticker%: possibly delisted; No price data found  (1d 2017-02-24 -> 2024-07-10)')\n"
     ]
    },
    {
     "name": "stdout",
     "output_type": "stream",
     "text": [
      "$CYRE4.SA: possibly delisted; No price data found  (1d 2017-02-24 -> 2024-07-10)\n"
     ]
    },
    {
     "name": "stderr",
     "output_type": "stream",
     "text": [
      "[*********************100%%**********************]  1 of 1 completed\n",
      "\n",
      "1 Failed download:\n",
      "['REDE4.SA']: YFPricesMissingError('$%ticker%: possibly delisted; No price data found  (1d 2017-02-24 -> 2024-07-10)')\n"
     ]
    },
    {
     "name": "stdout",
     "output_type": "stream",
     "text": [
      "$REDE4.SA: possibly delisted; No price data found  (1d 2017-02-24 -> 2024-07-10)\n"
     ]
    },
    {
     "name": "stderr",
     "output_type": "stream",
     "text": [
      "[*********************100%%**********************]  1 of 1 completed\n",
      "[*********************100%%**********************]  1 of 1 completed\n",
      "[*********************100%%**********************]  1 of 1 completed\n",
      "\n",
      "1 Failed download:\n",
      "['CAMB4.SA']: YFTzMissingError('$%ticker%: possibly delisted; No timezone found')\n",
      "[*********************100%%**********************]  1 of 1 completed\n",
      "[*********************100%%**********************]  1 of 1 completed\n",
      "\n",
      "1 Failed download:\n",
      "['PTPA3.SA']: YFPricesMissingError('$%ticker%: possibly delisted; No price data found  (1d 2017-02-24 -> 2024-07-10)')\n"
     ]
    },
    {
     "name": "stdout",
     "output_type": "stream",
     "text": [
      "$PTPA3.SA: possibly delisted; No price data found  (1d 2017-02-24 -> 2024-07-10)\n"
     ]
    },
    {
     "name": "stderr",
     "output_type": "stream",
     "text": [
      "[*********************100%%**********************]  1 of 1 completed\n",
      "[*********************100%%**********************]  1 of 1 completed\n",
      "[*********************100%%**********************]  1 of 1 completed\n",
      "[*********************100%%**********************]  1 of 1 completed\n",
      "\n",
      "1 Failed download:\n",
      "['MTBR3.SA']: YFPricesMissingError('$%ticker%: possibly delisted; No price data found  (1d 2017-02-24 -> 2024-07-10)')\n"
     ]
    },
    {
     "name": "stdout",
     "output_type": "stream",
     "text": [
      "$MTBR3.SA: possibly delisted; No price data found  (1d 2017-02-24 -> 2024-07-10)\n"
     ]
    },
    {
     "name": "stderr",
     "output_type": "stream",
     "text": [
      "[*********************100%%**********************]  1 of 1 completed\n",
      "\n",
      "1 Failed download:\n",
      "['PTPA4.SA']: YFPricesMissingError('$%ticker%: possibly delisted; No price data found  (1d 2017-02-24 -> 2024-07-10)')\n"
     ]
    },
    {
     "name": "stdout",
     "output_type": "stream",
     "text": [
      "$PTPA4.SA: possibly delisted; No price data found  (1d 2017-02-24 -> 2024-07-10)\n"
     ]
    },
    {
     "name": "stderr",
     "output_type": "stream",
     "text": [
      "[*********************100%%**********************]  1 of 1 completed\n",
      "\n",
      "1 Failed download:\n",
      "['RANI4.SA']: YFTzMissingError('$%ticker%: possibly delisted; No timezone found')\n",
      "[*********************100%%**********************]  1 of 1 completed\n",
      "[*********************100%%**********************]  1 of 1 completed\n",
      "\n",
      "1 Failed download:\n",
      "['FRAS4.SA']: YFPricesMissingError('$%ticker%: possibly delisted; No price data found  (1d 2017-02-24 -> 2024-07-10)')\n"
     ]
    },
    {
     "name": "stdout",
     "output_type": "stream",
     "text": [
      "$FRAS4.SA: possibly delisted; No price data found  (1d 2017-02-24 -> 2024-07-10)\n"
     ]
    },
    {
     "name": "stderr",
     "output_type": "stream",
     "text": [
      "[*********************100%%**********************]  1 of 1 completed\n",
      "[*********************100%%**********************]  1 of 1 completed\n",
      "\n",
      "1 Failed download:\n",
      "['VINE3.SA']: YFPricesMissingError('$%ticker%: possibly delisted; No price data found  (1d 2017-02-24 -> 2024-07-10)')\n"
     ]
    },
    {
     "name": "stdout",
     "output_type": "stream",
     "text": [
      "$VINE3.SA: possibly delisted; No price data found  (1d 2017-02-24 -> 2024-07-10)\n"
     ]
    },
    {
     "name": "stderr",
     "output_type": "stream",
     "text": [
      "[*********************100%%**********************]  1 of 1 completed\n",
      "\n",
      "1 Failed download:\n",
      "['MTBR4.SA']: YFPricesMissingError('$%ticker%: possibly delisted; No price data found  (1d 2017-02-24 -> 2024-07-10)')\n"
     ]
    },
    {
     "name": "stdout",
     "output_type": "stream",
     "text": [
      "$MTBR4.SA: possibly delisted; No price data found  (1d 2017-02-24 -> 2024-07-10)\n"
     ]
    },
    {
     "name": "stderr",
     "output_type": "stream",
     "text": [
      "[*********************100%%**********************]  1 of 1 completed\n",
      "\n",
      "1 Failed download:\n",
      "['STBP11.SA']: YFPricesMissingError('$%ticker%: possibly delisted; No price data found  (1d 2017-02-24 -> 2024-07-10)')\n"
     ]
    },
    {
     "name": "stdout",
     "output_type": "stream",
     "text": [
      "$STBP11.SA: possibly delisted; No price data found  (1d 2017-02-24 -> 2024-07-10)\n"
     ]
    },
    {
     "name": "stderr",
     "output_type": "stream",
     "text": [
      "[*********************100%%**********************]  1 of 1 completed\n",
      "\n",
      "1 Failed download:\n",
      "['DAYC4.SA']: YFPricesMissingError('$%ticker%: possibly delisted; No price data found  (1d 2017-02-24 -> 2024-07-10)')\n"
     ]
    },
    {
     "name": "stdout",
     "output_type": "stream",
     "text": [
      "$DAYC4.SA: possibly delisted; No price data found  (1d 2017-02-24 -> 2024-07-10)\n"
     ]
    },
    {
     "name": "stderr",
     "output_type": "stream",
     "text": [
      "[*********************100%%**********************]  1 of 1 completed\n",
      "\n",
      "1 Failed download:\n",
      "['VINE5.SA']: YFPricesMissingError('$%ticker%: possibly delisted; No price data found  (1d 2017-02-24 -> 2024-07-10)')\n"
     ]
    },
    {
     "name": "stdout",
     "output_type": "stream",
     "text": [
      "$VINE5.SA: possibly delisted; No price data found  (1d 2017-02-24 -> 2024-07-10)\n"
     ]
    },
    {
     "name": "stderr",
     "output_type": "stream",
     "text": [
      "[*********************100%%**********************]  1 of 1 completed\n",
      "\n",
      "1 Failed download:\n",
      "['CPFP4.SA']: YFPricesMissingError('$%ticker%: possibly delisted; No price data found  (1d 2017-02-24 -> 2024-07-10)')\n"
     ]
    },
    {
     "name": "stdout",
     "output_type": "stream",
     "text": [
      "$CPFP4.SA: possibly delisted; No price data found  (1d 2017-02-24 -> 2024-07-10)\n"
     ]
    },
    {
     "name": "stderr",
     "output_type": "stream",
     "text": [
      "[*********************100%%**********************]  1 of 1 completed\n",
      "[*********************100%%**********************]  1 of 1 completed\n",
      "[*********************100%%**********************]  1 of 1 completed\n",
      "[*********************100%%**********************]  1 of 1 completed\n",
      "[*********************100%%**********************]  1 of 1 completed\n",
      "[*********************100%%**********************]  1 of 1 completed\n",
      "[*********************100%%**********************]  1 of 1 completed\n",
      "[*********************100%%**********************]  1 of 1 completed\n",
      "[*********************100%%**********************]  1 of 1 completed\n",
      "[*********************100%%**********************]  1 of 1 completed\n",
      "\n",
      "1 Failed download:\n",
      "['VCPA4.SA']: YFPricesMissingError('$%ticker%: possibly delisted; No price data found  (1d 2017-02-24 -> 2024-07-10)')\n"
     ]
    },
    {
     "name": "stdout",
     "output_type": "stream",
     "text": [
      "$VCPA4.SA: possibly delisted; No price data found  (1d 2017-02-24 -> 2024-07-10)\n"
     ]
    },
    {
     "name": "stderr",
     "output_type": "stream",
     "text": [
      "[*********************100%%**********************]  1 of 1 completed\n",
      "[*********************100%%**********************]  1 of 1 completed\n",
      "[*********************100%%**********************]  1 of 1 completed\n",
      "[*********************100%%**********************]  1 of 1 completed\n",
      "[*********************100%%**********************]  1 of 1 completed\n",
      "[*********************100%%**********************]  1 of 1 completed\n",
      "[*********************100%%**********************]  1 of 1 completed\n",
      "[*********************100%%**********************]  1 of 1 completed\n",
      "[*********************100%%**********************]  1 of 1 completed\n",
      "[*********************100%%**********************]  1 of 1 completed\n",
      "[*********************100%%**********************]  1 of 1 completed\n",
      "[*********************100%%**********************]  1 of 1 completed\n",
      "[*********************100%%**********************]  1 of 1 completed\n",
      "[*********************100%%**********************]  1 of 1 completed\n",
      "[*********************100%%**********************]  1 of 1 completed\n",
      "[*********************100%%**********************]  1 of 1 completed\n",
      "[*********************100%%**********************]  1 of 1 completed\n",
      "[*********************100%%**********************]  1 of 1 completed\n",
      "[*********************100%%**********************]  1 of 1 completed\n",
      "[*********************100%%**********************]  1 of 1 completed\n",
      "[*********************100%%**********************]  1 of 1 completed\n",
      "[*********************100%%**********************]  1 of 1 completed\n",
      "[*********************100%%**********************]  1 of 1 completed\n",
      "[*********************100%%**********************]  1 of 1 completed\n",
      "[*********************100%%**********************]  1 of 1 completed\n",
      "[*********************100%%**********************]  1 of 1 completed\n",
      "[*********************100%%**********************]  1 of 1 completed\n",
      "\n",
      "1 Failed download:\n",
      "['BPIA3.SA']: YFPricesMissingError('$%ticker%: possibly delisted; No price data found  (1d 2017-02-24 -> 2024-07-10)')\n"
     ]
    },
    {
     "name": "stdout",
     "output_type": "stream",
     "text": [
      "$BPIA3.SA: possibly delisted; No price data found  (1d 2017-02-24 -> 2024-07-10)\n"
     ]
    },
    {
     "name": "stderr",
     "output_type": "stream",
     "text": [
      "[*********************100%%**********************]  1 of 1 completed\n",
      "\n",
      "1 Failed download:\n",
      "['BPAR3.SA']: YFTzMissingError('$%ticker%: possibly delisted; No timezone found')\n",
      "[*********************100%%**********************]  1 of 1 completed\n",
      "[*********************100%%**********************]  1 of 1 completed\n",
      "\n",
      "1 Failed download:\n",
      "['DSUL3.SA']: YFTzMissingError('$%ticker%: possibly delisted; No timezone found')\n",
      "[*********************100%%**********************]  1 of 1 completed\n",
      "[*********************100%%**********************]  1 of 1 completed\n",
      "[*********************100%%**********************]  1 of 1 completed\n",
      "[*********************100%%**********************]  1 of 1 completed\n",
      "[*********************100%%**********************]  1 of 1 completed\n",
      "[*********************100%%**********************]  1 of 1 completed\n",
      "\n",
      "1 Failed download:\n",
      "['RNPT4.SA']: YFPricesMissingError('$%ticker%: possibly delisted; No price data found  (1d 2017-02-24 -> 2024-07-10)')\n"
     ]
    },
    {
     "name": "stdout",
     "output_type": "stream",
     "text": [
      "$RNPT4.SA: possibly delisted; No price data found  (1d 2017-02-24 -> 2024-07-10)\n"
     ]
    },
    {
     "name": "stderr",
     "output_type": "stream",
     "text": [
      "[*********************100%%**********************]  1 of 1 completed\n",
      "\n",
      "1 Failed download:\n",
      "['RNPT3.SA']: YFPricesMissingError('$%ticker%: possibly delisted; No price data found  (1d 2017-02-24 -> 2024-07-10)')\n"
     ]
    },
    {
     "name": "stdout",
     "output_type": "stream",
     "text": [
      "$RNPT3.SA: possibly delisted; No price data found  (1d 2017-02-24 -> 2024-07-10)\n"
     ]
    },
    {
     "name": "stderr",
     "output_type": "stream",
     "text": [
      "[*********************100%%**********************]  1 of 1 completed\n",
      "[*********************100%%**********************]  1 of 1 completed\n",
      "\n",
      "1 Failed download:\n",
      "['ETER4.SA']: YFPricesMissingError('$%ticker%: possibly delisted; No price data found  (1d 2017-02-24 -> 2024-07-10)')\n"
     ]
    },
    {
     "name": "stdout",
     "output_type": "stream",
     "text": [
      "$ETER4.SA: possibly delisted; No price data found  (1d 2017-02-24 -> 2024-07-10)\n"
     ]
    },
    {
     "name": "stderr",
     "output_type": "stream",
     "text": [
      "[*********************100%%**********************]  1 of 1 completed\n",
      "[*********************100%%**********************]  1 of 1 completed\n",
      "[*********************100%%**********************]  1 of 1 completed\n",
      "[*********************100%%**********************]  1 of 1 completed\n",
      "[*********************100%%**********************]  1 of 1 completed\n",
      "[*********************100%%**********************]  1 of 1 completed\n",
      "[*********************100%%**********************]  1 of 1 completed\n",
      "\n",
      "1 Failed download:\n",
      "['ELPL6.SA']: YFTzMissingError('$%ticker%: possibly delisted; No timezone found')\n",
      "[*********************100%%**********************]  1 of 1 completed\n",
      "[*********************100%%**********************]  1 of 1 completed\n",
      "[*********************100%%**********************]  1 of 1 completed\n",
      "\n",
      "1 Failed download:\n",
      "['ELPL5.SA']: YFTzMissingError('$%ticker%: possibly delisted; No timezone found')\n",
      "[*********************100%%**********************]  1 of 1 completed\n",
      "[*********************100%%**********************]  1 of 1 completed\n",
      "\n",
      "1 Failed download:\n",
      "['ALLL11.SA']: YFPricesMissingError('$%ticker%: possibly delisted; No price data found  (1d 2017-02-24 -> 2024-07-10)')\n"
     ]
    },
    {
     "name": "stdout",
     "output_type": "stream",
     "text": [
      "$ALLL11.SA: possibly delisted; No price data found  (1d 2017-02-24 -> 2024-07-10)\n"
     ]
    },
    {
     "name": "stderr",
     "output_type": "stream",
     "text": [
      "[*********************100%%**********************]  1 of 1 completed\n",
      "\n",
      "1 Failed download:\n",
      "['ALLL4.SA']: YFPricesMissingError('$%ticker%: possibly delisted; No price data found  (1d 2017-02-24 -> 2024-07-10)')\n"
     ]
    },
    {
     "name": "stdout",
     "output_type": "stream",
     "text": [
      "$ALLL4.SA: possibly delisted; No price data found  (1d 2017-02-24 -> 2024-07-10)\n"
     ]
    },
    {
     "name": "stderr",
     "output_type": "stream",
     "text": [
      "[*********************100%%**********************]  1 of 1 completed\n",
      "\n",
      "1 Failed download:\n",
      "['TIET11.SA']: YFTzMissingError('$%ticker%: possibly delisted; No timezone found')\n",
      "[*********************100%%**********************]  1 of 1 completed\n",
      "\n",
      "1 Failed download:\n",
      "['TIET3.SA']: YFTzMissingError('$%ticker%: possibly delisted; No timezone found')\n",
      "[*********************100%%**********************]  1 of 1 completed\n",
      "[*********************100%%**********************]  1 of 1 completed\n",
      "\n",
      "1 Failed download:\n",
      "['TIET4.SA']: YFTzMissingError('$%ticker%: possibly delisted; No timezone found')\n",
      "[*********************100%%**********************]  1 of 1 completed\n",
      "[*********************100%%**********************]  1 of 1 completed\n",
      "[*********************100%%**********************]  1 of 1 completed\n",
      "[*********************100%%**********************]  1 of 1 completed\n",
      "[*********************100%%**********************]  1 of 1 completed\n",
      "[*********************100%%**********************]  1 of 1 completed\n",
      "[*********************100%%**********************]  1 of 1 completed\n",
      "[*********************100%%**********************]  1 of 1 completed\n",
      "[*********************100%%**********************]  1 of 1 completed\n",
      "[*********************100%%**********************]  1 of 1 completed\n",
      "\n",
      "1 Failed download:\n",
      "['EEEL4.SA']: YFTzMissingError('$%ticker%: possibly delisted; No timezone found')\n",
      "[*********************100%%**********************]  1 of 1 completed\n",
      "[*********************100%%**********************]  1 of 1 completed\n",
      "[*********************100%%**********************]  1 of 1 completed\n",
      "[*********************100%%**********************]  1 of 1 completed\n",
      "\n",
      "1 Failed download:\n",
      "['CIQU4.SA']: YFPricesMissingError('$%ticker%: possibly delisted; No price data found  (1d 2017-02-24 -> 2024-07-10)')\n"
     ]
    },
    {
     "name": "stdout",
     "output_type": "stream",
     "text": [
      "$CIQU4.SA: possibly delisted; No price data found  (1d 2017-02-24 -> 2024-07-10)\n"
     ]
    },
    {
     "name": "stderr",
     "output_type": "stream",
     "text": [
      "[*********************100%%**********************]  1 of 1 completed\n",
      "\n",
      "1 Failed download:\n",
      "['CIQU3.SA']: YFPricesMissingError('$%ticker%: possibly delisted; No price data found  (1d 2017-02-24 -> 2024-07-10)')\n"
     ]
    },
    {
     "name": "stdout",
     "output_type": "stream",
     "text": [
      "$CIQU3.SA: possibly delisted; No price data found  (1d 2017-02-24 -> 2024-07-10)\n"
     ]
    },
    {
     "name": "stderr",
     "output_type": "stream",
     "text": [
      "[*********************100%%**********************]  1 of 1 completed\n",
      "[*********************100%%**********************]  1 of 1 completed\n",
      "\n",
      "1 Failed download:\n",
      "['EEEL3.SA']: YFTzMissingError('$%ticker%: possibly delisted; No timezone found')\n",
      "[*********************100%%**********************]  1 of 1 completed\n",
      "[*********************100%%**********************]  1 of 1 completed\n",
      "[*********************100%%**********************]  1 of 1 completed\n",
      "[*********************100%%**********************]  1 of 1 completed\n",
      "[*********************100%%**********************]  1 of 1 completed\n",
      "[*********************100%%**********************]  1 of 1 completed\n",
      "[*********************100%%**********************]  1 of 1 completed\n",
      "[*********************100%%**********************]  1 of 1 completed\n",
      "[*********************100%%**********************]  1 of 1 completed\n",
      "[*********************100%%**********************]  1 of 1 completed\n",
      "[*********************100%%**********************]  1 of 1 completed\n",
      "[*********************100%%**********************]  1 of 1 completed\n",
      "[*********************100%%**********************]  1 of 1 completed\n",
      "[*********************100%%**********************]  1 of 1 completed\n",
      "\n",
      "1 Failed download:\n",
      "['ALLL3.SA']: YFPricesMissingError('$%ticker%: possibly delisted; No price data found  (1d 2017-02-24 -> 2024-07-10)')\n"
     ]
    },
    {
     "name": "stdout",
     "output_type": "stream",
     "text": [
      "$ALLL3.SA: possibly delisted; No price data found  (1d 2017-02-24 -> 2024-07-10)\n"
     ]
    },
    {
     "name": "stderr",
     "output_type": "stream",
     "text": [
      "[*********************100%%**********************]  1 of 1 completed\n",
      "[*********************100%%**********************]  1 of 1 completed\n",
      "[*********************100%%**********************]  1 of 1 completed\n",
      "[*********************100%%**********************]  1 of 1 completed\n",
      "[*********************100%%**********************]  1 of 1 completed\n",
      "[*********************100%%**********************]  1 of 1 completed\n",
      "[*********************100%%**********************]  1 of 1 completed\n",
      "[*********************100%%**********************]  1 of 1 completed\n",
      "\n",
      "1 Failed download:\n",
      "['GETT4.SA']: YFTzMissingError('$%ticker%: possibly delisted; No timezone found')\n",
      "[*********************100%%**********************]  1 of 1 completed\n",
      "\n",
      "1 Failed download:\n",
      "['GETT3.SA']: YFTzMissingError('$%ticker%: possibly delisted; No timezone found')\n",
      "[*********************100%%**********************]  1 of 1 completed\n",
      "[*********************100%%**********************]  1 of 1 completed\n",
      "[*********************100%%**********************]  1 of 1 completed\n",
      "[*********************100%%**********************]  1 of 1 completed\n",
      "[*********************100%%**********************]  1 of 1 completed\n",
      "[*********************100%%**********************]  1 of 1 completed\n",
      "[*********************100%%**********************]  1 of 1 completed\n",
      "\n",
      "1 Failed download:\n",
      "['DPPI4.SA']: YFPricesMissingError('$%ticker%: possibly delisted; No price data found  (1d 2017-02-24 -> 2024-07-10)')\n"
     ]
    },
    {
     "name": "stdout",
     "output_type": "stream",
     "text": [
      "$DPPI4.SA: possibly delisted; No price data found  (1d 2017-02-24 -> 2024-07-10)\n"
     ]
    },
    {
     "name": "stderr",
     "output_type": "stream",
     "text": [
      "[*********************100%%**********************]  1 of 1 completed\n",
      "[*********************100%%**********************]  1 of 1 completed\n",
      "[*********************100%%**********************]  1 of 1 completed\n",
      "[*********************100%%**********************]  1 of 1 completed\n",
      "\n",
      "1 Failed download:\n",
      "['CCTU4.SA']: YFPricesMissingError('$%ticker%: possibly delisted; No price data found  (1d 2017-02-24 -> 2024-07-10)')\n"
     ]
    },
    {
     "name": "stdout",
     "output_type": "stream",
     "text": [
      "$CCTU4.SA: possibly delisted; No price data found  (1d 2017-02-24 -> 2024-07-10)\n"
     ]
    },
    {
     "name": "stderr",
     "output_type": "stream",
     "text": [
      "[*********************100%%**********************]  1 of 1 completed\n",
      "[*********************100%%**********************]  1 of 1 completed\n",
      "[*********************100%%**********************]  1 of 1 completed\n",
      "[*********************100%%**********************]  1 of 1 completed\n",
      "[*********************100%%**********************]  1 of 1 completed\n",
      "[*********************100%%**********************]  1 of 1 completed\n",
      "[*********************100%%**********************]  1 of 1 completed\n",
      "[*********************100%%**********************]  1 of 1 completed\n",
      "[*********************100%%**********************]  1 of 1 completed\n",
      "[*********************100%%**********************]  1 of 1 completed\n",
      "\n",
      "1 Failed download:\n",
      "['LEVE4.SA']: YFPricesMissingError('$%ticker%: possibly delisted; No price data found  (1d 2017-02-24 -> 2024-07-10)')\n"
     ]
    },
    {
     "name": "stdout",
     "output_type": "stream",
     "text": [
      "$LEVE4.SA: possibly delisted; No price data found  (1d 2017-02-24 -> 2024-07-10)\n"
     ]
    },
    {
     "name": "stderr",
     "output_type": "stream",
     "text": [
      "[*********************100%%**********************]  1 of 1 completed\n",
      "[*********************100%%**********************]  1 of 1 completed\n",
      "[*********************100%%**********************]  1 of 1 completed\n",
      "[*********************100%%**********************]  1 of 1 completed\n",
      "[*********************100%%**********************]  1 of 1 completed\n",
      "[*********************100%%**********************]  1 of 1 completed\n",
      "[*********************100%%**********************]  1 of 1 completed\n",
      "\n",
      "1 Failed download:\n",
      "['WSON33.SA']: YFTzMissingError('$%ticker%: possibly delisted; No timezone found')\n",
      "[*********************100%%**********************]  1 of 1 completed\n",
      "\n",
      "1 Failed download:\n",
      "['CMET4.SA']: YFPricesMissingError('$%ticker%: possibly delisted; No price data found  (1d 2017-02-24 -> 2024-07-10)')\n"
     ]
    },
    {
     "name": "stdout",
     "output_type": "stream",
     "text": [
      "$CMET4.SA: possibly delisted; No price data found  (1d 2017-02-24 -> 2024-07-10)\n"
     ]
    },
    {
     "name": "stderr",
     "output_type": "stream",
     "text": [
      "[*********************100%%**********************]  1 of 1 completed\n",
      "\n",
      "1 Failed download:\n",
      "['RDTR3.SA']: YFPricesMissingError('$%ticker%: possibly delisted; No price data found  (1d 2017-02-24 -> 2024-07-10)')\n"
     ]
    },
    {
     "name": "stdout",
     "output_type": "stream",
     "text": [
      "$RDTR3.SA: possibly delisted; No price data found  (1d 2017-02-24 -> 2024-07-10)\n"
     ]
    },
    {
     "name": "stderr",
     "output_type": "stream",
     "text": [
      "[*********************100%%**********************]  1 of 1 completed\n",
      "[*********************100%%**********************]  1 of 1 completed\n",
      "[*********************100%%**********************]  1 of 1 completed\n",
      "[*********************100%%**********************]  1 of 1 completed\n",
      "[*********************100%%**********************]  1 of 1 completed\n",
      "[*********************100%%**********************]  1 of 1 completed\n",
      "[*********************100%%**********************]  1 of 1 completed\n",
      "[*********************100%%**********************]  1 of 1 completed\n",
      "\n",
      "1 Failed download:\n",
      "['CPRE3.SA']: YFTzMissingError('$%ticker%: possibly delisted; No timezone found')\n",
      "[*********************100%%**********************]  1 of 1 completed\n",
      "[*********************100%%**********************]  1 of 1 completed\n",
      "[*********************100%%**********************]  1 of 1 completed\n",
      "[*********************100%%**********************]  1 of 1 completed\n",
      "[*********************100%%**********************]  1 of 1 completed\n",
      "[*********************100%%**********************]  1 of 1 completed\n",
      "\n",
      "1 Failed download:\n",
      "['AGIN3.SA']: YFTzMissingError('$%ticker%: possibly delisted; No timezone found')\n",
      "[*********************100%%**********************]  1 of 1 completed\n",
      "[*********************100%%**********************]  1 of 1 completed\n",
      "[*********************100%%**********************]  1 of 1 completed\n",
      "\n",
      "1 Failed download:\n",
      "['CPSL3.SA']: YFPricesMissingError('$%ticker%: possibly delisted; No price data found  (1d 2017-02-24 -> 2024-07-10)')\n"
     ]
    },
    {
     "name": "stdout",
     "output_type": "stream",
     "text": [
      "$CPSL3.SA: possibly delisted; No price data found  (1d 2017-02-24 -> 2024-07-10)\n"
     ]
    },
    {
     "name": "stderr",
     "output_type": "stream",
     "text": [
      "[*********************100%%**********************]  1 of 1 completed\n",
      "[*********************100%%**********************]  1 of 1 completed\n",
      "\n",
      "1 Failed download:\n",
      "['TMGC12.SA']: YFPricesMissingError('$%ticker%: possibly delisted; No price data found  (1d 2017-02-24 -> 2024-07-10)')\n"
     ]
    },
    {
     "name": "stdout",
     "output_type": "stream",
     "text": [
      "$TMGC12.SA: possibly delisted; No price data found  (1d 2017-02-24 -> 2024-07-10)\n"
     ]
    },
    {
     "name": "stderr",
     "output_type": "stream",
     "text": [
      "[*********************100%%**********************]  1 of 1 completed\n",
      "\n",
      "1 Failed download:\n",
      "['ACES4.SA']: YFPricesMissingError('$%ticker%: possibly delisted; No price data found  (1d 2017-02-24 -> 2024-07-10)')\n"
     ]
    },
    {
     "name": "stdout",
     "output_type": "stream",
     "text": [
      "$ACES4.SA: possibly delisted; No price data found  (1d 2017-02-24 -> 2024-07-10)\n"
     ]
    },
    {
     "name": "stderr",
     "output_type": "stream",
     "text": [
      "[*********************100%%**********************]  1 of 1 completed\n",
      "\n",
      "1 Failed download:\n",
      "['ACES3.SA']: YFPricesMissingError('$%ticker%: possibly delisted; No price data found  (1d 2017-02-24 -> 2024-07-10)')\n"
     ]
    },
    {
     "name": "stdout",
     "output_type": "stream",
     "text": [
      "$ACES3.SA: possibly delisted; No price data found  (1d 2017-02-24 -> 2024-07-10)\n"
     ]
    },
    {
     "name": "stderr",
     "output_type": "stream",
     "text": [
      "[*********************100%%**********************]  1 of 1 completed\n",
      "[*********************100%%**********************]  1 of 1 completed\n",
      "[*********************100%%**********************]  1 of 1 completed\n",
      "[*********************100%%**********************]  1 of 1 completed\n",
      "[*********************100%%**********************]  1 of 1 completed\n",
      "[*********************100%%**********************]  1 of 1 completed\n",
      "\n",
      "1 Failed download:\n",
      "['CZRS4.SA']: YFPricesMissingError('$%ticker%: possibly delisted; No price data found  (1d 2017-02-24 -> 2024-07-10)')\n"
     ]
    },
    {
     "name": "stdout",
     "output_type": "stream",
     "text": [
      "$CZRS4.SA: possibly delisted; No price data found  (1d 2017-02-24 -> 2024-07-10)\n"
     ]
    },
    {
     "name": "stderr",
     "output_type": "stream",
     "text": [
      "[*********************100%%**********************]  1 of 1 completed\n",
      "[*********************100%%**********************]  1 of 1 completed\n",
      "[*********************100%%**********************]  1 of 1 completed\n",
      "\n",
      "1 Failed download:\n",
      "['AFLU5.SA']: YFPricesMissingError('$%ticker%: possibly delisted; No price data found  (1d 2017-02-24 -> 2024-07-10)')\n"
     ]
    },
    {
     "name": "stdout",
     "output_type": "stream",
     "text": [
      "$AFLU5.SA: possibly delisted; No price data found  (1d 2017-02-24 -> 2024-07-10)\n"
     ]
    },
    {
     "name": "stderr",
     "output_type": "stream",
     "text": [
      "[*********************100%%**********************]  1 of 1 completed\n",
      "\n",
      "1 Failed download:\n",
      "['VIVO3.SA']: YFTzMissingError('$%ticker%: possibly delisted; No timezone found')\n",
      "[*********************100%%**********************]  1 of 1 completed\n",
      "[*********************100%%**********************]  1 of 1 completed\n",
      "[*********************100%%**********************]  1 of 1 completed\n",
      "[*********************100%%**********************]  1 of 1 completed\n",
      "\n",
      "1 Failed download:\n",
      "['CNFB4.SA']: YFPricesMissingError('$%ticker%: possibly delisted; No price data found  (1d 2017-02-24 -> 2024-07-10)')\n"
     ]
    },
    {
     "name": "stdout",
     "output_type": "stream",
     "text": [
      "$CNFB4.SA: possibly delisted; No price data found  (1d 2017-02-24 -> 2024-07-10)\n"
     ]
    },
    {
     "name": "stderr",
     "output_type": "stream",
     "text": [
      "[*********************100%%**********************]  1 of 1 completed\n",
      "[*********************100%%**********************]  1 of 1 completed\n",
      "\n",
      "1 Failed download:\n",
      "['AFLU3.SA']: YFPricesMissingError('$%ticker%: possibly delisted; No price data found  (1d 2017-02-24 -> 2024-07-10)')\n"
     ]
    },
    {
     "name": "stdout",
     "output_type": "stream",
     "text": [
      "$AFLU3.SA: possibly delisted; No price data found  (1d 2017-02-24 -> 2024-07-10)\n"
     ]
    },
    {
     "name": "stderr",
     "output_type": "stream",
     "text": [
      "[*********************100%%**********************]  1 of 1 completed\n",
      "[*********************100%%**********************]  1 of 1 completed\n",
      "[*********************100%%**********************]  1 of 1 completed\n",
      "[*********************100%%**********************]  1 of 1 completed\n",
      "[*********************100%%**********************]  1 of 1 completed\n",
      "\n",
      "1 Failed download:\n",
      "['MRSL4.SA']: YFPricesMissingError('$%ticker%: possibly delisted; No price data found  (1d 2017-02-24 -> 2024-07-10)')\n"
     ]
    },
    {
     "name": "stdout",
     "output_type": "stream",
     "text": [
      "$MRSL4.SA: possibly delisted; No price data found  (1d 2017-02-24 -> 2024-07-10)\n"
     ]
    },
    {
     "name": "stderr",
     "output_type": "stream",
     "text": [
      "[*********************100%%**********************]  1 of 1 completed\n",
      "[*********************100%%**********************]  1 of 1 completed\n",
      "[*********************100%%**********************]  1 of 1 completed\n",
      "[*********************100%%**********************]  1 of 1 completed\n",
      "[*********************100%%**********************]  1 of 1 completed\n",
      "\n",
      "1 Failed download:\n",
      "['ELPL3.SA']: YFTzMissingError('$%ticker%: possibly delisted; No timezone found')\n",
      "[*********************100%%**********************]  1 of 1 completed\n",
      "[*********************100%%**********************]  1 of 1 completed\n",
      "[*********************100%%**********************]  1 of 1 completed\n",
      "[*********************100%%**********************]  1 of 1 completed\n",
      "\n",
      "1 Failed download:\n",
      "['CTWR3.SA']: YFPricesMissingError('$%ticker%: possibly delisted; No price data found  (1d 2017-02-24 -> 2024-07-10)')\n"
     ]
    },
    {
     "name": "stdout",
     "output_type": "stream",
     "text": [
      "$CTWR3.SA: possibly delisted; No price data found  (1d 2017-02-24 -> 2024-07-10)\n"
     ]
    },
    {
     "name": "stderr",
     "output_type": "stream",
     "text": [
      "[*********************100%%**********************]  1 of 1 completed\n",
      "[*********************100%%**********************]  1 of 1 completed\n",
      "\n",
      "1 Failed download:\n",
      "['VIVO4.SA']: YFTzMissingError('$%ticker%: possibly delisted; No timezone found')\n",
      "[*********************100%%**********************]  1 of 1 completed\n",
      "[*********************100%%**********************]  1 of 1 completed\n",
      "[*********************100%%**********************]  1 of 1 completed\n",
      "[*********************100%%**********************]  1 of 1 completed\n",
      "\n",
      "1 Failed download:\n",
      "['VULC4.SA']: YFPricesMissingError('$%ticker%: possibly delisted; No price data found  (1d 2017-02-24 -> 2024-07-10)')\n"
     ]
    },
    {
     "name": "stdout",
     "output_type": "stream",
     "text": [
      "$VULC4.SA: possibly delisted; No price data found  (1d 2017-02-24 -> 2024-07-10)\n"
     ]
    },
    {
     "name": "stderr",
     "output_type": "stream",
     "text": [
      "[*********************100%%**********************]  1 of 1 completed\n",
      "[*********************100%%**********************]  1 of 1 completed\n",
      "\n",
      "1 Failed download:\n",
      "['TCSL4.SA']: YFPricesMissingError('$%ticker%: possibly delisted; No price data found  (1d 2017-02-24 -> 2024-07-10)')\n"
     ]
    },
    {
     "name": "stdout",
     "output_type": "stream",
     "text": [
      "$TCSL4.SA: possibly delisted; No price data found  (1d 2017-02-24 -> 2024-07-10)\n"
     ]
    },
    {
     "name": "stderr",
     "output_type": "stream",
     "text": [
      "[*********************100%%**********************]  1 of 1 completed\n",
      "[*********************100%%**********************]  1 of 1 completed\n",
      "[*********************100%%**********************]  1 of 1 completed\n",
      "\n",
      "1 Failed download:\n",
      "['ENBR3.SA']: YFTzMissingError('$%ticker%: possibly delisted; No timezone found')\n",
      "[*********************100%%**********************]  1 of 1 completed\n",
      "[*********************100%%**********************]  1 of 1 completed\n",
      "[*********************100%%**********************]  1 of 1 completed\n",
      "\n",
      "1 Failed download:\n",
      "['MRSL3.SA']: YFPricesMissingError('$%ticker%: possibly delisted; No price data found  (1d 2017-02-24 -> 2024-07-10)')\n"
     ]
    },
    {
     "name": "stdout",
     "output_type": "stream",
     "text": [
      "$MRSL3.SA: possibly delisted; No price data found  (1d 2017-02-24 -> 2024-07-10)\n"
     ]
    },
    {
     "name": "stderr",
     "output_type": "stream",
     "text": [
      "[*********************100%%**********************]  1 of 1 completed\n",
      "[*********************100%%**********************]  1 of 1 completed\n",
      "\n",
      "1 Failed download:\n",
      "['TRFO3.SA']: YFPricesMissingError('$%ticker%: possibly delisted; No price data found  (1d 2017-02-24 -> 2024-07-10)')\n"
     ]
    },
    {
     "name": "stdout",
     "output_type": "stream",
     "text": [
      "$TRFO3.SA: possibly delisted; No price data found  (1d 2017-02-24 -> 2024-07-10)\n"
     ]
    },
    {
     "name": "stderr",
     "output_type": "stream",
     "text": [
      "[*********************100%%**********************]  1 of 1 completed\n",
      "\n",
      "1 Failed download:\n",
      "['BESP3.SA']: YFPricesMissingError('$%ticker%: possibly delisted; No price data found  (1d 2017-02-24 -> 2024-07-10)')\n"
     ]
    },
    {
     "name": "stdout",
     "output_type": "stream",
     "text": [
      "$BESP3.SA: possibly delisted; No price data found  (1d 2017-02-24 -> 2024-07-10)\n"
     ]
    },
    {
     "name": "stderr",
     "output_type": "stream",
     "text": [
      "[*********************100%%**********************]  1 of 1 completed\n",
      "\n",
      "1 Failed download:\n",
      "['TCOC4.SA']: YFPricesMissingError('$%ticker%: possibly delisted; No price data found  (1d 2017-02-24 -> 2024-07-10)')\n"
     ]
    },
    {
     "name": "stdout",
     "output_type": "stream",
     "text": [
      "$TCOC4.SA: possibly delisted; No price data found  (1d 2017-02-24 -> 2024-07-10)\n"
     ]
    },
    {
     "name": "stderr",
     "output_type": "stream",
     "text": [
      "[*********************100%%**********************]  1 of 1 completed\n",
      "[*********************100%%**********************]  1 of 1 completed\n",
      "[*********************100%%**********************]  1 of 1 completed\n",
      "\n",
      "1 Failed download:\n",
      "['TRFO4.SA']: YFPricesMissingError('$%ticker%: possibly delisted; No price data found  (1d 2017-02-24 -> 2024-07-10)')\n"
     ]
    },
    {
     "name": "stdout",
     "output_type": "stream",
     "text": [
      "$TRFO4.SA: possibly delisted; No price data found  (1d 2017-02-24 -> 2024-07-10)\n"
     ]
    },
    {
     "name": "stderr",
     "output_type": "stream",
     "text": [
      "[*********************100%%**********************]  1 of 1 completed\n",
      "[*********************100%%**********************]  1 of 1 completed\n",
      "[*********************100%%**********************]  1 of 1 completed\n",
      "[*********************100%%**********************]  1 of 1 completed\n",
      "[*********************100%%**********************]  1 of 1 completed\n",
      "[*********************100%%**********************]  1 of 1 completed\n",
      "[*********************100%%**********************]  1 of 1 completed\n",
      "\n",
      "1 Failed download:\n",
      "['SMLS3.SA']: YFTzMissingError('$%ticker%: possibly delisted; No timezone found')\n",
      "[*********************100%%**********************]  1 of 1 completed\n",
      "[*********************100%%**********************]  1 of 1 completed\n",
      "[*********************100%%**********************]  1 of 1 completed\n",
      "\n",
      "1 Failed download:\n",
      "['BESP4.SA']: YFPricesMissingError('$%ticker%: possibly delisted; No price data found  (1d 2017-02-24 -> 2024-07-10)')\n"
     ]
    },
    {
     "name": "stdout",
     "output_type": "stream",
     "text": [
      "$BESP4.SA: possibly delisted; No price data found  (1d 2017-02-24 -> 2024-07-10)\n"
     ]
    },
    {
     "name": "stderr",
     "output_type": "stream",
     "text": [
      "[*********************100%%**********************]  1 of 1 completed\n",
      "[*********************100%%**********************]  1 of 1 completed\n",
      "[*********************100%%**********************]  1 of 1 completed\n",
      "[*********************100%%**********************]  1 of 1 completed\n",
      "[*********************100%%**********************]  1 of 1 completed\n",
      "\n",
      "1 Failed download:\n",
      "['GRNL4.SA']: YFPricesMissingError('$%ticker%: possibly delisted; No price data found  (1d 2017-02-24 -> 2024-07-10)')\n"
     ]
    },
    {
     "name": "stdout",
     "output_type": "stream",
     "text": [
      "$GRNL4.SA: possibly delisted; No price data found  (1d 2017-02-24 -> 2024-07-10)\n"
     ]
    },
    {
     "name": "stderr",
     "output_type": "stream",
     "text": [
      "[*********************100%%**********************]  1 of 1 completed\n",
      "\n",
      "1 Failed download:\n",
      "['ELUM3.SA']: YFPricesMissingError('$%ticker%: possibly delisted; No price data found  (1d 2017-02-24 -> 2024-07-10)')\n"
     ]
    },
    {
     "name": "stdout",
     "output_type": "stream",
     "text": [
      "$ELUM3.SA: possibly delisted; No price data found  (1d 2017-02-24 -> 2024-07-10)\n"
     ]
    },
    {
     "name": "stderr",
     "output_type": "stream",
     "text": [
      "[*********************100%%**********************]  1 of 1 completed\n",
      "[*********************100%%**********************]  1 of 1 completed\n",
      "\n",
      "1 Failed download:\n",
      "['RIPI3.SA']: YFPricesMissingError('$%ticker%: possibly delisted; No price data found  (1d 2017-02-24 -> 2024-07-10)')\n"
     ]
    },
    {
     "name": "stdout",
     "output_type": "stream",
     "text": [
      "$RIPI3.SA: possibly delisted; No price data found  (1d 2017-02-24 -> 2024-07-10)\n"
     ]
    },
    {
     "name": "stderr",
     "output_type": "stream",
     "text": [
      "[*********************100%%**********************]  1 of 1 completed\n",
      "[*********************100%%**********************]  1 of 1 completed\n",
      "\n",
      "1 Failed download:\n",
      "['RIPI4.SA']: YFPricesMissingError('$%ticker%: possibly delisted; No price data found  (1d 2017-02-24 -> 2024-07-10)')\n"
     ]
    },
    {
     "name": "stdout",
     "output_type": "stream",
     "text": [
      "$RIPI4.SA: possibly delisted; No price data found  (1d 2017-02-24 -> 2024-07-10)\n"
     ]
    },
    {
     "name": "stderr",
     "output_type": "stream",
     "text": [
      "[*********************100%%**********************]  1 of 1 completed\n",
      "\n",
      "1 Failed download:\n",
      "['EBCO4.SA']: YFPricesMissingError('$%ticker%: possibly delisted; No price data found  (1d 2017-02-24 -> 2024-07-10)')\n"
     ]
    },
    {
     "name": "stdout",
     "output_type": "stream",
     "text": [
      "$EBCO4.SA: possibly delisted; No price data found  (1d 2017-02-24 -> 2024-07-10)\n"
     ]
    },
    {
     "name": "stderr",
     "output_type": "stream",
     "text": [
      "[*********************100%%**********************]  1 of 1 completed\n",
      "\n",
      "1 Failed download:\n",
      "['UGPA4.SA']: YFPricesMissingError('$%ticker%: possibly delisted; No price data found  (1d 2017-02-24 -> 2024-07-10)')\n"
     ]
    },
    {
     "name": "stdout",
     "output_type": "stream",
     "text": [
      "$UGPA4.SA: possibly delisted; No price data found  (1d 2017-02-24 -> 2024-07-10)\n"
     ]
    },
    {
     "name": "stderr",
     "output_type": "stream",
     "text": [
      "[*********************100%%**********************]  1 of 1 completed\n",
      "[*********************100%%**********************]  1 of 1 completed\n",
      "[*********************100%%**********************]  1 of 1 completed\n",
      "[*********************100%%**********************]  1 of 1 completed\n",
      "[*********************100%%**********************]  1 of 1 completed\n",
      "\n",
      "1 Failed download:\n",
      "['TEMP3.SA']: YFPricesMissingError('$%ticker%: possibly delisted; No price data found  (1d 2017-02-24 -> 2024-07-10)')\n"
     ]
    },
    {
     "name": "stdout",
     "output_type": "stream",
     "text": [
      "$TEMP3.SA: possibly delisted; No price data found  (1d 2017-02-24 -> 2024-07-10)\n"
     ]
    },
    {
     "name": "stderr",
     "output_type": "stream",
     "text": [
      "[*********************100%%**********************]  1 of 1 completed\n",
      "[*********************100%%**********************]  1 of 1 completed\n",
      "[*********************100%%**********************]  1 of 1 completed\n",
      "[*********************100%%**********************]  1 of 1 completed\n",
      "\n",
      "1 Failed download:\n",
      "['WEGE4.SA']: YFPricesMissingError('$%ticker%: possibly delisted; No price data found  (1d 2017-02-24 -> 2024-07-10)')\n"
     ]
    },
    {
     "name": "stdout",
     "output_type": "stream",
     "text": [
      "$WEGE4.SA: possibly delisted; No price data found  (1d 2017-02-24 -> 2024-07-10)\n"
     ]
    },
    {
     "name": "stderr",
     "output_type": "stream",
     "text": [
      "[*********************100%%**********************]  1 of 1 completed\n",
      "\n",
      "1 Failed download:\n",
      "['NAFG3.SA']: YFTzMissingError('$%ticker%: possibly delisted; No timezone found')\n",
      "[*********************100%%**********************]  1 of 1 completed\n",
      "\n",
      "1 Failed download:\n",
      "['NAFG4.SA']: YFTzMissingError('$%ticker%: possibly delisted; No timezone found')\n",
      "[*********************100%%**********************]  1 of 1 completed\n",
      "[*********************100%%**********************]  1 of 1 completed\n",
      "[*********************100%%**********************]  1 of 1 completed\n",
      "[*********************100%%**********************]  1 of 1 completed\n",
      "[*********************100%%**********************]  1 of 1 completed\n",
      "[*********************100%%**********************]  1 of 1 completed\n",
      "[*********************100%%**********************]  1 of 1 completed\n",
      "\n",
      "1 Failed download:\n",
      "['EBCO3.SA']: YFPricesMissingError('$%ticker%: possibly delisted; No price data found  (1d 2017-02-24 -> 2024-07-10)')\n"
     ]
    },
    {
     "name": "stdout",
     "output_type": "stream",
     "text": [
      "$EBCO3.SA: possibly delisted; No price data found  (1d 2017-02-24 -> 2024-07-10)\n"
     ]
    },
    {
     "name": "stderr",
     "output_type": "stream",
     "text": [
      "[*********************100%%**********************]  1 of 1 completed\n",
      "[*********************100%%**********************]  1 of 1 completed\n",
      "[*********************100%%**********************]  1 of 1 completed\n",
      "\n",
      "1 Failed download:\n",
      "['MPLU3.SA']: YFTzMissingError('$%ticker%: possibly delisted; No timezone found')\n",
      "[*********************100%%**********************]  1 of 1 completed\n",
      "[*********************100%%**********************]  1 of 1 completed\n",
      "[*********************100%%**********************]  1 of 1 completed\n",
      "[*********************100%%**********************]  1 of 1 completed\n",
      "\n",
      "1 Failed download:\n",
      "['AMPI3.SA']: YFPricesMissingError('$%ticker%: possibly delisted; No price data found  (1d 2017-02-24 -> 2024-07-10)')\n"
     ]
    },
    {
     "name": "stdout",
     "output_type": "stream",
     "text": [
      "$AMPI3.SA: possibly delisted; No price data found  (1d 2017-02-24 -> 2024-07-10)\n"
     ]
    },
    {
     "name": "stderr",
     "output_type": "stream",
     "text": [
      "[*********************100%%**********************]  1 of 1 completed\n",
      "[*********************100%%**********************]  1 of 1 completed\n",
      "\n",
      "1 Failed download:\n",
      "['TMGC7.SA']: YFPricesMissingError('$%ticker%: possibly delisted; No price data found  (1d 2017-02-24 -> 2024-07-10)')\n"
     ]
    },
    {
     "name": "stdout",
     "output_type": "stream",
     "text": [
      "$TMGC7.SA: possibly delisted; No price data found  (1d 2017-02-24 -> 2024-07-10)\n"
     ]
    },
    {
     "name": "stderr",
     "output_type": "stream",
     "text": [
      "[*********************100%%**********************]  1 of 1 completed\n",
      "[*********************100%%**********************]  1 of 1 completed\n",
      "[*********************100%%**********************]  1 of 1 completed\n",
      "\n",
      "1 Failed download:\n",
      "['AVIL3.SA']: YFPricesMissingError('$%ticker%: possibly delisted; No price data found  (1d 2017-02-24 -> 2024-07-10)')\n"
     ]
    },
    {
     "name": "stdout",
     "output_type": "stream",
     "text": [
      "$AVIL3.SA: possibly delisted; No price data found  (1d 2017-02-24 -> 2024-07-10)\n"
     ]
    },
    {
     "name": "stderr",
     "output_type": "stream",
     "text": [
      "[*********************100%%**********************]  1 of 1 completed\n",
      "\n",
      "1 Failed download:\n",
      "['DXTG4.SA']: YFPricesMissingError('$%ticker%: possibly delisted; No price data found  (1d 2017-02-24 -> 2024-07-10)')\n"
     ]
    },
    {
     "name": "stdout",
     "output_type": "stream",
     "text": [
      "$DXTG4.SA: possibly delisted; No price data found  (1d 2017-02-24 -> 2024-07-10)\n"
     ]
    },
    {
     "name": "stderr",
     "output_type": "stream",
     "text": [
      "[*********************100%%**********************]  1 of 1 completed\n",
      "[*********************100%%**********************]  1 of 1 completed\n",
      "\n",
      "1 Failed download:\n",
      "['SFSA4.SA']: YFPricesMissingError('$%ticker%: possibly delisted; No price data found  (1d 2017-02-24 -> 2024-07-10)')\n"
     ]
    },
    {
     "name": "stdout",
     "output_type": "stream",
     "text": [
      "$SFSA4.SA: possibly delisted; No price data found  (1d 2017-02-24 -> 2024-07-10)\n"
     ]
    },
    {
     "name": "stderr",
     "output_type": "stream",
     "text": [
      "[*********************100%%**********************]  1 of 1 completed\n",
      "[*********************100%%**********************]  1 of 1 completed\n",
      "[*********************100%%**********************]  1 of 1 completed\n",
      "[*********************100%%**********************]  1 of 1 completed\n",
      "\n",
      "1 Failed download:\n",
      "['GETI3.SA']: YFPricesMissingError('$%ticker%: possibly delisted; No price data found  (1d 2017-02-24 -> 2024-07-10)')\n"
     ]
    },
    {
     "name": "stdout",
     "output_type": "stream",
     "text": [
      "$GETI3.SA: possibly delisted; No price data found  (1d 2017-02-24 -> 2024-07-10)\n"
     ]
    },
    {
     "name": "stderr",
     "output_type": "stream",
     "text": [
      "[*********************100%%**********************]  1 of 1 completed\n",
      "[*********************100%%**********************]  1 of 1 completed\n",
      "\n",
      "1 Failed download:\n",
      "['GETI4.SA']: YFPricesMissingError('$%ticker%: possibly delisted; No price data found  (1d 2017-02-24 -> 2024-07-10)')\n"
     ]
    },
    {
     "name": "stdout",
     "output_type": "stream",
     "text": [
      "$GETI4.SA: possibly delisted; No price data found  (1d 2017-02-24 -> 2024-07-10)\n"
     ]
    },
    {
     "name": "stderr",
     "output_type": "stream",
     "text": [
      "[*********************100%%**********************]  1 of 1 completed\n",
      "[*********************100%%**********************]  1 of 1 completed\n",
      "[*********************100%%**********************]  1 of 1 completed\n",
      "[*********************100%%**********************]  1 of 1 completed\n",
      "[*********************100%%**********************]  1 of 1 completed\n",
      "\n",
      "1 Failed download:\n",
      "['RGEG3.SA']: YFPricesMissingError('$%ticker%: possibly delisted; No price data found  (1d 2017-02-24 -> 2024-07-10)')\n"
     ]
    },
    {
     "name": "stdout",
     "output_type": "stream",
     "text": [
      "$RGEG3.SA: possibly delisted; No price data found  (1d 2017-02-24 -> 2024-07-10)\n"
     ]
    },
    {
     "name": "stderr",
     "output_type": "stream",
     "text": [
      "[*********************100%%**********************]  1 of 1 completed\n",
      "[*********************100%%**********************]  1 of 1 completed\n",
      "[*********************100%%**********************]  1 of 1 completed\n",
      "[*********************100%%**********************]  1 of 1 completed\n",
      "[*********************100%%**********************]  1 of 1 completed\n",
      "[*********************100%%**********************]  1 of 1 completed\n",
      "[*********************100%%**********************]  1 of 1 completed\n",
      "\n",
      "1 Failed download:\n",
      "['CPLE11.SA']: YFTzMissingError('$%ticker%: possibly delisted; No timezone found')\n",
      "[*********************100%%**********************]  1 of 1 completed\n",
      "[*********************100%%**********************]  1 of 1 completed\n",
      "\n",
      "1 Failed download:\n",
      "['ARCE3.SA']: YFTzMissingError('$%ticker%: possibly delisted; No timezone found')\n",
      "[*********************100%%**********************]  1 of 1 completed\n",
      "[*********************100%%**********************]  1 of 1 completed\n",
      "\n",
      "1 Failed download:\n",
      "['TMGC11.SA']: YFPricesMissingError('$%ticker%: possibly delisted; No price data found  (1d 2017-02-24 -> 2024-07-10)')\n"
     ]
    },
    {
     "name": "stdout",
     "output_type": "stream",
     "text": [
      "$TMGC11.SA: possibly delisted; No price data found  (1d 2017-02-24 -> 2024-07-10)\n"
     ]
    },
    {
     "name": "stderr",
     "output_type": "stream",
     "text": [
      "[*********************100%%**********************]  1 of 1 completed\n",
      "[*********************100%%**********************]  1 of 1 completed\n",
      "\n",
      "1 Failed download:\n",
      "['TNCP4.SA']: YFPricesMissingError('$%ticker%: possibly delisted; No price data found  (1d 2017-02-24 -> 2024-07-10)')\n"
     ]
    },
    {
     "name": "stdout",
     "output_type": "stream",
     "text": [
      "$TNCP4.SA: possibly delisted; No price data found  (1d 2017-02-24 -> 2024-07-10)\n"
     ]
    },
    {
     "name": "stderr",
     "output_type": "stream",
     "text": [
      "[*********************100%%**********************]  1 of 1 completed\n",
      "\n",
      "1 Failed download:\n",
      "['TNCP3.SA']: YFPricesMissingError('$%ticker%: possibly delisted; No price data found  (1d 2017-02-24 -> 2024-07-10)')\n"
     ]
    },
    {
     "name": "stdout",
     "output_type": "stream",
     "text": [
      "$TNCP3.SA: possibly delisted; No price data found  (1d 2017-02-24 -> 2024-07-10)\n"
     ]
    },
    {
     "name": "stderr",
     "output_type": "stream",
     "text": [
      "[*********************100%%**********************]  1 of 1 completed\n",
      "[*********************100%%**********************]  1 of 1 completed\n",
      "[*********************100%%**********************]  1 of 1 completed\n",
      "\n",
      "1 Failed download:\n",
      "['TUPY4.SA']: YFPricesMissingError('$%ticker%: possibly delisted; No price data found  (1d 2017-02-24 -> 2024-07-10)')\n"
     ]
    },
    {
     "name": "stdout",
     "output_type": "stream",
     "text": [
      "$TUPY4.SA: possibly delisted; No price data found  (1d 2017-02-24 -> 2024-07-10)\n"
     ]
    },
    {
     "name": "stderr",
     "output_type": "stream",
     "text": [
      "[*********************100%%**********************]  1 of 1 completed\n",
      "[*********************100%%**********************]  1 of 1 completed\n",
      "\n",
      "1 Failed download:\n",
      "['KSSA3.SA']: YFTzMissingError('$%ticker%: possibly delisted; No timezone found')\n",
      "[*********************100%%**********************]  1 of 1 completed\n",
      "[*********************100%%**********************]  1 of 1 completed\n",
      "[*********************100%%**********************]  1 of 1 completed\n",
      "\n",
      "1 Failed download:\n",
      "['VIVT4.SA']: YFTzMissingError('$%ticker%: possibly delisted; No timezone found')\n",
      "[*********************100%%**********************]  1 of 1 completed\n",
      "[*********************100%%**********************]  1 of 1 completed\n",
      "\n",
      "1 Failed download:\n",
      "['ELUM4.SA']: YFPricesMissingError('$%ticker%: possibly delisted; No price data found  (1d 2017-02-24 -> 2024-07-10)')\n"
     ]
    },
    {
     "name": "stdout",
     "output_type": "stream",
     "text": [
      "$ELUM4.SA: possibly delisted; No price data found  (1d 2017-02-24 -> 2024-07-10)\n"
     ]
    },
    {
     "name": "stderr",
     "output_type": "stream",
     "text": [
      "[*********************100%%**********************]  1 of 1 completed\n",
      "[*********************100%%**********************]  1 of 1 completed\n",
      "\n",
      "1 Failed download:\n",
      "['TCOC3.SA']: YFPricesMissingError('$%ticker%: possibly delisted; No price data found  (1d 2017-02-24 -> 2024-07-10)')\n"
     ]
    },
    {
     "name": "stdout",
     "output_type": "stream",
     "text": [
      "$TCOC3.SA: possibly delisted; No price data found  (1d 2017-02-24 -> 2024-07-10)\n"
     ]
    },
    {
     "name": "stderr",
     "output_type": "stream",
     "text": [
      "[*********************100%%**********************]  1 of 1 completed\n",
      "\n",
      "1 Failed download:\n",
      "['RDCD3.SA']: YFPricesMissingError('$%ticker%: possibly delisted; No price data found  (1d 2017-02-24 -> 2024-07-10)')\n"
     ]
    },
    {
     "name": "stdout",
     "output_type": "stream",
     "text": [
      "$RDCD3.SA: possibly delisted; No price data found  (1d 2017-02-24 -> 2024-07-10)\n"
     ]
    },
    {
     "name": "stderr",
     "output_type": "stream",
     "text": [
      "[*********************100%%**********************]  1 of 1 completed\n",
      "[*********************100%%**********************]  1 of 1 completed\n",
      "\n",
      "1 Failed download:\n",
      "['BOAS3.SA']: YFTzMissingError('$%ticker%: possibly delisted; No timezone found')\n",
      "[*********************100%%**********************]  1 of 1 completed\n",
      "\n",
      "1 Failed download:\n",
      "['TMGC13.SA']: YFPricesMissingError('$%ticker%: possibly delisted; No price data found  (1d 2017-02-24 -> 2024-07-10)')\n"
     ]
    },
    {
     "name": "stdout",
     "output_type": "stream",
     "text": [
      "$TMGC13.SA: possibly delisted; No price data found  (1d 2017-02-24 -> 2024-07-10)\n"
     ]
    },
    {
     "name": "stderr",
     "output_type": "stream",
     "text": [
      "[*********************100%%**********************]  1 of 1 completed\n",
      "\n",
      "1 Failed download:\n",
      "['BEMA3.SA']: YFPricesMissingError('$%ticker%: possibly delisted; No price data found  (1d 2017-02-24 -> 2024-07-10)')\n"
     ]
    },
    {
     "name": "stdout",
     "output_type": "stream",
     "text": [
      "$BEMA3.SA: possibly delisted; No price data found  (1d 2017-02-24 -> 2024-07-10)\n"
     ]
    },
    {
     "name": "stderr",
     "output_type": "stream",
     "text": [
      "[*********************100%%**********************]  1 of 1 completed\n",
      "[*********************100%%**********************]  1 of 1 completed\n",
      "[*********************100%%**********************]  1 of 1 completed\n",
      "[*********************100%%**********************]  1 of 1 completed\n",
      "[*********************100%%**********************]  1 of 1 completed\n",
      "\n",
      "1 Failed download:\n",
      "['ESTC11.SA']: YFTzMissingError('$%ticker%: possibly delisted; No timezone found')\n",
      "[*********************100%%**********************]  1 of 1 completed\n",
      "\n",
      "1 Failed download:\n",
      "['ILMD3.SA']: YFPricesMissingError('$%ticker%: possibly delisted; No price data found  (1d 2017-02-24 -> 2024-07-10)')\n"
     ]
    },
    {
     "name": "stdout",
     "output_type": "stream",
     "text": [
      "$ILMD3.SA: possibly delisted; No price data found  (1d 2017-02-24 -> 2024-07-10)\n"
     ]
    },
    {
     "name": "stderr",
     "output_type": "stream",
     "text": [
      "[*********************100%%**********************]  1 of 1 completed\n",
      "[*********************100%%**********************]  1 of 1 completed\n",
      "[*********************100%%**********************]  1 of 1 completed\n",
      "\n",
      "1 Failed download:\n",
      "['CRTP5.SA']: YFPricesMissingError('$%ticker%: possibly delisted; No price data found  (1d 2017-02-24 -> 2024-07-10)')\n"
     ]
    },
    {
     "name": "stdout",
     "output_type": "stream",
     "text": [
      "$CRTP5.SA: possibly delisted; No price data found  (1d 2017-02-24 -> 2024-07-10)\n"
     ]
    },
    {
     "name": "stderr",
     "output_type": "stream",
     "text": [
      "[*********************100%%**********************]  1 of 1 completed\n",
      "[*********************100%%**********************]  1 of 1 completed\n",
      "\n",
      "1 Failed download:\n",
      "['ILMD4.SA']: YFPricesMissingError('$%ticker%: possibly delisted; No price data found  (1d 2017-02-24 -> 2024-07-10)')\n"
     ]
    },
    {
     "name": "stdout",
     "output_type": "stream",
     "text": [
      "$ILMD4.SA: possibly delisted; No price data found  (1d 2017-02-24 -> 2024-07-10)\n"
     ]
    },
    {
     "name": "stderr",
     "output_type": "stream",
     "text": [
      "[*********************100%%**********************]  1 of 1 completed\n",
      "[*********************100%%**********************]  1 of 1 completed\n",
      "\n",
      "1 Failed download:\n",
      "['DURA4.SA']: YFPricesMissingError('$%ticker%: possibly delisted; No price data found  (1d 2017-02-24 -> 2024-07-10)')\n"
     ]
    },
    {
     "name": "stdout",
     "output_type": "stream",
     "text": [
      "$DURA4.SA: possibly delisted; No price data found  (1d 2017-02-24 -> 2024-07-10)\n"
     ]
    },
    {
     "name": "stderr",
     "output_type": "stream",
     "text": [
      "[*********************100%%**********************]  1 of 1 completed\n",
      "[*********************100%%**********************]  1 of 1 completed\n",
      "\n",
      "1 Failed download:\n",
      "['DURA3.SA']: YFPricesMissingError('$%ticker%: possibly delisted; No price data found  (1d 2017-02-24 -> 2024-07-10)')\n"
     ]
    },
    {
     "name": "stdout",
     "output_type": "stream",
     "text": [
      "$DURA3.SA: possibly delisted; No price data found  (1d 2017-02-24 -> 2024-07-10)\n"
     ]
    },
    {
     "name": "stderr",
     "output_type": "stream",
     "text": [
      "[*********************100%%**********************]  1 of 1 completed\n",
      "\n",
      "1 Failed download:\n",
      "['DPPI3.SA']: YFPricesMissingError('$%ticker%: possibly delisted; No price data found  (1d 2017-02-24 -> 2024-07-10)')\n"
     ]
    },
    {
     "name": "stdout",
     "output_type": "stream",
     "text": [
      "$DPPI3.SA: possibly delisted; No price data found  (1d 2017-02-24 -> 2024-07-10)\n"
     ]
    },
    {
     "name": "stderr",
     "output_type": "stream",
     "text": [
      "[*********************100%%**********************]  1 of 1 completed\n",
      "[*********************100%%**********************]  1 of 1 completed\n",
      "[*********************100%%**********************]  1 of 1 completed\n",
      "[*********************100%%**********************]  1 of 1 completed\n",
      "[*********************100%%**********************]  1 of 1 completed\n",
      "[*********************100%%**********************]  1 of 1 completed\n",
      "[*********************100%%**********************]  1 of 1 completed\n",
      "\n",
      "1 Failed download:\n",
      "['TIMP3.SA']: YFTzMissingError('$%ticker%: possibly delisted; No timezone found')\n",
      "[*********************100%%**********************]  1 of 1 completed\n",
      "\n",
      "1 Failed download:\n",
      "['IGTA3.SA']: YFTzMissingError('$%ticker%: possibly delisted; No timezone found')\n",
      "[*********************100%%**********************]  1 of 1 completed\n",
      "\n",
      "1 Failed download:\n",
      "['BMTO4.SA']: YFPricesMissingError('$%ticker%: possibly delisted; No price data found  (1d 2017-02-24 -> 2024-07-10)')\n"
     ]
    },
    {
     "name": "stdout",
     "output_type": "stream",
     "text": [
      "$BMTO4.SA: possibly delisted; No price data found  (1d 2017-02-24 -> 2024-07-10)\n"
     ]
    },
    {
     "name": "stderr",
     "output_type": "stream",
     "text": [
      "[*********************100%%**********************]  1 of 1 completed\n",
      "[*********************100%%**********************]  1 of 1 completed\n",
      "\n",
      "1 Failed download:\n",
      "['BFIT4.SA']: YFPricesMissingError('$%ticker%: possibly delisted; No price data found  (1d 2017-02-24 -> 2024-07-10)')\n"
     ]
    },
    {
     "name": "stdout",
     "output_type": "stream",
     "text": [
      "$BFIT4.SA: possibly delisted; No price data found  (1d 2017-02-24 -> 2024-07-10)\n"
     ]
    },
    {
     "name": "stderr",
     "output_type": "stream",
     "text": [
      "[*********************100%%**********************]  1 of 1 completed\n",
      "[*********************100%%**********************]  1 of 1 completed\n",
      "[*********************100%%**********************]  1 of 1 completed\n",
      "\n",
      "1 Failed download:\n",
      "['BMGB11.SA']: YFTzMissingError('$%ticker%: possibly delisted; No timezone found')\n",
      "[*********************100%%**********************]  1 of 1 completed\n",
      "[*********************100%%**********************]  1 of 1 completed\n",
      "[*********************100%%**********************]  1 of 1 completed\n",
      "\n",
      "1 Failed download:\n",
      "['BMTO3.SA']: YFPricesMissingError('$%ticker%: possibly delisted; No price data found  (1d 2017-02-24 -> 2024-07-10)')\n"
     ]
    },
    {
     "name": "stdout",
     "output_type": "stream",
     "text": [
      "$BMTO3.SA: possibly delisted; No price data found  (1d 2017-02-24 -> 2024-07-10)\n"
     ]
    },
    {
     "name": "stderr",
     "output_type": "stream",
     "text": [
      "[*********************100%%**********************]  1 of 1 completed\n",
      "[*********************100%%**********************]  1 of 1 completed\n",
      "\n",
      "1 Failed download:\n",
      "['UCOP4.SA']: YFPricesMissingError('$%ticker%: possibly delisted; No price data found  (1d 2017-02-24 -> 2024-07-10)')\n"
     ]
    },
    {
     "name": "stdout",
     "output_type": "stream",
     "text": [
      "$UCOP4.SA: possibly delisted; No price data found  (1d 2017-02-24 -> 2024-07-10)\n"
     ]
    },
    {
     "name": "stderr",
     "output_type": "stream",
     "text": [
      "[*********************100%%**********************]  1 of 1 completed\n",
      "[*********************100%%**********************]  1 of 1 completed\n",
      "[*********************100%%**********************]  1 of 1 completed\n",
      "[*********************100%%**********************]  1 of 1 completed\n",
      "\n",
      "1 Failed download:\n",
      "['BFIT3.SA']: YFPricesMissingError('$%ticker%: possibly delisted; No price data found  (1d 2017-02-24 -> 2024-07-10)')\n"
     ]
    },
    {
     "name": "stdout",
     "output_type": "stream",
     "text": [
      "$BFIT3.SA: possibly delisted; No price data found  (1d 2017-02-24 -> 2024-07-10)\n"
     ]
    },
    {
     "ename": "AttributeError",
     "evalue": "module 'yfinance.shared' has no attribute 'YFTzMissingError'",
     "output_type": "error",
     "traceback": [
      "\u001b[1;31m---------------------------------------------------------------------------\u001b[0m",
      "\u001b[1;31mKeyError\u001b[0m                                  Traceback (most recent call last)",
      "Cell \u001b[1;32mIn[88], line 7\u001b[0m, in \u001b[0;36mfetch_yahoo_finance_data\u001b[1;34m(ticker, start_date, end_date)\u001b[0m\n\u001b[0;32m      5\u001b[0m \u001b[38;5;28;01mtry\u001b[39;00m:\n\u001b[0;32m      6\u001b[0m     \u001b[38;5;66;03m# Coleta dos dados do Yahoo Finance para o ticker especificado e o intervalo de datas\u001b[39;00m\n\u001b[1;32m----> 7\u001b[0m     df \u001b[38;5;241m=\u001b[39m \u001b[43myf\u001b[49m\u001b[38;5;241;43m.\u001b[39;49m\u001b[43mdownload\u001b[49m\u001b[43m(\u001b[49m\u001b[43mticker\u001b[49m\u001b[43m,\u001b[49m\u001b[43m \u001b[49m\u001b[43mstart\u001b[49m\u001b[38;5;241;43m=\u001b[39;49m\u001b[43mstart_date\u001b[49m\u001b[43m,\u001b[49m\u001b[43m \u001b[49m\u001b[43mend\u001b[49m\u001b[38;5;241;43m=\u001b[39;49m\u001b[43mend_date\u001b[49m\u001b[43m)\u001b[49m\n\u001b[0;32m      8\u001b[0m     df[\u001b[38;5;124m'\u001b[39m\u001b[38;5;124mticker\u001b[39m\u001b[38;5;124m'\u001b[39m] \u001b[38;5;241m=\u001b[39m ticker  \u001b[38;5;66;03m# Adiciona a coluna de ticker\u001b[39;00m\n",
      "File \u001b[1;32mc:\\Users\\Matheus Poletto\\AppData\\Local\\Programs\\Python\\Python312\\Lib\\site-packages\\yfinance\\utils.py:104\u001b[0m, in \u001b[0;36mlog_indent_decorator.<locals>.wrapper\u001b[1;34m(*args, **kwargs)\u001b[0m\n\u001b[0;32m    103\u001b[0m \u001b[38;5;28;01mwith\u001b[39;00m IndentationContext():\n\u001b[1;32m--> 104\u001b[0m     result \u001b[38;5;241m=\u001b[39m \u001b[43mfunc\u001b[49m\u001b[43m(\u001b[49m\u001b[38;5;241;43m*\u001b[39;49m\u001b[43margs\u001b[49m\u001b[43m,\u001b[49m\u001b[43m \u001b[49m\u001b[38;5;241;43m*\u001b[39;49m\u001b[38;5;241;43m*\u001b[39;49m\u001b[43mkwargs\u001b[49m\u001b[43m)\u001b[49m\n\u001b[0;32m    106\u001b[0m logger\u001b[38;5;241m.\u001b[39mdebug(\u001b[38;5;124mf\u001b[39m\u001b[38;5;124m'\u001b[39m\u001b[38;5;124mExiting \u001b[39m\u001b[38;5;132;01m{\u001b[39;00mfunc\u001b[38;5;241m.\u001b[39m\u001b[38;5;18m__name__\u001b[39m\u001b[38;5;132;01m}\u001b[39;00m\u001b[38;5;124m()\u001b[39m\u001b[38;5;124m'\u001b[39m)\n",
      "File \u001b[1;32mc:\\Users\\Matheus Poletto\\AppData\\Local\\Programs\\Python\\Python312\\Lib\\site-packages\\yfinance\\multi.py:205\u001b[0m, in \u001b[0;36mdownload\u001b[1;34m(tickers, start, end, actions, threads, ignore_tz, group_by, auto_adjust, back_adjust, repair, keepna, progress, period, interval, prepost, proxy, rounding, timeout, session)\u001b[0m\n\u001b[0;32m    204\u001b[0m     ticker \u001b[38;5;241m=\u001b[39m tickers[\u001b[38;5;241m0\u001b[39m]\n\u001b[1;32m--> 205\u001b[0m     \u001b[38;5;28;01mreturn\u001b[39;00m \u001b[43mshared\u001b[49m\u001b[38;5;241;43m.\u001b[39;49m\u001b[43m_DFS\u001b[49m\u001b[43m[\u001b[49m\u001b[43mticker\u001b[49m\u001b[43m]\u001b[49m\n\u001b[0;32m    207\u001b[0m \u001b[38;5;28;01mtry\u001b[39;00m:\n",
      "\u001b[1;31mKeyError\u001b[0m: 'TMCP3.SA'",
      "\nDuring handling of the above exception, another exception occurred:\n",
      "\u001b[1;31mAttributeError\u001b[0m                            Traceback (most recent call last)",
      "Cell \u001b[1;32mIn[88], line 20\u001b[0m\n\u001b[0;32m     18\u001b[0m dfs \u001b[38;5;241m=\u001b[39m {}\n\u001b[0;32m     19\u001b[0m \u001b[38;5;28;01mfor\u001b[39;00m ticker \u001b[38;5;129;01min\u001b[39;00m tickers:\n\u001b[1;32m---> 20\u001b[0m     df \u001b[38;5;241m=\u001b[39m \u001b[43mfetch_yahoo_finance_data\u001b[49m\u001b[43m(\u001b[49m\u001b[43mticker\u001b[49m\u001b[43m,\u001b[49m\u001b[43m \u001b[49m\u001b[43mstart_date\u001b[49m\u001b[43m,\u001b[49m\u001b[43m \u001b[49m\u001b[43mend_date\u001b[49m\u001b[43m)\u001b[49m\n\u001b[0;32m     21\u001b[0m     \u001b[38;5;28;01mif\u001b[39;00m df \u001b[38;5;129;01mis\u001b[39;00m \u001b[38;5;129;01mnot\u001b[39;00m \u001b[38;5;28;01mNone\u001b[39;00m:\n\u001b[0;32m     22\u001b[0m         df\u001b[38;5;241m.\u001b[39mreset_index(inplace\u001b[38;5;241m=\u001b[39m\u001b[38;5;28;01mTrue\u001b[39;00m)  \u001b[38;5;66;03m# Resetar o índice para obter o índice numérico\u001b[39;00m\n",
      "Cell \u001b[1;32mIn[88], line 10\u001b[0m, in \u001b[0;36mfetch_yahoo_finance_data\u001b[1;34m(ticker, start_date, end_date)\u001b[0m\n\u001b[0;32m      8\u001b[0m     df[\u001b[38;5;124m'\u001b[39m\u001b[38;5;124mticker\u001b[39m\u001b[38;5;124m'\u001b[39m] \u001b[38;5;241m=\u001b[39m ticker  \u001b[38;5;66;03m# Adiciona a coluna de ticker\u001b[39;00m\n\u001b[0;32m      9\u001b[0m     \u001b[38;5;28;01mreturn\u001b[39;00m df\n\u001b[1;32m---> 10\u001b[0m \u001b[38;5;28;01mexcept\u001b[39;00m \u001b[43myf\u001b[49m\u001b[38;5;241;43m.\u001b[39;49m\u001b[43mshared\u001b[49m\u001b[38;5;241;43m.\u001b[39;49m\u001b[43mYFTzMissingError\u001b[49m \u001b[38;5;28;01mas\u001b[39;00m e:\n\u001b[0;32m     11\u001b[0m     \u001b[38;5;28mprint\u001b[39m(\u001b[38;5;124mf\u001b[39m\u001b[38;5;124m\"\u001b[39m\u001b[38;5;124mErro específico (YFTzMissingError) ao coletar dados para \u001b[39m\u001b[38;5;132;01m{\u001b[39;00mticker\u001b[38;5;132;01m}\u001b[39;00m\u001b[38;5;124m: \u001b[39m\u001b[38;5;132;01m{\u001b[39;00me\u001b[38;5;132;01m}\u001b[39;00m\u001b[38;5;124m\"\u001b[39m)\n\u001b[0;32m     12\u001b[0m     \u001b[38;5;28;01mreturn\u001b[39;00m \u001b[38;5;28;01mNone\u001b[39;00m\n",
      "\u001b[1;31mAttributeError\u001b[0m: module 'yfinance.shared' has no attribute 'YFTzMissingError'"
     ]
    },
    {
     "name": "stdout",
     "output_type": "stream",
     "text": [
      "$TMCP3.SA: possibly delisted; No price data found  (1d 2017-02-24 -> 2024-07-10)\n"
     ]
    }
   ],
   "source": [
    "import yfinance as yf\n",
    "import pandas as pd\n",
    "\n",
    "def fetch_yahoo_finance_data(ticker, start_date, end_date):\n",
    "    try:\n",
    "        # Coleta dos dados do Yahoo Finance para o ticker especificado e o intervalo de datas\n",
    "        df = yf.download(ticker, start=start_date, end=end_date)\n",
    "        df['ticker'] = ticker  # Adiciona a coluna de ticker\n",
    "        return df\n",
    "    except yf.shared.YFTzMissingError as e:\n",
    "        print(f\"Erro específico (YFTzMissingError) ao coletar dados para {ticker}: {e}\")\n",
    "        return None\n",
    "    except Exception as e:\n",
    "        print(f\"Erro ao coletar dados para {ticker}: {e}\")\n",
    "        return None\n",
    "\n",
    "# Coleta dos dados e armazenamento em um dicionário de DataFrames\n",
    "dfs = {}\n",
    "for ticker in tickers:\n",
    "    df = fetch_yahoo_finance_data(ticker, start_date, end_date)\n",
    "    if df is not None:\n",
    "        df.reset_index(inplace=True)  # Resetar o índice para obter o índice numérico\n",
    "        df['Date'] = pd.to_datetime(df['Date'])  # Converter a coluna 'Date' para datetime\n",
    "        df['Date'] = df['Date'].dt.strftime('%Y-%m-%d')  # Formatar a coluna de data\n",
    "        dfs[ticker] = df[['Date', 'Open', 'High', 'Low', 'Close', 'ticker']]\n",
    "\n",
    "# Concatena os DataFrames em um único DataFrame\n",
    "if dfs:  # Verificar se há DataFrames coletados com sucesso\n",
    "    result_df = pd.concat(dfs.values(), ignore_index=True)\n",
    "\n",
    "    # Adiciona o índice\n",
    "    result_df.index.name = ''\n",
    "    result_df.index = result_df.index + 1\n",
    "    print(result_df)\n",
    "else:\n",
    "    print(\"Nenhum dado foi coletado.\")"
   ]
  },
  {
   "cell_type": "code",
   "execution_count": 89,
   "metadata": {},
   "outputs": [],
   "source": [
    "# Verifica se o diretório 'dados' existe, se não existir, cria o diretório\n",
    "if not os.path.exists('data_yfinance'):\n",
    "    os.makedirs('data_yfinance')\n",
    "\n",
    "# Salva os dados em um arquivo CSV\n",
    "result_df.to_csv('data_yfinance/stocks.csv', index=False)"
   ]
  }
 ],
 "metadata": {
  "kernelspec": {
   "display_name": "Python 3",
   "language": "python",
   "name": "python3"
  },
  "language_info": {
   "codemirror_mode": {
    "name": "ipython",
    "version": 3
   },
   "file_extension": ".py",
   "mimetype": "text/x-python",
   "name": "python",
   "nbconvert_exporter": "python",
   "pygments_lexer": "ipython3",
   "version": "3.12.3"
  }
 },
 "nbformat": 4,
 "nbformat_minor": 2
}
