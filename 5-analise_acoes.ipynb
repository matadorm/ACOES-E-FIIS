{
 "cells": [
  {
   "cell_type": "code",
   "execution_count": 9,
   "metadata": {},
   "outputs": [],
   "source": [
    "import pandas as pd\n",
    "import yfinance as yf\n",
    "import matplotlib.pyplot as plt"
   ]
  },
  {
   "cell_type": "markdown",
   "metadata": {},
   "source": [
    "# Análise P/L ao longo do tempo"
   ]
  },
  {
   "cell_type": "code",
   "execution_count": 2,
   "metadata": {},
   "outputs": [
    {
     "data": {
      "text/plain": [
       "yfinance.Ticker object <PETR3.SA>"
      ]
     },
     "execution_count": 2,
     "metadata": {},
     "output_type": "execute_result"
    }
   ],
   "source": [
    "#ticker escolhido\n",
    "tick = 'PETR3.SA'\n",
    "ticker = yf.Ticker(tick)\n",
    "ticker"
   ]
  },
  {
   "cell_type": "code",
   "execution_count": 3,
   "metadata": {},
   "outputs": [],
   "source": [
    "data_1 = '2023-12-31'\n",
    "data_2 = '2022-12-31'\n",
    "data_3 = '2021-12-31'\n",
    "data_4 = '2020-12-31'\n",
    "\n",
    "data_1_1 = '2023-12-28'\n",
    "data_2_2 = '2022-12-28'\n",
    "data_3_3 = '2021-12-28'\n",
    "data_4_4 = '2020-12-28'"
   ]
  },
  {
   "cell_type": "code",
   "execution_count": 4,
   "metadata": {},
   "outputs": [
    {
     "name": "stdout",
     "output_type": "stream",
     "text": [
      "24884000000.0 36623000000.0 19875000000.0 1141000000.0\n"
     ]
    }
   ],
   "source": [
    "df_income = ticker.income_stmt\n",
    "lucro_liq = df_income.loc['Net Income From Continuing And Discontinued Operation']\n",
    "\n",
    "lucro_liq_31_12_2023 = lucro_liq[data_1]\n",
    "lucro_liq_31_12_2022 = lucro_liq[data_2]\n",
    "lucro_liq_31_12_2021 = lucro_liq[data_3]\n",
    "lucro_liq_31_12_2020 = lucro_liq[data_4]\n",
    "\n",
    "print(lucro_liq_31_12_2023,lucro_liq_31_12_2022,lucro_liq_31_12_2021,lucro_liq_31_12_2020)"
   ]
  },
  {
   "cell_type": "code",
   "execution_count": 5,
   "metadata": {},
   "outputs": [
    {
     "name": "stdout",
     "output_type": "stream",
     "text": [
      "38.98 28.5 31.06 28.65\n"
     ]
    }
   ],
   "source": [
    "df_close = pd.read_csv('data_yfinance/stocks.csv')\n",
    "#close = df_close[['Date','ticker', 'Close']]\n",
    "\n",
    "close_31_12_2023 = df_close.loc[(df_close['ticker'] == tick) & (df_close['Date'] == data_1_1)]['Close'].values[0].round(2)\n",
    "close_31_12_2022 = df_close.loc[(df_close['ticker'] == tick) & (df_close['Date'] == data_2_2)]['Close'].values[0].round(2)\n",
    "close_31_12_2021 = df_close.loc[(df_close['ticker'] == tick) & (df_close['Date'] == data_3_3)]['Close'].values[0].round(2)\n",
    "close_31_12_2020 = df_close.loc[(df_close['ticker'] == tick) & (df_close['Date'] == data_4_4)]['Close'].values[0].round(2)\n",
    "\n",
    "print(close_31_12_2023,close_31_12_2022,close_31_12_2021,close_31_12_2020)"
   ]
  },
  {
   "cell_type": "code",
   "execution_count": 6,
   "metadata": {},
   "outputs": [
    {
     "data": {
      "text/plain": [
       "12312800256"
      ]
     },
     "execution_count": 6,
     "metadata": {},
     "output_type": "execute_result"
    }
   ],
   "source": [
    "shares = ticker.get_shares_full().iloc[0]\n",
    "shares"
   ]
  },
  {
   "cell_type": "code",
   "execution_count": 7,
   "metadata": {},
   "outputs": [
    {
     "name": "stdout",
     "output_type": "stream",
     "text": [
      "19.29 9.58 19.24 309.17\n"
     ]
    }
   ],
   "source": [
    "p_l_2023 = (close_31_12_2023*shares/lucro_liq_31_12_2023).round(2)\n",
    "p_l_2022 = (close_31_12_2022*shares/lucro_liq_31_12_2022).round(2)\n",
    "p_l_2021 = (close_31_12_2021*shares/lucro_liq_31_12_2021).round(2)\n",
    "p_l_2020 = (close_31_12_2020*shares/lucro_liq_31_12_2020).round(2)\n",
    "\n",
    "print(p_l_2023,p_l_2022,p_l_2021,p_l_2020)"
   ]
  },
  {
   "cell_type": "code",
   "execution_count": 10,
   "metadata": {},
   "outputs": [
    {
     "data": {
      "image/png": "[encoded data removed]",
      "text/plain": [
       "<Figure size 640x480 with 1 Axes>"
      ]
     },
     "metadata": {},
     "output_type": "display_data"
    }
   ],
   "source": [
    "x = [data_4, data_3, data_2, data_1]  # datas\n",
    "y = [p_l_2020, p_l_2021, p_l_2022, p_l_2023]  # valores de P/L\n",
    "\n",
    "plt.scatter(x, y)\n",
    "\n",
    "plt.title(f'Evolução do P/L ao longo do tempo em {tick}')\n",
    "plt.xlabel('Data')\n",
    "plt.ylabel('P/L')\n",
    "\n",
    "plt.show()\n"
   ]
  }
 ],
 "metadata": {
  "kernelspec": {
   "display_name": "Python 3",
   "language": "python",
   "name": "python3"
  },
  "language_info": {
   "codemirror_mode": {
    "name": "ipython",
    "version": 3
   },
   "file_extension": ".py",
   "mimetype": "text/x-python",
   "name": "python",
   "nbconvert_exporter": "python",
   "pygments_lexer": "ipython3",
   "version": "3.12.3"
  }
 },
 "nbformat": 4,
 "nbformat_minor": 2
}
