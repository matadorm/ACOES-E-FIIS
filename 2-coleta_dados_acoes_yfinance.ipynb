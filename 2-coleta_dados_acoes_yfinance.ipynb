{
 "cells": [
  {
   "cell_type": "code",
   "execution_count": 1,
   "metadata": {},
   "outputs": [],
   "source": [
    "import yfinance as yf\n",
    "import pandas as pd\n",
    "from datetime import datetime, timedelta\n",
    "import os"
   ]
  },
  {
   "cell_type": "code",
   "execution_count": 21,
   "metadata": {},
   "outputs": [
    {
     "name": "stdout",
     "output_type": "stream",
     "text": [
      "['GNDI3.SA', 'CALI4.SA', 'CALI3.SA', 'VSTE3.SA', 'PLDN4.SA', 'GPAR3.SA', 'LCSA4.SA', 'BHGR3.SA', 'DMMO3.SA', 'RJCP3.SA', 'ABYA3.SA', 'PITI4.SA', 'MGEL3.SA', 'SCLO3.SA', 'LCSA3.SA', 'MAGG3.SA', 'SQIA3.SA', 'NATU3.SA', 'LINX3.SA', 'BNCA3.SA', 'CLSA3.SA', 'AMIL3.SA', 'LOGN3.SA', 'BRTP3.SA', 'IDVL11.SA', 'AMBP3.SA', 'DOHL3.SA', 'PEFX5.SA', 'PEFX3.SA', 'MTIG4.SA', 'RAIL3.SA', 'TOYB4.SA', 'IMBI3.SA', 'CLAN4.SA', 'MGEL4.SA', 'TOYB3.SA', 'EBTP3.SA', 'EBTP4.SA', 'CBEE3.SA', 'FBRA4.SA', 'BRTP4.SA', 'ITEC3.SA', 'HAPV3.SA', 'APER3.SA', 'PTBL3.SA', 'IMBI4.SA', 'PRTX3.SA', 'DFVA3.SA', 'ASTA4.SA', 'VGOR4.SA', 'CRBM3.SA', 'MAPT4.SA', 'DOHL4.SA', 'ARTR3.SA', 'DFVA4.SA', 'ALPK3.SA', 'KROT11.SA', 'PTBL4.SA', 'AESB3.SA', 'MODL3.SA', 'TAMM4.SA', 'TAMM3.SA', 'PCAR4.SA', 'LIGH3.SA', 'KROT4.SA', 'MSPA3.SA', 'MODL11.SA', 'PCAR5.SA', 'MODL4.SA', 'MAPT3.SA', 'CRBM7.SA', 'WMBY3.SA', 'TDBH4.SA', 'TANC4.SA', 'AURA33.SA', 'BIOM3.SA', 'MSPA4.SA', 'CCIM3.SA', 'NGRD3.SA', 'TDBH3.SA', 'BIOM4.SA', 'GBIO33.SA', 'DTCY3.SA', 'LECO4.SA', 'SEDU3.SA', 'TESA3.SA', 'ANIM3.SA', 'IGUA3.SA', 'FGUI3.SA', 'IGUA6.SA', 'ESPA3.SA', 'IGUA5.SA', 'PRVI3.SA', 'RCSL3.SA', 'MTIG3.SA', 'ZAMP3.SA', 'CPNY3.SA', 'ALLL3.SA', 'VVEO3.SA', 'ECPR4.SA', 'ECPR3.SA', 'SIMH3.SA', 'RPAD5.SA', 'ALLL4.SA', 'TERI3.SA', 'MRVE3.SA', 'ALLL11.SA', 'SEMP3.SA', 'CSNA3.SA', 'CASH3.SA', 'SZPQ4.SA', 'MEDI3.SA', 'LIGT3.SA', 'CVCB3.SA', 'AALR3.SA', 'TCNO3.SA', 'KRSA3.SA', 'RPAD3.SA', 'GFSA3.SA', 'RPAD6.SA', 'HBSA3.SA', 'ENJU3.SA', 'BLUT3.SA', 'CRPG3.SA', 'CRPG6.SA', 'BUET3.SA', 'QUAL3.SA', 'EPAR3.SA', 'CRPG5.SA', 'NORD3.SA', 'TLCP3.SA', 'COGN3.SA', 'LFFE4.SA', 'CGOS3.SA', 'TCNO4.SA', 'SCLO4.SA', 'PRML3.SA', 'CBAV3.SA', 'TELB3.SA', 'ADHM3.SA', 'MATD3.SA', 'BUET4.SA', 'PDTC3.SA', 'DMFN3.SA', 'PMET5.SA', 'LFFE3.SA', 'FBMC3.SA', 'FIEI3.SA', 'TLCP4.SA', 'BECE3.SA', 'AERI3.SA', 'BECE4.SA', 'MOVI3.SA', 'AVLL3.SA', 'EPAR4.SA', 'ALPA4.SA', 'ALPA3.SA', 'PNOR6.SA', 'PNOR5.SA', 'STRP4.SA', 'DASA3.SA', 'SOMA3.SA', 'SHOW3.SA', 'MEAL3.SA', 'LIXC3.SA', 'CEED4.SA', 'BICB4.SA', 'ESTR3.SA', 'TELB4.SA', 'BICB3.SA', 'MBLY3.SA', 'ARLA4.SA', 'MLAS3.SA', 'LIXC4.SA', 'MMXM3.SA', 'OGXP3.SA', 'VTLM3.SA', 'RCSL4.SA', 'ARCZ3.SA', 'ARCZ6.SA', 'GLOB4.SA', 'BISA3.SA', 'CEED3.SA', 'BCAL6.SA', 'DJON4.SA', 'MWET4.SA', 'DOTZ3.SA', 'SPRI6.SA', 'MWET3.SA', 'BLUT4.SA', 'NTCO3.SA', 'ARLA3.SA', 'SPRI3.SA', 'SDIA4.SA', 'SDIA3.SA', 'DUQE3.SA', 'WEST3.SA', 'AMAR3.SA', 'SPRI5.SA', 'AZEV4.SA', 'AZEV3.SA', 'IDVL4.SA', 'ESTR4.SA', 'BRKM3.SA', 'PMET6.SA', 'BRKM5.SA', 'TRAD3.SA', 'LGLO4.SA', 'IDVL3.SA', 'PCAR3.SA', 'DHBI3.SA', 'LETO5.SA', 'IENG3.SA', 'BRKM6.SA', 'VIVR3.SA', 'LATM11.SA', 'TCSA3.SA', 'CELM3.SA', 'IENG5.SA', 'FHER3.SA', 'BRPR3.SA', 'CTSA8.SA', 'PLAS3.SA', 'FRTA3.SA', 'REEM4.SA', 'CCXC3.SA', 'CTSA3.SA', 'SNSY5.SA', 'DOCA3.SA', 'FGUI4.SA', 'WISA4.SA', 'CTNM3.SA', 'LETO3.SA', 'GOLL4.SA', 'RDNI3.SA', 'AZUL4.SA', 'VVAR11.SA', 'VVAR4.SA', 'WISA3.SA', 'PMAM4.SA', 'AGXY3.SA', 'CTSA4.SA', 'JFEN3.SA', 'NEXP3.SA', 'DOCA4.SA', 'BHIA3.SA', 'RPMG3.SA', 'DUQE4.SA', 'FTRX3.SA', 'FTRX4.SA', 'TEKA3.SA', 'TEKA4.SA', 'FBMC4.SA', 'MEND6.SA', 'SEQL3.SA', 'VPTA4.SA', 'TENE7.SA', 'GSHP3.SA', 'MEND5.SA', 'VPSC4.SA', 'VAGV3.SA', 'PMAM3.SA', 'DHBI4.SA', 'VAGV4.SA', 'CTNM4.SA', 'GAFP3.SA', 'ARTE3.SA', 'IFCM3.SA', 'TROR3.SA', 'VPSC3.SA', 'VPTA3.SA', 'ARTE4.SA', 'TROR4.SA', 'SGPS3.SA', 'RCTB33.SA', 'RPMG4.SA', 'GAFP4.SA', 'MILK33.SA', 'RCTB31.SA', 'RCTB41.SA', 'OSXB3.SA', 'RCTB42.SA', 'MLPA12.SA', 'MLPA4.SA', 'PDGR3.SA', 'CAFE3.SA', 'BSCT3.SA', 'OIBR3.SA', 'CORR3.SA', 'BPHA3.SA', 'IGBR5.SA', 'IGBR6.SA', 'PALF11.SA', 'BRSR4.SA', 'SULT4.SA', 'LREN4.SA', 'AMER3.SA', 'SULT3.SA', 'CREM4.SA', 'INEP4.SA', 'INEP3.SA', 'TPRC6.SA', 'BDLL4.SA', 'PALF5.SA', 'SJOS4.SA', 'ATMP3.SA', 'TPRC3.SA', 'PALF3.SA', 'BDLL3.SA', 'RSID3.SA', 'SLED4.SA', 'OIBR4.SA', 'CORR4.SA', 'ASSM4.SA', 'GAZO4.SA', 'ASSM3.SA', 'BELG4.SA', 'BELG3.SA', 'AGEN33.SA', 'TXRX4.SA', 'HOOT4.SA', 'TRPN3.SA', 'SLED3.SA', 'GAZO3.SA', 'FCAP3.SA', 'IGBR3.SA', 'FCAP4.SA', 'TARP11.SA', 'LUPA3.SA', 'TSPP4.SA', 'BNBR4.SA', 'EBEN4.SA', 'APTI4.SA', 'HBTS5.SA', 'SYNE3.SA', 'TSPP3.SA', 'PLIM4.SA', 'SJOS3.SA', 'CPFG4.SA', 'CTKA4.SA', 'CPFG3.SA', 'SUZA4.SA', 'CTKA3.SA', 'TXRX3.SA', 'TBLE6.SA', 'MNDL4.SA', 'VBBR3.SA', 'CLSC5.SA', 'ESCE3.SA', 'AHEB3.SA', 'CYRE4.SA', 'TBLE5.SA', 'AHEB6.SA', 'CTPC4.SA', 'FIGE3.SA', 'BRML3.SA', 'MTBR3.SA', 'AHEB5.SA', 'ETER3.SA', 'MTBR4.SA', 'MMAQ3.SA', 'MMAQ4.SA', 'POSI3.SA', 'TPIS3.SA', 'MARI3.SA', 'VALE5.SA', 'ELPL4.SA', 'RNEW4.SA', 'EUCA4.SA', 'BGIP4.SA', 'HBRE3.SA', 'RNEW3.SA', 'RNEW11.SA', 'STBP11.SA', 'BRAP3.SA', 'BGIP3.SA', 'ECOR3.SA', 'HAGA4.SA', 'CEDO4.SA', 'BRAP4.SA', 'HBOR3.SA', 'CAMB4.SA', 'BOBR3.SA', 'BAZA3.SA', 'PTPA3.SA', 'SCAR3.SA', 'MDNE3.SA', 'TKNO4.SA', 'PTPA4.SA', 'EUCA3.SA', 'PINE4.SA', 'REDE4.SA', 'BBAS3.SA', 'CMIG4.SA', 'HETA4.SA', 'PINE3.SA', 'VINE3.SA', 'DAYC4.SA', 'JHSF3.SA', 'VINE5.SA', 'CSRN3.SA', 'BRSR6.SA', 'ALLD3.SA', 'EALT4.SA', 'CLSC4.SA', 'CAML3.SA', 'CLSC3.SA', 'CYRE3.SA', 'CSRN5.SA', 'LAVV3.SA', 'EALT3.SA', 'ISAE4.SA', 'BNBR3.SA', 'VCPA4.SA', 'BPAR3.SA', 'WIZC3.SA', 'CSRN6.SA', 'CEDO3.SA', 'BMEB3.SA', 'FRAS4.SA', 'VALE3.SA', 'BRSR3.SA', 'CPFP4.SA', 'ABCB4.SA', 'BMGB4.SA', 'EQMA3B.SA', 'BALM4.SA', 'LOGG3.SA', 'CMIG3.SA', 'HAGA3.SA', 'SAPR4.SA', 'SAPR11.SA', 'ATOM3.SA', 'CEEB5.SA', 'ETER4.SA', 'SAPR3.SA', 'SUZB6.SA', 'VLID3.SA', 'TECN3.SA', 'SBFG3.SA', 'DEXP3.SA', 'DEXP4.SA', 'PLPL3.SA', 'BPIA3.SA', 'DSUL3.SA', 'CSMG3.SA', 'POMO3.SA', 'PETR4.SA', 'CGAS3.SA', 'BMEB4.SA', 'RNPT4.SA', 'RNPT3.SA', 'CEEB3.SA', 'EQPA3.SA', 'CGAS5.SA', 'TRIS3.SA', 'CAMB3.SA', 'ELPL6.SA', 'ELPL5.SA', 'RSUL4.SA', 'SOJA3.SA', 'TIET11.SA', 'TIET3.SA', 'TIET4.SA', 'NEOE3.SA', 'GOAU4.SA', 'LEVE3.SA', 'ENGI4.SA', 'ISAE3.SA', 'CGRA3.SA', 'GOAU3.SA', 'PETR3.SA', 'JSLG3.SA', 'CGRA4.SA', 'SUZB5.SA', 'JOPA3.SA', 'BALM3.SA', 'CEBR5.SA', 'BRSR5.SA', 'WLMM3.SA', 'SBSP3.SA', 'KEPL3.SA', 'CIQU4.SA', 'CIQU3.SA', 'MRSA6B.SA', 'ROMI3.SA', 'CEBR3.SA', 'CPFE3.SA', 'EZTC3.SA', 'BRBI11.SA', 'COCE5.SA', 'CMIN3.SA', 'CEAB3.SA', 'ITSA4.SA', 'BOBR4.SA', 'NUTR3.SA', 'CSUD3.SA', 'COCE3.SA', 'MILS3.SA', 'ENGI11.SA', 'USIM5.SA', 'EGIE3.SA', 'INTB3.SA', 'UGPA3.SA', 'CSAN3.SA', 'ITSA3.SA', 'USIM3.SA', 'EEEL4.SA', 'GGBR3.SA', 'JOPA4.SA', 'FIQE3.SA', 'CSED3.SA', 'MRSA5B.SA', 'BBDC3.SA', 'PFRM3.SA', 'BPAC5.SA', 'EEEL3.SA', 'ITUB3.SA', 'HYPE3.SA', 'SMTO3.SA', 'GRND3.SA', 'MTRE3.SA', 'ENBR3.SA', 'SHUL4.SA', 'CEBR6.SA', 'VAMO3.SA', 'SANB3.SA', 'BEES3.SA', 'MTSA4.SA', 'POMO4.SA', 'GETT3.SA', 'GETT4.SA', 'MRSA3B.SA', 'PRIO3.SA', 'DPPI4.SA', 'PATI3.SA', 'CCTU4.SA', 'BEES4.SA', 'GGBR4.SA', 'EKTR3.SA', 'CPRE3.SA', 'ELET3.SA', 'BBDC4.SA', 'LJQQ3.SA', 'SANB11.SA', 'AGRO3.SA', 'RAPT3.SA', 'FIGE4.SA', 'CPLE3.SA', 'TGMA3.SA', 'WLMM4.SA', 'TAEE3.SA', 'DIRR3.SA', 'TAEE11.SA', 'WSON33.SA', 'TAEE4.SA', 'CMET4.SA', 'RDTR3.SA', 'RECV3.SA', 'CURY3.SA', 'VULC3.SA', 'SANB4.SA', 'ITUB4.SA', 'SOND5.SA', 'TTEN3.SA', 'AGIN3.SA', 'AELP3.SA', 'MDIA3.SA', 'EQPA5.SA', 'EQPA6.SA', 'CPSL3.SA', 'ELET6.SA', 'BBSE3.SA', 'REDE3.SA', 'ALUP4.SA', 'ALUP11.SA', 'TMGC12.SA', 'ALUP3.SA', 'ACES4.SA', 'MELK3.SA', 'EQPA7.SA', 'ACES3.SA', 'CPLE6.SA', 'CZRS4.SA', 'AFLU5.SA', 'PSSA3.SA', 'VIVO3.SA', 'VIVA3.SA', 'CNFB4.SA', 'VULC4.SA', 'RAPT4.SA', 'DMVF3.SA', 'AFLU3.SA', 'ARML3.SA', 'COCE6.SA', 'TUPY3.SA', 'BPAC11.SA', 'UCAS3.SA', 'EKTR4.SA', 'ENGI3.SA', 'MRSL4.SA', 'MULT3.SA', 'SOND6.SA', 'CPLE11.SA', 'ELPL3.SA', 'CTWR3.SA', 'BMOB3.SA', 'VIVO4.SA', 'SOND3.SA', 'BMIN4.SA', 'EVEN3.SA', 'MYPK3.SA', 'TCSL4.SA', 'PTNT4.SA', 'OFSA3.SA', 'EMAE4.SA', 'MNPR4.SA', 'ENAT3.SA', 'MRSL3.SA', 'CIEL3.SA', 'LEVE4.SA', 'TRFO3.SA', 'BESP3.SA', 'TCOC4.SA', 'BMKS3.SA', 'CPLE5.SA', 'RANI4.SA', 'WHRL3.SA', 'FESA4.SA', 'GMAT3.SA', 'BPAN4.SA', 'PATI4.SA', 'TRFO4.SA', 'OPCT3.SA', 'SMLS3.SA', 'ODPV3.SA', 'BESP4.SA', 'JBSS3.SA', 'FLRY3.SA', 'AESL4.SA', 'AESL3.SA', 'ESTC11.SA', 'BMGB11.SA', 'WEGE4.SA', 'GRNL4.SA', 'ELUM3.SA', 'VITT3.SA', 'LREN3.SA', 'RIPI3.SA', 'CZLT33.SA', 'RIPI4.SA', 'BMIN3.SA', 'WHRL4.SA', 'EBCO4.SA', 'UGPA4.SA', 'SMFT3.SA', 'IGTI3.SA', 'TEMP3.SA', 'NAFG3.SA', 'NAFG4.SA', 'BRIT3.SA', 'FIBR3.SA', 'EBCO3.SA', 'JALL3.SA', 'CXSE3.SA', 'AURE3.SA', 'AZZA3.SA', 'UNIP6.SA', 'MPLU3.SA', 'BRFS3.SA', 'TFCO4.SA', 'UNIP3.SA', 'ASAI3.SA', 'PGMN3.SA', 'BLAU3.SA', 'AMPI3.SA', 'TMGC7.SA', 'PNVL3.SA', 'YDUQ3.SA', 'ALOS3.SA', 'B3SA3.SA', 'AVIL3.SA', 'DESK3.SA', 'VTRU3.SA', 'DXTG4.SA', 'ABEV3.SA', 'SFSA4.SA', 'KLBN4.SA', 'GETI3.SA', 'GETI4.SA', 'MGLU3.SA', 'CCRO3.SA', 'RANI3.SA', 'ENMT3.SA', 'RGEG3.SA', 'KLBN11.SA', 'UNIP5.SA', 'TASA4.SA', 'GUAR3.SA', 'VIVT4.SA', 'IGTI11.SA', 'PTNT3.SA', 'TASA3.SA', 'ARCE3.SA', 'IRBR3.SA', 'BPAC3.SA', 'TMGC11.SA', 'KLBN3.SA', 'TNCP4.SA', 'TNCP3.SA', 'KSSA3.SA', 'DXCO3.SA', 'ENMT4.SA', 'VIVT3.SA', 'ELUM4.SA', 'LUXM3.SA', 'STBP3.SA', 'TCOC3.SA', 'GGPS3.SA', 'RDCD3.SA', 'BOAS3.SA', 'TMGC13.SA', 'BEMA3.SA', 'PORT3.SA', 'EQTL3.SA', 'ILMD3.SA', 'CRTP5.SA', 'SEER3.SA', 'IGTA3.SA', 'ILMD4.SA', 'BAUH4.SA', 'DURA4.SA', 'RDOR3.SA', 'EMBR3.SA', 'DURA3.SA', 'DPPI3.SA', 'SRNA3.SA', 'TIMP3.SA', 'BMTO4.SA', 'BSLI3.SA', 'FRAS3.SA', 'BFIT4.SA', 'LUXM4.SA', 'BMTO3.SA', 'UCOP4.SA', 'FESA3.SA', 'LPSB3.SA', 'LVTC3.SA', 'BFIT3.SA', 'TMCP3.SA', 'BSLI4.SA', 'SUZB3.SA', 'ELET5.SA', 'USIM6.SA', 'SMLE3.SA', 'NINJ3.SA', 'SLCE3.SA', 'ONCO3.SA', 'TMCP4.SA', 'MERC4.SA', 'ORVR3.SA', 'AUTM3.SA', 'AEDU11.SA', 'JPSA3.SA', 'AFLT3.SA', 'RENT3.SA', 'TUPY4.SA', 'LAME4.SA', 'LIPR3.SA', 'LAME3.SA', 'BRAV3.SA', 'CRTP3.SA', 'TIMS3.SA', 'BSCT6.SA', 'RSIP3.SA', 'RSIP4.SA', 'PEAB3.SA', 'TVIT3.SA', 'TMGC3.SA', 'TEND3.SA', 'POWE3.SA', 'TSEP4.SA', 'ELEK3.SA', 'MAGS3.SA', 'MOAR3.SA', 'TOTS3.SA', 'CRUZ3.SA', 'ENEV3.SA', 'MYPK4.SA', 'TNLP4.SA', 'HGTX4.SA', 'AMBV4.SA', 'AMBV3.SA', 'PNVL4.SA', 'ELCA4.SA', 'RPSA4.SA', 'SEBB11.SA', 'PEAB4.SA', 'RAIZ4.SA', 'BSCT5.SA', 'GEPA4.SA', 'MERC3.SA', 'MOSI3.SA', 'GEPA3.SA', 'BRGE6.SA', 'CREM3.SA', 'BRGE7.SA', 'RADL3.SA', 'TSEP3.SA', 'BRGE8.SA', 'BRGE5.SA', 'BRGE11.SA', 'ELEK4.SA', 'ELCA3.SA', 'ELMD3.SA', 'BRGE12.SA', 'BRGE3.SA', 'CTIP3.SA', 'TNLP3.SA', 'VIGR3.SA', 'PARD3.SA', 'WEGE3.SA', 'CRIV4.SA', 'ALSC3.SA', 'PRGA4.SA', 'ODER4.SA', 'CRIV3.SA', 'RHDS3.SA', 'RAIA3.SA', 'IMCH3.SA', 'PTQS4.SA', 'UOLL4.SA', 'CEGR3.SA', 'MNPR3.SA', 'LAND3.SA', 'PLTO6.SA', 'SULA11.SA', 'SULA3.SA', 'PLTO5.SA', 'FFTL3.SA', 'FFTL4.SA', 'SULA4.SA', 'BSEV3.SA', 'GVTT3.SA', 'CSAB3.SA', 'AEDU3.SA', 'HETA3.SA', 'SUBA3.SA', 'MRFG3.SA', 'CASN3.SA', 'BRIV4.SA', 'DAGB33.SA', 'BRIV3.SA', 'CTPC3.SA', 'RLOG3.SA', 'MNDL3.SA', 'CSAB4.SA', 'FRIO3.SA', 'HGTX3.SA', 'PQUN4.SA', 'PQUN3.SA', 'TMAR6.SA', 'TMAR5.SA', 'NETC3.SA', 'MLFT4.SA', 'NETC4.SA', 'ROMI4.SA', 'LWSA3.SA', 'CEPE5.SA', 'CEPE6.SA', 'TMAR3.SA', 'BIDI3.SA', 'BIDI4.SA', 'BIDI11.SA', 'ELEV3.SA', 'PRNR3.SA', 'GUAR4.SA', 'RHDS4.SA', 'BAHI11.SA', 'PETZ3.SA', 'CEPE3.SA', 'CRFB3.SA', 'UBBR4.SA', 'PRBC4.SA', 'BIED3.SA', 'UBBR11.SA', 'UBBR3.SA', 'BEEF3.SA', 'BAHI5.SA', 'BAHI4.SA']\n"
     ]
    }
   ],
   "source": [
    "tickers = pd.read_csv('data_fund\\\\stocks_tickers_07-01-2025.csv')\n",
    "\n",
    "# Adicionar '.SA' ao final de cada valor na coluna 'ticker'\n",
    "tickers['ticker'] = tickers['ticker'] + '.SA'\n",
    "\n",
    "# Selecionar apenas a coluna 'ticker'\n",
    "tickers = tickers['ticker'].tolist()\n",
    "\n",
    "# Exibir a lista\n",
    "print(tickers)\n"
   ]
  },
  {
   "cell_type": "code",
   "execution_count": 19,
   "metadata": {},
   "outputs": [],
   "source": [
    "# Intervalo de datas desejado (de '2017-02-24' até a data de ontem)\n",
    "end_date = (datetime.now() - timedelta(days=0)).strftime('%Y-%m-%d')\n",
    "start_date = '2017-02-24'"
   ]
  },
  {
   "cell_type": "code",
   "execution_count": 22,
   "metadata": {},
   "outputs": [
    {
     "name": "stderr",
     "output_type": "stream",
     "text": [
      "[*********************100%%**********************]  1 of 1 completed\n",
      "\n",
      "1 Failed download:\n",
      "['GNDI3.SA']: YFTzMissingError('$%ticker%: possibly delisted; No timezone found')\n",
      "[*********************100%%**********************]  1 of 1 completed\n",
      "\n",
      "1 Failed download:\n",
      "['CALI4.SA']: YFTzMissingError('$%ticker%: possibly delisted; No timezone found')\n",
      "[*********************100%%**********************]  1 of 1 completed\n",
      "[*********************100%%**********************]  1 of 1 completed\n",
      "[*********************100%%**********************]  1 of 1 completed\n",
      "\n",
      "1 Failed download:\n",
      "['PLDN4.SA']: YFPricesMissingError('$%ticker%: possibly delisted; No price data found  (1d 2017-02-24 -> 2025-01-07)')\n"
     ]
    },
    {
     "name": "stdout",
     "output_type": "stream",
     "text": [
      "$PLDN4.SA: possibly delisted; No price data found  (1d 2017-02-24 -> 2025-01-07)\n"
     ]
    },
    {
     "name": "stderr",
     "output_type": "stream",
     "text": [
      "[*********************100%%**********************]  1 of 1 completed\n",
      "[*********************100%%**********************]  1 of 1 completed\n",
      "\n",
      "1 Failed download:\n",
      "['LCSA4.SA']: YFPricesMissingError('$%ticker%: possibly delisted; No price data found  (1d 2017-02-24 -> 2025-01-07)')\n",
      "[*********************100%%**********************]  1 of 1 completed"
     ]
    },
    {
     "name": "stdout",
     "output_type": "stream",
     "text": [
      "$LCSA4.SA: possibly delisted; No price data found  (1d 2017-02-24 -> 2025-01-07)\n",
      "$BHGR3.SA: possibly delisted; No price data found  (1d 2017-02-24 -> 2025-01-07)\n"
     ]
    },
    {
     "name": "stderr",
     "output_type": "stream",
     "text": [
      "\n",
      "\n",
      "1 Failed download:\n",
      "['BHGR3.SA']: YFPricesMissingError('$%ticker%: possibly delisted; No price data found  (1d 2017-02-24 -> 2025-01-07)')\n",
      "[*********************100%%**********************]  1 of 1 completed\n",
      "\n",
      "1 Failed download:\n",
      "['DMMO3.SA']: YFTzMissingError('$%ticker%: possibly delisted; No timezone found')\n",
      "[*********************100%%**********************]  1 of 1 completed\n",
      "[*********************100%%**********************]  1 of 1 completed\n",
      "\n",
      "1 Failed download:\n",
      "['ABYA3.SA']: YFTzMissingError('$%ticker%: possibly delisted; No timezone found')\n",
      "[*********************100%%**********************]  1 of 1 completed\n",
      "\n",
      "1 Failed download:\n",
      "['PITI4.SA']: YFPricesMissingError('$%ticker%: possibly delisted; No price data found  (1d 2017-02-24 -> 2025-01-07)')\n"
     ]
    },
    {
     "name": "stdout",
     "output_type": "stream",
     "text": [
      "$PITI4.SA: possibly delisted; No price data found  (1d 2017-02-24 -> 2025-01-07)\n"
     ]
    },
    {
     "name": "stderr",
     "output_type": "stream",
     "text": [
      "[*********************100%%**********************]  1 of 1 completed\n",
      "[*********************100%%**********************]  1 of 1 completed\n",
      "[*********************100%%**********************]  1 of 1 completed\n",
      "\n",
      "1 Failed download:\n",
      "['LCSA3.SA']: YFPricesMissingError('$%ticker%: possibly delisted; No price data found  (1d 2017-02-24 -> 2025-01-07)')\n"
     ]
    },
    {
     "name": "stdout",
     "output_type": "stream",
     "text": [
      "$LCSA3.SA: possibly delisted; No price data found  (1d 2017-02-24 -> 2025-01-07)\n"
     ]
    },
    {
     "name": "stderr",
     "output_type": "stream",
     "text": [
      "[*********************100%%**********************]  1 of 1 completed\n",
      "\n",
      "1 Failed download:\n",
      "['MAGG3.SA']: YFTzMissingError('$%ticker%: possibly delisted; No timezone found')\n",
      "[*********************100%%**********************]  1 of 1 completed\n",
      "\n",
      "1 Failed download:\n",
      "['SQIA3.SA']: YFTzMissingError('$%ticker%: possibly delisted; No timezone found')\n",
      "[*********************100%%**********************]  1 of 1 completed\n",
      "\n",
      "1 Failed download:\n",
      "['NATU3.SA']: YFTzMissingError('$%ticker%: possibly delisted; No timezone found')\n",
      "[*********************100%%**********************]  1 of 1 completed\n",
      "\n",
      "1 Failed download:\n",
      "['LINX3.SA']: YFTzMissingError('$%ticker%: possibly delisted; No timezone found')\n",
      "[*********************100%%**********************]  1 of 1 completed\n",
      "\n",
      "1 Failed download:\n",
      "['BNCA3.SA']: YFTzMissingError('$%ticker%: possibly delisted; No timezone found')\n",
      "[*********************100%%**********************]  1 of 1 completed\n",
      "[*********************100%%**********************]  1 of 1 completed\n",
      "\n",
      "1 Failed download:\n",
      "['AMIL3.SA']: YFPricesMissingError('$%ticker%: possibly delisted; No price data found  (1d 2017-02-24 -> 2025-01-07)')\n"
     ]
    },
    {
     "name": "stdout",
     "output_type": "stream",
     "text": [
      "$AMIL3.SA: possibly delisted; No price data found  (1d 2017-02-24 -> 2025-01-07)\n"
     ]
    },
    {
     "name": "stderr",
     "output_type": "stream",
     "text": [
      "[*********************100%%**********************]  1 of 1 completed\n",
      "[*********************100%%**********************]  1 of 1 completed\n",
      "\n",
      "1 Failed download:\n",
      "['BRTP3.SA']: YFPricesMissingError('$%ticker%: possibly delisted; No price data found  (1d 2017-02-24 -> 2025-01-07)')\n"
     ]
    },
    {
     "name": "stdout",
     "output_type": "stream",
     "text": [
      "$BRTP3.SA: possibly delisted; No price data found  (1d 2017-02-24 -> 2025-01-07)\n"
     ]
    },
    {
     "name": "stderr",
     "output_type": "stream",
     "text": [
      "[*********************100%%**********************]  1 of 1 completed\n",
      "\n",
      "1 Failed download:\n",
      "['IDVL11.SA']: YFTzMissingError('$%ticker%: possibly delisted; No timezone found')\n",
      "[*********************100%%**********************]  1 of 1 completed\n",
      "[*********************100%%**********************]  1 of 1 completed\n",
      "[*********************100%%**********************]  1 of 1 completed\n",
      "\n",
      "1 Failed download:\n",
      "['PEFX5.SA']: YFPricesMissingError('$%ticker%: possibly delisted; No price data found  (1d 2017-02-24 -> 2025-01-07)')\n",
      "[*********************100%%**********************]  1 of 1 completed"
     ]
    },
    {
     "name": "stdout",
     "output_type": "stream",
     "text": [
      "$PEFX5.SA: possibly delisted; No price data found  (1d 2017-02-24 -> 2025-01-07)\n",
      "$PEFX3.SA: possibly delisted; No price data found  (1d 2017-02-24 -> 2025-01-07)\n"
     ]
    },
    {
     "name": "stderr",
     "output_type": "stream",
     "text": [
      "\n",
      "\n",
      "1 Failed download:\n",
      "['PEFX3.SA']: YFPricesMissingError('$%ticker%: possibly delisted; No price data found  (1d 2017-02-24 -> 2025-01-07)')\n",
      "[*********************100%%**********************]  1 of 1 completed\n",
      "\n",
      "1 Failed download:\n",
      "['MTIG4.SA']: YFTzMissingError('$%ticker%: possibly delisted; No timezone found')\n",
      "[*********************100%%**********************]  1 of 1 completed\n",
      "[*********************100%%**********************]  1 of 1 completed\n",
      "\n",
      "1 Failed download:\n",
      "['TOYB4.SA']: YFTzMissingError('$%ticker%: possibly delisted; No timezone found')\n",
      "[*********************100%%**********************]  1 of 1 completed\n",
      "[*********************100%%**********************]  1 of 1 completed\n",
      "\n",
      "1 Failed download:\n",
      "['CLAN4.SA']: YFTzMissingError('$%ticker%: possibly delisted; No timezone found')\n",
      "[*********************100%%**********************]  1 of 1 completed\n",
      "[*********************100%%**********************]  1 of 1 completed\n",
      "\n",
      "1 Failed download:\n",
      "['TOYB3.SA']: YFTzMissingError('$%ticker%: possibly delisted; No timezone found')\n",
      "[*********************100%%**********************]  1 of 1 completed\n",
      "\n",
      "1 Failed download:\n",
      "['EBTP3.SA']: YFPricesMissingError('$%ticker%: possibly delisted; No price data found  (1d 2017-02-24 -> 2025-01-07)')\n",
      "[*********************100%%**********************]  1 of 1 completed"
     ]
    },
    {
     "name": "stdout",
     "output_type": "stream",
     "text": [
      "$EBTP3.SA: possibly delisted; No price data found  (1d 2017-02-24 -> 2025-01-07)\n",
      "$EBTP4.SA: possibly delisted; No price data found  (1d 2017-02-24 -> 2025-01-07)\n"
     ]
    },
    {
     "name": "stderr",
     "output_type": "stream",
     "text": [
      "\n",
      "\n",
      "1 Failed download:\n",
      "['EBTP4.SA']: YFPricesMissingError('$%ticker%: possibly delisted; No price data found  (1d 2017-02-24 -> 2025-01-07)')\n",
      "[*********************100%%**********************]  1 of 1 completed\n",
      "[*********************100%%**********************]  1 of 1 completed\n",
      "\n",
      "1 Failed download:\n",
      "['FBRA4.SA']: YFPricesMissingError('$%ticker%: possibly delisted; No price data found  (1d 2017-02-24 -> 2025-01-07)')\n",
      "[*********************100%%**********************]  1 of 1 completed"
     ]
    },
    {
     "name": "stdout",
     "output_type": "stream",
     "text": [
      "$FBRA4.SA: possibly delisted; No price data found  (1d 2017-02-24 -> 2025-01-07)\n",
      "$BRTP4.SA: possibly delisted; No price data found  (1d 2017-02-24 -> 2025-01-07)\n"
     ]
    },
    {
     "name": "stderr",
     "output_type": "stream",
     "text": [
      "\n",
      "\n",
      "1 Failed download:\n",
      "['BRTP4.SA']: YFPricesMissingError('$%ticker%: possibly delisted; No price data found  (1d 2017-02-24 -> 2025-01-07)')\n",
      "[*********************100%%**********************]  1 of 1 completed\n",
      "\n",
      "1 Failed download:\n",
      "['ITEC3.SA']: YFTzMissingError('$%ticker%: possibly delisted; No timezone found')\n",
      "[*********************100%%**********************]  1 of 1 completed\n",
      "[*********************100%%**********************]  1 of 1 completed\n",
      "\n",
      "1 Failed download:\n",
      "['APER3.SA']: YFChartError('%ticker%: No data found, symbol may be delisted')\n",
      "[*********************100%%**********************]  1 of 1 completed\n",
      "[*********************100%%**********************]  1 of 1 completed\n",
      "[*********************100%%**********************]  1 of 1 completed\n",
      "\n",
      "1 Failed download:\n",
      "['PRTX3.SA']: YFPricesMissingError('$%ticker%: possibly delisted; No price data found  (1d 2017-02-24 -> 2025-01-07)')\n"
     ]
    },
    {
     "name": "stdout",
     "output_type": "stream",
     "text": [
      "$PRTX3.SA: possibly delisted; No price data found  (1d 2017-02-24 -> 2025-01-07)\n"
     ]
    },
    {
     "name": "stderr",
     "output_type": "stream",
     "text": [
      "[*********************100%%**********************]  1 of 1 completed\n",
      "\n",
      "1 Failed download:\n",
      "['DFVA3.SA']: YFPricesMissingError('$%ticker%: possibly delisted; No price data found  (1d 2017-02-24 -> 2025-01-07)')\n",
      "[*********************100%%**********************]  1 of 1 completed"
     ]
    },
    {
     "name": "stdout",
     "output_type": "stream",
     "text": [
      "$DFVA3.SA: possibly delisted; No price data found  (1d 2017-02-24 -> 2025-01-07)\n",
      "$ASTA4.SA: possibly delisted; No price data found  (1d 2017-02-24 -> 2025-01-07)\n"
     ]
    },
    {
     "name": "stderr",
     "output_type": "stream",
     "text": [
      "\n",
      "\n",
      "1 Failed download:\n",
      "['ASTA4.SA']: YFPricesMissingError('$%ticker%: possibly delisted; No price data found  (1d 2017-02-24 -> 2025-01-07)')\n",
      "[*********************100%%**********************]  1 of 1 completed\n",
      "\n",
      "1 Failed download:\n",
      "['VGOR4.SA']: YFPricesMissingError('$%ticker%: possibly delisted; No price data found  (1d 2017-02-24 -> 2025-01-07)')\n",
      "[*********************100%%**********************]  1 of 1 completed"
     ]
    },
    {
     "name": "stdout",
     "output_type": "stream",
     "text": [
      "$VGOR4.SA: possibly delisted; No price data found  (1d 2017-02-24 -> 2025-01-07)\n",
      "$CRBM3.SA: possibly delisted; No price data found  (1d 2017-02-24 -> 2025-01-07)\n"
     ]
    },
    {
     "name": "stderr",
     "output_type": "stream",
     "text": [
      "\n",
      "\n",
      "1 Failed download:\n",
      "['CRBM3.SA']: YFPricesMissingError('$%ticker%: possibly delisted; No price data found  (1d 2017-02-24 -> 2025-01-07)')\n",
      "[*********************100%%**********************]  1 of 1 completed\n",
      "[*********************100%%**********************]  1 of 1 completed\n",
      "[*********************100%%**********************]  1 of 1 completed\n",
      "\n",
      "1 Failed download:\n",
      "['ARTR3.SA']: YFPricesMissingError('$%ticker%: possibly delisted; No price data found  (1d 2017-02-24 -> 2025-01-07)')\n",
      "[*********************100%%**********************]  1 of 1 completed"
     ]
    },
    {
     "name": "stdout",
     "output_type": "stream",
     "text": [
      "$ARTR3.SA: possibly delisted; No price data found  (1d 2017-02-24 -> 2025-01-07)\n",
      "$DFVA4.SA: possibly delisted; No price data found  (1d 2017-02-24 -> 2025-01-07)\n"
     ]
    },
    {
     "name": "stderr",
     "output_type": "stream",
     "text": [
      "\n",
      "\n",
      "1 Failed download:\n",
      "['DFVA4.SA']: YFPricesMissingError('$%ticker%: possibly delisted; No price data found  (1d 2017-02-24 -> 2025-01-07)')\n",
      "[*********************100%%**********************]  1 of 1 completed\n",
      "[*********************100%%**********************]  1 of 1 completed\n",
      "\n",
      "1 Failed download:\n",
      "['KROT11.SA']: YFPricesMissingError('$%ticker%: possibly delisted; No price data found  (1d 2017-02-24 -> 2025-01-07)')\n",
      "[*********************100%%**********************]  1 of 1 completed"
     ]
    },
    {
     "name": "stdout",
     "output_type": "stream",
     "text": [
      "$KROT11.SA: possibly delisted; No price data found  (1d 2017-02-24 -> 2025-01-07)\n",
      "$PTBL4.SA: possibly delisted; No price data found  (1d 2017-02-24 -> 2025-01-07)\n"
     ]
    },
    {
     "name": "stderr",
     "output_type": "stream",
     "text": [
      "\n",
      "\n",
      "1 Failed download:\n",
      "['PTBL4.SA']: YFPricesMissingError('$%ticker%: possibly delisted; No price data found  (1d 2017-02-24 -> 2025-01-07)')\n",
      "[*********************100%%**********************]  1 of 1 completed\n",
      "\n",
      "1 Failed download:\n",
      "['AESB3.SA']: YFChartError('%ticker%: No data found, symbol may be delisted')\n",
      "[*********************100%%**********************]  1 of 1 completed\n",
      "\n",
      "1 Failed download:\n",
      "['MODL3.SA']: YFTzMissingError('$%ticker%: possibly delisted; No timezone found')\n",
      "[*********************100%%**********************]  1 of 1 completed\n",
      "\n",
      "1 Failed download:\n",
      "['TAMM4.SA']: YFPricesMissingError('$%ticker%: possibly delisted; No price data found  (1d 2017-02-24 -> 2025-01-07)')\n",
      "[*********************100%%**********************]  1 of 1 completed"
     ]
    },
    {
     "name": "stdout",
     "output_type": "stream",
     "text": [
      "$TAMM4.SA: possibly delisted; No price data found  (1d 2017-02-24 -> 2025-01-07)\n",
      "$TAMM3.SA: possibly delisted; No price data found  (1d 2017-02-24 -> 2025-01-07)\n"
     ]
    },
    {
     "name": "stderr",
     "output_type": "stream",
     "text": [
      "\n",
      "\n",
      "1 Failed download:\n",
      "['TAMM3.SA']: YFPricesMissingError('$%ticker%: possibly delisted; No price data found  (1d 2017-02-24 -> 2025-01-07)')\n",
      "[*********************100%%**********************]  1 of 1 completed\n",
      "\n",
      "1 Failed download:\n",
      "['PCAR4.SA']: YFTzMissingError('$%ticker%: possibly delisted; No timezone found')\n",
      "[*********************100%%**********************]  1 of 1 completed\n",
      "\n",
      "1 Failed download:\n",
      "['LIGH3.SA']: YFPricesMissingError('$%ticker%: possibly delisted; No price data found  (1d 2017-02-24 -> 2025-01-07)')\n"
     ]
    },
    {
     "name": "stdout",
     "output_type": "stream",
     "text": [
      "$LIGH3.SA: possibly delisted; No price data found  (1d 2017-02-24 -> 2025-01-07)\n"
     ]
    },
    {
     "name": "stderr",
     "output_type": "stream",
     "text": [
      "[*********************100%%**********************]  1 of 1 completed\n",
      "\n",
      "1 Failed download:\n",
      "['KROT4.SA']: YFTzMissingError('$%ticker%: possibly delisted; No timezone found')\n",
      "[*********************100%%**********************]  1 of 1 completed\n",
      "[*********************100%%**********************]  1 of 1 completed\n",
      "\n",
      "1 Failed download:\n",
      "['MODL11.SA']: YFTzMissingError('$%ticker%: possibly delisted; No timezone found')\n",
      "[*********************100%%**********************]  1 of 1 completed\n",
      "\n",
      "1 Failed download:\n",
      "['PCAR5.SA']: YFTzMissingError('$%ticker%: possibly delisted; No timezone found')\n",
      "[*********************100%%**********************]  1 of 1 completed\n",
      "\n",
      "1 Failed download:\n",
      "['MODL4.SA']: YFTzMissingError('$%ticker%: possibly delisted; No timezone found')\n",
      "[*********************100%%**********************]  1 of 1 completed\n",
      "[*********************100%%**********************]  1 of 1 completed\n",
      "\n",
      "1 Failed download:\n",
      "['CRBM7.SA']: YFPricesMissingError('$%ticker%: possibly delisted; No price data found  (1d 2017-02-24 -> 2025-01-07)')\n",
      "[*********************100%%**********************]  1 of 1 completed"
     ]
    },
    {
     "name": "stdout",
     "output_type": "stream",
     "text": [
      "$CRBM7.SA: possibly delisted; No price data found  (1d 2017-02-24 -> 2025-01-07)\n",
      "$WMBY3.SA: possibly delisted; No price data found  (1d 2017-02-24 -> 2025-01-07)\n"
     ]
    },
    {
     "name": "stderr",
     "output_type": "stream",
     "text": [
      "\n",
      "\n",
      "1 Failed download:\n",
      "['WMBY3.SA']: YFPricesMissingError('$%ticker%: possibly delisted; No price data found  (1d 2017-02-24 -> 2025-01-07)')\n",
      "[*********************100%%**********************]  1 of 1 completed\n",
      "\n",
      "1 Failed download:\n",
      "['TDBH4.SA']: YFPricesMissingError('$%ticker%: possibly delisted; No price data found  (1d 2017-02-24 -> 2025-01-07)')\n",
      "[*********************100%%**********************]  1 of 1 completed"
     ]
    },
    {
     "name": "stdout",
     "output_type": "stream",
     "text": [
      "$TDBH4.SA: possibly delisted; No price data found  (1d 2017-02-24 -> 2025-01-07)\n",
      "$TANC4.SA: possibly delisted; No price data found  (1d 2017-02-24 -> 2025-01-07)\n"
     ]
    },
    {
     "name": "stderr",
     "output_type": "stream",
     "text": [
      "\n",
      "\n",
      "1 Failed download:\n",
      "['TANC4.SA']: YFPricesMissingError('$%ticker%: possibly delisted; No price data found  (1d 2017-02-24 -> 2025-01-07)')\n",
      "[*********************100%%**********************]  1 of 1 completed\n",
      "[*********************100%%**********************]  1 of 1 completed\n",
      "[*********************100%%**********************]  1 of 1 completed\n",
      "[*********************100%%**********************]  1 of 1 completed\n",
      "\n",
      "1 Failed download:\n",
      "['CCIM3.SA']: YFTzMissingError('$%ticker%: possibly delisted; No timezone found')\n",
      "[*********************100%%**********************]  1 of 1 completed\n",
      "[*********************100%%**********************]  1 of 1 completed\n",
      "\n",
      "1 Failed download:\n",
      "['TDBH3.SA']: YFPricesMissingError('$%ticker%: possibly delisted; No price data found  (1d 2017-02-24 -> 2025-01-07)')\n",
      "[*********************100%%**********************]  1 of 1 completed"
     ]
    },
    {
     "name": "stdout",
     "output_type": "stream",
     "text": [
      "$TDBH3.SA: possibly delisted; No price data found  (1d 2017-02-24 -> 2025-01-07)\n",
      "$BIOM4.SA: possibly delisted; No price data found  (1d 2017-02-24 -> 2025-01-07)\n"
     ]
    },
    {
     "name": "stderr",
     "output_type": "stream",
     "text": [
      "\n",
      "\n",
      "1 Failed download:\n",
      "['BIOM4.SA']: YFPricesMissingError('$%ticker%: possibly delisted; No price data found  (1d 2017-02-24 -> 2025-01-07)')\n",
      "[*********************100%%**********************]  1 of 1 completed\n",
      "\n",
      "1 Failed download:\n",
      "['GBIO33.SA']: YFTzMissingError('$%ticker%: possibly delisted; No timezone found')\n",
      "[*********************100%%**********************]  1 of 1 completed\n",
      "[*********************100%%**********************]  1 of 1 completed\n",
      "\n",
      "1 Failed download:\n",
      "['LECO4.SA']: YFPricesMissingError('$%ticker%: possibly delisted; No price data found  (1d 2017-02-24 -> 2025-01-07)')\n"
     ]
    },
    {
     "name": "stdout",
     "output_type": "stream",
     "text": [
      "$LECO4.SA: possibly delisted; No price data found  (1d 2017-02-24 -> 2025-01-07)\n"
     ]
    },
    {
     "name": "stderr",
     "output_type": "stream",
     "text": [
      "[*********************100%%**********************]  1 of 1 completed\n",
      "\n",
      "1 Failed download:\n",
      "['SEDU3.SA']: YFTzMissingError('$%ticker%: possibly delisted; No timezone found')\n",
      "[*********************100%%**********************]  1 of 1 completed\n",
      "\n",
      "1 Failed download:\n",
      "['TESA3.SA']: YFTzMissingError('$%ticker%: possibly delisted; No timezone found')\n",
      "[*********************100%%**********************]  1 of 1 completed\n",
      "[*********************100%%**********************]  1 of 1 completed\n",
      "\n",
      "1 Failed download:\n",
      "['IGUA3.SA']: YFPricesMissingError('$%ticker%: possibly delisted; No price data found  (1d 2017-02-24 -> 2025-01-07)')\n"
     ]
    },
    {
     "name": "stdout",
     "output_type": "stream",
     "text": [
      "$IGUA3.SA: possibly delisted; No price data found  (1d 2017-02-24 -> 2025-01-07)\n",
      "$FGUI3.SA: possibly delisted; No price data found  (1d 2017-02-24 -> 2025-01-07)\n"
     ]
    },
    {
     "name": "stderr",
     "output_type": "stream",
     "text": [
      "[*********************100%%**********************]  1 of 1 completed\n",
      "\n",
      "1 Failed download:\n",
      "['FGUI3.SA']: YFPricesMissingError('$%ticker%: possibly delisted; No price data found  (1d 2017-02-24 -> 2025-01-07)')\n",
      "[*********************100%%**********************]  1 of 1 completed\n",
      "\n",
      "1 Failed download:\n",
      "['IGUA6.SA']: YFPricesMissingError('$%ticker%: possibly delisted; No price data found  (1d 2017-02-24 -> 2025-01-07)')\n"
     ]
    },
    {
     "name": "stdout",
     "output_type": "stream",
     "text": [
      "$IGUA6.SA: possibly delisted; No price data found  (1d 2017-02-24 -> 2025-01-07)\n"
     ]
    },
    {
     "name": "stderr",
     "output_type": "stream",
     "text": [
      "[*********************100%%**********************]  1 of 1 completed\n",
      "[*********************100%%**********************]  1 of 1 completed\n",
      "\n",
      "1 Failed download:\n",
      "['IGUA5.SA']: YFPricesMissingError('$%ticker%: possibly delisted; No price data found  (1d 2017-02-24 -> 2025-01-07)')\n"
     ]
    },
    {
     "name": "stdout",
     "output_type": "stream",
     "text": [
      "$IGUA5.SA: possibly delisted; No price data found  (1d 2017-02-24 -> 2025-01-07)\n"
     ]
    },
    {
     "name": "stderr",
     "output_type": "stream",
     "text": [
      "[*********************100%%**********************]  1 of 1 completed\n",
      "[*********************100%%**********************]  1 of 1 completed\n",
      "[*********************100%%**********************]  1 of 1 completed\n",
      "[*********************100%%**********************]  1 of 1 completed\n",
      "[*********************100%%**********************]  1 of 1 completed\n",
      "\n",
      "1 Failed download:\n",
      "['CPNY3.SA']: YFTzMissingError('$%ticker%: possibly delisted; No timezone found')\n",
      "[*********************100%%**********************]  1 of 1 completed\n",
      "\n",
      "1 Failed download:\n",
      "['ALLL3.SA']: YFPricesMissingError('$%ticker%: possibly delisted; No price data found  (1d 2017-02-24 -> 2025-01-07)')\n"
     ]
    },
    {
     "name": "stdout",
     "output_type": "stream",
     "text": [
      "$ALLL3.SA: possibly delisted; No price data found  (1d 2017-02-24 -> 2025-01-07)\n"
     ]
    },
    {
     "name": "stderr",
     "output_type": "stream",
     "text": [
      "[*********************100%%**********************]  1 of 1 completed\n",
      "[*********************100%%**********************]  1 of 1 completed\n",
      "[*********************100%%**********************]  1 of 1 completed\n",
      "[*********************100%%**********************]  1 of 1 completed\n",
      "[*********************100%%**********************]  1 of 1 completed\n",
      "[*********************100%%**********************]  1 of 1 completed\n",
      "\n",
      "1 Failed download:\n",
      "['ALLL4.SA']: YFPricesMissingError('$%ticker%: possibly delisted; No price data found  (1d 2017-02-24 -> 2025-01-07)')\n"
     ]
    },
    {
     "name": "stdout",
     "output_type": "stream",
     "text": [
      "$ALLL4.SA: possibly delisted; No price data found  (1d 2017-02-24 -> 2025-01-07)\n"
     ]
    },
    {
     "name": "stderr",
     "output_type": "stream",
     "text": [
      "[*********************100%%**********************]  1 of 1 completed\n",
      "[*********************100%%**********************]  1 of 1 completed\n",
      "[*********************100%%**********************]  1 of 1 completed\n",
      "\n",
      "1 Failed download:\n",
      "['ALLL11.SA']: YFPricesMissingError('$%ticker%: possibly delisted; No price data found  (1d 2017-02-24 -> 2025-01-07)')\n",
      "[*********************100%%**********************]  1 of 1 completed"
     ]
    },
    {
     "name": "stdout",
     "output_type": "stream",
     "text": [
      "$ALLL11.SA: possibly delisted; No price data found  (1d 2017-02-24 -> 2025-01-07)\n",
      "$SEMP3.SA: possibly delisted; No price data found  (1d 2017-02-24 -> 2025-01-07)\n"
     ]
    },
    {
     "name": "stderr",
     "output_type": "stream",
     "text": [
      "\n",
      "\n",
      "1 Failed download:\n",
      "['SEMP3.SA']: YFPricesMissingError('$%ticker%: possibly delisted; No price data found  (1d 2017-02-24 -> 2025-01-07)')\n",
      "[*********************100%%**********************]  1 of 1 completed\n",
      "[*********************100%%**********************]  1 of 1 completed\n",
      "[*********************100%%**********************]  1 of 1 completed\n",
      "\n",
      "1 Failed download:\n",
      "['SZPQ4.SA']: YFPricesMissingError('$%ticker%: possibly delisted; No price data found  (1d 2017-02-24 -> 2025-01-07)')\n"
     ]
    },
    {
     "name": "stdout",
     "output_type": "stream",
     "text": [
      "$SZPQ4.SA: possibly delisted; No price data found  (1d 2017-02-24 -> 2025-01-07)\n"
     ]
    },
    {
     "name": "stderr",
     "output_type": "stream",
     "text": [
      "[*********************100%%**********************]  1 of 1 completed\n",
      "\n",
      "1 Failed download:\n",
      "['MEDI3.SA']: YFTzMissingError('$%ticker%: possibly delisted; No timezone found')\n",
      "[*********************100%%**********************]  1 of 1 completed\n",
      "[*********************100%%**********************]  1 of 1 completed\n",
      "[*********************100%%**********************]  1 of 1 completed\n",
      "[*********************100%%**********************]  1 of 1 completed\n",
      "\n",
      "1 Failed download:\n",
      "['TCNO3.SA']: YFTzMissingError('$%ticker%: possibly delisted; No timezone found')\n",
      "[*********************100%%**********************]  1 of 1 completed\n",
      "[*********************100%%**********************]  1 of 1 completed\n",
      "[*********************100%%**********************]  1 of 1 completed\n",
      "[*********************100%%**********************]  1 of 1 completed\n",
      "[*********************100%%**********************]  1 of 1 completed\n",
      "[*********************100%%**********************]  1 of 1 completed\n",
      "[*********************100%%**********************]  1 of 1 completed\n",
      "\n",
      "1 Failed download:\n",
      "['BLUT3.SA']: YFTzMissingError('$%ticker%: possibly delisted; No timezone found')\n",
      "[*********************100%%**********************]  1 of 1 completed\n",
      "[*********************100%%**********************]  1 of 1 completed\n",
      "[*********************100%%**********************]  1 of 1 completed\n",
      "[*********************100%%**********************]  1 of 1 completed\n",
      "[*********************100%%**********************]  1 of 1 completed\n",
      "[*********************100%%**********************]  1 of 1 completed\n",
      "[*********************100%%**********************]  1 of 1 completed\n",
      "[*********************100%%**********************]  1 of 1 completed\n",
      "\n",
      "1 Failed download:\n",
      "['TLCP3.SA']: YFPricesMissingError('$%ticker%: possibly delisted; No price data found  (1d 2017-02-24 -> 2025-01-07)')\n"
     ]
    },
    {
     "name": "stdout",
     "output_type": "stream",
     "text": [
      "$TLCP3.SA: possibly delisted; No price data found  (1d 2017-02-24 -> 2025-01-07)\n"
     ]
    },
    {
     "name": "stderr",
     "output_type": "stream",
     "text": [
      "[*********************100%%**********************]  1 of 1 completed\n",
      "[*********************100%%**********************]  1 of 1 completed\n",
      "[*********************100%%**********************]  1 of 1 completed\n",
      "\n",
      "1 Failed download:\n",
      "['CGOS3.SA']: YFPricesMissingError('$%ticker%: possibly delisted; No price data found  (1d 2017-02-24 -> 2025-01-07)')\n"
     ]
    },
    {
     "name": "stdout",
     "output_type": "stream",
     "text": [
      "$CGOS3.SA: possibly delisted; No price data found  (1d 2017-02-24 -> 2025-01-07)\n"
     ]
    },
    {
     "name": "stderr",
     "output_type": "stream",
     "text": [
      "[*********************100%%**********************]  1 of 1 completed\n",
      "\n",
      "1 Failed download:\n",
      "['TCNO4.SA']: YFTzMissingError('$%ticker%: possibly delisted; No timezone found')\n",
      "[*********************100%%**********************]  1 of 1 completed\n",
      "[*********************100%%**********************]  1 of 1 completed\n",
      "[*********************100%%**********************]  1 of 1 completed\n",
      "[*********************100%%**********************]  1 of 1 completed\n",
      "[*********************100%%**********************]  1 of 1 completed\n",
      "[*********************100%%**********************]  1 of 1 completed\n",
      "[*********************100%%**********************]  1 of 1 completed\n",
      "\n",
      "1 Failed download:\n",
      "['BUET4.SA']: YFPricesMissingError('$%ticker%: possibly delisted; No price data found  (1d 2017-02-24 -> 2025-01-07)')\n"
     ]
    },
    {
     "name": "stdout",
     "output_type": "stream",
     "text": [
      "$BUET4.SA: possibly delisted; No price data found  (1d 2017-02-24 -> 2025-01-07)\n"
     ]
    },
    {
     "name": "stderr",
     "output_type": "stream",
     "text": [
      "[*********************100%%**********************]  1 of 1 completed\n",
      "[*********************100%%**********************]  1 of 1 completed\n",
      "[*********************100%%**********************]  1 of 1 completed\n",
      "\n",
      "1 Failed download:\n",
      "['PMET5.SA']: YFTzMissingError('$%ticker%: possibly delisted; No timezone found')\n",
      "[*********************100%%**********************]  1 of 1 completed\n",
      "[*********************100%%**********************]  1 of 1 completed\n",
      "[*********************100%%**********************]  1 of 1 completed\n",
      "[*********************100%%**********************]  1 of 1 completed\n",
      "\n",
      "1 Failed download:\n",
      "['TLCP4.SA']: YFPricesMissingError('$%ticker%: possibly delisted; No price data found  (1d 2017-02-24 -> 2025-01-07)')\n",
      "[*********************100%%**********************]  1 of 1 completed"
     ]
    },
    {
     "name": "stdout",
     "output_type": "stream",
     "text": [
      "$TLCP4.SA: possibly delisted; No price data found  (1d 2017-02-24 -> 2025-01-07)\n",
      "$BECE3.SA: possibly delisted; No price data found  (1d 2017-02-24 -> 2025-01-07)\n"
     ]
    },
    {
     "name": "stderr",
     "output_type": "stream",
     "text": [
      "\n",
      "\n",
      "1 Failed download:\n",
      "['BECE3.SA']: YFPricesMissingError('$%ticker%: possibly delisted; No price data found  (1d 2017-02-24 -> 2025-01-07)')\n",
      "[*********************100%%**********************]  1 of 1 completed\n",
      "[*********************100%%**********************]  1 of 1 completed\n",
      "\n",
      "1 Failed download:\n",
      "['BECE4.SA']: YFPricesMissingError('$%ticker%: possibly delisted; No price data found  (1d 2017-02-24 -> 2025-01-07)')\n"
     ]
    },
    {
     "name": "stdout",
     "output_type": "stream",
     "text": [
      "$BECE4.SA: possibly delisted; No price data found  (1d 2017-02-24 -> 2025-01-07)\n"
     ]
    },
    {
     "name": "stderr",
     "output_type": "stream",
     "text": [
      "[*********************100%%**********************]  1 of 1 completed\n",
      "[*********************100%%**********************]  1 of 1 completed\n",
      "[*********************100%%**********************]  1 of 1 completed\n",
      "\n",
      "1 Failed download:\n",
      "['EPAR4.SA']: YFTzMissingError('$%ticker%: possibly delisted; No timezone found')\n",
      "[*********************100%%**********************]  1 of 1 completed\n",
      "[*********************100%%**********************]  1 of 1 completed\n",
      "[*********************100%%**********************]  1 of 1 completed\n",
      "\n",
      "1 Failed download:\n",
      "['PNOR6.SA']: YFPricesMissingError('$%ticker%: possibly delisted; No price data found  (1d 2017-02-24 -> 2025-01-07)')\n"
     ]
    },
    {
     "name": "stdout",
     "output_type": "stream",
     "text": [
      "$PNOR6.SA: possibly delisted; No price data found  (1d 2017-02-24 -> 2025-01-07)\n"
     ]
    },
    {
     "name": "stderr",
     "output_type": "stream",
     "text": [
      "[*********************100%%**********************]  1 of 1 completed\n",
      "\n",
      "1 Failed download:\n",
      "['PNOR5.SA']: YFPricesMissingError('$%ticker%: possibly delisted; No price data found  (1d 2017-02-24 -> 2025-01-07)')\n"
     ]
    },
    {
     "name": "stdout",
     "output_type": "stream",
     "text": [
      "$PNOR5.SA: possibly delisted; No price data found  (1d 2017-02-24 -> 2025-01-07)\n"
     ]
    },
    {
     "name": "stderr",
     "output_type": "stream",
     "text": [
      "[*********************100%%**********************]  1 of 1 completed\n",
      "\n",
      "1 Failed download:\n",
      "['STRP4.SA']: YFPricesMissingError('$%ticker%: possibly delisted; No price data found  (1d 2017-02-24 -> 2025-01-07)')\n"
     ]
    },
    {
     "name": "stdout",
     "output_type": "stream",
     "text": [
      "$STRP4.SA: possibly delisted; No price data found  (1d 2017-02-24 -> 2025-01-07)\n"
     ]
    },
    {
     "name": "stderr",
     "output_type": "stream",
     "text": [
      "[*********************100%%**********************]  1 of 1 completed\n",
      "[*********************100%%**********************]  1 of 1 completed\n",
      "\n",
      "1 Failed download:\n",
      "['SOMA3.SA']: YFChartError('%ticker%: No data found, symbol may be delisted')\n",
      "[*********************100%%**********************]  1 of 1 completed\n",
      "[*********************100%%**********************]  1 of 1 completed\n",
      "[*********************100%%**********************]  1 of 1 completed\n",
      "\n",
      "1 Failed download:\n",
      "['LIXC3.SA']: YFPricesMissingError('$%ticker%: possibly delisted; No price data found  (1d 2017-02-24 -> 2025-01-07)')\n"
     ]
    },
    {
     "name": "stdout",
     "output_type": "stream",
     "text": [
      "$LIXC3.SA: possibly delisted; No price data found  (1d 2017-02-24 -> 2025-01-07)\n"
     ]
    },
    {
     "name": "stderr",
     "output_type": "stream",
     "text": [
      "[*********************100%%**********************]  1 of 1 completed\n",
      "[*********************100%%**********************]  1 of 1 completed\n",
      "\n",
      "1 Failed download:\n",
      "['BICB4.SA']: YFPricesMissingError('$%ticker%: possibly delisted; No price data found  (1d 2017-02-24 -> 2025-01-07)')\n"
     ]
    },
    {
     "name": "stdout",
     "output_type": "stream",
     "text": [
      "$BICB4.SA: possibly delisted; No price data found  (1d 2017-02-24 -> 2025-01-07)\n"
     ]
    },
    {
     "name": "stderr",
     "output_type": "stream",
     "text": [
      "[*********************100%%**********************]  1 of 1 completed\n",
      "[*********************100%%**********************]  1 of 1 completed\n",
      "[*********************100%%**********************]  1 of 1 completed\n",
      "\n",
      "1 Failed download:\n",
      "['BICB3.SA']: YFPricesMissingError('$%ticker%: possibly delisted; No price data found  (1d 2017-02-24 -> 2025-01-07)')\n"
     ]
    },
    {
     "name": "stdout",
     "output_type": "stream",
     "text": [
      "$BICB3.SA: possibly delisted; No price data found  (1d 2017-02-24 -> 2025-01-07)\n"
     ]
    },
    {
     "name": "stderr",
     "output_type": "stream",
     "text": [
      "[*********************100%%**********************]  1 of 1 completed\n",
      "[*********************100%%**********************]  1 of 1 completed\n",
      "\n",
      "1 Failed download:\n",
      "['ARLA4.SA']: YFPricesMissingError('$%ticker%: possibly delisted; No price data found  (1d 2017-02-24 -> 2025-01-07)')\n",
      "[*********************100%%**********************]  1 of 1 completed"
     ]
    },
    {
     "name": "stdout",
     "output_type": "stream",
     "text": [
      "$ARLA4.SA: possibly delisted; No price data found  (1d 2017-02-24 -> 2025-01-07)\n"
     ]
    },
    {
     "name": "stderr",
     "output_type": "stream",
     "text": [
      "\n",
      "[*********************100%%**********************]  1 of 1 completed\n",
      "\n",
      "1 Failed download:\n",
      "['LIXC4.SA']: YFPricesMissingError('$%ticker%: possibly delisted; No price data found  (1d 2017-02-24 -> 2025-01-07)')\n"
     ]
    },
    {
     "name": "stdout",
     "output_type": "stream",
     "text": [
      "$LIXC4.SA: possibly delisted; No price data found  (1d 2017-02-24 -> 2025-01-07)\n"
     ]
    },
    {
     "name": "stderr",
     "output_type": "stream",
     "text": [
      "[*********************100%%**********************]  1 of 1 completed\n",
      "\n",
      "1 Failed download:\n",
      "['MMXM3.SA']: YFTzMissingError('$%ticker%: possibly delisted; No timezone found')\n",
      "[*********************100%%**********************]  1 of 1 completed\n",
      "[*********************100%%**********************]  1 of 1 completed\n",
      "\n",
      "1 Failed download:\n",
      "['VTLM3.SA']: YFPricesMissingError('$%ticker%: possibly delisted; No price data found  (1d 2017-02-24 -> 2025-01-07)')\n"
     ]
    },
    {
     "name": "stdout",
     "output_type": "stream",
     "text": [
      "$VTLM3.SA: possibly delisted; No price data found  (1d 2017-02-24 -> 2025-01-07)\n"
     ]
    },
    {
     "name": "stderr",
     "output_type": "stream",
     "text": [
      "[*********************100%%**********************]  1 of 1 completed\n",
      "[*********************100%%**********************]  1 of 1 completed\n",
      "\n",
      "1 Failed download:\n",
      "['ARCZ3.SA']: YFPricesMissingError('$%ticker%: possibly delisted; No price data found  (1d 2017-02-24 -> 2025-01-07)')\n"
     ]
    },
    {
     "name": "stdout",
     "output_type": "stream",
     "text": [
      "$ARCZ3.SA: possibly delisted; No price data found  (1d 2017-02-24 -> 2025-01-07)\n",
      "$ARCZ6.SA: possibly delisted; No price data found  (1d 2017-02-24 -> 2025-01-07)\n"
     ]
    },
    {
     "name": "stderr",
     "output_type": "stream",
     "text": [
      "[*********************100%%**********************]  1 of 1 completed\n",
      "\n",
      "1 Failed download:\n",
      "['ARCZ6.SA']: YFPricesMissingError('$%ticker%: possibly delisted; No price data found  (1d 2017-02-24 -> 2025-01-07)')\n",
      "[*********************100%%**********************]  1 of 1 completed\n",
      "\n",
      "1 Failed download:\n",
      "['GLOB4.SA']: YFPricesMissingError('$%ticker%: possibly delisted; No price data found  (1d 2017-02-24 -> 2025-01-07)')\n"
     ]
    },
    {
     "name": "stdout",
     "output_type": "stream",
     "text": [
      "$GLOB4.SA: possibly delisted; No price data found  (1d 2017-02-24 -> 2025-01-07)\n",
      "$BISA3.SA: possibly delisted; No price data found  (1d 2017-02-24 -> 2025-01-07)\n"
     ]
    },
    {
     "name": "stderr",
     "output_type": "stream",
     "text": [
      "[*********************100%%**********************]  1 of 1 completed\n",
      "\n",
      "1 Failed download:\n",
      "['BISA3.SA']: YFPricesMissingError('$%ticker%: possibly delisted; No price data found  (1d 2017-02-24 -> 2025-01-07)')\n",
      "[*********************100%%**********************]  1 of 1 completed\n",
      "[*********************100%%**********************]  1 of 1 completed\n",
      "\n",
      "1 Failed download:\n",
      "['BCAL6.SA']: YFPricesMissingError('$%ticker%: possibly delisted; No price data found  (1d 2017-02-24 -> 2025-01-07)')\n",
      "[*********************100%%**********************]  1 of 1 completed"
     ]
    },
    {
     "name": "stdout",
     "output_type": "stream",
     "text": [
      "$BCAL6.SA: possibly delisted; No price data found  (1d 2017-02-24 -> 2025-01-07)\n",
      "$DJON4.SA: possibly delisted; No price data found  (1d 2017-02-24 -> 2025-01-07)\n"
     ]
    },
    {
     "name": "stderr",
     "output_type": "stream",
     "text": [
      "\n",
      "\n",
      "1 Failed download:\n",
      "['DJON4.SA']: YFPricesMissingError('$%ticker%: possibly delisted; No price data found  (1d 2017-02-24 -> 2025-01-07)')\n",
      "[*********************100%%**********************]  1 of 1 completed\n",
      "[*********************100%%**********************]  1 of 1 completed\n",
      "[*********************100%%**********************]  1 of 1 completed\n",
      "\n",
      "1 Failed download:\n",
      "['SPRI6.SA']: YFTzMissingError('$%ticker%: possibly delisted; No timezone found')\n",
      "[*********************100%%**********************]  1 of 1 completed\n",
      "[*********************100%%**********************]  1 of 1 completed\n",
      "\n",
      "1 Failed download:\n",
      "['BLUT4.SA']: YFTzMissingError('$%ticker%: possibly delisted; No timezone found')\n",
      "[*********************100%%**********************]  1 of 1 completed\n",
      "[*********************100%%**********************]  1 of 1 completed\n",
      "\n",
      "1 Failed download:\n",
      "['ARLA3.SA']: YFPricesMissingError('$%ticker%: possibly delisted; No price data found  (1d 2017-02-24 -> 2025-01-07)')\n"
     ]
    },
    {
     "name": "stdout",
     "output_type": "stream",
     "text": [
      "$ARLA3.SA: possibly delisted; No price data found  (1d 2017-02-24 -> 2025-01-07)\n"
     ]
    },
    {
     "name": "stderr",
     "output_type": "stream",
     "text": [
      "[*********************100%%**********************]  1 of 1 completed\n",
      "\n",
      "1 Failed download:\n",
      "['SPRI3.SA']: YFTzMissingError('$%ticker%: possibly delisted; No timezone found')\n",
      "[*********************100%%**********************]  1 of 1 completed\n",
      "\n",
      "1 Failed download:\n",
      "['SDIA4.SA']: YFPricesMissingError('$%ticker%: possibly delisted; No price data found  (1d 2017-02-24 -> 2025-01-07)')\n",
      "[*********************100%%**********************]  1 of 1 completed"
     ]
    },
    {
     "name": "stdout",
     "output_type": "stream",
     "text": [
      "$SDIA4.SA: possibly delisted; No price data found  (1d 2017-02-24 -> 2025-01-07)\n",
      "$SDIA3.SA: possibly delisted; No price data found  (1d 2017-02-24 -> 2025-01-07)\n"
     ]
    },
    {
     "name": "stderr",
     "output_type": "stream",
     "text": [
      "\n",
      "\n",
      "1 Failed download:\n",
      "['SDIA3.SA']: YFPricesMissingError('$%ticker%: possibly delisted; No price data found  (1d 2017-02-24 -> 2025-01-07)')\n",
      "[*********************100%%**********************]  1 of 1 completed\n",
      "\n",
      "1 Failed download:\n",
      "['DUQE3.SA']: YFPricesMissingError('$%ticker%: possibly delisted; No price data found  (1d 2017-02-24 -> 2025-01-07)')\n"
     ]
    },
    {
     "name": "stdout",
     "output_type": "stream",
     "text": [
      "$DUQE3.SA: possibly delisted; No price data found  (1d 2017-02-24 -> 2025-01-07)\n"
     ]
    },
    {
     "name": "stderr",
     "output_type": "stream",
     "text": [
      "[*********************100%%**********************]  1 of 1 completed\n",
      "[*********************100%%**********************]  1 of 1 completed\n",
      "[*********************100%%**********************]  1 of 1 completed\n",
      "\n",
      "1 Failed download:\n",
      "['SPRI5.SA']: YFTzMissingError('$%ticker%: possibly delisted; No timezone found')\n",
      "[*********************100%%**********************]  1 of 1 completed\n",
      "[*********************100%%**********************]  1 of 1 completed\n",
      "[*********************100%%**********************]  1 of 1 completed\n",
      "\n",
      "1 Failed download:\n",
      "['IDVL4.SA']: YFTzMissingError('$%ticker%: possibly delisted; No timezone found')\n",
      "[*********************100%%**********************]  1 of 1 completed\n",
      "[*********************100%%**********************]  1 of 1 completed\n",
      "[*********************100%%**********************]  1 of 1 completed\n",
      "\n",
      "1 Failed download:\n",
      "['PMET6.SA']: YFTzMissingError('$%ticker%: possibly delisted; No timezone found')\n",
      "[*********************100%%**********************]  1 of 1 completed\n",
      "[*********************100%%**********************]  1 of 1 completed\n",
      "[*********************100%%**********************]  1 of 1 completed\n",
      "\n",
      "1 Failed download:\n",
      "['LGLO4.SA']: YFPricesMissingError('$%ticker%: possibly delisted; No price data found  (1d 2017-02-24 -> 2025-01-07)')\n"
     ]
    },
    {
     "name": "stdout",
     "output_type": "stream",
     "text": [
      "$LGLO4.SA: possibly delisted; No price data found  (1d 2017-02-24 -> 2025-01-07)\n"
     ]
    },
    {
     "name": "stderr",
     "output_type": "stream",
     "text": [
      "[*********************100%%**********************]  1 of 1 completed\n",
      "\n",
      "1 Failed download:\n",
      "['IDVL3.SA']: YFTzMissingError('$%ticker%: possibly delisted; No timezone found')\n",
      "[*********************100%%**********************]  1 of 1 completed\n",
      "[*********************100%%**********************]  1 of 1 completed\n",
      "[*********************100%%**********************]  1 of 1 completed\n",
      "\n",
      "1 Failed download:\n",
      "['LETO5.SA']: YFPricesMissingError('$%ticker%: possibly delisted; No price data found  (1d 2017-02-24 -> 2025-01-07)')\n",
      "[*********************100%%**********************]  1 of 1 completed"
     ]
    },
    {
     "name": "stdout",
     "output_type": "stream",
     "text": [
      "$LETO5.SA: possibly delisted; No price data found  (1d 2017-02-24 -> 2025-01-07)\n",
      "$IENG3.SA: possibly delisted; No price data found  (1d 2017-02-24 -> 2025-01-07)\n"
     ]
    },
    {
     "name": "stderr",
     "output_type": "stream",
     "text": [
      "\n",
      "\n",
      "1 Failed download:\n",
      "['IENG3.SA']: YFPricesMissingError('$%ticker%: possibly delisted; No price data found  (1d 2017-02-24 -> 2025-01-07)')\n",
      "[*********************100%%**********************]  1 of 1 completed\n",
      "[*********************100%%**********************]  1 of 1 completed\n",
      "[*********************100%%**********************]  1 of 1 completed\n",
      "\n",
      "1 Failed download:\n",
      "['LATM11.SA']: YFPricesMissingError('$%ticker%: possibly delisted; No price data found  (1d 2017-02-24 -> 2025-01-07)')\n"
     ]
    },
    {
     "name": "stdout",
     "output_type": "stream",
     "text": [
      "$LATM11.SA: possibly delisted; No price data found  (1d 2017-02-24 -> 2025-01-07)\n"
     ]
    },
    {
     "name": "stderr",
     "output_type": "stream",
     "text": [
      "[*********************100%%**********************]  1 of 1 completed\n",
      "[*********************100%%**********************]  1 of 1 completed\n",
      "\n",
      "1 Failed download:\n",
      "['CELM3.SA']: YFPricesMissingError('$%ticker%: possibly delisted; No price data found  (1d 2017-02-24 -> 2025-01-07)')\n"
     ]
    },
    {
     "name": "stdout",
     "output_type": "stream",
     "text": [
      "$CELM3.SA: possibly delisted; No price data found  (1d 2017-02-24 -> 2025-01-07)\n",
      "$IENG5.SA: possibly delisted; No price data found  (1d 2017-02-24 -> 2025-01-07)\n"
     ]
    },
    {
     "name": "stderr",
     "output_type": "stream",
     "text": [
      "[*********************100%%**********************]  1 of 1 completed\n",
      "\n",
      "1 Failed download:\n",
      "['IENG5.SA']: YFPricesMissingError('$%ticker%: possibly delisted; No price data found  (1d 2017-02-24 -> 2025-01-07)')\n",
      "[*********************100%%**********************]  1 of 1 completed\n",
      "[*********************100%%**********************]  1 of 1 completed\n",
      "[*********************100%%**********************]  1 of 1 completed\n",
      "\n",
      "1 Failed download:\n",
      "['CTSA8.SA']: YFPricesMissingError('$%ticker%: possibly delisted; No price data found  (1d 2017-02-24 -> 2025-01-07)')\n"
     ]
    },
    {
     "name": "stdout",
     "output_type": "stream",
     "text": [
      "$CTSA8.SA: possibly delisted; No price data found  (1d 2017-02-24 -> 2025-01-07)\n"
     ]
    },
    {
     "name": "stderr",
     "output_type": "stream",
     "text": [
      "[*********************100%%**********************]  1 of 1 completed\n",
      "[*********************100%%**********************]  1 of 1 completed\n",
      "\n",
      "1 Failed download:\n",
      "['FRTA3.SA']: YFTzMissingError('$%ticker%: possibly delisted; No timezone found')\n",
      "[*********************100%%**********************]  1 of 1 completed\n",
      "\n",
      "1 Failed download:\n",
      "['REEM4.SA']: YFPricesMissingError('$%ticker%: possibly delisted; No price data found  (1d 2017-02-24 -> 2025-01-07)')\n"
     ]
    },
    {
     "name": "stdout",
     "output_type": "stream",
     "text": [
      "$REEM4.SA: possibly delisted; No price data found  (1d 2017-02-24 -> 2025-01-07)\n"
     ]
    },
    {
     "name": "stderr",
     "output_type": "stream",
     "text": [
      "[*********************100%%**********************]  1 of 1 completed\n",
      "\n",
      "1 Failed download:\n",
      "['CCXC3.SA']: YFTzMissingError('$%ticker%: possibly delisted; No timezone found')\n",
      "[*********************100%%**********************]  1 of 1 completed\n",
      "[*********************100%%**********************]  1 of 1 completed\n",
      "[*********************100%%**********************]  1 of 1 completed\n",
      "\n",
      "1 Failed download:\n",
      "['DOCA3.SA']: YFPricesMissingError('$%ticker%: possibly delisted; No price data found  (1d 2017-02-24 -> 2025-01-07)')\n"
     ]
    },
    {
     "name": "stdout",
     "output_type": "stream",
     "text": [
      "$DOCA3.SA: possibly delisted; No price data found  (1d 2017-02-24 -> 2025-01-07)\n"
     ]
    },
    {
     "name": "stderr",
     "output_type": "stream",
     "text": [
      "[*********************100%%**********************]  1 of 1 completed\n",
      "\n",
      "1 Failed download:\n",
      "['FGUI4.SA']: YFPricesMissingError('$%ticker%: possibly delisted; No price data found  (1d 2017-02-24 -> 2025-01-07)')\n"
     ]
    },
    {
     "name": "stdout",
     "output_type": "stream",
     "text": [
      "$FGUI4.SA: possibly delisted; No price data found  (1d 2017-02-24 -> 2025-01-07)\n"
     ]
    },
    {
     "name": "stderr",
     "output_type": "stream",
     "text": [
      "[*********************100%%**********************]  1 of 1 completed\n",
      "\n",
      "1 Failed download:\n",
      "['WISA4.SA']: YFPricesMissingError('$%ticker%: possibly delisted; No price data found  (1d 2017-02-24 -> 2025-01-07)')\n"
     ]
    },
    {
     "name": "stdout",
     "output_type": "stream",
     "text": [
      "$WISA4.SA: possibly delisted; No price data found  (1d 2017-02-24 -> 2025-01-07)\n"
     ]
    },
    {
     "name": "stderr",
     "output_type": "stream",
     "text": [
      "[*********************100%%**********************]  1 of 1 completed\n",
      "[*********************100%%**********************]  1 of 1 completed\n",
      "\n",
      "1 Failed download:\n",
      "['LETO3.SA']: YFPricesMissingError('$%ticker%: possibly delisted; No price data found  (1d 2017-02-24 -> 2025-01-07)')\n"
     ]
    },
    {
     "name": "stdout",
     "output_type": "stream",
     "text": [
      "$LETO3.SA: possibly delisted; No price data found  (1d 2017-02-24 -> 2025-01-07)\n"
     ]
    },
    {
     "name": "stderr",
     "output_type": "stream",
     "text": [
      "[*********************100%%**********************]  1 of 1 completed\n",
      "[*********************100%%**********************]  1 of 1 completed\n",
      "[*********************100%%**********************]  1 of 1 completed\n",
      "[*********************100%%**********************]  1 of 1 completed\n",
      "[*********************100%%**********************]  1 of 1 completed\n",
      "[*********************100%%**********************]  1 of 1 completed\n",
      "\n",
      "1 Failed download:\n",
      "['WISA3.SA']: YFPricesMissingError('$%ticker%: possibly delisted; No price data found  (1d 2017-02-24 -> 2025-01-07)')\n",
      "[*********************100%%**********************]  1 of 1 completed"
     ]
    },
    {
     "name": "stdout",
     "output_type": "stream",
     "text": [
      "$WISA3.SA: possibly delisted; No price data found  (1d 2017-02-24 -> 2025-01-07)\n",
      "$PMAM4.SA: possibly delisted; No price data found  (1d 2017-02-24 -> 2025-01-07)\n"
     ]
    },
    {
     "name": "stderr",
     "output_type": "stream",
     "text": [
      "\n",
      "\n",
      "1 Failed download:\n",
      "['PMAM4.SA']: YFPricesMissingError('$%ticker%: possibly delisted; No price data found  (1d 2017-02-24 -> 2025-01-07)')\n",
      "[*********************100%%**********************]  1 of 1 completed\n",
      "[*********************100%%**********************]  1 of 1 completed\n",
      "[*********************100%%**********************]  1 of 1 completed\n",
      "[*********************100%%**********************]  1 of 1 completed\n",
      "[*********************100%%**********************]  1 of 1 completed\n",
      "\n",
      "1 Failed download:\n",
      "['DOCA4.SA']: YFPricesMissingError('$%ticker%: possibly delisted; No price data found  (1d 2017-02-24 -> 2025-01-07)')\n"
     ]
    },
    {
     "name": "stdout",
     "output_type": "stream",
     "text": [
      "$DOCA4.SA: possibly delisted; No price data found  (1d 2017-02-24 -> 2025-01-07)\n"
     ]
    },
    {
     "name": "stderr",
     "output_type": "stream",
     "text": [
      "[*********************100%%**********************]  1 of 1 completed\n",
      "[*********************100%%**********************]  1 of 1 completed\n",
      "[*********************100%%**********************]  1 of 1 completed\n",
      "\n",
      "1 Failed download:\n",
      "['DUQE4.SA']: YFPricesMissingError('$%ticker%: possibly delisted; No price data found  (1d 2017-02-24 -> 2025-01-07)')\n",
      "[*********************100%%**********************]  1 of 1 completed"
     ]
    },
    {
     "name": "stdout",
     "output_type": "stream",
     "text": [
      "$DUQE4.SA: possibly delisted; No price data found  (1d 2017-02-24 -> 2025-01-07)\n",
      "$FTRX3.SA: possibly delisted; No price data found  (1d 2017-02-24 -> 2025-01-07)\n"
     ]
    },
    {
     "name": "stderr",
     "output_type": "stream",
     "text": [
      "\n",
      "\n",
      "1 Failed download:\n",
      "['FTRX3.SA']: YFPricesMissingError('$%ticker%: possibly delisted; No price data found  (1d 2017-02-24 -> 2025-01-07)')\n",
      "[*********************100%%**********************]  1 of 1 completed\n",
      "\n",
      "1 Failed download:\n",
      "['FTRX4.SA']: YFPricesMissingError('$%ticker%: possibly delisted; No price data found  (1d 2017-02-24 -> 2025-01-07)')\n"
     ]
    },
    {
     "name": "stdout",
     "output_type": "stream",
     "text": [
      "$FTRX4.SA: possibly delisted; No price data found  (1d 2017-02-24 -> 2025-01-07)\n"
     ]
    },
    {
     "name": "stderr",
     "output_type": "stream",
     "text": [
      "[*********************100%%**********************]  1 of 1 completed\n",
      "[*********************100%%**********************]  1 of 1 completed\n",
      "[*********************100%%**********************]  1 of 1 completed\n",
      "[*********************100%%**********************]  1 of 1 completed\n",
      "\n",
      "1 Failed download:\n",
      "['MEND6.SA']: YFTzMissingError('$%ticker%: possibly delisted; No timezone found')\n",
      "[*********************100%%**********************]  1 of 1 completed\n",
      "[*********************100%%**********************]  1 of 1 completed\n",
      "\n",
      "1 Failed download:\n",
      "['VPTA4.SA']: YFPricesMissingError('$%ticker%: possibly delisted; No price data found  (1d 2017-02-24 -> 2025-01-07)')\n",
      "[*********************100%%**********************]  1 of 1 completed"
     ]
    },
    {
     "name": "stdout",
     "output_type": "stream",
     "text": [
      "$VPTA4.SA: possibly delisted; No price data found  (1d 2017-02-24 -> 2025-01-07)\n",
      "$TENE7.SA: possibly delisted; No price data found  (1d 2017-02-24 -> 2025-01-07)\n"
     ]
    },
    {
     "name": "stderr",
     "output_type": "stream",
     "text": [
      "\n",
      "\n",
      "1 Failed download:\n",
      "['TENE7.SA']: YFPricesMissingError('$%ticker%: possibly delisted; No price data found  (1d 2017-02-24 -> 2025-01-07)')\n",
      "[*********************100%%**********************]  1 of 1 completed\n",
      "[*********************100%%**********************]  1 of 1 completed\n",
      "\n",
      "1 Failed download:\n",
      "['MEND5.SA']: YFTzMissingError('$%ticker%: possibly delisted; No timezone found')\n",
      "[*********************100%%**********************]  1 of 1 completed\n",
      "\n",
      "1 Failed download:\n",
      "['VPSC4.SA']: YFPricesMissingError('$%ticker%: possibly delisted; No price data found  (1d 2017-02-24 -> 2025-01-07)')\n",
      "[*********************100%%**********************]  1 of 1 completed"
     ]
    },
    {
     "name": "stdout",
     "output_type": "stream",
     "text": [
      "$VPSC4.SA: possibly delisted; No price data found  (1d 2017-02-24 -> 2025-01-07)\n",
      "$VAGV3.SA: possibly delisted; No price data found  (1d 2017-02-24 -> 2025-01-07)\n"
     ]
    },
    {
     "name": "stderr",
     "output_type": "stream",
     "text": [
      "\n",
      "\n",
      "1 Failed download:\n",
      "['VAGV3.SA']: YFPricesMissingError('$%ticker%: possibly delisted; No price data found  (1d 2017-02-24 -> 2025-01-07)')\n",
      "[*********************100%%**********************]  1 of 1 completed\n",
      "[*********************100%%**********************]  1 of 1 completed\n",
      "[*********************100%%**********************]  1 of 1 completed\n",
      "\n",
      "1 Failed download:\n",
      "['VAGV4.SA']: YFPricesMissingError('$%ticker%: possibly delisted; No price data found  (1d 2017-02-24 -> 2025-01-07)')\n"
     ]
    },
    {
     "name": "stdout",
     "output_type": "stream",
     "text": [
      "$VAGV4.SA: possibly delisted; No price data found  (1d 2017-02-24 -> 2025-01-07)\n"
     ]
    },
    {
     "name": "stderr",
     "output_type": "stream",
     "text": [
      "[*********************100%%**********************]  1 of 1 completed\n",
      "[*********************100%%**********************]  1 of 1 completed\n",
      "\n",
      "1 Failed download:\n",
      "['GAFP3.SA']: YFPricesMissingError('$%ticker%: possibly delisted; No price data found  (1d 2017-02-24 -> 2025-01-07)')\n",
      "[*********************100%%**********************]  1 of 1 completed"
     ]
    },
    {
     "name": "stdout",
     "output_type": "stream",
     "text": [
      "$GAFP3.SA: possibly delisted; No price data found  (1d 2017-02-24 -> 2025-01-07)\n",
      "$ARTE3.SA: possibly delisted; No price data found  (1d 2017-02-24 -> 2025-01-07)\n"
     ]
    },
    {
     "name": "stderr",
     "output_type": "stream",
     "text": [
      "\n",
      "\n",
      "1 Failed download:\n",
      "['ARTE3.SA']: YFPricesMissingError('$%ticker%: possibly delisted; No price data found  (1d 2017-02-24 -> 2025-01-07)')\n",
      "[*********************100%%**********************]  1 of 1 completed\n",
      "[*********************100%%**********************]  1 of 1 completed\n",
      "\n",
      "1 Failed download:\n",
      "['TROR3.SA']: YFPricesMissingError('$%ticker%: possibly delisted; No price data found  (1d 2017-02-24 -> 2025-01-07)')\n",
      "[*********************100%%**********************]  1 of 1 completed"
     ]
    },
    {
     "name": "stdout",
     "output_type": "stream",
     "text": [
      "$TROR3.SA: possibly delisted; No price data found  (1d 2017-02-24 -> 2025-01-07)\n",
      "$VPSC3.SA: possibly delisted; No price data found  (1d 2017-02-24 -> 2025-01-07)\n"
     ]
    },
    {
     "name": "stderr",
     "output_type": "stream",
     "text": [
      "\n",
      "\n",
      "1 Failed download:\n",
      "['VPSC3.SA']: YFPricesMissingError('$%ticker%: possibly delisted; No price data found  (1d 2017-02-24 -> 2025-01-07)')\n",
      "[*********************100%%**********************]  1 of 1 completed\n",
      "\n",
      "1 Failed download:\n",
      "['VPTA3.SA']: YFPricesMissingError('$%ticker%: possibly delisted; No price data found  (1d 2017-02-24 -> 2025-01-07)')\n",
      "[*********************100%%**********************]  1 of 1 completed"
     ]
    },
    {
     "name": "stdout",
     "output_type": "stream",
     "text": [
      "$VPTA3.SA: possibly delisted; No price data found  (1d 2017-02-24 -> 2025-01-07)\n",
      "$ARTE4.SA: possibly delisted; No price data found  (1d 2017-02-24 -> 2025-01-07)\n"
     ]
    },
    {
     "name": "stderr",
     "output_type": "stream",
     "text": [
      "\n",
      "\n",
      "1 Failed download:\n",
      "['ARTE4.SA']: YFPricesMissingError('$%ticker%: possibly delisted; No price data found  (1d 2017-02-24 -> 2025-01-07)')\n",
      "[*********************100%%**********************]  1 of 1 completed\n",
      "\n",
      "1 Failed download:\n",
      "['TROR4.SA']: YFPricesMissingError('$%ticker%: possibly delisted; No price data found  (1d 2017-02-24 -> 2025-01-07)')\n"
     ]
    },
    {
     "name": "stdout",
     "output_type": "stream",
     "text": [
      "$TROR4.SA: possibly delisted; No price data found  (1d 2017-02-24 -> 2025-01-07)\n"
     ]
    },
    {
     "name": "stderr",
     "output_type": "stream",
     "text": [
      "[*********************100%%**********************]  1 of 1 completed\n",
      "[*********************100%%**********************]  1 of 1 completed\n",
      "\n",
      "1 Failed download:\n",
      "['RCTB33.SA']: YFPricesMissingError('$%ticker%: possibly delisted; No price data found  (1d 2017-02-24 -> 2025-01-07)')\n",
      "[*********************100%%**********************]  1 of 1 completed"
     ]
    },
    {
     "name": "stdout",
     "output_type": "stream",
     "text": [
      "$RCTB33.SA: possibly delisted; No price data found  (1d 2017-02-24 -> 2025-01-07)\n",
      "$RPMG4.SA: possibly delisted; No price data found  (1d 2017-02-24 -> 2025-01-07)\n"
     ]
    },
    {
     "name": "stderr",
     "output_type": "stream",
     "text": [
      "\n",
      "\n",
      "1 Failed download:\n",
      "['RPMG4.SA']: YFPricesMissingError('$%ticker%: possibly delisted; No price data found  (1d 2017-02-24 -> 2025-01-07)')\n",
      "[*********************100%%**********************]  1 of 1 completed\n",
      "\n",
      "1 Failed download:\n",
      "['GAFP4.SA']: YFPricesMissingError('$%ticker%: possibly delisted; No price data found  (1d 2017-02-24 -> 2025-01-07)')\n"
     ]
    },
    {
     "name": "stdout",
     "output_type": "stream",
     "text": [
      "$GAFP4.SA: possibly delisted; No price data found  (1d 2017-02-24 -> 2025-01-07)\n"
     ]
    },
    {
     "name": "stderr",
     "output_type": "stream",
     "text": [
      "[*********************100%%**********************]  1 of 1 completed\n",
      "\n",
      "1 Failed download:\n",
      "['MILK33.SA']: YFTzMissingError('$%ticker%: possibly delisted; No timezone found')\n",
      "[*********************100%%**********************]  1 of 1 completed\n",
      "\n",
      "1 Failed download:\n",
      "['RCTB31.SA']: YFPricesMissingError('$%ticker%: possibly delisted; No price data found  (1d 2017-02-24 -> 2025-01-07)')\n",
      "[*********************100%%**********************]  1 of 1 completed"
     ]
    },
    {
     "name": "stdout",
     "output_type": "stream",
     "text": [
      "$RCTB31.SA: possibly delisted; No price data found  (1d 2017-02-24 -> 2025-01-07)\n",
      "$RCTB41.SA: possibly delisted; No price data found  (1d 2017-02-24 -> 2025-01-07)\n"
     ]
    },
    {
     "name": "stderr",
     "output_type": "stream",
     "text": [
      "\n",
      "\n",
      "1 Failed download:\n",
      "['RCTB41.SA']: YFPricesMissingError('$%ticker%: possibly delisted; No price data found  (1d 2017-02-24 -> 2025-01-07)')\n",
      "[*********************100%%**********************]  1 of 1 completed\n",
      "[*********************100%%**********************]  1 of 1 completed\n",
      "\n",
      "1 Failed download:\n",
      "['RCTB42.SA']: YFPricesMissingError('$%ticker%: possibly delisted; No price data found  (1d 2017-02-24 -> 2025-01-07)')\n",
      "[*********************100%%**********************]  1 of 1 completed"
     ]
    },
    {
     "name": "stdout",
     "output_type": "stream",
     "text": [
      "$RCTB42.SA: possibly delisted; No price data found  (1d 2017-02-24 -> 2025-01-07)\n",
      "$MLPA12.SA: possibly delisted; No price data found  (1d 2017-02-24 -> 2025-01-07)\n"
     ]
    },
    {
     "name": "stderr",
     "output_type": "stream",
     "text": [
      "\n",
      "\n",
      "1 Failed download:\n",
      "['MLPA12.SA']: YFPricesMissingError('$%ticker%: possibly delisted; No price data found  (1d 2017-02-24 -> 2025-01-07)')\n",
      "[*********************100%%**********************]  1 of 1 completed\n",
      "\n",
      "1 Failed download:\n",
      "['MLPA4.SA']: YFPricesMissingError('$%ticker%: possibly delisted; No price data found  (1d 2017-02-24 -> 2025-01-07)')\n"
     ]
    },
    {
     "name": "stdout",
     "output_type": "stream",
     "text": [
      "$MLPA4.SA: possibly delisted; No price data found  (1d 2017-02-24 -> 2025-01-07)\n"
     ]
    },
    {
     "name": "stderr",
     "output_type": "stream",
     "text": [
      "[*********************100%%**********************]  1 of 1 completed\n",
      "[*********************100%%**********************]  1 of 1 completed\n",
      "\n",
      "1 Failed download:\n",
      "['CAFE3.SA']: YFPricesMissingError('$%ticker%: possibly delisted; No price data found  (1d 2017-02-24 -> 2025-01-07)')\n",
      "[*********************100%%**********************]  1 of 1 completed"
     ]
    },
    {
     "name": "stdout",
     "output_type": "stream",
     "text": [
      "$CAFE3.SA: possibly delisted; No price data found  (1d 2017-02-24 -> 2025-01-07)\n",
      "$BSCT3.SA: possibly delisted; No price data found  (1d 2017-02-24 -> 2025-01-07)\n"
     ]
    },
    {
     "name": "stderr",
     "output_type": "stream",
     "text": [
      "\n",
      "\n",
      "1 Failed download:\n",
      "['BSCT3.SA']: YFPricesMissingError('$%ticker%: possibly delisted; No price data found  (1d 2017-02-24 -> 2025-01-07)')\n",
      "[*********************100%%**********************]  1 of 1 completed\n",
      "[*********************100%%**********************]  1 of 1 completed\n",
      "[*********************100%%**********************]  1 of 1 completed\n",
      "[*********************100%%**********************]  1 of 1 completed\n",
      "\n",
      "1 Failed download:\n",
      "['IGBR5.SA']: YFPricesMissingError('$%ticker%: possibly delisted; No price data found  (1d 2017-02-24 -> 2025-01-07)')\n",
      "[*********************100%%**********************]  1 of 1 completed"
     ]
    },
    {
     "name": "stdout",
     "output_type": "stream",
     "text": [
      "$IGBR5.SA: possibly delisted; No price data found  (1d 2017-02-24 -> 2025-01-07)\n",
      "$IGBR6.SA: possibly delisted; No price data found  (1d 2017-02-24 -> 2025-01-07)\n"
     ]
    },
    {
     "name": "stderr",
     "output_type": "stream",
     "text": [
      "\n",
      "\n",
      "1 Failed download:\n",
      "['IGBR6.SA']: YFPricesMissingError('$%ticker%: possibly delisted; No price data found  (1d 2017-02-24 -> 2025-01-07)')\n",
      "[*********************100%%**********************]  1 of 1 completed\n",
      "\n",
      "1 Failed download:\n",
      "['PALF11.SA']: YFPricesMissingError('$%ticker%: possibly delisted; No price data found  (1d 2017-02-24 -> 2025-01-07)')\n",
      "[*********************100%%**********************]  1 of 1 completed"
     ]
    },
    {
     "name": "stdout",
     "output_type": "stream",
     "text": [
      "$PALF11.SA: possibly delisted; No price data found  (1d 2017-02-24 -> 2025-01-07)\n",
      "$BRSR4.SA: possibly delisted; No price data found  (1d 2017-02-24 -> 2025-01-07)\n"
     ]
    },
    {
     "name": "stderr",
     "output_type": "stream",
     "text": [
      "\n",
      "\n",
      "1 Failed download:\n",
      "['BRSR4.SA']: YFPricesMissingError('$%ticker%: possibly delisted; No price data found  (1d 2017-02-24 -> 2025-01-07)')\n",
      "[*********************100%%**********************]  1 of 1 completed\n",
      "[*********************100%%**********************]  1 of 1 completed\n",
      "\n",
      "1 Failed download:\n",
      "['LREN4.SA']: YFPricesMissingError('$%ticker%: possibly delisted; No price data found  (1d 2017-02-24 -> 2025-01-07)')\n"
     ]
    },
    {
     "name": "stdout",
     "output_type": "stream",
     "text": [
      "$LREN4.SA: possibly delisted; No price data found  (1d 2017-02-24 -> 2025-01-07)\n"
     ]
    },
    {
     "name": "stderr",
     "output_type": "stream",
     "text": [
      "[*********************100%%**********************]  1 of 1 completed\n",
      "[*********************100%%**********************]  1 of 1 completed\n",
      "[*********************100%%**********************]  1 of 1 completed\n",
      "\n",
      "1 Failed download:\n",
      "['CREM4.SA']: YFPricesMissingError('$%ticker%: possibly delisted; No price data found  (1d 2017-02-24 -> 2025-01-07)')\n"
     ]
    },
    {
     "name": "stdout",
     "output_type": "stream",
     "text": [
      "$CREM4.SA: possibly delisted; No price data found  (1d 2017-02-24 -> 2025-01-07)\n"
     ]
    },
    {
     "name": "stderr",
     "output_type": "stream",
     "text": [
      "[*********************100%%**********************]  1 of 1 completed\n",
      "[*********************100%%**********************]  1 of 1 completed\n",
      "[*********************100%%**********************]  1 of 1 completed\n",
      "\n",
      "1 Failed download:\n",
      "['TPRC6.SA']: YFPricesMissingError('$%ticker%: possibly delisted; No price data found  (1d 2017-02-24 -> 2025-01-07)')\n"
     ]
    },
    {
     "name": "stdout",
     "output_type": "stream",
     "text": [
      "$TPRC6.SA: possibly delisted; No price data found  (1d 2017-02-24 -> 2025-01-07)\n"
     ]
    },
    {
     "name": "stderr",
     "output_type": "stream",
     "text": [
      "[*********************100%%**********************]  1 of 1 completed\n",
      "[*********************100%%**********************]  1 of 1 completed\n",
      "\n",
      "1 Failed download:\n",
      "['PALF5.SA']: YFPricesMissingError('$%ticker%: possibly delisted; No price data found  (1d 2017-02-24 -> 2025-01-07)')\n"
     ]
    },
    {
     "name": "stdout",
     "output_type": "stream",
     "text": [
      "$PALF5.SA: possibly delisted; No price data found  (1d 2017-02-24 -> 2025-01-07)\n"
     ]
    },
    {
     "name": "stderr",
     "output_type": "stream",
     "text": [
      "[*********************100%%**********************]  1 of 1 completed\n",
      "[*********************100%%**********************]  1 of 1 completed\n",
      "[*********************100%%**********************]  1 of 1 completed\n",
      "\n",
      "1 Failed download:\n",
      "['TPRC3.SA']: YFPricesMissingError('$%ticker%: possibly delisted; No price data found  (1d 2017-02-24 -> 2025-01-07)')\n",
      "[*********************100%%**********************]  1 of 1 completed"
     ]
    },
    {
     "name": "stdout",
     "output_type": "stream",
     "text": [
      "$TPRC3.SA: possibly delisted; No price data found  (1d 2017-02-24 -> 2025-01-07)\n",
      "$PALF3.SA: possibly delisted; No price data found  (1d 2017-02-24 -> 2025-01-07)\n"
     ]
    },
    {
     "name": "stderr",
     "output_type": "stream",
     "text": [
      "\n",
      "\n",
      "1 Failed download:\n",
      "['PALF3.SA']: YFPricesMissingError('$%ticker%: possibly delisted; No price data found  (1d 2017-02-24 -> 2025-01-07)')\n",
      "[*********************100%%**********************]  1 of 1 completed\n",
      "[*********************100%%**********************]  1 of 1 completed\n",
      "[*********************100%%**********************]  1 of 1 completed\n",
      "[*********************100%%**********************]  1 of 1 completed\n",
      "[*********************100%%**********************]  1 of 1 completed\n",
      "[*********************100%%**********************]  1 of 1 completed\n",
      "\n",
      "1 Failed download:\n",
      "['ASSM4.SA']: YFPricesMissingError('$%ticker%: possibly delisted; No price data found  (1d 2017-02-24 -> 2025-01-07)')\n",
      "[*********************100%%**********************]  1 of 1 completed"
     ]
    },
    {
     "name": "stdout",
     "output_type": "stream",
     "text": [
      "$ASSM4.SA: possibly delisted; No price data found  (1d 2017-02-24 -> 2025-01-07)\n",
      "$GAZO4.SA: possibly delisted; No price data found  (1d 2017-02-24 -> 2025-01-07)\n"
     ]
    },
    {
     "name": "stderr",
     "output_type": "stream",
     "text": [
      "\n",
      "\n",
      "1 Failed download:\n",
      "['GAZO4.SA']: YFPricesMissingError('$%ticker%: possibly delisted; No price data found  (1d 2017-02-24 -> 2025-01-07)')\n",
      "[*********************100%%**********************]  1 of 1 completed\n",
      "\n",
      "1 Failed download:\n",
      "['ASSM3.SA']: YFPricesMissingError('$%ticker%: possibly delisted; No price data found  (1d 2017-02-24 -> 2025-01-07)')\n"
     ]
    },
    {
     "name": "stdout",
     "output_type": "stream",
     "text": [
      "$ASSM3.SA: possibly delisted; No price data found  (1d 2017-02-24 -> 2025-01-07)\n",
      "$BELG4.SA: possibly delisted; No price data found  (1d 2017-02-24 -> 2025-01-07)\n"
     ]
    },
    {
     "name": "stderr",
     "output_type": "stream",
     "text": [
      "[*********************100%%**********************]  1 of 1 completed\n",
      "\n",
      "1 Failed download:\n",
      "['BELG4.SA']: YFPricesMissingError('$%ticker%: possibly delisted; No price data found  (1d 2017-02-24 -> 2025-01-07)')\n",
      "[*********************100%%**********************]  1 of 1 completed\n",
      "\n",
      "1 Failed download:\n",
      "['BELG3.SA']: YFPricesMissingError('$%ticker%: possibly delisted; No price data found  (1d 2017-02-24 -> 2025-01-07)')\n"
     ]
    },
    {
     "name": "stdout",
     "output_type": "stream",
     "text": [
      "$BELG3.SA: possibly delisted; No price data found  (1d 2017-02-24 -> 2025-01-07)\n"
     ]
    },
    {
     "name": "stderr",
     "output_type": "stream",
     "text": [
      "[*********************100%%**********************]  1 of 1 completed\n",
      "\n",
      "1 Failed download:\n",
      "['AGEN33.SA']: YFTzMissingError('$%ticker%: possibly delisted; No timezone found')\n",
      "[*********************100%%**********************]  1 of 1 completed\n",
      "[*********************100%%**********************]  1 of 1 completed\n",
      "[*********************100%%**********************]  1 of 1 completed\n",
      "\n",
      "1 Failed download:\n",
      "['TRPN3.SA']: YFTzMissingError('$%ticker%: possibly delisted; No timezone found')\n",
      "[*********************100%%**********************]  1 of 1 completed\n",
      "[*********************100%%**********************]  1 of 1 completed\n",
      "\n",
      "1 Failed download:\n",
      "['GAZO3.SA']: YFTzMissingError('$%ticker%: possibly delisted; No timezone found')\n",
      "[*********************100%%**********************]  1 of 1 completed\n",
      "\n",
      "1 Failed download:\n",
      "['FCAP3.SA']: YFPricesMissingError('$%ticker%: possibly delisted; No price data found  (1d 2017-02-24 -> 2025-01-07)')\n"
     ]
    },
    {
     "name": "stdout",
     "output_type": "stream",
     "text": [
      "$FCAP3.SA: possibly delisted; No price data found  (1d 2017-02-24 -> 2025-01-07)\n"
     ]
    },
    {
     "name": "stderr",
     "output_type": "stream",
     "text": [
      "[*********************100%%**********************]  1 of 1 completed\n",
      "\n",
      "1 Failed download:\n",
      "['IGBR3.SA']: YFChartError('%ticker%: No data found, symbol may be delisted')\n",
      "[*********************100%%**********************]  1 of 1 completed\n",
      "\n",
      "1 Failed download:\n",
      "['FCAP4.SA']: YFPricesMissingError('$%ticker%: possibly delisted; No price data found  (1d 2017-02-24 -> 2025-01-07)')\n"
     ]
    },
    {
     "name": "stdout",
     "output_type": "stream",
     "text": [
      "$FCAP4.SA: possibly delisted; No price data found  (1d 2017-02-24 -> 2025-01-07)\n"
     ]
    },
    {
     "name": "stderr",
     "output_type": "stream",
     "text": [
      "[*********************100%%**********************]  1 of 1 completed\n",
      "\n",
      "1 Failed download:\n",
      "['TARP11.SA']: YFTzMissingError('$%ticker%: possibly delisted; No timezone found')\n",
      "[*********************100%%**********************]  1 of 1 completed\n",
      "[*********************100%%**********************]  1 of 1 completed\n",
      "\n",
      "1 Failed download:\n",
      "['TSPP4.SA']: YFPricesMissingError('$%ticker%: possibly delisted; No price data found  (1d 2017-02-24 -> 2025-01-07)')\n",
      "[*********************100%%**********************]  1 of 1 completed"
     ]
    },
    {
     "name": "stdout",
     "output_type": "stream",
     "text": [
      "$TSPP4.SA: possibly delisted; No price data found  (1d 2017-02-24 -> 2025-01-07)\n",
      "$BNBR4.SA: possibly delisted; No price data found  (1d 2017-02-24 -> 2025-01-07)\n"
     ]
    },
    {
     "name": "stderr",
     "output_type": "stream",
     "text": [
      "\n",
      "\n",
      "1 Failed download:\n",
      "['BNBR4.SA']: YFPricesMissingError('$%ticker%: possibly delisted; No price data found  (1d 2017-02-24 -> 2025-01-07)')\n",
      "[*********************100%%**********************]  1 of 1 completed\n",
      "\n",
      "1 Failed download:\n",
      "['EBEN4.SA']: YFPricesMissingError('$%ticker%: possibly delisted; No price data found  (1d 2017-02-24 -> 2025-01-07)')\n"
     ]
    },
    {
     "name": "stdout",
     "output_type": "stream",
     "text": [
      "$EBEN4.SA: possibly delisted; No price data found  (1d 2017-02-24 -> 2025-01-07)\n"
     ]
    },
    {
     "name": "stderr",
     "output_type": "stream",
     "text": [
      "[*********************100%%**********************]  1 of 1 completed\n",
      "[*********************100%%**********************]  1 of 1 completed\n",
      "[*********************100%%**********************]  1 of 1 completed\n",
      "[*********************100%%**********************]  1 of 1 completed\n",
      "\n",
      "1 Failed download:\n",
      "['TSPP3.SA']: YFPricesMissingError('$%ticker%: possibly delisted; No price data found  (1d 2017-02-24 -> 2025-01-07)')\n",
      "[*********************100%%**********************]  1 of 1 completed"
     ]
    },
    {
     "name": "stdout",
     "output_type": "stream",
     "text": [
      "$TSPP3.SA: possibly delisted; No price data found  (1d 2017-02-24 -> 2025-01-07)\n",
      "$PLIM4.SA: possibly delisted; No price data found  (1d 2017-02-24 -> 2025-01-07)\n"
     ]
    },
    {
     "name": "stderr",
     "output_type": "stream",
     "text": [
      "\n",
      "\n",
      "1 Failed download:\n",
      "['PLIM4.SA']: YFPricesMissingError('$%ticker%: possibly delisted; No price data found  (1d 2017-02-24 -> 2025-01-07)')\n",
      "[*********************100%%**********************]  1 of 1 completed\n",
      "[*********************100%%**********************]  1 of 1 completed\n",
      "\n",
      "1 Failed download:\n",
      "['CPFG4.SA']: YFPricesMissingError('$%ticker%: possibly delisted; No price data found  (1d 2017-02-24 -> 2025-01-07)')\n"
     ]
    },
    {
     "name": "stdout",
     "output_type": "stream",
     "text": [
      "$CPFG4.SA: possibly delisted; No price data found  (1d 2017-02-24 -> 2025-01-07)\n"
     ]
    },
    {
     "name": "stderr",
     "output_type": "stream",
     "text": [
      "[*********************100%%**********************]  1 of 1 completed\n",
      "[*********************100%%**********************]  1 of 1 completed\n",
      "\n",
      "1 Failed download:\n",
      "['CPFG3.SA']: YFPricesMissingError('$%ticker%: possibly delisted; No price data found  (1d 2017-02-24 -> 2025-01-07)')\n"
     ]
    },
    {
     "name": "stdout",
     "output_type": "stream",
     "text": [
      "$CPFG3.SA: possibly delisted; No price data found  (1d 2017-02-24 -> 2025-01-07)\n"
     ]
    },
    {
     "name": "stderr",
     "output_type": "stream",
     "text": [
      "[*********************100%%**********************]  1 of 1 completed\n",
      "\n",
      "1 Failed download:\n",
      "['SUZA4.SA']: YFPricesMissingError('$%ticker%: possibly delisted; No price data found  (1d 2017-02-24 -> 2025-01-07)')\n"
     ]
    },
    {
     "name": "stdout",
     "output_type": "stream",
     "text": [
      "$SUZA4.SA: possibly delisted; No price data found  (1d 2017-02-24 -> 2025-01-07)\n"
     ]
    },
    {
     "name": "stderr",
     "output_type": "stream",
     "text": [
      "[*********************100%%**********************]  1 of 1 completed\n",
      "[*********************100%%**********************]  1 of 1 completed\n",
      "[*********************100%%**********************]  1 of 1 completed\n",
      "\n",
      "1 Failed download:\n",
      "['TBLE6.SA']: YFPricesMissingError('$%ticker%: possibly delisted; No price data found  (1d 2017-02-24 -> 2025-01-07)')\n"
     ]
    },
    {
     "name": "stdout",
     "output_type": "stream",
     "text": [
      "$TBLE6.SA: possibly delisted; No price data found  (1d 2017-02-24 -> 2025-01-07)\n",
      "$MNDL4.SA: possibly delisted; No price data found  (1d 2017-02-24 -> 2025-01-07)\n"
     ]
    },
    {
     "name": "stderr",
     "output_type": "stream",
     "text": [
      "[*********************100%%**********************]  1 of 1 completed\n",
      "\n",
      "1 Failed download:\n",
      "['MNDL4.SA']: YFPricesMissingError('$%ticker%: possibly delisted; No price data found  (1d 2017-02-24 -> 2025-01-07)')\n",
      "[*********************100%%**********************]  1 of 1 completed\n",
      "[*********************100%%**********************]  1 of 1 completed\n",
      "\n",
      "1 Failed download:\n",
      "['CLSC5.SA']: YFPricesMissingError('$%ticker%: possibly delisted; No price data found  (1d 2017-02-24 -> 2025-01-07)')\n",
      "[*********************100%%**********************]  1 of 1 completed"
     ]
    },
    {
     "name": "stdout",
     "output_type": "stream",
     "text": [
      "$CLSC5.SA: possibly delisted; No price data found  (1d 2017-02-24 -> 2025-01-07)\n",
      "$ESCE3.SA: possibly delisted; No price data found  (1d 2017-02-24 -> 2025-01-07)\n"
     ]
    },
    {
     "name": "stderr",
     "output_type": "stream",
     "text": [
      "\n",
      "\n",
      "1 Failed download:\n",
      "['ESCE3.SA']: YFPricesMissingError('$%ticker%: possibly delisted; No price data found  (1d 2017-02-24 -> 2025-01-07)')\n",
      "[*********************100%%**********************]  1 of 1 completed\n",
      "[*********************100%%**********************]  1 of 1 completed\n",
      "\n",
      "1 Failed download:\n",
      "['CYRE4.SA']: YFPricesMissingError('$%ticker%: possibly delisted; No price data found  (1d 2017-02-24 -> 2025-01-07)')\n",
      "[*********************100%%**********************]  1 of 1 completed"
     ]
    },
    {
     "name": "stdout",
     "output_type": "stream",
     "text": [
      "$CYRE4.SA: possibly delisted; No price data found  (1d 2017-02-24 -> 2025-01-07)\n",
      "$TBLE5.SA: possibly delisted; No price data found  (1d 2017-02-24 -> 2025-01-07)\n"
     ]
    },
    {
     "name": "stderr",
     "output_type": "stream",
     "text": [
      "\n",
      "\n",
      "1 Failed download:\n",
      "['TBLE5.SA']: YFPricesMissingError('$%ticker%: possibly delisted; No price data found  (1d 2017-02-24 -> 2025-01-07)')\n",
      "[*********************100%%**********************]  1 of 1 completed\n",
      "[*********************100%%**********************]  1 of 1 completed\n",
      "\n",
      "1 Failed download:\n",
      "['CTPC4.SA']: YFPricesMissingError('$%ticker%: possibly delisted; No price data found  (1d 2017-02-24 -> 2025-01-07)')\n"
     ]
    },
    {
     "name": "stdout",
     "output_type": "stream",
     "text": [
      "$CTPC4.SA: possibly delisted; No price data found  (1d 2017-02-24 -> 2025-01-07)\n"
     ]
    },
    {
     "name": "stderr",
     "output_type": "stream",
     "text": [
      "[*********************100%%**********************]  1 of 1 completed\n",
      "[*********************100%%**********************]  1 of 1 completed\n",
      "\n",
      "1 Failed download:\n",
      "['BRML3.SA']: YFTzMissingError('$%ticker%: possibly delisted; No timezone found')\n",
      "[*********************100%%**********************]  1 of 1 completed\n",
      "\n",
      "1 Failed download:\n",
      "['MTBR3.SA']: YFPricesMissingError('$%ticker%: possibly delisted; No price data found  (1d 2017-02-24 -> 2025-01-07)')\n"
     ]
    },
    {
     "name": "stdout",
     "output_type": "stream",
     "text": [
      "$MTBR3.SA: possibly delisted; No price data found  (1d 2017-02-24 -> 2025-01-07)\n"
     ]
    },
    {
     "name": "stderr",
     "output_type": "stream",
     "text": [
      "[*********************100%%**********************]  1 of 1 completed\n",
      "[*********************100%%**********************]  1 of 1 completed\n",
      "[*********************100%%**********************]  1 of 1 completed\n",
      "\n",
      "1 Failed download:\n",
      "['MTBR4.SA']: YFPricesMissingError('$%ticker%: possibly delisted; No price data found  (1d 2017-02-24 -> 2025-01-07)')\n"
     ]
    },
    {
     "name": "stdout",
     "output_type": "stream",
     "text": [
      "$MTBR4.SA: possibly delisted; No price data found  (1d 2017-02-24 -> 2025-01-07)\n"
     ]
    },
    {
     "name": "stderr",
     "output_type": "stream",
     "text": [
      "[*********************100%%**********************]  1 of 1 completed\n",
      "[*********************100%%**********************]  1 of 1 completed\n",
      "[*********************100%%**********************]  1 of 1 completed\n",
      "[*********************100%%**********************]  1 of 1 completed\n",
      "[*********************100%%**********************]  1 of 1 completed\n",
      "\n",
      "1 Failed download:\n",
      "['MARI3.SA']: YFTzMissingError('$%ticker%: possibly delisted; No timezone found')\n",
      "[*********************100%%**********************]  1 of 1 completed\n",
      "[*********************100%%**********************]  1 of 1 completed\n",
      "[*********************100%%**********************]  1 of 1 completed\n",
      "[*********************100%%**********************]  1 of 1 completed\n",
      "[*********************100%%**********************]  1 of 1 completed\n",
      "[*********************100%%**********************]  1 of 1 completed\n",
      "[*********************100%%**********************]  1 of 1 completed\n",
      "[*********************100%%**********************]  1 of 1 completed\n",
      "[*********************100%%**********************]  1 of 1 completed\n",
      "\n",
      "1 Failed download:\n",
      "['STBP11.SA']: YFPricesMissingError('$%ticker%: possibly delisted; No price data found  (1d 2017-02-24 -> 2025-01-07)')\n"
     ]
    },
    {
     "name": "stdout",
     "output_type": "stream",
     "text": [
      "$STBP11.SA: possibly delisted; No price data found  (1d 2017-02-24 -> 2025-01-07)\n"
     ]
    },
    {
     "name": "stderr",
     "output_type": "stream",
     "text": [
      "[*********************100%%**********************]  1 of 1 completed\n",
      "[*********************100%%**********************]  1 of 1 completed\n",
      "[*********************100%%**********************]  1 of 1 completed\n",
      "[*********************100%%**********************]  1 of 1 completed\n",
      "[*********************100%%**********************]  1 of 1 completed\n",
      "[*********************100%%**********************]  1 of 1 completed\n",
      "[*********************100%%**********************]  1 of 1 completed\n",
      "[*********************100%%**********************]  1 of 1 completed\n",
      "\n",
      "1 Failed download:\n",
      "['CAMB4.SA']: YFTzMissingError('$%ticker%: possibly delisted; No timezone found')\n",
      "[*********************100%%**********************]  1 of 1 completed\n",
      "[*********************100%%**********************]  1 of 1 completed\n",
      "[*********************100%%**********************]  1 of 1 completed\n",
      "\n",
      "1 Failed download:\n",
      "['PTPA3.SA']: YFPricesMissingError('$%ticker%: possibly delisted; No price data found  (1d 2017-02-24 -> 2025-01-07)')\n"
     ]
    },
    {
     "name": "stdout",
     "output_type": "stream",
     "text": [
      "$PTPA3.SA: possibly delisted; No price data found  (1d 2017-02-24 -> 2025-01-07)\n"
     ]
    },
    {
     "name": "stderr",
     "output_type": "stream",
     "text": [
      "[*********************100%%**********************]  1 of 1 completed\n",
      "[*********************100%%**********************]  1 of 1 completed\n",
      "[*********************100%%**********************]  1 of 1 completed\n",
      "[*********************100%%**********************]  1 of 1 completed\n",
      "\n",
      "1 Failed download:\n",
      "['PTPA4.SA']: YFPricesMissingError('$%ticker%: possibly delisted; No price data found  (1d 2017-02-24 -> 2025-01-07)')\n"
     ]
    },
    {
     "name": "stdout",
     "output_type": "stream",
     "text": [
      "$PTPA4.SA: possibly delisted; No price data found  (1d 2017-02-24 -> 2025-01-07)\n"
     ]
    },
    {
     "name": "stderr",
     "output_type": "stream",
     "text": [
      "[*********************100%%**********************]  1 of 1 completed\n",
      "[*********************100%%**********************]  1 of 1 completed\n",
      "[*********************100%%**********************]  1 of 1 completed\n",
      "\n",
      "1 Failed download:\n",
      "['REDE4.SA']: YFPricesMissingError('$%ticker%: possibly delisted; No price data found  (1d 2017-02-24 -> 2025-01-07)')\n"
     ]
    },
    {
     "name": "stdout",
     "output_type": "stream",
     "text": [
      "$REDE4.SA: possibly delisted; No price data found  (1d 2017-02-24 -> 2025-01-07)\n"
     ]
    },
    {
     "name": "stderr",
     "output_type": "stream",
     "text": [
      "[*********************100%%**********************]  1 of 1 completed\n",
      "[*********************100%%**********************]  1 of 1 completed\n",
      "[*********************100%%**********************]  1 of 1 completed\n",
      "[*********************100%%**********************]  1 of 1 completed\n",
      "[*********************100%%**********************]  1 of 1 completed\n",
      "\n",
      "1 Failed download:\n",
      "['VINE3.SA']: YFPricesMissingError('$%ticker%: possibly delisted; No price data found  (1d 2017-02-24 -> 2025-01-07)')\n",
      "[*********************100%%**********************]  1 of 1 completed"
     ]
    },
    {
     "name": "stdout",
     "output_type": "stream",
     "text": [
      "$VINE3.SA: possibly delisted; No price data found  (1d 2017-02-24 -> 2025-01-07)\n",
      "$DAYC4.SA: possibly delisted; No price data found  (1d 2017-02-24 -> 2025-01-07)\n"
     ]
    },
    {
     "name": "stderr",
     "output_type": "stream",
     "text": [
      "\n",
      "\n",
      "1 Failed download:\n",
      "['DAYC4.SA']: YFPricesMissingError('$%ticker%: possibly delisted; No price data found  (1d 2017-02-24 -> 2025-01-07)')\n",
      "[*********************100%%**********************]  1 of 1 completed\n",
      "[*********************100%%**********************]  1 of 1 completed\n",
      "\n",
      "1 Failed download:\n",
      "['VINE5.SA']: YFPricesMissingError('$%ticker%: possibly delisted; No price data found  (1d 2017-02-24 -> 2025-01-07)')\n"
     ]
    },
    {
     "name": "stdout",
     "output_type": "stream",
     "text": [
      "$VINE5.SA: possibly delisted; No price data found  (1d 2017-02-24 -> 2025-01-07)\n"
     ]
    },
    {
     "name": "stderr",
     "output_type": "stream",
     "text": [
      "[*********************100%%**********************]  1 of 1 completed\n",
      "\n",
      "1 Failed download:\n",
      "['CSRN3.SA']: YFChartError('%ticker%: No data found, symbol may be delisted')\n",
      "[*********************100%%**********************]  1 of 1 completed\n",
      "[*********************100%%**********************]  1 of 1 completed\n",
      "[*********************100%%**********************]  1 of 1 completed\n",
      "[*********************100%%**********************]  1 of 1 completed\n",
      "[*********************100%%**********************]  1 of 1 completed\n",
      "[*********************100%%**********************]  1 of 1 completed\n",
      "[*********************100%%**********************]  1 of 1 completed\n",
      "[*********************100%%**********************]  1 of 1 completed\n",
      "\n",
      "1 Failed download:\n",
      "['CSRN5.SA']: YFChartError('%ticker%: No data found, symbol may be delisted')\n",
      "[*********************100%%**********************]  1 of 1 completed\n",
      "[*********************100%%**********************]  1 of 1 completed\n",
      "[*********************100%%**********************]  1 of 1 completed\n",
      "[*********************100%%**********************]  1 of 1 completed\n",
      "[*********************100%%**********************]  1 of 1 completed\n",
      "\n",
      "1 Failed download:\n",
      "['VCPA4.SA']: YFPricesMissingError('$%ticker%: possibly delisted; No price data found  (1d 2017-02-24 -> 2025-01-07)')\n"
     ]
    },
    {
     "name": "stdout",
     "output_type": "stream",
     "text": [
      "$VCPA4.SA: possibly delisted; No price data found  (1d 2017-02-24 -> 2025-01-07)\n"
     ]
    },
    {
     "name": "stderr",
     "output_type": "stream",
     "text": [
      "[*********************100%%**********************]  1 of 1 completed\n",
      "[*********************100%%**********************]  1 of 1 completed\n",
      "[*********************100%%**********************]  1 of 1 completed\n",
      "\n",
      "1 Failed download:\n",
      "['CSRN6.SA']: YFChartError('%ticker%: No data found, symbol may be delisted')\n",
      "[*********************100%%**********************]  1 of 1 completed\n",
      "[*********************100%%**********************]  1 of 1 completed\n",
      "[*********************100%%**********************]  1 of 1 completed\n",
      "\n",
      "1 Failed download:\n",
      "['FRAS4.SA']: YFPricesMissingError('$%ticker%: possibly delisted; No price data found  (1d 2017-02-24 -> 2025-01-07)')\n"
     ]
    },
    {
     "name": "stdout",
     "output_type": "stream",
     "text": [
      "$FRAS4.SA: possibly delisted; No price data found  (1d 2017-02-24 -> 2025-01-07)\n"
     ]
    },
    {
     "name": "stderr",
     "output_type": "stream",
     "text": [
      "[*********************100%%**********************]  1 of 1 completed\n",
      "[*********************100%%**********************]  1 of 1 completed\n",
      "[*********************100%%**********************]  1 of 1 completed\n",
      "\n",
      "1 Failed download:\n",
      "['CPFP4.SA']: YFPricesMissingError('$%ticker%: possibly delisted; No price data found  (1d 2017-02-24 -> 2025-01-07)')\n"
     ]
    },
    {
     "name": "stdout",
     "output_type": "stream",
     "text": [
      "$CPFP4.SA: possibly delisted; No price data found  (1d 2017-02-24 -> 2025-01-07)\n"
     ]
    },
    {
     "name": "stderr",
     "output_type": "stream",
     "text": [
      "[*********************100%%**********************]  1 of 1 completed\n",
      "[*********************100%%**********************]  1 of 1 completed\n",
      "[*********************100%%**********************]  1 of 1 completed\n",
      "[*********************100%%**********************]  1 of 1 completed\n",
      "[*********************100%%**********************]  1 of 1 completed\n",
      "[*********************100%%**********************]  1 of 1 completed\n",
      "[*********************100%%**********************]  1 of 1 completed\n",
      "[*********************100%%**********************]  1 of 1 completed\n",
      "[*********************100%%**********************]  1 of 1 completed\n",
      "[*********************100%%**********************]  1 of 1 completed\n",
      "[*********************100%%**********************]  1 of 1 completed\n",
      "[*********************100%%**********************]  1 of 1 completed\n",
      "\n",
      "1 Failed download:\n",
      "['ETER4.SA']: YFPricesMissingError('$%ticker%: possibly delisted; No price data found  (1d 2017-02-24 -> 2025-01-07)')\n"
     ]
    },
    {
     "name": "stdout",
     "output_type": "stream",
     "text": [
      "$ETER4.SA: possibly delisted; No price data found  (1d 2017-02-24 -> 2025-01-07)\n"
     ]
    },
    {
     "name": "stderr",
     "output_type": "stream",
     "text": [
      "[*********************100%%**********************]  1 of 1 completed\n",
      "[*********************100%%**********************]  1 of 1 completed\n",
      "\n",
      "1 Failed download:\n",
      "['SUZB6.SA']: YFPricesMissingError('$%ticker%: possibly delisted; No price data found  (1d 2017-02-24 -> 2025-01-07)')\n"
     ]
    },
    {
     "name": "stdout",
     "output_type": "stream",
     "text": [
      "$SUZB6.SA: possibly delisted; No price data found  (1d 2017-02-24 -> 2025-01-07)\n"
     ]
    },
    {
     "name": "stderr",
     "output_type": "stream",
     "text": [
      "[*********************100%%**********************]  1 of 1 completed\n",
      "[*********************100%%**********************]  1 of 1 completed\n",
      "[*********************100%%**********************]  1 of 1 completed\n",
      "[*********************100%%**********************]  1 of 1 completed\n",
      "[*********************100%%**********************]  1 of 1 completed\n",
      "[*********************100%%**********************]  1 of 1 completed\n",
      "[*********************100%%**********************]  1 of 1 completed\n",
      "\n",
      "1 Failed download:\n",
      "['BPIA3.SA']: YFPricesMissingError('$%ticker%: possibly delisted; No price data found  (1d 2017-02-24 -> 2025-01-07)')\n"
     ]
    },
    {
     "name": "stdout",
     "output_type": "stream",
     "text": [
      "$BPIA3.SA: possibly delisted; No price data found  (1d 2017-02-24 -> 2025-01-07)\n"
     ]
    },
    {
     "name": "stderr",
     "output_type": "stream",
     "text": [
      "[*********************100%%**********************]  1 of 1 completed\n",
      "\n",
      "1 Failed download:\n",
      "['DSUL3.SA']: YFTzMissingError('$%ticker%: possibly delisted; No timezone found')\n",
      "[*********************100%%**********************]  1 of 1 completed\n",
      "[*********************100%%**********************]  1 of 1 completed\n",
      "[*********************100%%**********************]  1 of 1 completed\n",
      "[*********************100%%**********************]  1 of 1 completed\n",
      "[*********************100%%**********************]  1 of 1 completed\n",
      "[*********************100%%**********************]  1 of 1 completed\n",
      "\n",
      "1 Failed download:\n",
      "['RNPT4.SA']: YFPricesMissingError('$%ticker%: possibly delisted; No price data found  (1d 2017-02-24 -> 2025-01-07)')\n"
     ]
    },
    {
     "name": "stdout",
     "output_type": "stream",
     "text": [
      "$RNPT4.SA: possibly delisted; No price data found  (1d 2017-02-24 -> 2025-01-07)\n",
      "$RNPT3.SA: possibly delisted; No price data found  (1d 2017-02-24 -> 2025-01-07)\n"
     ]
    },
    {
     "name": "stderr",
     "output_type": "stream",
     "text": [
      "[*********************100%%**********************]  1 of 1 completed\n",
      "\n",
      "1 Failed download:\n",
      "['RNPT3.SA']: YFPricesMissingError('$%ticker%: possibly delisted; No price data found  (1d 2017-02-24 -> 2025-01-07)')\n",
      "[*********************100%%**********************]  1 of 1 completed\n",
      "[*********************100%%**********************]  1 of 1 completed\n",
      "[*********************100%%**********************]  1 of 1 completed\n",
      "[*********************100%%**********************]  1 of 1 completed\n",
      "[*********************100%%**********************]  1 of 1 completed\n",
      "[*********************100%%**********************]  1 of 1 completed\n",
      "\n",
      "1 Failed download:\n",
      "['ELPL6.SA']: YFTzMissingError('$%ticker%: possibly delisted; No timezone found')\n",
      "[*********************100%%**********************]  1 of 1 completed\n",
      "\n",
      "1 Failed download:\n",
      "['ELPL5.SA']: YFTzMissingError('$%ticker%: possibly delisted; No timezone found')\n",
      "[*********************100%%**********************]  1 of 1 completed\n",
      "[*********************100%%**********************]  1 of 1 completed\n",
      "[*********************100%%**********************]  1 of 1 completed\n",
      "\n",
      "1 Failed download:\n",
      "['TIET11.SA']: YFTzMissingError('$%ticker%: possibly delisted; No timezone found')\n",
      "[*********************100%%**********************]  1 of 1 completed\n",
      "\n",
      "1 Failed download:\n",
      "['TIET3.SA']: YFTzMissingError('$%ticker%: possibly delisted; No timezone found')\n",
      "[*********************100%%**********************]  1 of 1 completed\n",
      "\n",
      "1 Failed download:\n",
      "['TIET4.SA']: YFTzMissingError('$%ticker%: possibly delisted; No timezone found')\n",
      "[*********************100%%**********************]  1 of 1 completed\n",
      "[*********************100%%**********************]  1 of 1 completed\n",
      "[*********************100%%**********************]  1 of 1 completed\n",
      "[*********************100%%**********************]  1 of 1 completed\n",
      "[*********************100%%**********************]  1 of 1 completed\n",
      "[*********************100%%**********************]  1 of 1 completed\n",
      "[*********************100%%**********************]  1 of 1 completed\n",
      "[*********************100%%**********************]  1 of 1 completed\n",
      "[*********************100%%**********************]  1 of 1 completed\n",
      "[*********************100%%**********************]  1 of 1 completed\n",
      "[*********************100%%**********************]  1 of 1 completed\n",
      "\n",
      "1 Failed download:\n",
      "['SUZB5.SA']: YFPricesMissingError('$%ticker%: possibly delisted; No price data found  (1d 2017-02-24 -> 2025-01-07)')\n"
     ]
    },
    {
     "name": "stdout",
     "output_type": "stream",
     "text": [
      "$SUZB5.SA: possibly delisted; No price data found  (1d 2017-02-24 -> 2025-01-07)\n"
     ]
    },
    {
     "name": "stderr",
     "output_type": "stream",
     "text": [
      "[*********************100%%**********************]  1 of 1 completed\n",
      "[*********************100%%**********************]  1 of 1 completed\n",
      "[*********************100%%**********************]  1 of 1 completed\n",
      "[*********************100%%**********************]  1 of 1 completed\n",
      "[*********************100%%**********************]  1 of 1 completed\n",
      "[*********************100%%**********************]  1 of 1 completed\n",
      "[*********************100%%**********************]  1 of 1 completed\n",
      "[*********************100%%**********************]  1 of 1 completed\n",
      "\n",
      "1 Failed download:\n",
      "['CIQU4.SA']: YFPricesMissingError('$%ticker%: possibly delisted; No price data found  (1d 2017-02-24 -> 2025-01-07)')\n"
     ]
    },
    {
     "name": "stdout",
     "output_type": "stream",
     "text": [
      "$CIQU4.SA: possibly delisted; No price data found  (1d 2017-02-24 -> 2025-01-07)\n"
     ]
    },
    {
     "name": "stderr",
     "output_type": "stream",
     "text": [
      "[*********************100%%**********************]  1 of 1 completed\n",
      "\n",
      "1 Failed download:\n",
      "['CIQU3.SA']: YFPricesMissingError('$%ticker%: possibly delisted; No price data found  (1d 2017-02-24 -> 2025-01-07)')\n"
     ]
    },
    {
     "name": "stdout",
     "output_type": "stream",
     "text": [
      "$CIQU3.SA: possibly delisted; No price data found  (1d 2017-02-24 -> 2025-01-07)\n"
     ]
    },
    {
     "name": "stderr",
     "output_type": "stream",
     "text": [
      "[*********************100%%**********************]  1 of 1 completed\n",
      "[*********************100%%**********************]  1 of 1 completed\n",
      "[*********************100%%**********************]  1 of 1 completed\n",
      "[*********************100%%**********************]  1 of 1 completed\n",
      "[*********************100%%**********************]  1 of 1 completed\n",
      "[*********************100%%**********************]  1 of 1 completed\n",
      "[*********************100%%**********************]  1 of 1 completed\n",
      "[*********************100%%**********************]  1 of 1 completed\n",
      "[*********************100%%**********************]  1 of 1 completed\n",
      "[*********************100%%**********************]  1 of 1 completed\n",
      "[*********************100%%**********************]  1 of 1 completed\n",
      "[*********************100%%**********************]  1 of 1 completed\n",
      "[*********************100%%**********************]  1 of 1 completed\n",
      "[*********************100%%**********************]  1 of 1 completed\n",
      "[*********************100%%**********************]  1 of 1 completed\n",
      "[*********************100%%**********************]  1 of 1 completed\n",
      "[*********************100%%**********************]  1 of 1 completed\n",
      "[*********************100%%**********************]  1 of 1 completed\n",
      "[*********************100%%**********************]  1 of 1 completed\n",
      "[*********************100%%**********************]  1 of 1 completed\n",
      "[*********************100%%**********************]  1 of 1 completed\n",
      "[*********************100%%**********************]  1 of 1 completed\n",
      "[*********************100%%**********************]  1 of 1 completed\n",
      "[*********************100%%**********************]  1 of 1 completed\n",
      "\n",
      "1 Failed download:\n",
      "['EEEL4.SA']: YFTzMissingError('$%ticker%: possibly delisted; No timezone found')\n",
      "[*********************100%%**********************]  1 of 1 completed\n",
      "[*********************100%%**********************]  1 of 1 completed\n",
      "[*********************100%%**********************]  1 of 1 completed\n",
      "[*********************100%%**********************]  1 of 1 completed\n",
      "[*********************100%%**********************]  1 of 1 completed\n",
      "[*********************100%%**********************]  1 of 1 completed\n",
      "[*********************100%%**********************]  1 of 1 completed\n",
      "[*********************100%%**********************]  1 of 1 completed\n",
      "[*********************100%%**********************]  1 of 1 completed\n",
      "\n",
      "1 Failed download:\n",
      "['EEEL3.SA']: YFTzMissingError('$%ticker%: possibly delisted; No timezone found')\n",
      "[*********************100%%**********************]  1 of 1 completed\n",
      "[*********************100%%**********************]  1 of 1 completed\n",
      "[*********************100%%**********************]  1 of 1 completed\n",
      "[*********************100%%**********************]  1 of 1 completed\n",
      "[*********************100%%**********************]  1 of 1 completed\n",
      "[*********************100%%**********************]  1 of 1 completed\n",
      "\n",
      "1 Failed download:\n",
      "['ENBR3.SA']: YFTzMissingError('$%ticker%: possibly delisted; No timezone found')\n",
      "[*********************100%%**********************]  1 of 1 completed\n",
      "[*********************100%%**********************]  1 of 1 completed\n",
      "[*********************100%%**********************]  1 of 1 completed\n",
      "[*********************100%%**********************]  1 of 1 completed\n",
      "[*********************100%%**********************]  1 of 1 completed\n",
      "[*********************100%%**********************]  1 of 1 completed\n",
      "[*********************100%%**********************]  1 of 1 completed\n",
      "[*********************100%%**********************]  1 of 1 completed\n",
      "\n",
      "1 Failed download:\n",
      "['GETT3.SA']: YFTzMissingError('$%ticker%: possibly delisted; No timezone found')\n",
      "[*********************100%%**********************]  1 of 1 completed\n",
      "\n",
      "1 Failed download:\n",
      "['GETT4.SA']: YFTzMissingError('$%ticker%: possibly delisted; No timezone found')\n",
      "[*********************100%%**********************]  1 of 1 completed\n",
      "[*********************100%%**********************]  1 of 1 completed\n",
      "[*********************100%%**********************]  1 of 1 completed\n",
      "\n",
      "1 Failed download:\n",
      "['DPPI4.SA']: YFPricesMissingError('$%ticker%: possibly delisted; No price data found  (1d 2017-02-24 -> 2025-01-07)')\n"
     ]
    },
    {
     "name": "stdout",
     "output_type": "stream",
     "text": [
      "$DPPI4.SA: possibly delisted; No price data found  (1d 2017-02-24 -> 2025-01-07)\n"
     ]
    },
    {
     "name": "stderr",
     "output_type": "stream",
     "text": [
      "[*********************100%%**********************]  1 of 1 completed\n",
      "[*********************100%%**********************]  1 of 1 completed\n",
      "\n",
      "1 Failed download:\n",
      "['CCTU4.SA']: YFPricesMissingError('$%ticker%: possibly delisted; No price data found  (1d 2017-02-24 -> 2025-01-07)')\n"
     ]
    },
    {
     "name": "stdout",
     "output_type": "stream",
     "text": [
      "$CCTU4.SA: possibly delisted; No price data found  (1d 2017-02-24 -> 2025-01-07)\n"
     ]
    },
    {
     "name": "stderr",
     "output_type": "stream",
     "text": [
      "[*********************100%%**********************]  1 of 1 completed\n",
      "[*********************100%%**********************]  1 of 1 completed\n",
      "[*********************100%%**********************]  1 of 1 completed\n",
      "[*********************100%%**********************]  1 of 1 completed\n",
      "\n",
      "1 Failed download:\n",
      "['CPRE3.SA']: YFTzMissingError('$%ticker%: possibly delisted; No timezone found')\n",
      "[*********************100%%**********************]  1 of 1 completed\n",
      "[*********************100%%**********************]  1 of 1 completed\n",
      "[*********************100%%**********************]  1 of 1 completed\n",
      "[*********************100%%**********************]  1 of 1 completed\n",
      "[*********************100%%**********************]  1 of 1 completed\n",
      "[*********************100%%**********************]  1 of 1 completed\n",
      "[*********************100%%**********************]  1 of 1 completed\n",
      "[*********************100%%**********************]  1 of 1 completed\n",
      "[*********************100%%**********************]  1 of 1 completed\n",
      "[*********************100%%**********************]  1 of 1 completed\n",
      "[*********************100%%**********************]  1 of 1 completed\n",
      "[*********************100%%**********************]  1 of 1 completed\n",
      "[*********************100%%**********************]  1 of 1 completed\n",
      "[*********************100%%**********************]  1 of 1 completed\n",
      "\n",
      "1 Failed download:\n",
      "['WSON33.SA']: YFTzMissingError('$%ticker%: possibly delisted; No timezone found')\n",
      "[*********************100%%**********************]  1 of 1 completed\n",
      "[*********************100%%**********************]  1 of 1 completed\n",
      "\n",
      "1 Failed download:\n",
      "['CMET4.SA']: YFPricesMissingError('$%ticker%: possibly delisted; No price data found  (1d 2017-02-24 -> 2025-01-07)')\n",
      "[*********************100%%**********************]  1 of 1 completed"
     ]
    },
    {
     "name": "stdout",
     "output_type": "stream",
     "text": [
      "$CMET4.SA: possibly delisted; No price data found  (1d 2017-02-24 -> 2025-01-07)\n",
      "$RDTR3.SA: possibly delisted; No price data found  (1d 2017-02-24 -> 2025-01-07)\n"
     ]
    },
    {
     "name": "stderr",
     "output_type": "stream",
     "text": [
      "\n",
      "\n",
      "1 Failed download:\n",
      "['RDTR3.SA']: YFPricesMissingError('$%ticker%: possibly delisted; No price data found  (1d 2017-02-24 -> 2025-01-07)')\n",
      "[*********************100%%**********************]  1 of 1 completed\n",
      "[*********************100%%**********************]  1 of 1 completed\n",
      "[*********************100%%**********************]  1 of 1 completed\n",
      "[*********************100%%**********************]  1 of 1 completed\n",
      "[*********************100%%**********************]  1 of 1 completed\n",
      "[*********************100%%**********************]  1 of 1 completed\n",
      "[*********************100%%**********************]  1 of 1 completed\n",
      "[*********************100%%**********************]  1 of 1 completed\n",
      "\n",
      "1 Failed download:\n",
      "['AGIN3.SA']: YFTzMissingError('$%ticker%: possibly delisted; No timezone found')\n",
      "[*********************100%%**********************]  1 of 1 completed\n",
      "[*********************100%%**********************]  1 of 1 completed\n",
      "[*********************100%%**********************]  1 of 1 completed\n",
      "[*********************100%%**********************]  1 of 1 completed\n",
      "[*********************100%%**********************]  1 of 1 completed\n",
      "\n",
      "1 Failed download:\n",
      "['CPSL3.SA']: YFPricesMissingError('$%ticker%: possibly delisted; No price data found  (1d 2017-02-24 -> 2025-01-07)')\n"
     ]
    },
    {
     "name": "stdout",
     "output_type": "stream",
     "text": [
      "$CPSL3.SA: possibly delisted; No price data found  (1d 2017-02-24 -> 2025-01-07)\n"
     ]
    },
    {
     "name": "stderr",
     "output_type": "stream",
     "text": [
      "[*********************100%%**********************]  1 of 1 completed\n",
      "[*********************100%%**********************]  1 of 1 completed\n",
      "[*********************100%%**********************]  1 of 1 completed\n",
      "[*********************100%%**********************]  1 of 1 completed\n",
      "[*********************100%%**********************]  1 of 1 completed\n",
      "[*********************100%%**********************]  1 of 1 completed\n",
      "\n",
      "1 Failed download:\n",
      "['TMGC12.SA']: YFPricesMissingError('$%ticker%: possibly delisted; No price data found  (1d 2017-02-24 -> 2025-01-07)')\n"
     ]
    },
    {
     "name": "stdout",
     "output_type": "stream",
     "text": [
      "$TMGC12.SA: possibly delisted; No price data found  (1d 2017-02-24 -> 2025-01-07)\n"
     ]
    },
    {
     "name": "stderr",
     "output_type": "stream",
     "text": [
      "[*********************100%%**********************]  1 of 1 completed\n",
      "[*********************100%%**********************]  1 of 1 completed\n",
      "\n",
      "1 Failed download:\n",
      "['ACES4.SA']: YFPricesMissingError('$%ticker%: possibly delisted; No price data found  (1d 2017-02-24 -> 2025-01-07)')\n"
     ]
    },
    {
     "name": "stdout",
     "output_type": "stream",
     "text": [
      "$ACES4.SA: possibly delisted; No price data found  (1d 2017-02-24 -> 2025-01-07)\n"
     ]
    },
    {
     "name": "stderr",
     "output_type": "stream",
     "text": [
      "[*********************100%%**********************]  1 of 1 completed\n",
      "[*********************100%%**********************]  1 of 1 completed\n",
      "[*********************100%%**********************]  1 of 1 completed\n",
      "\n",
      "1 Failed download:\n",
      "['ACES3.SA']: YFPricesMissingError('$%ticker%: possibly delisted; No price data found  (1d 2017-02-24 -> 2025-01-07)')\n"
     ]
    },
    {
     "name": "stdout",
     "output_type": "stream",
     "text": [
      "$ACES3.SA: possibly delisted; No price data found  (1d 2017-02-24 -> 2025-01-07)\n"
     ]
    },
    {
     "name": "stderr",
     "output_type": "stream",
     "text": [
      "[*********************100%%**********************]  1 of 1 completed\n",
      "[*********************100%%**********************]  1 of 1 completed\n",
      "\n",
      "1 Failed download:\n",
      "['CZRS4.SA']: YFPricesMissingError('$%ticker%: possibly delisted; No price data found  (1d 2017-02-24 -> 2025-01-07)')\n"
     ]
    },
    {
     "name": "stdout",
     "output_type": "stream",
     "text": [
      "$CZRS4.SA: possibly delisted; No price data found  (1d 2017-02-24 -> 2025-01-07)\n"
     ]
    },
    {
     "name": "stderr",
     "output_type": "stream",
     "text": [
      "[*********************100%%**********************]  1 of 1 completed\n",
      "\n",
      "1 Failed download:\n",
      "['AFLU5.SA']: YFPricesMissingError('$%ticker%: possibly delisted; No price data found  (1d 2017-02-24 -> 2025-01-07)')\n"
     ]
    },
    {
     "name": "stdout",
     "output_type": "stream",
     "text": [
      "$AFLU5.SA: possibly delisted; No price data found  (1d 2017-02-24 -> 2025-01-07)\n"
     ]
    },
    {
     "name": "stderr",
     "output_type": "stream",
     "text": [
      "[*********************100%%**********************]  1 of 1 completed\n",
      "[*********************100%%**********************]  1 of 1 completed\n",
      "\n",
      "1 Failed download:\n",
      "['VIVO3.SA']: YFTzMissingError('$%ticker%: possibly delisted; No timezone found')\n",
      "[*********************100%%**********************]  1 of 1 completed\n",
      "[*********************100%%**********************]  1 of 1 completed\n",
      "\n",
      "1 Failed download:\n",
      "['CNFB4.SA']: YFPricesMissingError('$%ticker%: possibly delisted; No price data found  (1d 2017-02-24 -> 2025-01-07)')\n",
      "[*********************100%%**********************]  1 of 1 completed"
     ]
    },
    {
     "name": "stdout",
     "output_type": "stream",
     "text": [
      "$CNFB4.SA: possibly delisted; No price data found  (1d 2017-02-24 -> 2025-01-07)\n",
      "$VULC4.SA: possibly delisted; No price data found  (1d 2017-02-24 -> 2025-01-07)\n"
     ]
    },
    {
     "name": "stderr",
     "output_type": "stream",
     "text": [
      "\n",
      "\n",
      "1 Failed download:\n",
      "['VULC4.SA']: YFPricesMissingError('$%ticker%: possibly delisted; No price data found  (1d 2017-02-24 -> 2025-01-07)')\n",
      "[*********************100%%**********************]  1 of 1 completed\n",
      "[*********************100%%**********************]  1 of 1 completed\n",
      "[*********************100%%**********************]  1 of 1 completed\n",
      "\n",
      "1 Failed download:\n",
      "['AFLU3.SA']: YFPricesMissingError('$%ticker%: possibly delisted; No price data found  (1d 2017-02-24 -> 2025-01-07)')\n"
     ]
    },
    {
     "name": "stdout",
     "output_type": "stream",
     "text": [
      "$AFLU3.SA: possibly delisted; No price data found  (1d 2017-02-24 -> 2025-01-07)\n"
     ]
    },
    {
     "name": "stderr",
     "output_type": "stream",
     "text": [
      "[*********************100%%**********************]  1 of 1 completed\n",
      "[*********************100%%**********************]  1 of 1 completed\n",
      "[*********************100%%**********************]  1 of 1 completed\n",
      "[*********************100%%**********************]  1 of 1 completed\n",
      "[*********************100%%**********************]  1 of 1 completed\n",
      "[*********************100%%**********************]  1 of 1 completed\n",
      "[*********************100%%**********************]  1 of 1 completed\n",
      "[*********************100%%**********************]  1 of 1 completed\n",
      "\n",
      "1 Failed download:\n",
      "['MRSL4.SA']: YFPricesMissingError('$%ticker%: possibly delisted; No price data found  (1d 2017-02-24 -> 2025-01-07)')\n"
     ]
    },
    {
     "name": "stdout",
     "output_type": "stream",
     "text": [
      "$MRSL4.SA: possibly delisted; No price data found  (1d 2017-02-24 -> 2025-01-07)\n"
     ]
    },
    {
     "name": "stderr",
     "output_type": "stream",
     "text": [
      "[*********************100%%**********************]  1 of 1 completed\n",
      "[*********************100%%**********************]  1 of 1 completed\n",
      "[*********************100%%**********************]  1 of 1 completed\n",
      "\n",
      "1 Failed download:\n",
      "['CPLE11.SA']: YFTzMissingError('$%ticker%: possibly delisted; No timezone found')\n",
      "[*********************100%%**********************]  1 of 1 completed\n",
      "\n",
      "1 Failed download:\n",
      "['ELPL3.SA']: YFTzMissingError('$%ticker%: possibly delisted; No timezone found')\n",
      "[*********************100%%**********************]  1 of 1 completed\n",
      "\n",
      "1 Failed download:\n",
      "['CTWR3.SA']: YFPricesMissingError('$%ticker%: possibly delisted; No price data found  (1d 2017-02-24 -> 2025-01-07)')\n"
     ]
    },
    {
     "name": "stdout",
     "output_type": "stream",
     "text": [
      "$CTWR3.SA: possibly delisted; No price data found  (1d 2017-02-24 -> 2025-01-07)\n"
     ]
    },
    {
     "name": "stderr",
     "output_type": "stream",
     "text": [
      "[*********************100%%**********************]  1 of 1 completed\n",
      "[*********************100%%**********************]  1 of 1 completed\n",
      "\n",
      "1 Failed download:\n",
      "['VIVO4.SA']: YFTzMissingError('$%ticker%: possibly delisted; No timezone found')\n",
      "[*********************100%%**********************]  1 of 1 completed\n",
      "[*********************100%%**********************]  1 of 1 completed\n",
      "[*********************100%%**********************]  1 of 1 completed\n",
      "[*********************100%%**********************]  1 of 1 completed\n",
      "[*********************100%%**********************]  1 of 1 completed\n",
      "\n",
      "1 Failed download:\n",
      "['TCSL4.SA']: YFPricesMissingError('$%ticker%: possibly delisted; No price data found  (1d 2017-02-24 -> 2025-01-07)')\n"
     ]
    },
    {
     "name": "stdout",
     "output_type": "stream",
     "text": [
      "$TCSL4.SA: possibly delisted; No price data found  (1d 2017-02-24 -> 2025-01-07)\n"
     ]
    },
    {
     "name": "stderr",
     "output_type": "stream",
     "text": [
      "[*********************100%%**********************]  1 of 1 completed\n",
      "[*********************100%%**********************]  1 of 1 completed\n",
      "[*********************100%%**********************]  1 of 1 completed\n",
      "[*********************100%%**********************]  1 of 1 completed\n",
      "\n",
      "1 Failed download:\n",
      "['MNPR4.SA']: YFPricesMissingError('$%ticker%: possibly delisted; No price data found  (1d 2017-02-24 -> 2025-01-07)')\n"
     ]
    },
    {
     "name": "stdout",
     "output_type": "stream",
     "text": [
      "$MNPR4.SA: possibly delisted; No price data found  (1d 2017-02-24 -> 2025-01-07)\n"
     ]
    },
    {
     "name": "stderr",
     "output_type": "stream",
     "text": [
      "[*********************100%%**********************]  1 of 1 completed\n",
      "\n",
      "1 Failed download:\n",
      "['ENAT3.SA']: YFChartError('%ticker%: No data found, symbol may be delisted')\n",
      "[*********************100%%**********************]  1 of 1 completed\n",
      "\n",
      "1 Failed download:\n",
      "['MRSL3.SA']: YFPricesMissingError('$%ticker%: possibly delisted; No price data found  (1d 2017-02-24 -> 2025-01-07)')\n"
     ]
    },
    {
     "name": "stdout",
     "output_type": "stream",
     "text": [
      "$MRSL3.SA: possibly delisted; No price data found  (1d 2017-02-24 -> 2025-01-07)\n"
     ]
    },
    {
     "name": "stderr",
     "output_type": "stream",
     "text": [
      "[*********************100%%**********************]  1 of 1 completed\n",
      "\n",
      "1 Failed download:\n",
      "['CIEL3.SA']: YFChartError('%ticker%: No data found, symbol may be delisted')\n",
      "[*********************100%%**********************]  1 of 1 completed\n",
      "\n",
      "1 Failed download:\n",
      "['LEVE4.SA']: YFPricesMissingError('$%ticker%: possibly delisted; No price data found  (1d 2017-02-24 -> 2025-01-07)')\n",
      "[*********************100%%**********************]  1 of 1 completed"
     ]
    },
    {
     "name": "stdout",
     "output_type": "stream",
     "text": [
      "$LEVE4.SA: possibly delisted; No price data found  (1d 2017-02-24 -> 2025-01-07)\n",
      "$TRFO3.SA: possibly delisted; No price data found  (1d 2017-02-24 -> 2025-01-07)\n"
     ]
    },
    {
     "name": "stderr",
     "output_type": "stream",
     "text": [
      "\n",
      "\n",
      "1 Failed download:\n",
      "['TRFO3.SA']: YFPricesMissingError('$%ticker%: possibly delisted; No price data found  (1d 2017-02-24 -> 2025-01-07)')\n",
      "[*********************100%%**********************]  1 of 1 completed\n",
      "\n",
      "1 Failed download:\n",
      "['BESP3.SA']: YFPricesMissingError('$%ticker%: possibly delisted; No price data found  (1d 2017-02-24 -> 2025-01-07)')\n",
      "[*********************100%%**********************]  1 of 1 completed"
     ]
    },
    {
     "name": "stdout",
     "output_type": "stream",
     "text": [
      "$BESP3.SA: possibly delisted; No price data found  (1d 2017-02-24 -> 2025-01-07)\n",
      "$TCOC4.SA: possibly delisted; No price data found  (1d 2017-02-24 -> 2025-01-07)\n"
     ]
    },
    {
     "name": "stderr",
     "output_type": "stream",
     "text": [
      "\n",
      "\n",
      "1 Failed download:\n",
      "['TCOC4.SA']: YFPricesMissingError('$%ticker%: possibly delisted; No price data found  (1d 2017-02-24 -> 2025-01-07)')\n",
      "[*********************100%%**********************]  1 of 1 completed\n",
      "[*********************100%%**********************]  1 of 1 completed\n",
      "[*********************100%%**********************]  1 of 1 completed\n",
      "\n",
      "1 Failed download:\n",
      "['RANI4.SA']: YFTzMissingError('$%ticker%: possibly delisted; No timezone found')\n",
      "[*********************100%%**********************]  1 of 1 completed\n",
      "[*********************100%%**********************]  1 of 1 completed\n",
      "[*********************100%%**********************]  1 of 1 completed\n",
      "[*********************100%%**********************]  1 of 1 completed\n",
      "[*********************100%%**********************]  1 of 1 completed\n",
      "[*********************100%%**********************]  1 of 1 completed\n",
      "\n",
      "1 Failed download:\n",
      "['TRFO4.SA']: YFPricesMissingError('$%ticker%: possibly delisted; No price data found  (1d 2017-02-24 -> 2025-01-07)')\n"
     ]
    },
    {
     "name": "stdout",
     "output_type": "stream",
     "text": [
      "$TRFO4.SA: possibly delisted; No price data found  (1d 2017-02-24 -> 2025-01-07)\n"
     ]
    },
    {
     "name": "stderr",
     "output_type": "stream",
     "text": [
      "[*********************100%%**********************]  1 of 1 completed\n",
      "[*********************100%%**********************]  1 of 1 completed\n",
      "\n",
      "1 Failed download:\n",
      "['SMLS3.SA']: YFTzMissingError('$%ticker%: possibly delisted; No timezone found')\n",
      "[*********************100%%**********************]  1 of 1 completed\n",
      "[*********************100%%**********************]  1 of 1 completed\n",
      "\n",
      "1 Failed download:\n",
      "['BESP4.SA']: YFPricesMissingError('$%ticker%: possibly delisted; No price data found  (1d 2017-02-24 -> 2025-01-07)')\n"
     ]
    },
    {
     "name": "stdout",
     "output_type": "stream",
     "text": [
      "$BESP4.SA: possibly delisted; No price data found  (1d 2017-02-24 -> 2025-01-07)\n"
     ]
    },
    {
     "name": "stderr",
     "output_type": "stream",
     "text": [
      "[*********************100%%**********************]  1 of 1 completed\n",
      "[*********************100%%**********************]  1 of 1 completed\n",
      "[*********************100%%**********************]  1 of 1 completed\n",
      "\n",
      "1 Failed download:\n",
      "['AESL4.SA']: YFPricesMissingError('$%ticker%: possibly delisted; No price data found  (1d 2017-02-24 -> 2025-01-07)')\n"
     ]
    },
    {
     "name": "stdout",
     "output_type": "stream",
     "text": [
      "$AESL4.SA: possibly delisted; No price data found  (1d 2017-02-24 -> 2025-01-07)\n"
     ]
    },
    {
     "name": "stderr",
     "output_type": "stream",
     "text": [
      "[*********************100%%**********************]  1 of 1 completed\n",
      "\n",
      "1 Failed download:\n",
      "['AESL3.SA']: YFPricesMissingError('$%ticker%: possibly delisted; No price data found  (1d 2017-02-24 -> 2025-01-07)')\n"
     ]
    },
    {
     "name": "stdout",
     "output_type": "stream",
     "text": [
      "$AESL3.SA: possibly delisted; No price data found  (1d 2017-02-24 -> 2025-01-07)\n"
     ]
    },
    {
     "name": "stderr",
     "output_type": "stream",
     "text": [
      "[*********************100%%**********************]  1 of 1 completed\n",
      "\n",
      "1 Failed download:\n",
      "['ESTC11.SA']: YFTzMissingError('$%ticker%: possibly delisted; No timezone found')\n",
      "[*********************100%%**********************]  1 of 1 completed\n",
      "\n",
      "1 Failed download:\n",
      "['BMGB11.SA']: YFTzMissingError('$%ticker%: possibly delisted; No timezone found')\n",
      "[*********************100%%**********************]  1 of 1 completed\n",
      "\n",
      "1 Failed download:\n",
      "['WEGE4.SA']: YFPricesMissingError('$%ticker%: possibly delisted; No price data found  (1d 2017-02-24 -> 2025-01-07)')\n"
     ]
    },
    {
     "name": "stdout",
     "output_type": "stream",
     "text": [
      "$WEGE4.SA: possibly delisted; No price data found  (1d 2017-02-24 -> 2025-01-07)\n"
     ]
    },
    {
     "name": "stderr",
     "output_type": "stream",
     "text": [
      "[*********************100%%**********************]  1 of 1 completed\n",
      "\n",
      "1 Failed download:\n",
      "['GRNL4.SA']: YFPricesMissingError('$%ticker%: possibly delisted; No price data found  (1d 2017-02-24 -> 2025-01-07)')\n",
      "[*********************100%%**********************]  1 of 1 completed"
     ]
    },
    {
     "name": "stdout",
     "output_type": "stream",
     "text": [
      "$GRNL4.SA: possibly delisted; No price data found  (1d 2017-02-24 -> 2025-01-07)\n",
      "$ELUM3.SA: possibly delisted; No price data found  (1d 2017-02-24 -> 2025-01-07)\n"
     ]
    },
    {
     "name": "stderr",
     "output_type": "stream",
     "text": [
      "\n",
      "\n",
      "1 Failed download:\n",
      "['ELUM3.SA']: YFPricesMissingError('$%ticker%: possibly delisted; No price data found  (1d 2017-02-24 -> 2025-01-07)')\n",
      "[*********************100%%**********************]  1 of 1 completed\n",
      "[*********************100%%**********************]  1 of 1 completed\n",
      "[*********************100%%**********************]  1 of 1 completed\n",
      "\n",
      "1 Failed download:\n",
      "['RIPI3.SA']: YFPricesMissingError('$%ticker%: possibly delisted; No price data found  (1d 2017-02-24 -> 2025-01-07)')\n"
     ]
    },
    {
     "name": "stdout",
     "output_type": "stream",
     "text": [
      "$RIPI3.SA: possibly delisted; No price data found  (1d 2017-02-24 -> 2025-01-07)\n"
     ]
    },
    {
     "name": "stderr",
     "output_type": "stream",
     "text": [
      "[*********************100%%**********************]  1 of 1 completed\n",
      "[*********************100%%**********************]  1 of 1 completed\n",
      "\n",
      "1 Failed download:\n",
      "['RIPI4.SA']: YFPricesMissingError('$%ticker%: possibly delisted; No price data found  (1d 2017-02-24 -> 2025-01-07)')\n"
     ]
    },
    {
     "name": "stdout",
     "output_type": "stream",
     "text": [
      "$RIPI4.SA: possibly delisted; No price data found  (1d 2017-02-24 -> 2025-01-07)\n"
     ]
    },
    {
     "name": "stderr",
     "output_type": "stream",
     "text": [
      "[*********************100%%**********************]  1 of 1 completed\n",
      "[*********************100%%**********************]  1 of 1 completed\n",
      "[*********************100%%**********************]  1 of 1 completed\n",
      "\n",
      "1 Failed download:\n",
      "['EBCO4.SA']: YFPricesMissingError('$%ticker%: possibly delisted; No price data found  (1d 2017-02-24 -> 2025-01-07)')\n"
     ]
    },
    {
     "name": "stdout",
     "output_type": "stream",
     "text": [
      "$EBCO4.SA: possibly delisted; No price data found  (1d 2017-02-24 -> 2025-01-07)\n"
     ]
    },
    {
     "name": "stderr",
     "output_type": "stream",
     "text": [
      "[*********************100%%**********************]  1 of 1 completed\n",
      "\n",
      "1 Failed download:\n",
      "['UGPA4.SA']: YFPricesMissingError('$%ticker%: possibly delisted; No price data found  (1d 2017-02-24 -> 2025-01-07)')\n"
     ]
    },
    {
     "name": "stdout",
     "output_type": "stream",
     "text": [
      "$UGPA4.SA: possibly delisted; No price data found  (1d 2017-02-24 -> 2025-01-07)\n"
     ]
    },
    {
     "name": "stderr",
     "output_type": "stream",
     "text": [
      "[*********************100%%**********************]  1 of 1 completed\n",
      "[*********************100%%**********************]  1 of 1 completed\n",
      "[*********************100%%**********************]  1 of 1 completed\n",
      "\n",
      "1 Failed download:\n",
      "['TEMP3.SA']: YFPricesMissingError('$%ticker%: possibly delisted; No price data found  (1d 2017-02-24 -> 2025-01-07)')\n"
     ]
    },
    {
     "name": "stdout",
     "output_type": "stream",
     "text": [
      "$TEMP3.SA: possibly delisted; No price data found  (1d 2017-02-24 -> 2025-01-07)\n"
     ]
    },
    {
     "name": "stderr",
     "output_type": "stream",
     "text": [
      "[*********************100%%**********************]  1 of 1 completed\n",
      "\n",
      "1 Failed download:\n",
      "['NAFG3.SA']: YFTzMissingError('$%ticker%: possibly delisted; No timezone found')\n",
      "[*********************100%%**********************]  1 of 1 completed\n",
      "\n",
      "1 Failed download:\n",
      "['NAFG4.SA']: YFTzMissingError('$%ticker%: possibly delisted; No timezone found')\n",
      "[*********************100%%**********************]  1 of 1 completed\n",
      "[*********************100%%**********************]  1 of 1 completed\n",
      "[*********************100%%**********************]  1 of 1 completed\n",
      "\n",
      "1 Failed download:\n",
      "['EBCO3.SA']: YFPricesMissingError('$%ticker%: possibly delisted; No price data found  (1d 2017-02-24 -> 2025-01-07)')\n"
     ]
    },
    {
     "name": "stdout",
     "output_type": "stream",
     "text": [
      "$EBCO3.SA: possibly delisted; No price data found  (1d 2017-02-24 -> 2025-01-07)\n"
     ]
    },
    {
     "name": "stderr",
     "output_type": "stream",
     "text": [
      "[*********************100%%**********************]  1 of 1 completed\n",
      "[*********************100%%**********************]  1 of 1 completed\n",
      "[*********************100%%**********************]  1 of 1 completed\n",
      "[*********************100%%**********************]  1 of 1 completed\n",
      "[*********************100%%**********************]  1 of 1 completed\n",
      "[*********************100%%**********************]  1 of 1 completed\n",
      "\n",
      "1 Failed download:\n",
      "['MPLU3.SA']: YFTzMissingError('$%ticker%: possibly delisted; No timezone found')\n",
      "[*********************100%%**********************]  1 of 1 completed\n",
      "[*********************100%%**********************]  1 of 1 completed\n",
      "[*********************100%%**********************]  1 of 1 completed\n",
      "[*********************100%%**********************]  1 of 1 completed\n",
      "[*********************100%%**********************]  1 of 1 completed\n",
      "[*********************100%%**********************]  1 of 1 completed\n",
      "[*********************100%%**********************]  1 of 1 completed\n",
      "\n",
      "1 Failed download:\n",
      "['AMPI3.SA']: YFPricesMissingError('$%ticker%: possibly delisted; No price data found  (1d 2017-02-24 -> 2025-01-07)')\n"
     ]
    },
    {
     "name": "stdout",
     "output_type": "stream",
     "text": [
      "$AMPI3.SA: possibly delisted; No price data found  (1d 2017-02-24 -> 2025-01-07)\n",
      "$TMGC7.SA: possibly delisted; No price data found  (1d 2017-02-24 -> 2025-01-07)\n"
     ]
    },
    {
     "name": "stderr",
     "output_type": "stream",
     "text": [
      "[*********************100%%**********************]  1 of 1 completed\n",
      "\n",
      "1 Failed download:\n",
      "['TMGC7.SA']: YFPricesMissingError('$%ticker%: possibly delisted; No price data found  (1d 2017-02-24 -> 2025-01-07)')\n",
      "[*********************100%%**********************]  1 of 1 completed\n",
      "[*********************100%%**********************]  1 of 1 completed\n",
      "[*********************100%%**********************]  1 of 1 completed\n",
      "[*********************100%%**********************]  1 of 1 completed\n",
      "[*********************100%%**********************]  1 of 1 completed\n",
      "\n",
      "1 Failed download:\n",
      "['AVIL3.SA']: YFPricesMissingError('$%ticker%: possibly delisted; No price data found  (1d 2017-02-24 -> 2025-01-07)')\n"
     ]
    },
    {
     "name": "stdout",
     "output_type": "stream",
     "text": [
      "$AVIL3.SA: possibly delisted; No price data found  (1d 2017-02-24 -> 2025-01-07)\n"
     ]
    },
    {
     "name": "stderr",
     "output_type": "stream",
     "text": [
      "[*********************100%%**********************]  1 of 1 completed\n",
      "[*********************100%%**********************]  1 of 1 completed\n",
      "[*********************100%%**********************]  1 of 1 completed\n",
      "\n",
      "1 Failed download:\n",
      "['DXTG4.SA']: YFPricesMissingError('$%ticker%: possibly delisted; No price data found  (1d 2017-02-24 -> 2025-01-07)')\n"
     ]
    },
    {
     "name": "stdout",
     "output_type": "stream",
     "text": [
      "$DXTG4.SA: possibly delisted; No price data found  (1d 2017-02-24 -> 2025-01-07)\n"
     ]
    },
    {
     "name": "stderr",
     "output_type": "stream",
     "text": [
      "[*********************100%%**********************]  1 of 1 completed\n",
      "[*********************100%%**********************]  1 of 1 completed\n",
      "\n",
      "1 Failed download:\n",
      "['SFSA4.SA']: YFPricesMissingError('$%ticker%: possibly delisted; No price data found  (1d 2017-02-24 -> 2025-01-07)')\n"
     ]
    },
    {
     "name": "stdout",
     "output_type": "stream",
     "text": [
      "$SFSA4.SA: possibly delisted; No price data found  (1d 2017-02-24 -> 2025-01-07)\n"
     ]
    },
    {
     "name": "stderr",
     "output_type": "stream",
     "text": [
      "[*********************100%%**********************]  1 of 1 completed\n",
      "[*********************100%%**********************]  1 of 1 completed\n",
      "\n",
      "1 Failed download:\n",
      "['GETI3.SA']: YFPricesMissingError('$%ticker%: possibly delisted; No price data found  (1d 2017-02-24 -> 2025-01-07)')\n"
     ]
    },
    {
     "name": "stdout",
     "output_type": "stream",
     "text": [
      "$GETI3.SA: possibly delisted; No price data found  (1d 2017-02-24 -> 2025-01-07)\n"
     ]
    },
    {
     "name": "stderr",
     "output_type": "stream",
     "text": [
      "[*********************100%%**********************]  1 of 1 completed\n",
      "\n",
      "1 Failed download:\n",
      "['GETI4.SA']: YFPricesMissingError('$%ticker%: possibly delisted; No price data found  (1d 2017-02-24 -> 2025-01-07)')\n"
     ]
    },
    {
     "name": "stdout",
     "output_type": "stream",
     "text": [
      "$GETI4.SA: possibly delisted; No price data found  (1d 2017-02-24 -> 2025-01-07)\n"
     ]
    },
    {
     "name": "stderr",
     "output_type": "stream",
     "text": [
      "[*********************100%%**********************]  1 of 1 completed\n",
      "[*********************100%%**********************]  1 of 1 completed\n",
      "[*********************100%%**********************]  1 of 1 completed\n",
      "[*********************100%%**********************]  1 of 1 completed\n",
      "[*********************100%%**********************]  1 of 1 completed\n",
      "\n",
      "1 Failed download:\n",
      "['RGEG3.SA']: YFPricesMissingError('$%ticker%: possibly delisted; No price data found  (1d 2017-02-24 -> 2025-01-07)')\n"
     ]
    },
    {
     "name": "stdout",
     "output_type": "stream",
     "text": [
      "$RGEG3.SA: possibly delisted; No price data found  (1d 2017-02-24 -> 2025-01-07)\n"
     ]
    },
    {
     "name": "stderr",
     "output_type": "stream",
     "text": [
      "[*********************100%%**********************]  1 of 1 completed\n",
      "[*********************100%%**********************]  1 of 1 completed\n",
      "[*********************100%%**********************]  1 of 1 completed\n",
      "[*********************100%%**********************]  1 of 1 completed\n",
      "[*********************100%%**********************]  1 of 1 completed\n",
      "\n",
      "1 Failed download:\n",
      "['VIVT4.SA']: YFTzMissingError('$%ticker%: possibly delisted; No timezone found')\n",
      "[*********************100%%**********************]  1 of 1 completed\n",
      "[*********************100%%**********************]  1 of 1 completed\n",
      "[*********************100%%**********************]  1 of 1 completed\n",
      "[*********************100%%**********************]  1 of 1 completed\n",
      "\n",
      "1 Failed download:\n",
      "['ARCE3.SA']: YFTzMissingError('$%ticker%: possibly delisted; No timezone found')\n",
      "[*********************100%%**********************]  1 of 1 completed\n",
      "[*********************100%%**********************]  1 of 1 completed\n",
      "[*********************100%%**********************]  1 of 1 completed\n",
      "\n",
      "1 Failed download:\n",
      "['TMGC11.SA']: YFPricesMissingError('$%ticker%: possibly delisted; No price data found  (1d 2017-02-24 -> 2025-01-07)')\n"
     ]
    },
    {
     "name": "stdout",
     "output_type": "stream",
     "text": [
      "$TMGC11.SA: possibly delisted; No price data found  (1d 2017-02-24 -> 2025-01-07)\n"
     ]
    },
    {
     "name": "stderr",
     "output_type": "stream",
     "text": [
      "[*********************100%%**********************]  1 of 1 completed\n",
      "[*********************100%%**********************]  1 of 1 completed\n",
      "\n",
      "1 Failed download:\n",
      "['TNCP4.SA']: YFPricesMissingError('$%ticker%: possibly delisted; No price data found  (1d 2017-02-24 -> 2025-01-07)')\n",
      "[*********************100%%**********************]  1 of 1 completed"
     ]
    },
    {
     "name": "stdout",
     "output_type": "stream",
     "text": [
      "$TNCP4.SA: possibly delisted; No price data found  (1d 2017-02-24 -> 2025-01-07)\n",
      "$TNCP3.SA: possibly delisted; No price data found  (1d 2017-02-24 -> 2025-01-07)\n"
     ]
    },
    {
     "name": "stderr",
     "output_type": "stream",
     "text": [
      "\n",
      "\n",
      "1 Failed download:\n",
      "['TNCP3.SA']: YFPricesMissingError('$%ticker%: possibly delisted; No price data found  (1d 2017-02-24 -> 2025-01-07)')\n",
      "[*********************100%%**********************]  1 of 1 completed\n",
      "\n",
      "1 Failed download:\n",
      "['KSSA3.SA']: YFTzMissingError('$%ticker%: possibly delisted; No timezone found')\n",
      "[*********************100%%**********************]  1 of 1 completed\n",
      "[*********************100%%**********************]  1 of 1 completed\n",
      "[*********************100%%**********************]  1 of 1 completed\n",
      "[*********************100%%**********************]  1 of 1 completed\n",
      "\n",
      "1 Failed download:\n",
      "['ELUM4.SA']: YFPricesMissingError('$%ticker%: possibly delisted; No price data found  (1d 2017-02-24 -> 2025-01-07)')\n"
     ]
    },
    {
     "name": "stdout",
     "output_type": "stream",
     "text": [
      "$ELUM4.SA: possibly delisted; No price data found  (1d 2017-02-24 -> 2025-01-07)\n"
     ]
    },
    {
     "name": "stderr",
     "output_type": "stream",
     "text": [
      "[*********************100%%**********************]  1 of 1 completed\n",
      "[*********************100%%**********************]  1 of 1 completed\n",
      "[*********************100%%**********************]  1 of 1 completed\n",
      "\n",
      "1 Failed download:\n",
      "['TCOC3.SA']: YFPricesMissingError('$%ticker%: possibly delisted; No price data found  (1d 2017-02-24 -> 2025-01-07)')\n"
     ]
    },
    {
     "name": "stdout",
     "output_type": "stream",
     "text": [
      "$TCOC3.SA: possibly delisted; No price data found  (1d 2017-02-24 -> 2025-01-07)\n"
     ]
    },
    {
     "name": "stderr",
     "output_type": "stream",
     "text": [
      "[*********************100%%**********************]  1 of 1 completed\n",
      "[*********************100%%**********************]  1 of 1 completed\n",
      "\n",
      "1 Failed download:\n",
      "['RDCD3.SA']: YFPricesMissingError('$%ticker%: possibly delisted; No price data found  (1d 2017-02-24 -> 2025-01-07)')\n"
     ]
    },
    {
     "name": "stdout",
     "output_type": "stream",
     "text": [
      "$RDCD3.SA: possibly delisted; No price data found  (1d 2017-02-24 -> 2025-01-07)\n"
     ]
    },
    {
     "name": "stderr",
     "output_type": "stream",
     "text": [
      "[*********************100%%**********************]  1 of 1 completed\n",
      "\n",
      "1 Failed download:\n",
      "['BOAS3.SA']: YFTzMissingError('$%ticker%: possibly delisted; No timezone found')\n",
      "[*********************100%%**********************]  1 of 1 completed\n",
      "\n",
      "1 Failed download:\n",
      "['TMGC13.SA']: YFPricesMissingError('$%ticker%: possibly delisted; No price data found  (1d 2017-02-24 -> 2025-01-07)')\n"
     ]
    },
    {
     "name": "stdout",
     "output_type": "stream",
     "text": [
      "$TMGC13.SA: possibly delisted; No price data found  (1d 2017-02-24 -> 2025-01-07)\n"
     ]
    },
    {
     "name": "stderr",
     "output_type": "stream",
     "text": [
      "[*********************100%%**********************]  1 of 1 completed\n",
      "\n",
      "1 Failed download:\n",
      "['BEMA3.SA']: YFPricesMissingError('$%ticker%: possibly delisted; No price data found  (1d 2017-02-24 -> 2025-01-07)')\n"
     ]
    },
    {
     "name": "stdout",
     "output_type": "stream",
     "text": [
      "$BEMA3.SA: possibly delisted; No price data found  (1d 2017-02-24 -> 2025-01-07)\n"
     ]
    },
    {
     "name": "stderr",
     "output_type": "stream",
     "text": [
      "[*********************100%%**********************]  1 of 1 completed\n",
      "[*********************100%%**********************]  1 of 1 completed\n",
      "[*********************100%%**********************]  1 of 1 completed\n",
      "\n",
      "1 Failed download:\n",
      "['ILMD3.SA']: YFPricesMissingError('$%ticker%: possibly delisted; No price data found  (1d 2017-02-24 -> 2025-01-07)')\n"
     ]
    },
    {
     "name": "stdout",
     "output_type": "stream",
     "text": [
      "$ILMD3.SA: possibly delisted; No price data found  (1d 2017-02-24 -> 2025-01-07)\n",
      "$CRTP5.SA: possibly delisted; No price data found  (1d 2017-02-24 -> 2025-01-07)\n"
     ]
    },
    {
     "name": "stderr",
     "output_type": "stream",
     "text": [
      "[*********************100%%**********************]  1 of 1 completed\n",
      "\n",
      "1 Failed download:\n",
      "['CRTP5.SA']: YFPricesMissingError('$%ticker%: possibly delisted; No price data found  (1d 2017-02-24 -> 2025-01-07)')\n",
      "[*********************100%%**********************]  1 of 1 completed\n",
      "[*********************100%%**********************]  1 of 1 completed\n",
      "\n",
      "1 Failed download:\n",
      "['IGTA3.SA']: YFTzMissingError('$%ticker%: possibly delisted; No timezone found')\n",
      "[*********************100%%**********************]  1 of 1 completed\n",
      "\n",
      "1 Failed download:\n",
      "['ILMD4.SA']: YFPricesMissingError('$%ticker%: possibly delisted; No price data found  (1d 2017-02-24 -> 2025-01-07)')\n"
     ]
    },
    {
     "name": "stdout",
     "output_type": "stream",
     "text": [
      "$ILMD4.SA: possibly delisted; No price data found  (1d 2017-02-24 -> 2025-01-07)\n"
     ]
    },
    {
     "name": "stderr",
     "output_type": "stream",
     "text": [
      "[*********************100%%**********************]  1 of 1 completed\n",
      "[*********************100%%**********************]  1 of 1 completed\n",
      "\n",
      "1 Failed download:\n",
      "['DURA4.SA']: YFPricesMissingError('$%ticker%: possibly delisted; No price data found  (1d 2017-02-24 -> 2025-01-07)')\n"
     ]
    },
    {
     "name": "stdout",
     "output_type": "stream",
     "text": [
      "$DURA4.SA: possibly delisted; No price data found  (1d 2017-02-24 -> 2025-01-07)\n"
     ]
    },
    {
     "name": "stderr",
     "output_type": "stream",
     "text": [
      "[*********************100%%**********************]  1 of 1 completed\n",
      "[*********************100%%**********************]  1 of 1 completed\n",
      "[*********************100%%**********************]  1 of 1 completed\n",
      "\n",
      "1 Failed download:\n",
      "['DURA3.SA']: YFPricesMissingError('$%ticker%: possibly delisted; No price data found  (1d 2017-02-24 -> 2025-01-07)')\n"
     ]
    },
    {
     "name": "stdout",
     "output_type": "stream",
     "text": [
      "$DURA3.SA: possibly delisted; No price data found  (1d 2017-02-24 -> 2025-01-07)\n",
      "$DPPI3.SA: possibly delisted; No price data found  (1d 2017-02-24 -> 2025-01-07)\n"
     ]
    },
    {
     "name": "stderr",
     "output_type": "stream",
     "text": [
      "[*********************100%%**********************]  1 of 1 completed\n",
      "\n",
      "1 Failed download:\n",
      "['DPPI3.SA']: YFPricesMissingError('$%ticker%: possibly delisted; No price data found  (1d 2017-02-24 -> 2025-01-07)')\n",
      "[*********************100%%**********************]  1 of 1 completed\n",
      "[*********************100%%**********************]  1 of 1 completed\n",
      "\n",
      "1 Failed download:\n",
      "['TIMP3.SA']: YFTzMissingError('$%ticker%: possibly delisted; No timezone found')\n",
      "[*********************100%%**********************]  1 of 1 completed\n",
      "\n",
      "1 Failed download:\n",
      "['BMTO4.SA']: YFPricesMissingError('$%ticker%: possibly delisted; No price data found  (1d 2017-02-24 -> 2025-01-07)')\n"
     ]
    },
    {
     "name": "stdout",
     "output_type": "stream",
     "text": [
      "$BMTO4.SA: possibly delisted; No price data found  (1d 2017-02-24 -> 2025-01-07)\n"
     ]
    },
    {
     "name": "stderr",
     "output_type": "stream",
     "text": [
      "[*********************100%%**********************]  1 of 1 completed\n",
      "[*********************100%%**********************]  1 of 1 completed\n",
      "[*********************100%%**********************]  1 of 1 completed\n",
      "\n",
      "1 Failed download:\n",
      "['BFIT4.SA']: YFPricesMissingError('$%ticker%: possibly delisted; No price data found  (1d 2017-02-24 -> 2025-01-07)')\n"
     ]
    },
    {
     "name": "stdout",
     "output_type": "stream",
     "text": [
      "$BFIT4.SA: possibly delisted; No price data found  (1d 2017-02-24 -> 2025-01-07)\n"
     ]
    },
    {
     "name": "stderr",
     "output_type": "stream",
     "text": [
      "[*********************100%%**********************]  1 of 1 completed\n",
      "[*********************100%%**********************]  1 of 1 completed\n",
      "\n",
      "1 Failed download:\n",
      "['BMTO3.SA']: YFPricesMissingError('$%ticker%: possibly delisted; No price data found  (1d 2017-02-24 -> 2025-01-07)')\n"
     ]
    },
    {
     "name": "stdout",
     "output_type": "stream",
     "text": [
      "$BMTO3.SA: possibly delisted; No price data found  (1d 2017-02-24 -> 2025-01-07)\n",
      "$UCOP4.SA: possibly delisted; No price data found  (1d 2017-02-24 -> 2025-01-07)\n"
     ]
    },
    {
     "name": "stderr",
     "output_type": "stream",
     "text": [
      "[*********************100%%**********************]  1 of 1 completed\n",
      "\n",
      "1 Failed download:\n",
      "['UCOP4.SA']: YFPricesMissingError('$%ticker%: possibly delisted; No price data found  (1d 2017-02-24 -> 2025-01-07)')\n",
      "[*********************100%%**********************]  1 of 1 completed\n",
      "[*********************100%%**********************]  1 of 1 completed\n",
      "[*********************100%%**********************]  1 of 1 completed\n",
      "[*********************100%%**********************]  1 of 1 completed\n",
      "\n",
      "1 Failed download:\n",
      "['BFIT3.SA']: YFPricesMissingError('$%ticker%: possibly delisted; No price data found  (1d 2017-02-24 -> 2025-01-07)')\n",
      "[*********************100%%**********************]  1 of 1 completed"
     ]
    },
    {
     "name": "stdout",
     "output_type": "stream",
     "text": [
      "$BFIT3.SA: possibly delisted; No price data found  (1d 2017-02-24 -> 2025-01-07)\n",
      "$TMCP3.SA: possibly delisted; No price data found  (1d 2017-02-24 -> 2025-01-07)\n"
     ]
    },
    {
     "name": "stderr",
     "output_type": "stream",
     "text": [
      "\n",
      "\n",
      "1 Failed download:\n",
      "['TMCP3.SA']: YFPricesMissingError('$%ticker%: possibly delisted; No price data found  (1d 2017-02-24 -> 2025-01-07)')\n",
      "[*********************100%%**********************]  1 of 1 completed\n",
      "[*********************100%%**********************]  1 of 1 completed\n",
      "[*********************100%%**********************]  1 of 1 completed\n",
      "[*********************100%%**********************]  1 of 1 completed\n",
      "[*********************100%%**********************]  1 of 1 completed\n",
      "\n",
      "1 Failed download:\n",
      "['SMLE3.SA']: YFPricesMissingError('$%ticker%: possibly delisted; No price data found  (1d 2017-02-24 -> 2025-01-07)')\n"
     ]
    },
    {
     "name": "stdout",
     "output_type": "stream",
     "text": [
      "$SMLE3.SA: possibly delisted; No price data found  (1d 2017-02-24 -> 2025-01-07)\n"
     ]
    },
    {
     "name": "stderr",
     "output_type": "stream",
     "text": [
      "[*********************100%%**********************]  1 of 1 completed\n",
      "[*********************100%%**********************]  1 of 1 completed\n",
      "[*********************100%%**********************]  1 of 1 completed\n",
      "[*********************100%%**********************]  1 of 1 completed\n",
      "\n",
      "1 Failed download:\n",
      "['TMCP4.SA']: YFPricesMissingError('$%ticker%: possibly delisted; No price data found  (1d 2017-02-24 -> 2025-01-07)')\n"
     ]
    },
    {
     "name": "stdout",
     "output_type": "stream",
     "text": [
      "$TMCP4.SA: possibly delisted; No price data found  (1d 2017-02-24 -> 2025-01-07)\n"
     ]
    },
    {
     "name": "stderr",
     "output_type": "stream",
     "text": [
      "[*********************100%%**********************]  1 of 1 completed\n",
      "[*********************100%%**********************]  1 of 1 completed\n",
      "[*********************100%%**********************]  1 of 1 completed\n",
      "\n",
      "1 Failed download:\n",
      "['AUTM3.SA']: YFPricesMissingError('$%ticker%: possibly delisted; No price data found  (1d 2017-02-24 -> 2025-01-07)')\n"
     ]
    },
    {
     "name": "stdout",
     "output_type": "stream",
     "text": [
      "$AUTM3.SA: possibly delisted; No price data found  (1d 2017-02-24 -> 2025-01-07)\n"
     ]
    },
    {
     "name": "stderr",
     "output_type": "stream",
     "text": [
      "[*********************100%%**********************]  1 of 1 completed\n",
      "\n",
      "1 Failed download:\n",
      "['AEDU11.SA']: YFPricesMissingError('$%ticker%: possibly delisted; No price data found  (1d 2017-02-24 -> 2025-01-07)')\n"
     ]
    },
    {
     "name": "stdout",
     "output_type": "stream",
     "text": [
      "$AEDU11.SA: possibly delisted; No price data found  (1d 2017-02-24 -> 2025-01-07)\n"
     ]
    },
    {
     "name": "stderr",
     "output_type": "stream",
     "text": [
      "[*********************100%%**********************]  1 of 1 completed\n",
      "\n",
      "1 Failed download:\n",
      "['JPSA3.SA']: YFTzMissingError('$%ticker%: possibly delisted; No timezone found')\n",
      "[*********************100%%**********************]  1 of 1 completed\n",
      "[*********************100%%**********************]  1 of 1 completed\n",
      "[*********************100%%**********************]  1 of 1 completed\n",
      "\n",
      "1 Failed download:\n",
      "['TUPY4.SA']: YFPricesMissingError('$%ticker%: possibly delisted; No price data found  (1d 2017-02-24 -> 2025-01-07)')\n"
     ]
    },
    {
     "name": "stdout",
     "output_type": "stream",
     "text": [
      "$TUPY4.SA: possibly delisted; No price data found  (1d 2017-02-24 -> 2025-01-07)\n"
     ]
    },
    {
     "name": "stderr",
     "output_type": "stream",
     "text": [
      "[*********************100%%**********************]  1 of 1 completed\n",
      "\n",
      "1 Failed download:\n",
      "['LAME4.SA']: YFTzMissingError('$%ticker%: possibly delisted; No timezone found')\n",
      "[*********************100%%**********************]  1 of 1 completed\n",
      "[*********************100%%**********************]  1 of 1 completed\n",
      "\n",
      "1 Failed download:\n",
      "['LAME3.SA']: YFTzMissingError('$%ticker%: possibly delisted; No timezone found')\n",
      "[*********************100%%**********************]  1 of 1 completed\n",
      "[*********************100%%**********************]  1 of 1 completed\n",
      "\n",
      "1 Failed download:\n",
      "['CRTP3.SA']: YFPricesMissingError('$%ticker%: possibly delisted; No price data found  (1d 2017-02-24 -> 2025-01-07)')\n"
     ]
    },
    {
     "name": "stdout",
     "output_type": "stream",
     "text": [
      "$CRTP3.SA: possibly delisted; No price data found  (1d 2017-02-24 -> 2025-01-07)\n"
     ]
    },
    {
     "name": "stderr",
     "output_type": "stream",
     "text": [
      "[*********************100%%**********************]  1 of 1 completed\n",
      "[*********************100%%**********************]  1 of 1 completed\n",
      "\n",
      "1 Failed download:\n",
      "['BSCT6.SA']: YFPricesMissingError('$%ticker%: possibly delisted; No price data found  (1d 2017-02-24 -> 2025-01-07)')\n"
     ]
    },
    {
     "name": "stdout",
     "output_type": "stream",
     "text": [
      "$BSCT6.SA: possibly delisted; No price data found  (1d 2017-02-24 -> 2025-01-07)\n"
     ]
    },
    {
     "name": "stderr",
     "output_type": "stream",
     "text": [
      "[*********************100%%**********************]  1 of 1 completed\n",
      "\n",
      "1 Failed download:\n",
      "['RSIP3.SA']: YFPricesMissingError('$%ticker%: possibly delisted; No price data found  (1d 2017-02-24 -> 2025-01-07)')\n"
     ]
    },
    {
     "name": "stdout",
     "output_type": "stream",
     "text": [
      "$RSIP3.SA: possibly delisted; No price data found  (1d 2017-02-24 -> 2025-01-07)\n"
     ]
    },
    {
     "name": "stderr",
     "output_type": "stream",
     "text": [
      "[*********************100%%**********************]  1 of 1 completed\n",
      "\n",
      "1 Failed download:\n",
      "['RSIP4.SA']: YFPricesMissingError('$%ticker%: possibly delisted; No price data found  (1d 2017-02-24 -> 2025-01-07)')\n"
     ]
    },
    {
     "name": "stdout",
     "output_type": "stream",
     "text": [
      "$RSIP4.SA: possibly delisted; No price data found  (1d 2017-02-24 -> 2025-01-07)\n"
     ]
    },
    {
     "name": "stderr",
     "output_type": "stream",
     "text": [
      "[*********************100%%**********************]  1 of 1 completed\n",
      "[*********************100%%**********************]  1 of 1 completed\n",
      "\n",
      "1 Failed download:\n",
      "['TVIT3.SA']: YFTzMissingError('$%ticker%: possibly delisted; No timezone found')\n",
      "[*********************100%%**********************]  1 of 1 completed\n",
      "\n",
      "1 Failed download:\n",
      "['TMGC3.SA']: YFPricesMissingError('$%ticker%: possibly delisted; No price data found  (1d 2017-02-24 -> 2025-01-07)')\n"
     ]
    },
    {
     "name": "stdout",
     "output_type": "stream",
     "text": [
      "$TMGC3.SA: possibly delisted; No price data found  (1d 2017-02-24 -> 2025-01-07)\n"
     ]
    },
    {
     "name": "stderr",
     "output_type": "stream",
     "text": [
      "[*********************100%%**********************]  1 of 1 completed\n",
      "[*********************100%%**********************]  1 of 1 completed\n",
      "\n",
      "1 Failed download:\n",
      "['POWE3.SA']: YFTzMissingError('$%ticker%: possibly delisted; No timezone found')\n",
      "[*********************100%%**********************]  1 of 1 completed\n",
      "\n",
      "1 Failed download:\n",
      "['TSEP4.SA']: YFPricesMissingError('$%ticker%: possibly delisted; No price data found  (1d 2017-02-24 -> 2025-01-07)')\n"
     ]
    },
    {
     "name": "stdout",
     "output_type": "stream",
     "text": [
      "$TSEP4.SA: possibly delisted; No price data found  (1d 2017-02-24 -> 2025-01-07)\n"
     ]
    },
    {
     "name": "stderr",
     "output_type": "stream",
     "text": [
      "[*********************100%%**********************]  1 of 1 completed\n",
      "\n",
      "1 Failed download:\n",
      "['ELEK3.SA']: YFTzMissingError('$%ticker%: possibly delisted; No timezone found')\n",
      "[*********************100%%**********************]  1 of 1 completed\n",
      "\n",
      "1 Failed download:\n",
      "['MAGS3.SA']: YFPricesMissingError('$%ticker%: possibly delisted; No price data found  (1d 2017-02-24 -> 2025-01-07)')\n"
     ]
    },
    {
     "name": "stdout",
     "output_type": "stream",
     "text": [
      "$MAGS3.SA: possibly delisted; No price data found  (1d 2017-02-24 -> 2025-01-07)\n"
     ]
    },
    {
     "name": "stderr",
     "output_type": "stream",
     "text": [
      "[*********************100%%**********************]  1 of 1 completed\n",
      "[*********************100%%**********************]  1 of 1 completed\n",
      "[*********************100%%**********************]  1 of 1 completed\n",
      "\n",
      "1 Failed download:\n",
      "['CRUZ3.SA']: YFPricesMissingError('$%ticker%: possibly delisted; No price data found  (1d 2017-02-24 -> 2025-01-07)')\n"
     ]
    },
    {
     "name": "stdout",
     "output_type": "stream",
     "text": [
      "$CRUZ3.SA: possibly delisted; No price data found  (1d 2017-02-24 -> 2025-01-07)\n"
     ]
    },
    {
     "name": "stderr",
     "output_type": "stream",
     "text": [
      "[*********************100%%**********************]  1 of 1 completed\n",
      "[*********************100%%**********************]  1 of 1 completed\n",
      "\n",
      "1 Failed download:\n",
      "['MYPK4.SA']: YFPricesMissingError('$%ticker%: possibly delisted; No price data found  (1d 2017-02-24 -> 2025-01-07)')\n"
     ]
    },
    {
     "name": "stdout",
     "output_type": "stream",
     "text": [
      "$MYPK4.SA: possibly delisted; No price data found  (1d 2017-02-24 -> 2025-01-07)\n"
     ]
    },
    {
     "name": "stderr",
     "output_type": "stream",
     "text": [
      "[*********************100%%**********************]  1 of 1 completed\n",
      "\n",
      "1 Failed download:\n",
      "['TNLP4.SA']: YFPricesMissingError('$%ticker%: possibly delisted; No price data found  (1d 2017-02-24 -> 2025-01-07)')\n"
     ]
    },
    {
     "name": "stdout",
     "output_type": "stream",
     "text": [
      "$TNLP4.SA: possibly delisted; No price data found  (1d 2017-02-24 -> 2025-01-07)\n"
     ]
    },
    {
     "name": "stderr",
     "output_type": "stream",
     "text": [
      "[*********************100%%**********************]  1 of 1 completed\n",
      "\n",
      "1 Failed download:\n",
      "['HGTX4.SA']: YFPricesMissingError('$%ticker%: possibly delisted; No price data found  (1d 2017-02-24 -> 2025-01-07)')\n"
     ]
    },
    {
     "name": "stdout",
     "output_type": "stream",
     "text": [
      "$HGTX4.SA: possibly delisted; No price data found  (1d 2017-02-24 -> 2025-01-07)\n"
     ]
    },
    {
     "name": "stderr",
     "output_type": "stream",
     "text": [
      "[*********************100%%**********************]  1 of 1 completed\n",
      "\n",
      "1 Failed download:\n",
      "['AMBV4.SA']: YFPricesMissingError('$%ticker%: possibly delisted; No price data found  (1d 2017-02-24 -> 2025-01-07)')\n"
     ]
    },
    {
     "name": "stdout",
     "output_type": "stream",
     "text": [
      "$AMBV4.SA: possibly delisted; No price data found  (1d 2017-02-24 -> 2025-01-07)\n"
     ]
    },
    {
     "name": "stderr",
     "output_type": "stream",
     "text": [
      "[*********************100%%**********************]  1 of 1 completed\n",
      "\n",
      "1 Failed download:\n",
      "['AMBV3.SA']: YFPricesMissingError('$%ticker%: possibly delisted; No price data found  (1d 2017-02-24 -> 2025-01-07)')\n"
     ]
    },
    {
     "name": "stdout",
     "output_type": "stream",
     "text": [
      "$AMBV3.SA: possibly delisted; No price data found  (1d 2017-02-24 -> 2025-01-07)\n"
     ]
    },
    {
     "name": "stderr",
     "output_type": "stream",
     "text": [
      "[*********************100%%**********************]  1 of 1 completed\n",
      "\n",
      "1 Failed download:\n",
      "['PNVL4.SA']: YFTzMissingError('$%ticker%: possibly delisted; No timezone found')\n",
      "[*********************100%%**********************]  1 of 1 completed\n",
      "\n",
      "1 Failed download:\n",
      "['ELCA4.SA']: YFPricesMissingError('$%ticker%: possibly delisted; No price data found  (1d 2017-02-24 -> 2025-01-07)')\n"
     ]
    },
    {
     "name": "stdout",
     "output_type": "stream",
     "text": [
      "$ELCA4.SA: possibly delisted; No price data found  (1d 2017-02-24 -> 2025-01-07)\n"
     ]
    },
    {
     "name": "stderr",
     "output_type": "stream",
     "text": [
      "[*********************100%%**********************]  1 of 1 completed\n",
      "\n",
      "1 Failed download:\n",
      "['RPSA4.SA']: YFPricesMissingError('$%ticker%: possibly delisted; No price data found  (1d 2017-02-24 -> 2025-01-07)')\n"
     ]
    },
    {
     "name": "stdout",
     "output_type": "stream",
     "text": [
      "$RPSA4.SA: possibly delisted; No price data found  (1d 2017-02-24 -> 2025-01-07)\n"
     ]
    },
    {
     "name": "stderr",
     "output_type": "stream",
     "text": [
      "[*********************100%%**********************]  1 of 1 completed\n",
      "\n",
      "1 Failed download:\n",
      "['SEBB11.SA']: YFTzMissingError('$%ticker%: possibly delisted; No timezone found')\n",
      "[*********************100%%**********************]  1 of 1 completed\n",
      "[*********************100%%**********************]  1 of 1 completed\n",
      "[*********************100%%**********************]  1 of 1 completed\n",
      "\n",
      "1 Failed download:\n",
      "['BSCT5.SA']: YFPricesMissingError('$%ticker%: possibly delisted; No price data found  (1d 2017-02-24 -> 2025-01-07)')\n"
     ]
    },
    {
     "name": "stdout",
     "output_type": "stream",
     "text": [
      "$BSCT5.SA: possibly delisted; No price data found  (1d 2017-02-24 -> 2025-01-07)\n"
     ]
    },
    {
     "name": "stderr",
     "output_type": "stream",
     "text": [
      "[*********************100%%**********************]  1 of 1 completed\n",
      "[*********************100%%**********************]  1 of 1 completed\n",
      "[*********************100%%**********************]  1 of 1 completed\n",
      "\n",
      "1 Failed download:\n",
      "['MOSI3.SA']: YFTzMissingError('$%ticker%: possibly delisted; No timezone found')\n",
      "[*********************100%%**********************]  1 of 1 completed\n",
      "[*********************100%%**********************]  1 of 1 completed\n",
      "[*********************100%%**********************]  1 of 1 completed\n",
      "[*********************100%%**********************]  1 of 1 completed\n",
      "[*********************100%%**********************]  1 of 1 completed\n",
      "[*********************100%%**********************]  1 of 1 completed\n",
      "\n",
      "1 Failed download:\n",
      "['TSEP3.SA']: YFPricesMissingError('$%ticker%: possibly delisted; No price data found  (1d 2017-02-24 -> 2025-01-07)')\n"
     ]
    },
    {
     "name": "stdout",
     "output_type": "stream",
     "text": [
      "$TSEP3.SA: possibly delisted; No price data found  (1d 2017-02-24 -> 2025-01-07)\n"
     ]
    },
    {
     "name": "stderr",
     "output_type": "stream",
     "text": [
      "[*********************100%%**********************]  1 of 1 completed\n",
      "[*********************100%%**********************]  1 of 1 completed\n",
      "[*********************100%%**********************]  1 of 1 completed\n",
      "[*********************100%%**********************]  1 of 1 completed\n",
      "\n",
      "1 Failed download:\n",
      "['ELEK4.SA']: YFTzMissingError('$%ticker%: possibly delisted; No timezone found')\n",
      "[*********************100%%**********************]  1 of 1 completed\n",
      "\n",
      "1 Failed download:\n",
      "['ELCA3.SA']: YFPricesMissingError('$%ticker%: possibly delisted; No price data found  (1d 2017-02-24 -> 2025-01-07)')\n"
     ]
    },
    {
     "name": "stdout",
     "output_type": "stream",
     "text": [
      "$ELCA3.SA: possibly delisted; No price data found  (1d 2017-02-24 -> 2025-01-07)\n"
     ]
    },
    {
     "name": "stderr",
     "output_type": "stream",
     "text": [
      "[*********************100%%**********************]  1 of 1 completed\n",
      "[*********************100%%**********************]  1 of 1 completed\n",
      "[*********************100%%**********************]  1 of 1 completed\n",
      "[*********************100%%**********************]  1 of 1 completed\n",
      "\n",
      "1 Failed download:\n",
      "['CTIP3.SA']: YFPricesMissingError('$%ticker%: possibly delisted; No price data found  (1d 2017-02-24 -> 2025-01-07)')\n"
     ]
    },
    {
     "name": "stdout",
     "output_type": "stream",
     "text": [
      "$CTIP3.SA: possibly delisted; No price data found  (1d 2017-02-24 -> 2025-01-07)\n"
     ]
    },
    {
     "name": "stderr",
     "output_type": "stream",
     "text": [
      "[*********************100%%**********************]  1 of 1 completed\n",
      "\n",
      "1 Failed download:\n",
      "['TNLP3.SA']: YFPricesMissingError('$%ticker%: possibly delisted; No price data found  (1d 2017-02-24 -> 2025-01-07)')\n"
     ]
    },
    {
     "name": "stdout",
     "output_type": "stream",
     "text": [
      "$TNLP3.SA: possibly delisted; No price data found  (1d 2017-02-24 -> 2025-01-07)\n"
     ]
    },
    {
     "name": "stderr",
     "output_type": "stream",
     "text": [
      "[*********************100%%**********************]  1 of 1 completed\n",
      "\n",
      "1 Failed download:\n",
      "['VIGR3.SA']: YFPricesMissingError('$%ticker%: possibly delisted; No price data found  (1d 2017-02-24 -> 2025-01-07)')\n"
     ]
    },
    {
     "name": "stdout",
     "output_type": "stream",
     "text": [
      "$VIGR3.SA: possibly delisted; No price data found  (1d 2017-02-24 -> 2025-01-07)\n"
     ]
    },
    {
     "name": "stderr",
     "output_type": "stream",
     "text": [
      "[*********************100%%**********************]  1 of 1 completed\n",
      "\n",
      "1 Failed download:\n",
      "['PARD3.SA']: YFTzMissingError('$%ticker%: possibly delisted; No timezone found')\n",
      "[*********************100%%**********************]  1 of 1 completed\n",
      "[*********************100%%**********************]  1 of 1 completed\n",
      "[*********************100%%**********************]  1 of 1 completed\n",
      "\n",
      "1 Failed download:\n",
      "['ALSC3.SA']: YFTzMissingError('$%ticker%: possibly delisted; No timezone found')\n",
      "[*********************100%%**********************]  1 of 1 completed\n",
      "\n",
      "1 Failed download:\n",
      "['PRGA4.SA']: YFPricesMissingError('$%ticker%: possibly delisted; No price data found  (1d 2017-02-24 -> 2025-01-07)')\n"
     ]
    },
    {
     "name": "stdout",
     "output_type": "stream",
     "text": [
      "$PRGA4.SA: possibly delisted; No price data found  (1d 2017-02-24 -> 2025-01-07)\n"
     ]
    },
    {
     "name": "stderr",
     "output_type": "stream",
     "text": [
      "[*********************100%%**********************]  1 of 1 completed\n",
      "[*********************100%%**********************]  1 of 1 completed\n",
      "[*********************100%%**********************]  1 of 1 completed\n",
      "\n",
      "1 Failed download:\n",
      "['RHDS3.SA']: YFPricesMissingError('$%ticker%: possibly delisted; No price data found  (1d 2017-02-24 -> 2025-01-07)')\n"
     ]
    },
    {
     "name": "stdout",
     "output_type": "stream",
     "text": [
      "$RHDS3.SA: possibly delisted; No price data found  (1d 2017-02-24 -> 2025-01-07)\n"
     ]
    },
    {
     "name": "stderr",
     "output_type": "stream",
     "text": [
      "[*********************100%%**********************]  1 of 1 completed\n",
      "\n",
      "1 Failed download:\n",
      "['RAIA3.SA']: YFPricesMissingError('$%ticker%: possibly delisted; No price data found  (1d 2017-02-24 -> 2025-01-07)')\n"
     ]
    },
    {
     "name": "stdout",
     "output_type": "stream",
     "text": [
      "$RAIA3.SA: possibly delisted; No price data found  (1d 2017-02-24 -> 2025-01-07)\n"
     ]
    },
    {
     "name": "stderr",
     "output_type": "stream",
     "text": [
      "[*********************100%%**********************]  1 of 1 completed\n",
      "\n",
      "1 Failed download:\n",
      "['IMCH3.SA']: YFPricesMissingError('$%ticker%: possibly delisted; No price data found  (1d 2017-02-24 -> 2025-01-07)')\n"
     ]
    },
    {
     "name": "stdout",
     "output_type": "stream",
     "text": [
      "$IMCH3.SA: possibly delisted; No price data found  (1d 2017-02-24 -> 2025-01-07)\n"
     ]
    },
    {
     "name": "stderr",
     "output_type": "stream",
     "text": [
      "[*********************100%%**********************]  1 of 1 completed\n",
      "\n",
      "1 Failed download:\n",
      "['PTQS4.SA']: YFPricesMissingError('$%ticker%: possibly delisted; No price data found  (1d 2017-02-24 -> 2025-01-07)')\n"
     ]
    },
    {
     "name": "stdout",
     "output_type": "stream",
     "text": [
      "$PTQS4.SA: possibly delisted; No price data found  (1d 2017-02-24 -> 2025-01-07)\n"
     ]
    },
    {
     "name": "stderr",
     "output_type": "stream",
     "text": [
      "[*********************100%%**********************]  1 of 1 completed\n",
      "\n",
      "1 Failed download:\n",
      "['UOLL4.SA']: YFTzMissingError('$%ticker%: possibly delisted; No timezone found')\n",
      "[*********************100%%**********************]  1 of 1 completed\n",
      "[*********************100%%**********************]  1 of 1 completed\n",
      "[*********************100%%**********************]  1 of 1 completed\n",
      "[*********************100%%**********************]  1 of 1 completed\n",
      "\n",
      "1 Failed download:\n",
      "['PLTO6.SA']: YFPricesMissingError('$%ticker%: possibly delisted; No price data found  (1d 2017-02-24 -> 2025-01-07)')\n"
     ]
    },
    {
     "name": "stdout",
     "output_type": "stream",
     "text": [
      "$PLTO6.SA: possibly delisted; No price data found  (1d 2017-02-24 -> 2025-01-07)\n"
     ]
    },
    {
     "name": "stderr",
     "output_type": "stream",
     "text": [
      "[*********************100%%**********************]  1 of 1 completed\n",
      "\n",
      "1 Failed download:\n",
      "['SULA11.SA']: YFTzMissingError('$%ticker%: possibly delisted; No timezone found')\n",
      "[*********************100%%**********************]  1 of 1 completed\n",
      "\n",
      "1 Failed download:\n",
      "['SULA3.SA']: YFTzMissingError('$%ticker%: possibly delisted; No timezone found')\n",
      "[*********************100%%**********************]  1 of 1 completed\n",
      "\n",
      "1 Failed download:\n",
      "['PLTO5.SA']: YFPricesMissingError('$%ticker%: possibly delisted; No price data found  (1d 2017-02-24 -> 2025-01-07)')\n"
     ]
    },
    {
     "name": "stdout",
     "output_type": "stream",
     "text": [
      "$PLTO5.SA: possibly delisted; No price data found  (1d 2017-02-24 -> 2025-01-07)\n"
     ]
    },
    {
     "name": "stderr",
     "output_type": "stream",
     "text": [
      "[*********************100%%**********************]  1 of 1 completed\n",
      "\n",
      "1 Failed download:\n",
      "['FFTL3.SA']: YFPricesMissingError('$%ticker%: possibly delisted; No price data found  (1d 2017-02-24 -> 2025-01-07)')\n"
     ]
    },
    {
     "name": "stdout",
     "output_type": "stream",
     "text": [
      "$FFTL3.SA: possibly delisted; No price data found  (1d 2017-02-24 -> 2025-01-07)\n"
     ]
    },
    {
     "name": "stderr",
     "output_type": "stream",
     "text": [
      "[*********************100%%**********************]  1 of 1 completed\n",
      "\n",
      "1 Failed download:\n",
      "['FFTL4.SA']: YFPricesMissingError('$%ticker%: possibly delisted; No price data found  (1d 2017-02-24 -> 2025-01-07)')\n"
     ]
    },
    {
     "name": "stdout",
     "output_type": "stream",
     "text": [
      "$FFTL4.SA: possibly delisted; No price data found  (1d 2017-02-24 -> 2025-01-07)\n"
     ]
    },
    {
     "name": "stderr",
     "output_type": "stream",
     "text": [
      "[*********************100%%**********************]  1 of 1 completed\n",
      "\n",
      "1 Failed download:\n",
      "['SULA4.SA']: YFTzMissingError('$%ticker%: possibly delisted; No timezone found')\n",
      "[*********************100%%**********************]  1 of 1 completed\n",
      "\n",
      "1 Failed download:\n",
      "['BSEV3.SA']: YFTzMissingError('$%ticker%: possibly delisted; No timezone found')\n",
      "[*********************100%%**********************]  1 of 1 completed\n",
      "\n",
      "1 Failed download:\n",
      "['GVTT3.SA']: YFTzMissingError('$%ticker%: possibly delisted; No timezone found')\n",
      "[*********************100%%**********************]  1 of 1 completed\n",
      "\n",
      "1 Failed download:\n",
      "['CSAB3.SA']: YFTzMissingError('$%ticker%: possibly delisted; No timezone found')\n",
      "[*********************100%%**********************]  1 of 1 completed\n",
      "\n",
      "1 Failed download:\n",
      "['AEDU3.SA']: YFPricesMissingError('$%ticker%: possibly delisted; No price data found  (1d 2017-02-24 -> 2025-01-07)')\n"
     ]
    },
    {
     "name": "stdout",
     "output_type": "stream",
     "text": [
      "$AEDU3.SA: possibly delisted; No price data found  (1d 2017-02-24 -> 2025-01-07)\n"
     ]
    },
    {
     "name": "stderr",
     "output_type": "stream",
     "text": [
      "[*********************100%%**********************]  1 of 1 completed\n",
      "[*********************100%%**********************]  1 of 1 completed\n",
      "\n",
      "1 Failed download:\n",
      "['SUBA3.SA']: YFPricesMissingError('$%ticker%: possibly delisted; No price data found  (1d 2017-02-24 -> 2025-01-07)')\n"
     ]
    },
    {
     "name": "stdout",
     "output_type": "stream",
     "text": [
      "$SUBA3.SA: possibly delisted; No price data found  (1d 2017-02-24 -> 2025-01-07)\n"
     ]
    },
    {
     "name": "stderr",
     "output_type": "stream",
     "text": [
      "[*********************100%%**********************]  1 of 1 completed\n",
      "[*********************100%%**********************]  1 of 1 completed\n",
      "[*********************100%%**********************]  1 of 1 completed\n",
      "[*********************100%%**********************]  1 of 1 completed\n",
      "[*********************100%%**********************]  1 of 1 completed\n",
      "[*********************100%%**********************]  1 of 1 completed\n",
      "\n",
      "1 Failed download:\n",
      "['CTPC3.SA']: YFTzMissingError('$%ticker%: possibly delisted; No timezone found')\n",
      "[*********************100%%**********************]  1 of 1 completed\n",
      "\n",
      "1 Failed download:\n",
      "['RLOG3.SA']: YFTzMissingError('$%ticker%: possibly delisted; No timezone found')\n",
      "[*********************100%%**********************]  1 of 1 completed\n",
      "[*********************100%%**********************]  1 of 1 completed\n",
      "\n",
      "1 Failed download:\n",
      "['CSAB4.SA']: YFTzMissingError('$%ticker%: possibly delisted; No timezone found')\n",
      "[*********************100%%**********************]  1 of 1 completed\n",
      "[*********************100%%**********************]  1 of 1 completed\n",
      "\n",
      "1 Failed download:\n",
      "['HGTX3.SA']: YFTzMissingError('$%ticker%: possibly delisted; No timezone found')\n",
      "[*********************100%%**********************]  1 of 1 completed\n",
      "\n",
      "1 Failed download:\n",
      "['PQUN4.SA']: YFPricesMissingError('$%ticker%: possibly delisted; No price data found  (1d 2017-02-24 -> 2025-01-07)')\n"
     ]
    },
    {
     "name": "stdout",
     "output_type": "stream",
     "text": [
      "$PQUN4.SA: possibly delisted; No price data found  (1d 2017-02-24 -> 2025-01-07)\n"
     ]
    },
    {
     "name": "stderr",
     "output_type": "stream",
     "text": [
      "[*********************100%%**********************]  1 of 1 completed\n",
      "\n",
      "1 Failed download:\n",
      "['PQUN3.SA']: YFPricesMissingError('$%ticker%: possibly delisted; No price data found  (1d 2017-02-24 -> 2025-01-07)')\n"
     ]
    },
    {
     "name": "stdout",
     "output_type": "stream",
     "text": [
      "$PQUN3.SA: possibly delisted; No price data found  (1d 2017-02-24 -> 2025-01-07)\n"
     ]
    },
    {
     "name": "stderr",
     "output_type": "stream",
     "text": [
      "[*********************100%%**********************]  1 of 1 completed\n",
      "\n",
      "1 Failed download:\n",
      "['TMAR6.SA']: YFPricesMissingError('$%ticker%: possibly delisted; No price data found  (1d 2017-02-24 -> 2025-01-07)')\n"
     ]
    },
    {
     "name": "stdout",
     "output_type": "stream",
     "text": [
      "$TMAR6.SA: possibly delisted; No price data found  (1d 2017-02-24 -> 2025-01-07)\n"
     ]
    },
    {
     "name": "stderr",
     "output_type": "stream",
     "text": [
      "[*********************100%%**********************]  1 of 1 completed\n",
      "\n",
      "1 Failed download:\n",
      "['TMAR5.SA']: YFPricesMissingError('$%ticker%: possibly delisted; No price data found  (1d 2017-02-24 -> 2025-01-07)')\n"
     ]
    },
    {
     "name": "stdout",
     "output_type": "stream",
     "text": [
      "$TMAR5.SA: possibly delisted; No price data found  (1d 2017-02-24 -> 2025-01-07)\n"
     ]
    },
    {
     "name": "stderr",
     "output_type": "stream",
     "text": [
      "[*********************100%%**********************]  1 of 1 completed\n",
      "\n",
      "1 Failed download:\n",
      "['NETC3.SA']: YFTzMissingError('$%ticker%: possibly delisted; No timezone found')\n",
      "[*********************100%%**********************]  1 of 1 completed\n",
      "\n",
      "1 Failed download:\n",
      "['MLFT4.SA']: YFPricesMissingError('$%ticker%: possibly delisted; No price data found  (1d 2017-02-24 -> 2025-01-07)')\n"
     ]
    },
    {
     "name": "stdout",
     "output_type": "stream",
     "text": [
      "$MLFT4.SA: possibly delisted; No price data found  (1d 2017-02-24 -> 2025-01-07)\n"
     ]
    },
    {
     "name": "stderr",
     "output_type": "stream",
     "text": [
      "[*********************100%%**********************]  1 of 1 completed\n",
      "\n",
      "1 Failed download:\n",
      "['NETC4.SA']: YFPricesMissingError('$%ticker%: possibly delisted; No price data found  (1d 2017-02-24 -> 2025-01-07)')\n"
     ]
    },
    {
     "name": "stdout",
     "output_type": "stream",
     "text": [
      "$NETC4.SA: possibly delisted; No price data found  (1d 2017-02-24 -> 2025-01-07)\n"
     ]
    },
    {
     "name": "stderr",
     "output_type": "stream",
     "text": [
      "[*********************100%%**********************]  1 of 1 completed\n",
      "\n",
      "1 Failed download:\n",
      "['ROMI4.SA']: YFPricesMissingError('$%ticker%: possibly delisted; No price data found  (1d 2017-02-24 -> 2025-01-07)')\n"
     ]
    },
    {
     "name": "stdout",
     "output_type": "stream",
     "text": [
      "$ROMI4.SA: possibly delisted; No price data found  (1d 2017-02-24 -> 2025-01-07)\n"
     ]
    },
    {
     "name": "stderr",
     "output_type": "stream",
     "text": [
      "[*********************100%%**********************]  1 of 1 completed\n",
      "[*********************100%%**********************]  1 of 1 completed\n",
      "\n",
      "1 Failed download:\n",
      "['CEPE5.SA']: YFTzMissingError('$%ticker%: possibly delisted; No timezone found')\n",
      "[*********************100%%**********************]  1 of 1 completed\n",
      "\n",
      "1 Failed download:\n",
      "['CEPE6.SA']: YFTzMissingError('$%ticker%: possibly delisted; No timezone found')\n",
      "[*********************100%%**********************]  1 of 1 completed\n",
      "\n",
      "1 Failed download:\n",
      "['TMAR3.SA']: YFPricesMissingError('$%ticker%: possibly delisted; No price data found  (1d 2017-02-24 -> 2025-01-07)')\n"
     ]
    },
    {
     "name": "stdout",
     "output_type": "stream",
     "text": [
      "$TMAR3.SA: possibly delisted; No price data found  (1d 2017-02-24 -> 2025-01-07)\n"
     ]
    },
    {
     "name": "stderr",
     "output_type": "stream",
     "text": [
      "[*********************100%%**********************]  1 of 1 completed\n",
      "\n",
      "1 Failed download:\n",
      "['BIDI3.SA']: YFTzMissingError('$%ticker%: possibly delisted; No timezone found')\n",
      "[*********************100%%**********************]  1 of 1 completed\n",
      "\n",
      "1 Failed download:\n",
      "['BIDI4.SA']: YFTzMissingError('$%ticker%: possibly delisted; No timezone found')\n",
      "[*********************100%%**********************]  1 of 1 completed\n",
      "\n",
      "1 Failed download:\n",
      "['BIDI11.SA']: YFTzMissingError('$%ticker%: possibly delisted; No timezone found')\n",
      "[*********************100%%**********************]  1 of 1 completed\n",
      "\n",
      "1 Failed download:\n",
      "['ELEV3.SA']: YFTzMissingError('$%ticker%: possibly delisted; No timezone found')\n",
      "[*********************100%%**********************]  1 of 1 completed\n",
      "[*********************100%%**********************]  1 of 1 completed\n",
      "\n",
      "1 Failed download:\n",
      "['GUAR4.SA']: YFTzMissingError('$%ticker%: possibly delisted; No timezone found')\n",
      "[*********************100%%**********************]  1 of 1 completed\n",
      "\n",
      "1 Failed download:\n",
      "['RHDS4.SA']: YFPricesMissingError('$%ticker%: possibly delisted; No price data found  (1d 2017-02-24 -> 2025-01-07)')\n"
     ]
    },
    {
     "name": "stdout",
     "output_type": "stream",
     "text": [
      "$RHDS4.SA: possibly delisted; No price data found  (1d 2017-02-24 -> 2025-01-07)\n"
     ]
    },
    {
     "name": "stderr",
     "output_type": "stream",
     "text": [
      "[*********************100%%**********************]  1 of 1 completed\n",
      "\n",
      "1 Failed download:\n",
      "['BAHI11.SA']: YFPricesMissingError('$%ticker%: possibly delisted; No price data found  (1d 2017-02-24 -> 2025-01-07)')\n"
     ]
    },
    {
     "name": "stdout",
     "output_type": "stream",
     "text": [
      "$BAHI11.SA: possibly delisted; No price data found  (1d 2017-02-24 -> 2025-01-07)\n"
     ]
    },
    {
     "name": "stderr",
     "output_type": "stream",
     "text": [
      "[*********************100%%**********************]  1 of 1 completed\n",
      "[*********************100%%**********************]  1 of 1 completed\n",
      "\n",
      "1 Failed download:\n",
      "['CEPE3.SA']: YFTzMissingError('$%ticker%: possibly delisted; No timezone found')\n",
      "[*********************100%%**********************]  1 of 1 completed\n",
      "[*********************100%%**********************]  1 of 1 completed\n",
      "\n",
      "1 Failed download:\n",
      "['UBBR4.SA']: YFPricesMissingError('$%ticker%: possibly delisted; No price data found  (1d 2017-02-24 -> 2025-01-07)')\n"
     ]
    },
    {
     "name": "stdout",
     "output_type": "stream",
     "text": [
      "$UBBR4.SA: possibly delisted; No price data found  (1d 2017-02-24 -> 2025-01-07)\n"
     ]
    },
    {
     "name": "stderr",
     "output_type": "stream",
     "text": [
      "[*********************100%%**********************]  1 of 1 completed\n",
      "\n",
      "1 Failed download:\n",
      "['PRBC4.SA']: YFPricesMissingError('$%ticker%: possibly delisted; No price data found  (1d 2017-02-24 -> 2025-01-07)')\n"
     ]
    },
    {
     "name": "stdout",
     "output_type": "stream",
     "text": [
      "$PRBC4.SA: possibly delisted; No price data found  (1d 2017-02-24 -> 2025-01-07)\n"
     ]
    },
    {
     "name": "stderr",
     "output_type": "stream",
     "text": [
      "[*********************100%%**********************]  1 of 1 completed\n",
      "[*********************100%%**********************]  1 of 1 completed\n",
      "\n",
      "1 Failed download:\n",
      "['UBBR11.SA']: YFPricesMissingError('$%ticker%: possibly delisted; No price data found  (1d 2017-02-24 -> 2025-01-07)')\n"
     ]
    },
    {
     "name": "stdout",
     "output_type": "stream",
     "text": [
      "$UBBR11.SA: possibly delisted; No price data found  (1d 2017-02-24 -> 2025-01-07)\n"
     ]
    },
    {
     "name": "stderr",
     "output_type": "stream",
     "text": [
      "[*********************100%%**********************]  1 of 1 completed\n",
      "\n",
      "1 Failed download:\n",
      "['UBBR3.SA']: YFPricesMissingError('$%ticker%: possibly delisted; No price data found  (1d 2017-02-24 -> 2025-01-07)')\n"
     ]
    },
    {
     "name": "stdout",
     "output_type": "stream",
     "text": [
      "$UBBR3.SA: possibly delisted; No price data found  (1d 2017-02-24 -> 2025-01-07)\n"
     ]
    },
    {
     "name": "stderr",
     "output_type": "stream",
     "text": [
      "[*********************100%%**********************]  1 of 1 completed\n",
      "[*********************100%%**********************]  1 of 1 completed\n",
      "\n",
      "1 Failed download:\n",
      "['BAHI5.SA']: YFPricesMissingError('$%ticker%: possibly delisted; No price data found  (1d 2017-02-24 -> 2025-01-07)')\n",
      "[*********************100%%**********************]  1 of 1 completed"
     ]
    },
    {
     "name": "stdout",
     "output_type": "stream",
     "text": [
      "$BAHI5.SA: possibly delisted; No price data found  (1d 2017-02-24 -> 2025-01-07)\n",
      "$BAHI4.SA: possibly delisted; No price data found  (1d 2017-02-24 -> 2025-01-07)\n"
     ]
    },
    {
     "name": "stderr",
     "output_type": "stream",
     "text": [
      "\n",
      "\n",
      "1 Failed download:\n",
      "['BAHI4.SA']: YFPricesMissingError('$%ticker%: possibly delisted; No price data found  (1d 2017-02-24 -> 2025-01-07)')\n"
     ]
    },
    {
     "name": "stdout",
     "output_type": "stream",
     "text": [
      "              Date       Open       High        Low      Close    ticker\n",
      "                                                                        \n",
      "1       2017-02-24  15.758309  15.758309  15.758309  15.758309  CALI3.SA\n",
      "2       2017-03-01  15.758309  15.758309  15.758309  15.758309  CALI3.SA\n",
      "3       2017-03-02  15.758309  15.758309  15.758309  15.758309  CALI3.SA\n",
      "4       2017-03-03  15.758309  15.758309  15.758309  15.758309  CALI3.SA\n",
      "5       2017-03-06  15.758309  15.758309  15.758309  15.758309  CALI3.SA\n",
      "...            ...        ...        ...        ...        ...       ...\n",
      "818721  2024-12-27   5.270000   5.290000   5.060000   5.180000  BEEF3.SA\n",
      "818722  2024-12-30   5.180000   5.250000   5.080000   5.090000  BEEF3.SA\n",
      "818723  2025-01-02   5.100000   5.100000   4.800000   4.800000  BEEF3.SA\n",
      "818724  2025-01-03   4.800000   4.870000   4.710000   4.760000  BEEF3.SA\n",
      "818725  2025-01-06   4.820000   4.960000   4.800000   4.960000  BEEF3.SA\n",
      "\n",
      "[818725 rows x 6 columns]\n"
     ]
    }
   ],
   "source": [
    "import yfinance as yf\n",
    "import pandas as pd\n",
    "\n",
    "def fetch_yahoo_finance_data(ticker, start_date, end_date):\n",
    "    try:\n",
    "        # Coleta dos dados do Yahoo Finance para o ticker especificado e o intervalo de datas\n",
    "        df = yf.download(ticker, start=start_date, end=end_date)\n",
    "        df['ticker'] = ticker  # Adiciona a coluna de ticker\n",
    "        return df\n",
    "    except yf.shared.YFTzMissingError as e:\n",
    "        print(f\"Erro específico (YFTzMissingError) ao coletar dados para {ticker}: {e}\")\n",
    "        return None\n",
    "    except Exception as e:\n",
    "        print(f\"Erro ao coletar dados para {ticker}: {e}\")\n",
    "        return None\n",
    "\n",
    "# Coleta dos dados e armazenamento em um dicionário de DataFrames\n",
    "dfs = {}\n",
    "for ticker in tickers:\n",
    "    df = fetch_yahoo_finance_data(ticker, start_date, end_date)\n",
    "    if df is not None:\n",
    "        df.reset_index(inplace=True)  # Resetar o índice para obter o índice numérico\n",
    "        df['Date'] = pd.to_datetime(df['Date'])  # Converter a coluna 'Date' para datetime\n",
    "        df['Date'] = df['Date'].dt.strftime('%Y-%m-%d')  # Formatar a coluna de data\n",
    "        dfs[ticker] = df[['Date', 'Open', 'High', 'Low', 'Close', 'ticker']]\n",
    "\n",
    "# Concatena os DataFrames em um único DataFrame\n",
    "if dfs:  # Verificar se há DataFrames coletados com sucesso\n",
    "    result_df = pd.concat(dfs.values(), ignore_index=True)\n",
    "\n",
    "    # Adiciona o índice\n",
    "    result_df.index.name = ''\n",
    "    result_df.index = result_df.index + 1\n",
    "    print(result_df)\n",
    "else:\n",
    "    print(\"Nenhum dado foi coletado.\")"
   ]
  },
  {
   "cell_type": "code",
   "execution_count": 23,
   "metadata": {},
   "outputs": [],
   "source": [
    "# Verifica se o diretório 'dados' existe, se não existir, cria o diretório\n",
    "if not os.path.exists('data_yfinance'):\n",
    "    os.makedirs('data_yfinance')\n",
    "\n",
    "# Salva os dados em um arquivo CSV\n",
    "result_df.to_csv('data_yfinance/stocks_07-01-2025.csv', index=False)"
   ]
  }
 ],
 "metadata": {
  "kernelspec": {
   "display_name": "Python 3",
   "language": "python",
   "name": "python3"
  },
  "language_info": {
   "codemirror_mode": {
    "name": "ipython",
    "version": 3
   },
   "file_extension": ".py",
   "mimetype": "text/x-python",
   "name": "python",
   "nbconvert_exporter": "python",
   "pygments_lexer": "ipython3",
   "version": "3.12.3"
  }
 },
 "nbformat": 4,
 "nbformat_minor": 2
}
